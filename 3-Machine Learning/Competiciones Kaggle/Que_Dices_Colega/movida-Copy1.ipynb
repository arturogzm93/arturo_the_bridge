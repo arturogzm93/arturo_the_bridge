{
 "cells": [
  {
   "cell_type": "markdown",
   "id": "78067ef9",
   "metadata": {},
   "source": [
    "# Competi Kaggle: ¿Qué dices colega?"
   ]
  },
  {
   "cell_type": "markdown",
   "id": "ae971d43",
   "metadata": {
    "ExecuteTime": {
     "end_time": "2021-04-15T11:54:47.611093Z",
     "start_time": "2021-04-15T11:54:47.608165Z"
    }
   },
   "source": [
    "## 1. Carga datos & procesado imágenes"
   ]
  },
  {
   "cell_type": "code",
   "execution_count": 1,
   "id": "295d0f92",
   "metadata": {
    "ExecuteTime": {
     "end_time": "2021-04-15T23:12:33.043141Z",
     "start_time": "2021-04-15T23:12:33.039496Z"
    }
   },
   "outputs": [],
   "source": [
    "import numpy as np\n",
    "import pandas as pd \n",
    "import os\n",
    "import matplotlib.pyplot as plt\n",
    "from skimage.io import imread\n",
    "import cv2\n",
    "import random\n",
    "\n",
    "import tensorflow as tf\n",
    "from tensorflow import keras\n",
    "\n",
    "from tensorflow.keras.preprocessing.image import ImageDataGenerator, load_img"
   ]
  },
  {
   "cell_type": "code",
   "execution_count": 13,
   "id": "9fc9b78c",
   "metadata": {
    "ExecuteTime": {
     "end_time": "2021-04-15T23:12:46.922373Z",
     "start_time": "2021-04-15T23:12:46.918036Z"
    }
   },
   "outputs": [],
   "source": [
    "train_path = 'D:\\\\ARTURO\\\\BBDD\\\\Competicion Kaggle Que_Dices_Colega\\\\train\\\\'\n",
    "test_path = 'D:\\\\ARTURO\\\\BBDD\\\\Competicion Kaggle Que_Dices_Colega\\\\test\\\\'\n",
    "target_df = pd.read_csv('D:\\\\ARTURO\\\\BBDD\\\\Competicion Kaggle Que_Dices_Colega\\\\file_target.csv')"
   ]
  },
  {
   "cell_type": "code",
   "execution_count": 3,
   "id": "c89b719a",
   "metadata": {
    "ExecuteTime": {
     "end_time": "2021-04-15T23:13:00.791473Z",
     "start_time": "2021-04-15T23:13:00.789903Z"
    },
    "scrolled": true
   },
   "outputs": [],
   "source": [
    "labels_target = target_df['target'].unique()"
   ]
  },
  {
   "cell_type": "code",
   "execution_count": 4,
   "id": "7929b636",
   "metadata": {
    "ExecuteTime": {
     "end_time": "2021-04-15T23:13:14.648335Z",
     "start_time": "2021-04-15T23:13:14.646803Z"
    },
    "scrolled": true
   },
   "outputs": [],
   "source": [
    "labels_int = pd.DataFrame({'target':labels_target,\n",
    "                           'target_int':0})"
   ]
  },
  {
   "cell_type": "code",
   "execution_count": 5,
   "id": "0ff6c992",
   "metadata": {
    "ExecuteTime": {
     "end_time": "2021-04-15T23:13:28.356446Z",
     "start_time": "2021-04-15T23:13:28.350955Z"
    }
   },
   "outputs": [
    {
     "output_type": "stream",
     "name": "stderr",
     "text": [
      "<ipython-input-5-0d4d09667d7e>:2: SettingWithCopyWarning: \nA value is trying to be set on a copy of a slice from a DataFrame\n\nSee the caveats in the documentation: https://pandas.pydata.org/pandas-docs/stable/user_guide/indexing.html#returning-a-view-versus-a-copy\n  labels_int['target_int'][i]=i\n"
     ]
    }
   ],
   "source": [
    "for i in range(len(labels_target)):\n",
    "    labels_int['target_int'][i]=i"
   ]
  },
  {
   "cell_type": "code",
   "execution_count": 6,
   "id": "7b1e2ef6",
   "metadata": {
    "ExecuteTime": {
     "end_time": "2021-04-15T23:13:42.296422Z",
     "start_time": "2021-04-15T23:13:42.294860Z"
    }
   },
   "outputs": [],
   "source": [
    "final_target = target_df.copy()"
   ]
  },
  {
   "cell_type": "code",
   "execution_count": 7,
   "id": "9b2be0c4",
   "metadata": {
    "ExecuteTime": {
     "end_time": "2021-04-15T23:13:56.162128Z",
     "start_time": "2021-04-15T23:13:56.159232Z"
    }
   },
   "outputs": [],
   "source": [
    "final_target = final_target.merge(labels_int, left_on='target', right_on='target')"
   ]
  },
  {
   "cell_type": "code",
   "execution_count": 8,
   "id": "c35aa943",
   "metadata": {
    "ExecuteTime": {
     "end_time": "2021-04-15T23:14:09.952074Z",
     "start_time": "2021-04-15T23:14:09.950116Z"
    }
   },
   "outputs": [],
   "source": [
    "target_int = final_target.copy()"
   ]
  },
  {
   "cell_type": "code",
   "execution_count": 9,
   "id": "36ff3359",
   "metadata": {
    "ExecuteTime": {
     "end_time": "2021-04-15T23:14:23.842822Z",
     "start_time": "2021-04-15T23:14:23.841116Z"
    }
   },
   "outputs": [],
   "source": [
    "target_int.drop(columns='target', inplace=True)"
   ]
  },
  {
   "cell_type": "code",
   "execution_count": 10,
   "id": "c63cab03",
   "metadata": {
    "ExecuteTime": {
     "end_time": "2021-04-15T23:14:37.699434Z",
     "start_time": "2021-04-15T23:14:37.695156Z"
    }
   },
   "outputs": [],
   "source": [
    "target_int = target_int.astype('str')"
   ]
  },
  {
   "cell_type": "code",
   "execution_count": 14,
   "id": "f38464c5",
   "metadata": {
    "ExecuteTime": {
     "end_time": "2021-04-15T23:21:39.427207Z",
     "start_time": "2021-04-15T23:21:32.896610Z"
    }
   },
   "outputs": [],
   "source": [
    "imagenes = []\n",
    "filenames = os.listdir(train_path)\n",
    "\n",
    "for img in os.listdir(train_path):\n",
    "    image = imread(train_path + img)\n",
    "    smallimage = cv2.resize(image, (75, 75))\n",
    "    smallimage = smallimage / 255.\n",
    "    imagenes.append(smallimage)"
   ]
  },
  {
   "cell_type": "code",
   "execution_count": 15,
   "id": "06359e12",
   "metadata": {
    "ExecuteTime": {
     "end_time": "2021-04-16T00:15:14.280474Z",
     "start_time": "2021-04-16T00:15:14.275742Z"
    }
   },
   "outputs": [],
   "source": [
    "filenames = pd.DataFrame({'archivo':filenames})"
   ]
  },
  {
   "cell_type": "code",
   "execution_count": 16,
   "id": "42ca269f",
   "metadata": {
    "ExecuteTime": {
     "end_time": "2021-04-15T23:15:33.949211Z",
     "start_time": "2021-04-15T23:15:33.944865Z"
    }
   },
   "outputs": [],
   "source": [
    "file = filenames.merge(target_int, left_on='archivo', right_on='archivo')"
   ]
  },
  {
   "cell_type": "code",
   "execution_count": 17,
   "id": "106f6f98",
   "metadata": {
    "ExecuteTime": {
     "end_time": "2021-04-15T23:22:00.756185Z",
     "start_time": "2021-04-15T23:22:00.203201Z"
    },
    "scrolled": true
   },
   "outputs": [],
   "source": [
    "X_train = np.array(imagenes)"
   ]
  },
  {
   "cell_type": "code",
   "execution_count": 18,
   "id": "691fe132",
   "metadata": {
    "ExecuteTime": {
     "end_time": "2021-04-15T23:16:12.153906Z",
     "start_time": "2021-04-15T23:16:12.151338Z"
    }
   },
   "outputs": [
    {
     "output_type": "execute_result",
     "data": {
      "text/plain": [
       "9000"
      ]
     },
     "metadata": {},
     "execution_count": 18
    }
   ],
   "source": [
    "len(X_train)"
   ]
  },
  {
   "cell_type": "code",
   "execution_count": 19,
   "id": "2f298311",
   "metadata": {
    "ExecuteTime": {
     "end_time": "2021-04-15T23:45:53.424374Z",
     "start_time": "2021-04-15T23:45:53.298736Z"
    }
   },
   "outputs": [
    {
     "output_type": "execute_result",
     "data": {
      "text/plain": [
       "<matplotlib.image.AxesImage at 0x1f84a04ca90>"
      ]
     },
     "metadata": {},
     "execution_count": 19
    },
    {
     "output_type": "display_data",
     "data": {
      "text/plain": "<Figure size 432x288 with 1 Axes>",
      "image/svg+xml": "<?xml version=\"1.0\" encoding=\"utf-8\" standalone=\"no\"?>\r\n<!DOCTYPE svg PUBLIC \"-//W3C//DTD SVG 1.1//EN\"\r\n  \"http://www.w3.org/Graphics/SVG/1.1/DTD/svg11.dtd\">\r\n<!-- Created with matplotlib (https://matplotlib.org/) -->\r\n<svg height=\"250.867744pt\" version=\"1.1\" viewBox=\"0 0 251.565 250.867744\" width=\"251.565pt\" xmlns=\"http://www.w3.org/2000/svg\" xmlns:xlink=\"http://www.w3.org/1999/xlink\">\r\n <metadata>\r\n  <rdf:RDF xmlns:cc=\"http://creativecommons.org/ns#\" xmlns:dc=\"http://purl.org/dc/elements/1.1/\" xmlns:rdf=\"http://www.w3.org/1999/02/22-rdf-syntax-ns#\">\r\n   <cc:Work>\r\n    <dc:type rdf:resource=\"http://purl.org/dc/dcmitype/StillImage\"/>\r\n    <dc:date>2021-04-16T09:46:24.648187</dc:date>\r\n    <dc:format>image/svg+xml</dc:format>\r\n    <dc:creator>\r\n     <cc:Agent>\r\n      <dc:title>Matplotlib v3.3.2, https://matplotlib.org/</dc:title>\r\n     </cc:Agent>\r\n    </dc:creator>\r\n   </cc:Work>\r\n  </rdf:RDF>\r\n </metadata>\r\n <defs>\r\n  <style type=\"text/css\">*{stroke-linecap:butt;stroke-linejoin:round;}</style>\r\n </defs>\r\n <g id=\"figure_1\">\r\n  <g id=\"patch_1\">\r\n   <path d=\"M 0 250.867744 \r\nL 251.565 250.867744 \r\nL 251.565 0 \r\nL 0 0 \r\nz\r\n\" style=\"fill:none;\"/>\r\n  </g>\r\n  <g id=\"axes_1\">\r\n   <g id=\"patch_2\">\r\n    <path d=\"M 26.925 226.989619 \r\nL 244.365 226.989619 \r\nL 244.365 9.549619 \r\nL 26.925 9.549619 \r\nz\r\n\" style=\"fill:#ffffff;\"/>\r\n   </g>\r\n   <g clip-path=\"url(#p27c8bbe3b1)\">\r\n    <image height=\"218\" id=\"image40afcef4ac\" transform=\"scale(1 -1)translate(0 -218)\" width=\"218\" x=\"26.925\" xlink:href=\"data:image/png;base64,\r\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\" y=\"-8.989619\"/>\r\n   </g>\r\n   <g id=\"matplotlib.axis_1\">\r\n    <g id=\"xtick_1\">\r\n     <g id=\"line2d_1\">\r\n      <defs>\r\n       <path d=\"M 0 0 \r\nL 0 3.5 \r\n\" id=\"m272e8683ca\" style=\"stroke:#000000;stroke-width:0.8;\"/>\r\n      </defs>\r\n      <g>\r\n       <use style=\"stroke:#000000;stroke-width:0.8;\" x=\"28.3746\" xlink:href=\"#m272e8683ca\" y=\"226.989619\"/>\r\n      </g>\r\n     </g>\r\n     <g id=\"text_1\">\r\n      <!-- 0 -->\r\n      <g transform=\"translate(25.19335 241.588056)scale(0.1 -0.1)\">\r\n       <defs>\r\n        <path d=\"M 31.78125 66.40625 \r\nQ 24.171875 66.40625 20.328125 58.90625 \r\nQ 16.5 51.421875 16.5 36.375 \r\nQ 16.5 21.390625 20.328125 13.890625 \r\nQ 24.171875 6.390625 31.78125 6.390625 \r\nQ 39.453125 6.390625 43.28125 13.890625 \r\nQ 47.125 21.390625 47.125 36.375 \r\nQ 47.125 51.421875 43.28125 58.90625 \r\nQ 39.453125 66.40625 31.78125 66.40625 \r\nz\r\nM 31.78125 74.21875 \r\nQ 44.046875 74.21875 50.515625 64.515625 \r\nQ 56.984375 54.828125 56.984375 36.375 \r\nQ 56.984375 17.96875 50.515625 8.265625 \r\nQ 44.046875 -1.421875 31.78125 -1.421875 \r\nQ 19.53125 -1.421875 13.0625 8.265625 \r\nQ 6.59375 17.96875 6.59375 36.375 \r\nQ 6.59375 54.828125 13.0625 64.515625 \r\nQ 19.53125 74.21875 31.78125 74.21875 \r\nz\r\n\" id=\"DejaVuSans-48\"/>\r\n       </defs>\r\n       <use xlink:href=\"#DejaVuSans-48\"/>\r\n      </g>\r\n     </g>\r\n    </g>\r\n    <g id=\"xtick_2\">\r\n     <g id=\"line2d_2\">\r\n      <g>\r\n       <use style=\"stroke:#000000;stroke-width:0.8;\" x=\"86.3586\" xlink:href=\"#m272e8683ca\" y=\"226.989619\"/>\r\n      </g>\r\n     </g>\r\n     <g id=\"text_2\">\r\n      <!-- 20 -->\r\n      <g transform=\"translate(79.9961 241.588056)scale(0.1 -0.1)\">\r\n       <defs>\r\n        <path d=\"M 19.1875 8.296875 \r\nL 53.609375 8.296875 \r\nL 53.609375 0 \r\nL 7.328125 0 \r\nL 7.328125 8.296875 \r\nQ 12.9375 14.109375 22.625 23.890625 \r\nQ 32.328125 33.6875 34.8125 36.53125 \r\nQ 39.546875 41.84375 41.421875 45.53125 \r\nQ 43.3125 49.21875 43.3125 52.78125 \r\nQ 43.3125 58.59375 39.234375 62.25 \r\nQ 35.15625 65.921875 28.609375 65.921875 \r\nQ 23.96875 65.921875 18.8125 64.3125 \r\nQ 13.671875 62.703125 7.8125 59.421875 \r\nL 7.8125 69.390625 \r\nQ 13.765625 71.78125 18.9375 73 \r\nQ 24.125 74.21875 28.421875 74.21875 \r\nQ 39.75 74.21875 46.484375 68.546875 \r\nQ 53.21875 62.890625 53.21875 53.421875 \r\nQ 53.21875 48.921875 51.53125 44.890625 \r\nQ 49.859375 40.875 45.40625 35.40625 \r\nQ 44.1875 33.984375 37.640625 27.21875 \r\nQ 31.109375 20.453125 19.1875 8.296875 \r\nz\r\n\" id=\"DejaVuSans-50\"/>\r\n       </defs>\r\n       <use xlink:href=\"#DejaVuSans-50\"/>\r\n       <use x=\"63.623047\" xlink:href=\"#DejaVuSans-48\"/>\r\n      </g>\r\n     </g>\r\n    </g>\r\n    <g id=\"xtick_3\">\r\n     <g id=\"line2d_3\">\r\n      <g>\r\n       <use style=\"stroke:#000000;stroke-width:0.8;\" x=\"144.3426\" xlink:href=\"#m272e8683ca\" y=\"226.989619\"/>\r\n      </g>\r\n     </g>\r\n     <g id=\"text_3\">\r\n      <!-- 40 -->\r\n      <g transform=\"translate(137.9801 241.588056)scale(0.1 -0.1)\">\r\n       <defs>\r\n        <path d=\"M 37.796875 64.3125 \r\nL 12.890625 25.390625 \r\nL 37.796875 25.390625 \r\nz\r\nM 35.203125 72.90625 \r\nL 47.609375 72.90625 \r\nL 47.609375 25.390625 \r\nL 58.015625 25.390625 \r\nL 58.015625 17.1875 \r\nL 47.609375 17.1875 \r\nL 47.609375 0 \r\nL 37.796875 0 \r\nL 37.796875 17.1875 \r\nL 4.890625 17.1875 \r\nL 4.890625 26.703125 \r\nz\r\n\" id=\"DejaVuSans-52\"/>\r\n       </defs>\r\n       <use xlink:href=\"#DejaVuSans-52\"/>\r\n       <use x=\"63.623047\" xlink:href=\"#DejaVuSans-48\"/>\r\n      </g>\r\n     </g>\r\n    </g>\r\n    <g id=\"xtick_4\">\r\n     <g id=\"line2d_4\">\r\n      <g>\r\n       <use style=\"stroke:#000000;stroke-width:0.8;\" x=\"202.3266\" xlink:href=\"#m272e8683ca\" y=\"226.989619\"/>\r\n      </g>\r\n     </g>\r\n     <g id=\"text_4\">\r\n      <!-- 60 -->\r\n      <g transform=\"translate(195.9641 241.588056)scale(0.1 -0.1)\">\r\n       <defs>\r\n        <path d=\"M 33.015625 40.375 \r\nQ 26.375 40.375 22.484375 35.828125 \r\nQ 18.609375 31.296875 18.609375 23.390625 \r\nQ 18.609375 15.53125 22.484375 10.953125 \r\nQ 26.375 6.390625 33.015625 6.390625 \r\nQ 39.65625 6.390625 43.53125 10.953125 \r\nQ 47.40625 15.53125 47.40625 23.390625 \r\nQ 47.40625 31.296875 43.53125 35.828125 \r\nQ 39.65625 40.375 33.015625 40.375 \r\nz\r\nM 52.59375 71.296875 \r\nL 52.59375 62.3125 \r\nQ 48.875 64.0625 45.09375 64.984375 \r\nQ 41.3125 65.921875 37.59375 65.921875 \r\nQ 27.828125 65.921875 22.671875 59.328125 \r\nQ 17.53125 52.734375 16.796875 39.40625 \r\nQ 19.671875 43.65625 24.015625 45.921875 \r\nQ 28.375 48.1875 33.59375 48.1875 \r\nQ 44.578125 48.1875 50.953125 41.515625 \r\nQ 57.328125 34.859375 57.328125 23.390625 \r\nQ 57.328125 12.15625 50.6875 5.359375 \r\nQ 44.046875 -1.421875 33.015625 -1.421875 \r\nQ 20.359375 -1.421875 13.671875 8.265625 \r\nQ 6.984375 17.96875 6.984375 36.375 \r\nQ 6.984375 53.65625 15.1875 63.9375 \r\nQ 23.390625 74.21875 37.203125 74.21875 \r\nQ 40.921875 74.21875 44.703125 73.484375 \r\nQ 48.484375 72.75 52.59375 71.296875 \r\nz\r\n\" id=\"DejaVuSans-54\"/>\r\n       </defs>\r\n       <use xlink:href=\"#DejaVuSans-54\"/>\r\n       <use x=\"63.623047\" xlink:href=\"#DejaVuSans-48\"/>\r\n      </g>\r\n     </g>\r\n    </g>\r\n   </g>\r\n   <g id=\"matplotlib.axis_2\">\r\n    <g id=\"ytick_1\">\r\n     <g id=\"line2d_5\">\r\n      <defs>\r\n       <path d=\"M 0 0 \r\nL -3.5 0 \r\n\" id=\"m43cbac0ce7\" style=\"stroke:#000000;stroke-width:0.8;\"/>\r\n      </defs>\r\n      <g>\r\n       <use style=\"stroke:#000000;stroke-width:0.8;\" x=\"26.925\" xlink:href=\"#m43cbac0ce7\" y=\"10.999219\"/>\r\n      </g>\r\n     </g>\r\n     <g id=\"text_5\">\r\n      <!-- 0 -->\r\n      <g transform=\"translate(13.5625 14.798437)scale(0.1 -0.1)\">\r\n       <use xlink:href=\"#DejaVuSans-48\"/>\r\n      </g>\r\n     </g>\r\n    </g>\r\n    <g id=\"ytick_2\">\r\n     <g id=\"line2d_6\">\r\n      <g>\r\n       <use style=\"stroke:#000000;stroke-width:0.8;\" x=\"26.925\" xlink:href=\"#m43cbac0ce7\" y=\"39.991219\"/>\r\n      </g>\r\n     </g>\r\n     <g id=\"text_6\">\r\n      <!-- 10 -->\r\n      <g transform=\"translate(7.2 43.790437)scale(0.1 -0.1)\">\r\n       <defs>\r\n        <path d=\"M 12.40625 8.296875 \r\nL 28.515625 8.296875 \r\nL 28.515625 63.921875 \r\nL 10.984375 60.40625 \r\nL 10.984375 69.390625 \r\nL 28.421875 72.90625 \r\nL 38.28125 72.90625 \r\nL 38.28125 8.296875 \r\nL 54.390625 8.296875 \r\nL 54.390625 0 \r\nL 12.40625 0 \r\nz\r\n\" id=\"DejaVuSans-49\"/>\r\n       </defs>\r\n       <use xlink:href=\"#DejaVuSans-49\"/>\r\n       <use x=\"63.623047\" xlink:href=\"#DejaVuSans-48\"/>\r\n      </g>\r\n     </g>\r\n    </g>\r\n    <g id=\"ytick_3\">\r\n     <g id=\"line2d_7\">\r\n      <g>\r\n       <use style=\"stroke:#000000;stroke-width:0.8;\" x=\"26.925\" xlink:href=\"#m43cbac0ce7\" y=\"68.983219\"/>\r\n      </g>\r\n     </g>\r\n     <g id=\"text_7\">\r\n      <!-- 20 -->\r\n      <g transform=\"translate(7.2 72.782437)scale(0.1 -0.1)\">\r\n       <use xlink:href=\"#DejaVuSans-50\"/>\r\n       <use x=\"63.623047\" xlink:href=\"#DejaVuSans-48\"/>\r\n      </g>\r\n     </g>\r\n    </g>\r\n    <g id=\"ytick_4\">\r\n     <g id=\"line2d_8\">\r\n      <g>\r\n       <use style=\"stroke:#000000;stroke-width:0.8;\" x=\"26.925\" xlink:href=\"#m43cbac0ce7\" y=\"97.975219\"/>\r\n      </g>\r\n     </g>\r\n     <g id=\"text_8\">\r\n      <!-- 30 -->\r\n      <g transform=\"translate(7.2 101.774437)scale(0.1 -0.1)\">\r\n       <defs>\r\n        <path d=\"M 40.578125 39.3125 \r\nQ 47.65625 37.796875 51.625 33 \r\nQ 55.609375 28.21875 55.609375 21.1875 \r\nQ 55.609375 10.40625 48.1875 4.484375 \r\nQ 40.765625 -1.421875 27.09375 -1.421875 \r\nQ 22.515625 -1.421875 17.65625 -0.515625 \r\nQ 12.796875 0.390625 7.625 2.203125 \r\nL 7.625 11.71875 \r\nQ 11.71875 9.328125 16.59375 8.109375 \r\nQ 21.484375 6.890625 26.8125 6.890625 \r\nQ 36.078125 6.890625 40.9375 10.546875 \r\nQ 45.796875 14.203125 45.796875 21.1875 \r\nQ 45.796875 27.640625 41.28125 31.265625 \r\nQ 36.765625 34.90625 28.71875 34.90625 \r\nL 20.21875 34.90625 \r\nL 20.21875 43.015625 \r\nL 29.109375 43.015625 \r\nQ 36.375 43.015625 40.234375 45.921875 \r\nQ 44.09375 48.828125 44.09375 54.296875 \r\nQ 44.09375 59.90625 40.109375 62.90625 \r\nQ 36.140625 65.921875 28.71875 65.921875 \r\nQ 24.65625 65.921875 20.015625 65.03125 \r\nQ 15.375 64.15625 9.8125 62.3125 \r\nL 9.8125 71.09375 \r\nQ 15.4375 72.65625 20.34375 73.4375 \r\nQ 25.25 74.21875 29.59375 74.21875 \r\nQ 40.828125 74.21875 47.359375 69.109375 \r\nQ 53.90625 64.015625 53.90625 55.328125 \r\nQ 53.90625 49.265625 50.4375 45.09375 \r\nQ 46.96875 40.921875 40.578125 39.3125 \r\nz\r\n\" id=\"DejaVuSans-51\"/>\r\n       </defs>\r\n       <use xlink:href=\"#DejaVuSans-51\"/>\r\n       <use x=\"63.623047\" xlink:href=\"#DejaVuSans-48\"/>\r\n      </g>\r\n     </g>\r\n    </g>\r\n    <g id=\"ytick_5\">\r\n     <g id=\"line2d_9\">\r\n      <g>\r\n       <use style=\"stroke:#000000;stroke-width:0.8;\" x=\"26.925\" xlink:href=\"#m43cbac0ce7\" y=\"126.967219\"/>\r\n      </g>\r\n     </g>\r\n     <g id=\"text_9\">\r\n      <!-- 40 -->\r\n      <g transform=\"translate(7.2 130.766437)scale(0.1 -0.1)\">\r\n       <use xlink:href=\"#DejaVuSans-52\"/>\r\n       <use x=\"63.623047\" xlink:href=\"#DejaVuSans-48\"/>\r\n      </g>\r\n     </g>\r\n    </g>\r\n    <g id=\"ytick_6\">\r\n     <g id=\"line2d_10\">\r\n      <g>\r\n       <use style=\"stroke:#000000;stroke-width:0.8;\" x=\"26.925\" xlink:href=\"#m43cbac0ce7\" y=\"155.959219\"/>\r\n      </g>\r\n     </g>\r\n     <g id=\"text_10\">\r\n      <!-- 50 -->\r\n      <g transform=\"translate(7.2 159.758437)scale(0.1 -0.1)\">\r\n       <defs>\r\n        <path d=\"M 10.796875 72.90625 \r\nL 49.515625 72.90625 \r\nL 49.515625 64.59375 \r\nL 19.828125 64.59375 \r\nL 19.828125 46.734375 \r\nQ 21.96875 47.46875 24.109375 47.828125 \r\nQ 26.265625 48.1875 28.421875 48.1875 \r\nQ 40.625 48.1875 47.75 41.5 \r\nQ 54.890625 34.8125 54.890625 23.390625 \r\nQ 54.890625 11.625 47.5625 5.09375 \r\nQ 40.234375 -1.421875 26.90625 -1.421875 \r\nQ 22.3125 -1.421875 17.546875 -0.640625 \r\nQ 12.796875 0.140625 7.71875 1.703125 \r\nL 7.71875 11.625 \r\nQ 12.109375 9.234375 16.796875 8.0625 \r\nQ 21.484375 6.890625 26.703125 6.890625 \r\nQ 35.15625 6.890625 40.078125 11.328125 \r\nQ 45.015625 15.765625 45.015625 23.390625 \r\nQ 45.015625 31 40.078125 35.4375 \r\nQ 35.15625 39.890625 26.703125 39.890625 \r\nQ 22.75 39.890625 18.8125 39.015625 \r\nQ 14.890625 38.140625 10.796875 36.28125 \r\nz\r\n\" id=\"DejaVuSans-53\"/>\r\n       </defs>\r\n       <use xlink:href=\"#DejaVuSans-53\"/>\r\n       <use x=\"63.623047\" xlink:href=\"#DejaVuSans-48\"/>\r\n      </g>\r\n     </g>\r\n    </g>\r\n    <g id=\"ytick_7\">\r\n     <g id=\"line2d_11\">\r\n      <g>\r\n       <use style=\"stroke:#000000;stroke-width:0.8;\" x=\"26.925\" xlink:href=\"#m43cbac0ce7\" y=\"184.951219\"/>\r\n      </g>\r\n     </g>\r\n     <g id=\"text_11\">\r\n      <!-- 60 -->\r\n      <g transform=\"translate(7.2 188.750437)scale(0.1 -0.1)\">\r\n       <use xlink:href=\"#DejaVuSans-54\"/>\r\n       <use x=\"63.623047\" xlink:href=\"#DejaVuSans-48\"/>\r\n      </g>\r\n     </g>\r\n    </g>\r\n    <g id=\"ytick_8\">\r\n     <g id=\"line2d_12\">\r\n      <g>\r\n       <use style=\"stroke:#000000;stroke-width:0.8;\" x=\"26.925\" xlink:href=\"#m43cbac0ce7\" y=\"213.943219\"/>\r\n      </g>\r\n     </g>\r\n     <g id=\"text_12\">\r\n      <!-- 70 -->\r\n      <g transform=\"translate(7.2 217.742437)scale(0.1 -0.1)\">\r\n       <defs>\r\n        <path d=\"M 8.203125 72.90625 \r\nL 55.078125 72.90625 \r\nL 55.078125 68.703125 \r\nL 28.609375 0 \r\nL 18.3125 0 \r\nL 43.21875 64.59375 \r\nL 8.203125 64.59375 \r\nz\r\n\" id=\"DejaVuSans-55\"/>\r\n       </defs>\r\n       <use xlink:href=\"#DejaVuSans-55\"/>\r\n       <use x=\"63.623047\" xlink:href=\"#DejaVuSans-48\"/>\r\n      </g>\r\n     </g>\r\n    </g>\r\n   </g>\r\n   <g id=\"patch_3\">\r\n    <path d=\"M 26.925 226.989619 \r\nL 26.925 9.549619 \r\n\" style=\"fill:none;stroke:#000000;stroke-linecap:square;stroke-linejoin:miter;stroke-width:0.8;\"/>\r\n   </g>\r\n   <g id=\"patch_4\">\r\n    <path d=\"M 244.365 226.989619 \r\nL 244.365 9.549619 \r\n\" style=\"fill:none;stroke:#000000;stroke-linecap:square;stroke-linejoin:miter;stroke-width:0.8;\"/>\r\n   </g>\r\n   <g id=\"patch_5\">\r\n    <path d=\"M 26.925 226.989619 \r\nL 244.365 226.989619 \r\n\" style=\"fill:none;stroke:#000000;stroke-linecap:square;stroke-linejoin:miter;stroke-width:0.8;\"/>\r\n   </g>\r\n   <g id=\"patch_6\">\r\n    <path d=\"M 26.925 9.549619 \r\nL 244.365 9.549619 \r\n\" style=\"fill:none;stroke:#000000;stroke-linecap:square;stroke-linejoin:miter;stroke-width:0.8;\"/>\r\n   </g>\r\n  </g>\r\n </g>\r\n <defs>\r\n  <clipPath id=\"p27c8bbe3b1\">\r\n   <rect height=\"217.44\" width=\"217.44\" x=\"26.925\" y=\"9.549619\"/>\r\n  </clipPath>\r\n </defs>\r\n</svg>\r\n",
      "image/png": "[encoded data removed]"
     },
     "metadata": {
      "needs_background": "light"
     }
    }
   ],
   "source": [
    "plt.imshow(X_train[0])"
   ]
  },
  {
   "cell_type": "code",
   "execution_count": 20,
   "id": "f9428367",
   "metadata": {
    "ExecuteTime": {
     "end_time": "2021-04-15T23:16:31.257904Z",
     "start_time": "2021-04-15T23:16:31.256613Z"
    }
   },
   "outputs": [],
   "source": [
    "y_train = file['target_int']"
   ]
  },
  {
   "cell_type": "code",
   "execution_count": 21,
   "id": "62079c4d",
   "metadata": {
    "ExecuteTime": {
     "end_time": "2021-04-15T23:16:50.339078Z",
     "start_time": "2021-04-15T23:16:50.337248Z"
    }
   },
   "outputs": [],
   "source": [
    "y_train = np.array(y_train).astype('int')"
   ]
  },
  {
   "cell_type": "code",
   "execution_count": 22,
   "id": "988d0014",
   "metadata": {
    "ExecuteTime": {
     "end_time": "2021-04-15T23:17:09.511256Z",
     "start_time": "2021-04-15T23:17:09.509425Z"
    }
   },
   "outputs": [
    {
     "output_type": "execute_result",
     "data": {
      "text/plain": [
       "(9000,)"
      ]
     },
     "metadata": {},
     "execution_count": 22
    }
   ],
   "source": [
    "y_train.shape"
   ]
  },
  {
   "cell_type": "code",
   "execution_count": 23,
   "id": "5753b186",
   "metadata": {
    "ExecuteTime": {
     "end_time": "2021-04-16T00:09:09.610885Z",
     "start_time": "2021-04-16T00:09:09.605466Z"
    }
   },
   "outputs": [],
   "source": [
    "y_prueba = file['target_int'].copy()"
   ]
  },
  {
   "cell_type": "code",
   "execution_count": 24,
   "id": "094c0e95",
   "metadata": {
    "ExecuteTime": {
     "end_time": "2021-04-16T00:09:28.755793Z",
     "start_time": "2021-04-16T00:09:28.751296Z"
    }
   },
   "outputs": [],
   "source": [
    "y_prueba = keras.utils.to_categorical(np.asarray(y_prueba.factorize()[0]))"
   ]
  },
  {
   "cell_type": "code",
   "execution_count": 25,
   "id": "2ad22e5c",
   "metadata": {
    "ExecuteTime": {
     "end_time": "2021-04-16T00:11:17.151320Z",
     "start_time": "2021-04-16T00:11:17.149302Z"
    },
    "scrolled": false
   },
   "outputs": [
    {
     "output_type": "execute_result",
     "data": {
      "text/plain": [
       "array([0., 1., 0., 0., 0., 0., 0., 0., 0., 0., 0., 0., 0., 0., 0., 0., 0.,\n",
       "       0., 0., 0., 0., 0., 0., 0., 0., 0., 0., 0., 0.], dtype=float32)"
      ]
     },
     "metadata": {},
     "execution_count": 25
    }
   ],
   "source": [
    "y_prueba[1]"
   ]
  },
  {
   "cell_type": "code",
   "execution_count": 26,
   "id": "0d35f598",
   "metadata": {
    "ExecuteTime": {
     "end_time": "2021-04-16T00:15:33.232716Z",
     "start_time": "2021-04-16T00:15:33.221862Z"
    }
   },
   "outputs": [],
   "source": [
    "file2 = filenames.merge(target_df, left_on='archivo', right_on='archivo')"
   ]
  },
  {
   "cell_type": "code",
   "execution_count": 27,
   "id": "bd56eb80",
   "metadata": {},
   "outputs": [],
   "source": [
    "y_prueba2 = file['target_int'].copy()"
   ]
  },
  {
   "cell_type": "code",
   "execution_count": 28,
   "id": "f80bd568",
   "metadata": {
    "ExecuteTime": {
     "end_time": "2021-04-16T00:17:16.760937Z",
     "start_time": "2021-04-16T00:17:16.752884Z"
    }
   },
   "outputs": [],
   "source": [
    "file2.drop(columns='archivo',inplace=True)"
   ]
  },
  {
   "cell_type": "code",
   "execution_count": 29,
   "id": "33ab833b",
   "metadata": {
    "ExecuteTime": {
     "end_time": "2021-04-16T00:17:36.100548Z",
     "start_time": "2021-04-16T00:17:36.097178Z"
    }
   },
   "outputs": [],
   "source": [
    "y_prueba2 = pd.get_dummies(file2)"
   ]
  },
  {
   "cell_type": "code",
   "execution_count": 30,
   "id": "ce722319",
   "metadata": {
    "ExecuteTime": {
     "end_time": "2021-04-16T00:17:55.143687Z",
     "start_time": "2021-04-16T00:17:55.141838Z"
    }
   },
   "outputs": [
    {
     "output_type": "execute_result",
     "data": {
      "text/plain": [
       "(9000, 29)"
      ]
     },
     "metadata": {},
     "execution_count": 30
    }
   ],
   "source": [
    "y_prueba2.shape"
   ]
  },
  {
   "cell_type": "code",
   "execution_count": 123,
   "id": "e55ae7ce",
   "metadata": {
    "ExecuteTime": {
     "end_time": "2021-04-16T00:18:44.384769Z",
     "start_time": "2021-04-16T00:18:44.356948Z"
    }
   },
   "outputs": [
    {
     "data": {
      "text/html": [
       "<div>\n",
       "<style scoped>\n",
       "    .dataframe tbody tr th:only-of-type {\n",
       "        vertical-align: middle;\n",
       "    }\n",
       "\n",
       "    .dataframe tbody tr th {\n",
       "        vertical-align: top;\n",
       "    }\n",
       "\n",
       "    .dataframe thead th {\n",
       "        text-align: right;\n",
       "    }\n",
       "</style>\n",
       "<table border=\"1\" class=\"dataframe\">\n",
       "  <thead>\n",
       "    <tr style=\"text-align: right;\">\n",
       "      <th></th>\n",
       "      <th>target_A</th>\n",
       "      <th>target_B</th>\n",
       "      <th>target_C</th>\n",
       "      <th>target_D</th>\n",
       "      <th>target_E</th>\n",
       "      <th>target_F</th>\n",
       "      <th>target_G</th>\n",
       "      <th>target_H</th>\n",
       "      <th>target_I</th>\n",
       "      <th>target_J</th>\n",
       "      <th>...</th>\n",
       "      <th>target_T</th>\n",
       "      <th>target_U</th>\n",
       "      <th>target_V</th>\n",
       "      <th>target_W</th>\n",
       "      <th>target_X</th>\n",
       "      <th>target_Y</th>\n",
       "      <th>target_Z</th>\n",
       "      <th>target_del</th>\n",
       "      <th>target_nothing</th>\n",
       "      <th>target_space</th>\n",
       "    </tr>\n",
       "  </thead>\n",
       "  <tbody>\n",
       "    <tr>\n",
       "      <th>0</th>\n",
       "      <td>0</td>\n",
       "      <td>0</td>\n",
       "      <td>0</td>\n",
       "      <td>0</td>\n",
       "      <td>0</td>\n",
       "      <td>0</td>\n",
       "      <td>1</td>\n",
       "      <td>0</td>\n",
       "      <td>0</td>\n",
       "      <td>0</td>\n",
       "      <td>...</td>\n",
       "      <td>0</td>\n",
       "      <td>0</td>\n",
       "      <td>0</td>\n",
       "      <td>0</td>\n",
       "      <td>0</td>\n",
       "      <td>0</td>\n",
       "      <td>0</td>\n",
       "      <td>0</td>\n",
       "      <td>0</td>\n",
       "      <td>0</td>\n",
       "    </tr>\n",
       "    <tr>\n",
       "      <th>1</th>\n",
       "      <td>0</td>\n",
       "      <td>0</td>\n",
       "      <td>0</td>\n",
       "      <td>0</td>\n",
       "      <td>0</td>\n",
       "      <td>0</td>\n",
       "      <td>0</td>\n",
       "      <td>0</td>\n",
       "      <td>0</td>\n",
       "      <td>0</td>\n",
       "      <td>...</td>\n",
       "      <td>0</td>\n",
       "      <td>0</td>\n",
       "      <td>0</td>\n",
       "      <td>0</td>\n",
       "      <td>1</td>\n",
       "      <td>0</td>\n",
       "      <td>0</td>\n",
       "      <td>0</td>\n",
       "      <td>0</td>\n",
       "      <td>0</td>\n",
       "    </tr>\n",
       "    <tr>\n",
       "      <th>2</th>\n",
       "      <td>0</td>\n",
       "      <td>0</td>\n",
       "      <td>0</td>\n",
       "      <td>0</td>\n",
       "      <td>0</td>\n",
       "      <td>0</td>\n",
       "      <td>0</td>\n",
       "      <td>0</td>\n",
       "      <td>0</td>\n",
       "      <td>0</td>\n",
       "      <td>...</td>\n",
       "      <td>0</td>\n",
       "      <td>1</td>\n",
       "      <td>0</td>\n",
       "      <td>0</td>\n",
       "      <td>0</td>\n",
       "      <td>0</td>\n",
       "      <td>0</td>\n",
       "      <td>0</td>\n",
       "      <td>0</td>\n",
       "      <td>0</td>\n",
       "    </tr>\n",
       "    <tr>\n",
       "      <th>3</th>\n",
       "      <td>1</td>\n",
       "      <td>0</td>\n",
       "      <td>0</td>\n",
       "      <td>0</td>\n",
       "      <td>0</td>\n",
       "      <td>0</td>\n",
       "      <td>0</td>\n",
       "      <td>0</td>\n",
       "      <td>0</td>\n",
       "      <td>0</td>\n",
       "      <td>...</td>\n",
       "      <td>0</td>\n",
       "      <td>0</td>\n",
       "      <td>0</td>\n",
       "      <td>0</td>\n",
       "      <td>0</td>\n",
       "      <td>0</td>\n",
       "      <td>0</td>\n",
       "      <td>0</td>\n",
       "      <td>0</td>\n",
       "      <td>0</td>\n",
       "    </tr>\n",
       "    <tr>\n",
       "      <th>4</th>\n",
       "      <td>0</td>\n",
       "      <td>0</td>\n",
       "      <td>0</td>\n",
       "      <td>0</td>\n",
       "      <td>0</td>\n",
       "      <td>0</td>\n",
       "      <td>0</td>\n",
       "      <td>0</td>\n",
       "      <td>0</td>\n",
       "      <td>0</td>\n",
       "      <td>...</td>\n",
       "      <td>0</td>\n",
       "      <td>0</td>\n",
       "      <td>0</td>\n",
       "      <td>0</td>\n",
       "      <td>1</td>\n",
       "      <td>0</td>\n",
       "      <td>0</td>\n",
       "      <td>0</td>\n",
       "      <td>0</td>\n",
       "      <td>0</td>\n",
       "    </tr>\n",
       "    <tr>\n",
       "      <th>...</th>\n",
       "      <td>...</td>\n",
       "      <td>...</td>\n",
       "      <td>...</td>\n",
       "      <td>...</td>\n",
       "      <td>...</td>\n",
       "      <td>...</td>\n",
       "      <td>...</td>\n",
       "      <td>...</td>\n",
       "      <td>...</td>\n",
       "      <td>...</td>\n",
       "      <td>...</td>\n",
       "      <td>...</td>\n",
       "      <td>...</td>\n",
       "      <td>...</td>\n",
       "      <td>...</td>\n",
       "      <td>...</td>\n",
       "      <td>...</td>\n",
       "      <td>...</td>\n",
       "      <td>...</td>\n",
       "      <td>...</td>\n",
       "      <td>...</td>\n",
       "    </tr>\n",
       "    <tr>\n",
       "      <th>8995</th>\n",
       "      <td>0</td>\n",
       "      <td>0</td>\n",
       "      <td>0</td>\n",
       "      <td>0</td>\n",
       "      <td>0</td>\n",
       "      <td>0</td>\n",
       "      <td>0</td>\n",
       "      <td>0</td>\n",
       "      <td>0</td>\n",
       "      <td>0</td>\n",
       "      <td>...</td>\n",
       "      <td>0</td>\n",
       "      <td>0</td>\n",
       "      <td>0</td>\n",
       "      <td>0</td>\n",
       "      <td>0</td>\n",
       "      <td>0</td>\n",
       "      <td>0</td>\n",
       "      <td>0</td>\n",
       "      <td>0</td>\n",
       "      <td>0</td>\n",
       "    </tr>\n",
       "    <tr>\n",
       "      <th>8996</th>\n",
       "      <td>0</td>\n",
       "      <td>0</td>\n",
       "      <td>0</td>\n",
       "      <td>0</td>\n",
       "      <td>0</td>\n",
       "      <td>0</td>\n",
       "      <td>0</td>\n",
       "      <td>0</td>\n",
       "      <td>0</td>\n",
       "      <td>0</td>\n",
       "      <td>...</td>\n",
       "      <td>0</td>\n",
       "      <td>0</td>\n",
       "      <td>0</td>\n",
       "      <td>0</td>\n",
       "      <td>0</td>\n",
       "      <td>0</td>\n",
       "      <td>0</td>\n",
       "      <td>0</td>\n",
       "      <td>0</td>\n",
       "      <td>0</td>\n",
       "    </tr>\n",
       "    <tr>\n",
       "      <th>8997</th>\n",
       "      <td>1</td>\n",
       "      <td>0</td>\n",
       "      <td>0</td>\n",
       "      <td>0</td>\n",
       "      <td>0</td>\n",
       "      <td>0</td>\n",
       "      <td>0</td>\n",
       "      <td>0</td>\n",
       "      <td>0</td>\n",
       "      <td>0</td>\n",
       "      <td>...</td>\n",
       "      <td>0</td>\n",
       "      <td>0</td>\n",
       "      <td>0</td>\n",
       "      <td>0</td>\n",
       "      <td>0</td>\n",
       "      <td>0</td>\n",
       "      <td>0</td>\n",
       "      <td>0</td>\n",
       "      <td>0</td>\n",
       "      <td>0</td>\n",
       "    </tr>\n",
       "    <tr>\n",
       "      <th>8998</th>\n",
       "      <td>0</td>\n",
       "      <td>0</td>\n",
       "      <td>0</td>\n",
       "      <td>0</td>\n",
       "      <td>0</td>\n",
       "      <td>0</td>\n",
       "      <td>0</td>\n",
       "      <td>0</td>\n",
       "      <td>0</td>\n",
       "      <td>0</td>\n",
       "      <td>...</td>\n",
       "      <td>0</td>\n",
       "      <td>0</td>\n",
       "      <td>0</td>\n",
       "      <td>0</td>\n",
       "      <td>1</td>\n",
       "      <td>0</td>\n",
       "      <td>0</td>\n",
       "      <td>0</td>\n",
       "      <td>0</td>\n",
       "      <td>0</td>\n",
       "    </tr>\n",
       "    <tr>\n",
       "      <th>8999</th>\n",
       "      <td>1</td>\n",
       "      <td>0</td>\n",
       "      <td>0</td>\n",
       "      <td>0</td>\n",
       "      <td>0</td>\n",
       "      <td>0</td>\n",
       "      <td>0</td>\n",
       "      <td>0</td>\n",
       "      <td>0</td>\n",
       "      <td>0</td>\n",
       "      <td>...</td>\n",
       "      <td>0</td>\n",
       "      <td>0</td>\n",
       "      <td>0</td>\n",
       "      <td>0</td>\n",
       "      <td>0</td>\n",
       "      <td>0</td>\n",
       "      <td>0</td>\n",
       "      <td>0</td>\n",
       "      <td>0</td>\n",
       "      <td>0</td>\n",
       "    </tr>\n",
       "  </tbody>\n",
       "</table>\n",
       "<p>9000 rows × 29 columns</p>\n",
       "</div>"
      ],
      "text/plain": [
       "      target_A  target_B  target_C  target_D  target_E  target_F  target_G  \\\n",
       "0            0         0         0         0         0         0         1   \n",
       "1            0         0         0         0         0         0         0   \n",
       "2            0         0         0         0         0         0         0   \n",
       "3            1         0         0         0         0         0         0   \n",
       "4            0         0         0         0         0         0         0   \n",
       "...        ...       ...       ...       ...       ...       ...       ...   \n",
       "8995         0         0         0         0         0         0         0   \n",
       "8996         0         0         0         0         0         0         0   \n",
       "8997         1         0         0         0         0         0         0   \n",
       "8998         0         0         0         0         0         0         0   \n",
       "8999         1         0         0         0         0         0         0   \n",
       "\n",
       "      target_H  target_I  target_J  ...  target_T  target_U  target_V  \\\n",
       "0            0         0         0  ...         0         0         0   \n",
       "1            0         0         0  ...         0         0         0   \n",
       "2            0         0         0  ...         0         1         0   \n",
       "3            0         0         0  ...         0         0         0   \n",
       "4            0         0         0  ...         0         0         0   \n",
       "...        ...       ...       ...  ...       ...       ...       ...   \n",
       "8995         0         0         0  ...         0         0         0   \n",
       "8996         0         0         0  ...         0         0         0   \n",
       "8997         0         0         0  ...         0         0         0   \n",
       "8998         0         0         0  ...         0         0         0   \n",
       "8999         0         0         0  ...         0         0         0   \n",
       "\n",
       "      target_W  target_X  target_Y  target_Z  target_del  target_nothing  \\\n",
       "0            0         0         0         0           0               0   \n",
       "1            0         1         0         0           0               0   \n",
       "2            0         0         0         0           0               0   \n",
       "3            0         0         0         0           0               0   \n",
       "4            0         1         0         0           0               0   \n",
       "...        ...       ...       ...       ...         ...             ...   \n",
       "8995         0         0         0         0           0               0   \n",
       "8996         0         0         0         0           0               0   \n",
       "8997         0         0         0         0           0               0   \n",
       "8998         0         1         0         0           0               0   \n",
       "8999         0         0         0         0           0               0   \n",
       "\n",
       "      target_space  \n",
       "0                0  \n",
       "1                0  \n",
       "2                0  \n",
       "3                0  \n",
       "4                0  \n",
       "...            ...  \n",
       "8995             0  \n",
       "8996             0  \n",
       "8997             0  \n",
       "8998             0  \n",
       "8999             0  \n",
       "\n",
       "[9000 rows x 29 columns]"
      ]
     },
     "execution_count": 123,
     "metadata": {},
     "output_type": "execute_result"
    }
   ],
   "source": [
    "y_prueba2"
   ]
  },
  {
   "cell_type": "markdown",
   "id": "6fb67738",
   "metadata": {
    "ExecuteTime": {
     "end_time": "2021-04-15T11:54:57.936047Z",
     "start_time": "2021-04-15T11:54:57.933788Z"
    }
   },
   "source": [
    "## 2. Modelo"
   ]
  },
  {
   "cell_type": "code",
   "execution_count": 31,
   "id": "aa002aaf",
   "metadata": {
    "ExecuteTime": {
     "end_time": "2021-04-16T00:11:46.713511Z",
     "start_time": "2021-04-16T00:11:46.612962Z"
    }
   },
   "outputs": [],
   "source": [
    "from tensorflow.keras.models import Sequential\n",
    "from tensorflow.keras.layers import Conv2D, MaxPooling2D, Dropout\n",
    "from tensorflow.keras.layers import Flatten, Dense, Activation, BatchNormalization\n",
    "\n",
    "model = Sequential()\n",
    "\n",
    "model.add(Conv2D(32, (3, 3), activation='relu', input_shape=(75, 75, 3)))\n",
    "model.add(BatchNormalization())\n",
    "model.add(MaxPooling2D(pool_size=(2, 2)))\n",
    "model.add(Dropout(0.25))\n",
    "\n",
    "model.add(Conv2D(64, (3, 3), activation='relu'))\n",
    "model.add(BatchNormalization())\n",
    "model.add(MaxPooling2D(pool_size=(2, 2)))\n",
    "model.add(Dropout(0.25))\n",
    "\n",
    "model.add(Conv2D(128, (3, 3), activation='relu'))\n",
    "model.add(BatchNormalization())\n",
    "model.add(MaxPooling2D(pool_size=(2, 2)))\n",
    "model.add(Dropout(0.25))\n",
    "\n",
    "model.add(Flatten())\n",
    "model.add(Dense(512, activation='relu'))\n",
    "model.add(BatchNormalization())\n",
    "model.add(Dropout(0.5))\n",
    "model.add(Dense(29, activation='softmax'))"
   ]
  },
  {
   "cell_type": "code",
   "execution_count": 32,
   "id": "6a74f473",
   "metadata": {
    "ExecuteTime": {
     "end_time": "2021-04-16T00:12:06.021620Z",
     "start_time": "2021-04-16T00:12:06.012961Z"
    }
   },
   "outputs": [],
   "source": [
    "model.compile(optimizer=\"adam\",\n",
    "              loss='categorical_crossentropy',\n",
    "              metrics=['acc'])"
   ]
  },
  {
   "cell_type": "code",
   "execution_count": 33,
   "id": "7cc096f9",
   "metadata": {
    "ExecuteTime": {
     "end_time": "2021-04-16T00:18:25.381722Z",
     "start_time": "2021-04-16T00:18:13.934491Z"
    }
   },
   "outputs": [
    {
     "output_type": "stream",
     "name": "stdout",
     "text": [
      "Epoch 1/5\n",
      "2450/7200 [=========>....................] - ETA: 2:25 - loss: 3.3806 - acc: 0.0363"
     ]
    },
    {
     "output_type": "error",
     "ename": "KeyboardInterrupt",
     "evalue": "",
     "traceback": [
      "\u001b[1;31m---------------------------------------------------------------------------\u001b[0m",
      "\u001b[1;31mKeyboardInterrupt\u001b[0m                         Traceback (most recent call last)",
      "\u001b[1;32m<ipython-input-33-e1855fe50e54>\u001b[0m in \u001b[0;36m<module>\u001b[1;34m\u001b[0m\n\u001b[1;32m----> 1\u001b[1;33m model.fit(X_train, y_prueba2, epochs=5,\n\u001b[0m\u001b[0;32m      2\u001b[0m           batch_size=1, validation_split=0.2)\n",
      "\u001b[1;32m~\\Anaconda3\\lib\\site-packages\\tensorflow\\python\\keras\\engine\\training.py\u001b[0m in \u001b[0;36mfit\u001b[1;34m(self, x, y, batch_size, epochs, verbose, callbacks, validation_split, validation_data, shuffle, class_weight, sample_weight, initial_epoch, steps_per_epoch, validation_steps, validation_batch_size, validation_freq, max_queue_size, workers, use_multiprocessing)\u001b[0m\n\u001b[0;32m   1098\u001b[0m                 _r=1):\n\u001b[0;32m   1099\u001b[0m               \u001b[0mcallbacks\u001b[0m\u001b[1;33m.\u001b[0m\u001b[0mon_train_batch_begin\u001b[0m\u001b[1;33m(\u001b[0m\u001b[0mstep\u001b[0m\u001b[1;33m)\u001b[0m\u001b[1;33m\u001b[0m\u001b[1;33m\u001b[0m\u001b[0m\n\u001b[1;32m-> 1100\u001b[1;33m               \u001b[0mtmp_logs\u001b[0m \u001b[1;33m=\u001b[0m \u001b[0mself\u001b[0m\u001b[1;33m.\u001b[0m\u001b[0mtrain_function\u001b[0m\u001b[1;33m(\u001b[0m\u001b[0miterator\u001b[0m\u001b[1;33m)\u001b[0m\u001b[1;33m\u001b[0m\u001b[1;33m\u001b[0m\u001b[0m\n\u001b[0m\u001b[0;32m   1101\u001b[0m               \u001b[1;32mif\u001b[0m \u001b[0mdata_handler\u001b[0m\u001b[1;33m.\u001b[0m\u001b[0mshould_sync\u001b[0m\u001b[1;33m:\u001b[0m\u001b[1;33m\u001b[0m\u001b[1;33m\u001b[0m\u001b[0m\n\u001b[0;32m   1102\u001b[0m                 \u001b[0mcontext\u001b[0m\u001b[1;33m.\u001b[0m\u001b[0masync_wait\u001b[0m\u001b[1;33m(\u001b[0m\u001b[1;33m)\u001b[0m\u001b[1;33m\u001b[0m\u001b[1;33m\u001b[0m\u001b[0m\n",
      "\u001b[1;32m~\\Anaconda3\\lib\\site-packages\\tensorflow\\python\\eager\\def_function.py\u001b[0m in \u001b[0;36m__call__\u001b[1;34m(self, *args, **kwds)\u001b[0m\n\u001b[0;32m    826\u001b[0m     \u001b[0mtracing_count\u001b[0m \u001b[1;33m=\u001b[0m \u001b[0mself\u001b[0m\u001b[1;33m.\u001b[0m\u001b[0mexperimental_get_tracing_count\u001b[0m\u001b[1;33m(\u001b[0m\u001b[1;33m)\u001b[0m\u001b[1;33m\u001b[0m\u001b[1;33m\u001b[0m\u001b[0m\n\u001b[0;32m    827\u001b[0m     \u001b[1;32mwith\u001b[0m \u001b[0mtrace\u001b[0m\u001b[1;33m.\u001b[0m\u001b[0mTrace\u001b[0m\u001b[1;33m(\u001b[0m\u001b[0mself\u001b[0m\u001b[1;33m.\u001b[0m\u001b[0m_name\u001b[0m\u001b[1;33m)\u001b[0m \u001b[1;32mas\u001b[0m \u001b[0mtm\u001b[0m\u001b[1;33m:\u001b[0m\u001b[1;33m\u001b[0m\u001b[1;33m\u001b[0m\u001b[0m\n\u001b[1;32m--> 828\u001b[1;33m       \u001b[0mresult\u001b[0m \u001b[1;33m=\u001b[0m \u001b[0mself\u001b[0m\u001b[1;33m.\u001b[0m\u001b[0m_call\u001b[0m\u001b[1;33m(\u001b[0m\u001b[1;33m*\u001b[0m\u001b[0margs\u001b[0m\u001b[1;33m,\u001b[0m \u001b[1;33m**\u001b[0m\u001b[0mkwds\u001b[0m\u001b[1;33m)\u001b[0m\u001b[1;33m\u001b[0m\u001b[1;33m\u001b[0m\u001b[0m\n\u001b[0m\u001b[0;32m    829\u001b[0m       \u001b[0mcompiler\u001b[0m \u001b[1;33m=\u001b[0m \u001b[1;34m\"xla\"\u001b[0m \u001b[1;32mif\u001b[0m \u001b[0mself\u001b[0m\u001b[1;33m.\u001b[0m\u001b[0m_experimental_compile\u001b[0m \u001b[1;32melse\u001b[0m \u001b[1;34m\"nonXla\"\u001b[0m\u001b[1;33m\u001b[0m\u001b[1;33m\u001b[0m\u001b[0m\n\u001b[0;32m    830\u001b[0m       \u001b[0mnew_tracing_count\u001b[0m \u001b[1;33m=\u001b[0m \u001b[0mself\u001b[0m\u001b[1;33m.\u001b[0m\u001b[0mexperimental_get_tracing_count\u001b[0m\u001b[1;33m(\u001b[0m\u001b[1;33m)\u001b[0m\u001b[1;33m\u001b[0m\u001b[1;33m\u001b[0m\u001b[0m\n",
      "\u001b[1;32m~\\Anaconda3\\lib\\site-packages\\tensorflow\\python\\eager\\def_function.py\u001b[0m in \u001b[0;36m_call\u001b[1;34m(self, *args, **kwds)\u001b[0m\n\u001b[0;32m    853\u001b[0m       \u001b[1;31m# In this case we have created variables on the first call, so we run the\u001b[0m\u001b[1;33m\u001b[0m\u001b[1;33m\u001b[0m\u001b[1;33m\u001b[0m\u001b[0m\n\u001b[0;32m    854\u001b[0m       \u001b[1;31m# defunned version which is guaranteed to never create variables.\u001b[0m\u001b[1;33m\u001b[0m\u001b[1;33m\u001b[0m\u001b[1;33m\u001b[0m\u001b[0m\n\u001b[1;32m--> 855\u001b[1;33m       \u001b[1;32mreturn\u001b[0m \u001b[0mself\u001b[0m\u001b[1;33m.\u001b[0m\u001b[0m_stateless_fn\u001b[0m\u001b[1;33m(\u001b[0m\u001b[1;33m*\u001b[0m\u001b[0margs\u001b[0m\u001b[1;33m,\u001b[0m \u001b[1;33m**\u001b[0m\u001b[0mkwds\u001b[0m\u001b[1;33m)\u001b[0m  \u001b[1;31m# pylint: disable=not-callable\u001b[0m\u001b[1;33m\u001b[0m\u001b[1;33m\u001b[0m\u001b[0m\n\u001b[0m\u001b[0;32m    856\u001b[0m     \u001b[1;32melif\u001b[0m \u001b[0mself\u001b[0m\u001b[1;33m.\u001b[0m\u001b[0m_stateful_fn\u001b[0m \u001b[1;32mis\u001b[0m \u001b[1;32mnot\u001b[0m \u001b[1;32mNone\u001b[0m\u001b[1;33m:\u001b[0m\u001b[1;33m\u001b[0m\u001b[1;33m\u001b[0m\u001b[0m\n\u001b[0;32m    857\u001b[0m       \u001b[1;31m# Release the lock early so that multiple threads can perform the call\u001b[0m\u001b[1;33m\u001b[0m\u001b[1;33m\u001b[0m\u001b[1;33m\u001b[0m\u001b[0m\n",
      "\u001b[1;32m~\\Anaconda3\\lib\\site-packages\\tensorflow\\python\\eager\\function.py\u001b[0m in \u001b[0;36m__call__\u001b[1;34m(self, *args, **kwargs)\u001b[0m\n\u001b[0;32m   2940\u001b[0m       (graph_function,\n\u001b[0;32m   2941\u001b[0m        filtered_flat_args) = self._maybe_define_function(args, kwargs)\n\u001b[1;32m-> 2942\u001b[1;33m     return graph_function._call_flat(\n\u001b[0m\u001b[0;32m   2943\u001b[0m         filtered_flat_args, captured_inputs=graph_function.captured_inputs)  # pylint: disable=protected-access\n\u001b[0;32m   2944\u001b[0m \u001b[1;33m\u001b[0m\u001b[0m\n",
      "\u001b[1;32m~\\Anaconda3\\lib\\site-packages\\tensorflow\\python\\eager\\function.py\u001b[0m in \u001b[0;36m_call_flat\u001b[1;34m(self, args, captured_inputs, cancellation_manager)\u001b[0m\n\u001b[0;32m   1916\u001b[0m         and executing_eagerly):\n\u001b[0;32m   1917\u001b[0m       \u001b[1;31m# No tape is watching; skip to running the function.\u001b[0m\u001b[1;33m\u001b[0m\u001b[1;33m\u001b[0m\u001b[1;33m\u001b[0m\u001b[0m\n\u001b[1;32m-> 1918\u001b[1;33m       return self._build_call_outputs(self._inference_function.call(\n\u001b[0m\u001b[0;32m   1919\u001b[0m           ctx, args, cancellation_manager=cancellation_manager))\n\u001b[0;32m   1920\u001b[0m     forward_backward = self._select_forward_and_backward_functions(\n",
      "\u001b[1;32m~\\Anaconda3\\lib\\site-packages\\tensorflow\\python\\eager\\function.py\u001b[0m in \u001b[0;36mcall\u001b[1;34m(self, ctx, args, cancellation_manager)\u001b[0m\n\u001b[0;32m    553\u001b[0m       \u001b[1;32mwith\u001b[0m \u001b[0m_InterpolateFunctionError\u001b[0m\u001b[1;33m(\u001b[0m\u001b[0mself\u001b[0m\u001b[1;33m)\u001b[0m\u001b[1;33m:\u001b[0m\u001b[1;33m\u001b[0m\u001b[1;33m\u001b[0m\u001b[0m\n\u001b[0;32m    554\u001b[0m         \u001b[1;32mif\u001b[0m \u001b[0mcancellation_manager\u001b[0m \u001b[1;32mis\u001b[0m \u001b[1;32mNone\u001b[0m\u001b[1;33m:\u001b[0m\u001b[1;33m\u001b[0m\u001b[1;33m\u001b[0m\u001b[0m\n\u001b[1;32m--> 555\u001b[1;33m           outputs = execute.execute(\n\u001b[0m\u001b[0;32m    556\u001b[0m               \u001b[0mstr\u001b[0m\u001b[1;33m(\u001b[0m\u001b[0mself\u001b[0m\u001b[1;33m.\u001b[0m\u001b[0msignature\u001b[0m\u001b[1;33m.\u001b[0m\u001b[0mname\u001b[0m\u001b[1;33m)\u001b[0m\u001b[1;33m,\u001b[0m\u001b[1;33m\u001b[0m\u001b[1;33m\u001b[0m\u001b[0m\n\u001b[0;32m    557\u001b[0m               \u001b[0mnum_outputs\u001b[0m\u001b[1;33m=\u001b[0m\u001b[0mself\u001b[0m\u001b[1;33m.\u001b[0m\u001b[0m_num_outputs\u001b[0m\u001b[1;33m,\u001b[0m\u001b[1;33m\u001b[0m\u001b[1;33m\u001b[0m\u001b[0m\n",
      "\u001b[1;32m~\\Anaconda3\\lib\\site-packages\\tensorflow\\python\\eager\\execute.py\u001b[0m in \u001b[0;36mquick_execute\u001b[1;34m(op_name, num_outputs, inputs, attrs, ctx, name)\u001b[0m\n\u001b[0;32m     57\u001b[0m   \u001b[1;32mtry\u001b[0m\u001b[1;33m:\u001b[0m\u001b[1;33m\u001b[0m\u001b[1;33m\u001b[0m\u001b[0m\n\u001b[0;32m     58\u001b[0m     \u001b[0mctx\u001b[0m\u001b[1;33m.\u001b[0m\u001b[0mensure_initialized\u001b[0m\u001b[1;33m(\u001b[0m\u001b[1;33m)\u001b[0m\u001b[1;33m\u001b[0m\u001b[1;33m\u001b[0m\u001b[0m\n\u001b[1;32m---> 59\u001b[1;33m     tensors = pywrap_tfe.TFE_Py_Execute(ctx._handle, device_name, op_name,\n\u001b[0m\u001b[0;32m     60\u001b[0m                                         inputs, attrs, num_outputs)\n\u001b[0;32m     61\u001b[0m   \u001b[1;32mexcept\u001b[0m \u001b[0mcore\u001b[0m\u001b[1;33m.\u001b[0m\u001b[0m_NotOkStatusException\u001b[0m \u001b[1;32mas\u001b[0m \u001b[0me\u001b[0m\u001b[1;33m:\u001b[0m\u001b[1;33m\u001b[0m\u001b[1;33m\u001b[0m\u001b[0m\n",
      "\u001b[1;31mKeyboardInterrupt\u001b[0m: "
     ]
    }
   ],
   "source": [
    "model.fit(X_train, y_prueba2, epochs=5,\n",
    "          batch_size=1, validation_split=0.2)"
   ]
  },
  {
   "cell_type": "markdown",
   "id": "2f3e4647",
   "metadata": {
    "ExecuteTime": {
     "end_time": "2021-04-15T22:24:56.295503Z",
     "start_time": "2021-04-15T22:24:56.293178Z"
    }
   },
   "source": [
    "## 2.2 Otro modelo"
   ]
  },
  {
   "cell_type": "code",
   "execution_count": 143,
   "id": "b17741f0",
   "metadata": {
    "ExecuteTime": {
     "end_time": "2021-04-15T22:51:23.717390Z",
     "start_time": "2021-04-15T22:51:23.694517Z"
    }
   },
   "outputs": [],
   "source": [
    "from sklearn.model_selection import train_test_split\n",
    "\n",
    "train_df, validate_df = train_test_split(file,\n",
    "                                         test_size=0.20,\n",
    "                                         random_state=42)"
   ]
  },
  {
   "cell_type": "code",
   "execution_count": 144,
   "metadata": {},
   "outputs": [],
   "source": [
    "train_df = train_df.reset_index(drop=True)\n",
    "validate_df = validate_df.reset_index(drop=True)"
   ]
  },
  {
   "cell_type": "code",
   "execution_count": 145,
   "id": "e72b67c0",
   "metadata": {
    "ExecuteTime": {
     "end_time": "2021-04-15T22:51:35.244736Z",
     "start_time": "2021-04-15T22:51:35.241758Z"
    }
   },
   "outputs": [],
   "source": [
    "# Parámetros ImageDataGenerator\n",
    "train_datagen = ImageDataGenerator(rescale = 1./255.)\n",
    "validation_datagen = ImageDataGenerator(rescale = 1.0/255.)"
   ]
  },
  {
   "cell_type": "code",
   "execution_count": 112,
   "id": "edd6cba8",
   "metadata": {
    "ExecuteTime": {
     "end_time": "2021-04-15T22:51:46.583586Z",
     "start_time": "2021-04-15T22:51:46.526122Z"
    }
   },
   "outputs": [
    {
     "output_type": "stream",
     "name": "stdout",
     "text": [
      "Found 7200 validated image filenames belonging to 29 classes.\nFound 1800 validated image filenames belonging to 29 classes.\n"
     ]
    }
   ],
   "source": [
    "# Flow training images in batches of 20 using train_datagen generator\n",
    "train_generator = train_datagen.flow_from_dataframe(train_df,\n",
    "                                                    train_path,\n",
    "                                                    x_col='archivo',\n",
    "                                                    y_col='target_int',\n",
    "                                                    batch_size=32,\n",
    "                                                    class_mode='categorical',\n",
    "                                                    target_size=(50, 50),\n",
    "                                                    color_mode='grayscale')\n",
    "\n",
    "# Flow training images in batches of 20 using train_datagen generator\n",
    "validation_generator = validation_datagen.flow_from_dataframe(validate_df,\n",
    "                                                    train_path,\n",
    "                                                    x_col='archivo',\n",
    "                                                    y_col='target_int',\n",
    "                                                    batch_size=32,\n",
    "                                                    class_mode='categorical',\n",
    "                                                    target_size=(50, 50),\n",
    "                                                    color_mode='grayscale')"
   ]
  },
  {
   "cell_type": "code",
   "execution_count": 113,
   "metadata": {},
   "outputs": [
    {
     "output_type": "stream",
     "name": "stdout",
     "text": [
      "Found 7200 validated image filenames belonging to 29 classes.\nFound 1800 validated image filenames belonging to 29 classes.\n"
     ]
    }
   ],
   "source": [
    "# Flow training images in batches of 20 using train_datagen generator\n",
    "train_generator = train_datagen.flow_from_dataframe(train_df,\n",
    "                                                    train_path,\n",
    "                                                    x_col='archivo',\n",
    "                                                    y_col='target_int',\n",
    "                                                    batch_size=32,\n",
    "                                                    class_mode='categorical',\n",
    "                                                    target_size=(50, 50))\n",
    "\n",
    "# Flow training images in batches of 20 using train_datagen generator\n",
    "validation_generator = validation_datagen.flow_from_dataframe(validate_df,\n",
    "                                                    train_path,\n",
    "                                                    x_col='archivo',\n",
    "                                                    y_col='target_int',\n",
    "                                                    batch_size=32,\n",
    "                                                    class_mode='categorical',\n",
    "                                                    target_size=(50, 50))"
   ]
  },
  {
   "cell_type": "code",
   "execution_count": 114,
   "id": "2b2ef4e7",
   "metadata": {
    "ExecuteTime": {
     "end_time": "2021-04-15T22:53:49.725556Z",
     "start_time": "2021-04-15T22:53:49.447699Z"
    }
   },
   "outputs": [],
   "source": [
    "from tensorflow.keras.applications.vgg16 import VGG16\n",
    "\n",
    "base_model = VGG16(input_shape=(50, 50, 3),\n",
    "                   include_top=False,\n",
    "                   weights='imagenet')\n",
    "\n",
    "for layer in base_model.layers:\n",
    "    layer.trainable = False\n",
    "\n",
    "# Podemos acceder a cada layer.    \n",
    "\n",
    "##### FULLY CONNECTED LAYER #####\n",
    "# Flatten the output layer to 1 dimension\n",
    "x = Flatten()(base_model.output)\n",
    "\n",
    "# Add a fully connected layer with 512 hidden units and ReLU activation\n",
    "x = Dense(512, activation='relu')(x)\n",
    "\n",
    "# Add a dropout rate of 0.5\n",
    "x = Dropout(0.5)(x)\n",
    "\n",
    "# Add a final sigmoid layer for classification\n",
    "x = Dense(29, activation='softmax')(x)\n",
    "\n",
    "model = tf.keras.models.Model(base_model.input, x)"
   ]
  },
  {
   "cell_type": "code",
   "execution_count": 115,
   "metadata": {},
   "outputs": [],
   "source": [
    "model.compile(optimizer=\"adam\",\n",
    "              loss='categorical_crossentropy',\n",
    "              metrics=['acc'])"
   ]
  },
  {
   "cell_type": "code",
   "execution_count": 129,
   "metadata": {},
   "outputs": [
    {
     "output_type": "stream",
     "name": "stdout",
     "text": [
      "Epoch 1/5\n",
      "225/225 [==============================] - 83s 368ms/step - loss: 0.4050 - acc: 0.8783 - val_loss: 0.3471 - val_acc: 0.9028\n",
      "Epoch 2/5\n",
      "225/225 [==============================] - 83s 369ms/step - loss: 0.3751 - acc: 0.8874 - val_loss: 0.3317 - val_acc: 0.9072\n",
      "Epoch 3/5\n",
      "225/225 [==============================] - 83s 369ms/step - loss: 0.3503 - acc: 0.8963 - val_loss: 0.3325 - val_acc: 0.9028\n",
      "Epoch 4/5\n",
      "225/225 [==============================] - 80s 357ms/step - loss: 0.3234 - acc: 0.9035 - val_loss: 0.3128 - val_acc: 0.9133\n",
      "Epoch 5/5\n",
      "225/225 [==============================] - 78s 347ms/step - loss: 0.3063 - acc: 0.9069 - val_loss: 0.2868 - val_acc: 0.9161\n"
     ]
    }
   ],
   "source": [
    "vgghist = model.fit(train_generator,\n",
    "                    validation_data = validation_generator,\n",
    "                    epochs = 5)"
   ]
  },
  {
   "cell_type": "markdown",
   "id": "0cc209df",
   "metadata": {},
   "source": [
    "## 3. Predicción y test"
   ]
  },
  {
   "cell_type": "code",
   "execution_count": 130,
   "id": "9d318c56",
   "metadata": {},
   "outputs": [],
   "source": [
    "imagenes_test = []\n",
    "filenames_test = os.listdir(test_path)\n",
    "\n",
    "for img in os.listdir(test_path):\n",
    "    image = imread(test_path + img)\n",
    "    smallimage = cv2.resize(image, (50, 50))\n",
    "    smallimage = smallimage / 255.\n",
    "    imagenes_test.append(smallimage)"
   ]
  },
  {
   "cell_type": "code",
   "execution_count": 131,
   "id": "1dd17d2f",
   "metadata": {},
   "outputs": [],
   "source": [
    "X_test = np.array(imagenes_test)"
   ]
  },
  {
   "cell_type": "code",
   "execution_count": 132,
   "id": "271fb07f",
   "metadata": {},
   "outputs": [
    {
     "output_type": "execute_result",
     "data": {
      "text/plain": [
       "(1150, 50, 50, 3)"
      ]
     },
     "metadata": {},
     "execution_count": 132
    }
   ],
   "source": [
    "X_test.shape"
   ]
  },
  {
   "cell_type": "code",
   "execution_count": 133,
   "metadata": {},
   "outputs": [],
   "source": [
    "predictions = model.predict(X_test)"
   ]
  },
  {
   "cell_type": "code",
   "execution_count": 134,
   "metadata": {},
   "outputs": [
    {
     "output_type": "execute_result",
     "data": {
      "text/plain": [
       "(1150, 29)"
      ]
     },
     "metadata": {},
     "execution_count": 134
    }
   ],
   "source": [
    "predictions.shape"
   ]
  },
  {
   "cell_type": "markdown",
   "id": "5b0b19a8",
   "metadata": {},
   "source": [
    "## 4. Exportación sample"
   ]
  },
  {
   "cell_type": "code",
   "execution_count": 135,
   "id": "b7481949",
   "metadata": {},
   "outputs": [],
   "source": [
    "max_val = []\n",
    "\n",
    "for i in range(len(predictions)):\n",
    "    val = np.argmax(predictions[i])\n",
    "    max_val.append(val)"
   ]
  },
  {
   "cell_type": "code",
   "execution_count": 136,
   "id": "9c193022",
   "metadata": {},
   "outputs": [],
   "source": [
    "true_values = []\n",
    "\n",
    "for i in max_val:\n",
    "    for v in labels_int['target_int']:\n",
    "        if i == v:\n",
    "            true_values.append(labels_int['target'][v])"
   ]
  },
  {
   "cell_type": "code",
   "execution_count": 137,
   "id": "02f90544",
   "metadata": {},
   "outputs": [],
   "source": [
    "df_submission = pd.DataFrame({'archivo': filenames_test,\n",
    "                            'target':true_values})"
   ]
  },
  {
   "cell_type": "code",
   "execution_count": 138,
   "id": "d8461894",
   "metadata": {},
   "outputs": [],
   "source": [
    "df_submission.to_csv('submission_1.csv', index=False)"
   ]
  },
  {
   "cell_type": "code",
   "execution_count": 139,
   "metadata": {},
   "outputs": [
    {
     "output_type": "execute_result",
     "data": {
      "text/plain": [
       "       archivo target\n",
       "0        0.jpg      C\n",
       "1        1.jpg      T\n",
       "2       10.jpg      K\n",
       "3      100.jpg      Q\n",
       "4     1000.jpg      P\n",
       "...        ...    ...\n",
       "1145   995.jpg      K\n",
       "1146   996.jpg      G\n",
       "1147   997.jpg      T\n",
       "1148   998.jpg      W\n",
       "1149   999.jpg      U\n",
       "\n",
       "[1150 rows x 2 columns]"
      ],
      "text/html": "<div>\n<style scoped>\n    .dataframe tbody tr th:only-of-type {\n        vertical-align: middle;\n    }\n\n    .dataframe tbody tr th {\n        vertical-align: top;\n    }\n\n    .dataframe thead th {\n        text-align: right;\n    }\n</style>\n<table border=\"1\" class=\"dataframe\">\n  <thead>\n    <tr style=\"text-align: right;\">\n      <th></th>\n      <th>archivo</th>\n      <th>target</th>\n    </tr>\n  </thead>\n  <tbody>\n    <tr>\n      <th>0</th>\n      <td>0.jpg</td>\n      <td>C</td>\n    </tr>\n    <tr>\n      <th>1</th>\n      <td>1.jpg</td>\n      <td>T</td>\n    </tr>\n    <tr>\n      <th>2</th>\n      <td>10.jpg</td>\n      <td>K</td>\n    </tr>\n    <tr>\n      <th>3</th>\n      <td>100.jpg</td>\n      <td>Q</td>\n    </tr>\n    <tr>\n      <th>4</th>\n      <td>1000.jpg</td>\n      <td>P</td>\n    </tr>\n    <tr>\n      <th>...</th>\n      <td>...</td>\n      <td>...</td>\n    </tr>\n    <tr>\n      <th>1145</th>\n      <td>995.jpg</td>\n      <td>K</td>\n    </tr>\n    <tr>\n      <th>1146</th>\n      <td>996.jpg</td>\n      <td>G</td>\n    </tr>\n    <tr>\n      <th>1147</th>\n      <td>997.jpg</td>\n      <td>T</td>\n    </tr>\n    <tr>\n      <th>1148</th>\n      <td>998.jpg</td>\n      <td>W</td>\n    </tr>\n    <tr>\n      <th>1149</th>\n      <td>999.jpg</td>\n      <td>U</td>\n    </tr>\n  </tbody>\n</table>\n<p>1150 rows × 2 columns</p>\n</div>"
     },
     "metadata": {},
     "execution_count": 139
    }
   ],
   "source": [
    "df_submission"
   ]
  }
 ],
 "metadata": {
  "kernelspec": {
   "name": "python385jvsc74a57bd0fc33febecb25bf51ecb9e8745ca02a2d49ab50b5c3e3d57ffb721b0f2206d5d8",
   "display_name": "Python 3.8.5 64-bit (conda)"
  },
  "language_info": {
   "codemirror_mode": {
    "name": "ipython",
    "version": 3
   },
   "file_extension": ".py",
   "mimetype": "text/x-python",
   "name": "python",
   "nbconvert_exporter": "python",
   "pygments_lexer": "ipython3",
   "version": "3.8.5-final"
  },
  "toc": {
   "base_numbering": 1,
   "nav_menu": {},
   "number_sections": false,
   "sideBar": true,
   "skip_h1_title": false,
   "title_cell": "Table of Contents",
   "title_sidebar": "Contents",
   "toc_cell": false,
   "toc_position": {},
   "toc_section_display": true,
   "toc_window_display": false
  },
  "varInspector": {
   "cols": {
    "lenName": 16,
    "lenType": 16,
    "lenVar": 40
   },
   "kernels_config": {
    "python": {
     "delete_cmd_postfix": "",
     "delete_cmd_prefix": "del ",
     "library": "var_list.py",
     "varRefreshCmd": "print(var_dic_list())"
    },
    "r": {
     "delete_cmd_postfix": ") ",
     "delete_cmd_prefix": "rm(",
     "library": "var_list.r",
     "varRefreshCmd": "cat(var_dic_list()) "
    }
   },
   "types_to_exclude": [
    "module",
    "function",
    "builtin_function_or_method",
    "instance",
    "_Feature"
   ],
   "window_display": false
  }
 },
 "nbformat": 4,
 "nbformat_minor": 5
}