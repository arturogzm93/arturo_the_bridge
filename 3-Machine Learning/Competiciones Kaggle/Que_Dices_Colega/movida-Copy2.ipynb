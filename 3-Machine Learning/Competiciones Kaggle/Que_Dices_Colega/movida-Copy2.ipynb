{
 "cells": [
  {
   "cell_type": "markdown",
   "id": "78067ef9",
   "metadata": {},
   "source": [
    "# Competi Kaggle: ¿Qué dices colega?"
   ]
  },
  {
   "cell_type": "markdown",
   "id": "ae971d43",
   "metadata": {
    "ExecuteTime": {
     "end_time": "2021-04-15T11:54:47.611093Z",
     "start_time": "2021-04-15T11:54:47.608165Z"
    }
   },
   "source": [
    "## 1. Carga datos & procesado imágenes"
   ]
  },
  {
   "cell_type": "code",
   "execution_count": 1,
   "id": "295d0f92",
   "metadata": {
    "ExecuteTime": {
     "end_time": "2021-04-16T07:33:35.210351Z",
     "start_time": "2021-04-16T07:33:26.670765Z"
    }
   },
   "outputs": [],
   "source": [
    "import numpy as np\n",
    "import pandas as pd \n",
    "import os\n",
    "import matplotlib.pyplot as plt\n",
    "from skimage.io import imread\n",
    "import cv2\n",
    "import random\n",
    "\n",
    "import tensorflow as tf\n",
    "from tensorflow import keras\n",
    "\n",
    "from tensorflow.keras.preprocessing.image import ImageDataGenerator, load_img"
   ]
  },
  {
   "cell_type": "code",
   "execution_count": 2,
   "id": "9fc9b78c",
   "metadata": {
    "ExecuteTime": {
     "end_time": "2021-04-16T07:33:35.225229Z",
     "start_time": "2021-04-16T07:33:35.219439Z"
    }
   },
   "outputs": [],
   "source": [
    "train_path = '/Users/cris/Repositorios/local_docs/curso_ds21/movida/train/'\n",
    "test_path = '/Users/cris/Repositorios/local_docs/curso_ds21/movida/test/'\n",
    "target_df = pd.read_csv('/Users/cris/Repositorios/local_docs/curso_ds21/movida/file_target.csv')"
   ]
  },
  {
   "cell_type": "code",
   "execution_count": 3,
   "id": "c89b719a",
   "metadata": {
    "ExecuteTime": {
     "end_time": "2021-04-16T07:33:35.248816Z",
     "start_time": "2021-04-16T07:33:35.246945Z"
    },
    "scrolled": true
   },
   "outputs": [],
   "source": [
    "labels_target = target_df['target'].unique()"
   ]
  },
  {
   "cell_type": "code",
   "execution_count": 4,
   "id": "7929b636",
   "metadata": {
    "ExecuteTime": {
     "end_time": "2021-04-16T07:33:35.266017Z",
     "start_time": "2021-04-16T07:33:35.264278Z"
    },
    "scrolled": true
   },
   "outputs": [],
   "source": [
    "labels_int = pd.DataFrame({'target':labels_target,\n",
    "                           'target_int':0})"
   ]
  },
  {
   "cell_type": "code",
   "execution_count": 5,
   "id": "0ff6c992",
   "metadata": {
    "ExecuteTime": {
     "end_time": "2021-04-16T07:33:35.290138Z",
     "start_time": "2021-04-16T07:33:35.284518Z"
    }
   },
   "outputs": [
    {
     "name": "stderr",
     "output_type": "stream",
     "text": [
      "<ipython-input-5-0d4d09667d7e>:2: SettingWithCopyWarning: \n",
      "A value is trying to be set on a copy of a slice from a DataFrame\n",
      "\n",
      "See the caveats in the documentation: https://pandas.pydata.org/pandas-docs/stable/user_guide/indexing.html#returning-a-view-versus-a-copy\n",
      "  labels_int['target_int'][i]=i\n"
     ]
    }
   ],
   "source": [
    "for i in range(len(labels_target)):\n",
    "    labels_int['target_int'][i]=i"
   ]
  },
  {
   "cell_type": "code",
   "execution_count": 6,
   "id": "7b1e2ef6",
   "metadata": {
    "ExecuteTime": {
     "end_time": "2021-04-16T07:33:35.322751Z",
     "start_time": "2021-04-16T07:33:35.321196Z"
    }
   },
   "outputs": [],
   "source": [
    "final_target = target_df.copy()"
   ]
  },
  {
   "cell_type": "code",
   "execution_count": 7,
   "id": "9b2be0c4",
   "metadata": {
    "ExecuteTime": {
     "end_time": "2021-04-16T07:33:35.349257Z",
     "start_time": "2021-04-16T07:33:35.345918Z"
    }
   },
   "outputs": [],
   "source": [
    "final_target = final_target.merge(labels_int, left_on='target', right_on='target')"
   ]
  },
  {
   "cell_type": "code",
   "execution_count": 8,
   "id": "c35aa943",
   "metadata": {
    "ExecuteTime": {
     "end_time": "2021-04-16T07:33:35.374732Z",
     "start_time": "2021-04-16T07:33:35.373310Z"
    }
   },
   "outputs": [],
   "source": [
    "target_int = final_target.copy()"
   ]
  },
  {
   "cell_type": "code",
   "execution_count": 9,
   "id": "36ff3359",
   "metadata": {
    "ExecuteTime": {
     "end_time": "2021-04-16T07:33:35.404756Z",
     "start_time": "2021-04-16T07:33:35.403072Z"
    }
   },
   "outputs": [],
   "source": [
    "target_int.drop(columns='target', inplace=True)"
   ]
  },
  {
   "cell_type": "code",
   "execution_count": 10,
   "id": "c63cab03",
   "metadata": {
    "ExecuteTime": {
     "end_time": "2021-04-16T07:33:35.437987Z",
     "start_time": "2021-04-16T07:33:35.433466Z"
    }
   },
   "outputs": [],
   "source": [
    "target_int = target_int.astype('str')"
   ]
  },
  {
   "cell_type": "code",
   "execution_count": 114,
   "id": "f38464c5",
   "metadata": {
    "ExecuteTime": {
     "end_time": "2021-04-16T08:50:46.163956Z",
     "start_time": "2021-04-16T08:50:40.472522Z"
    }
   },
   "outputs": [],
   "source": [
    "imagenes = []\n",
    "filenames = os.listdir(train_path)\n",
    "\n",
    "for img in os.listdir(train_path):\n",
    "    image = imread(train_path + img)\n",
    "    img_gray = cv2.imread(img, cv2.IMREAD_GRAYSCALE)\n",
    "    smallimage = cv2.resize(img_gray, (50, 50))\n",
    "    smallimage = smallimage / 255.\n",
    "    imagenes.append(smallimage)"
   ]
  },
  {
   "cell_type": "code",
   "execution_count": null,
   "id": "d25ddb27",
   "metadata": {},
   "outputs": [],
   "source": [
    "for i in imagenes:\n",
    "    img_gray = cv2.imread(imag, cv2.IMREAD_GRAYSCALE)"
   ]
  },
  {
   "cell_type": "code",
   "execution_count": 120,
   "id": "9794e137",
   "metadata": {
    "ExecuteTime": {
     "end_time": "2021-04-16T08:54:43.420584Z",
     "start_time": "2021-04-16T08:54:43.418847Z"
    }
   },
   "outputs": [
    {
     "data": {
      "text/plain": [
       "numpy.ndarray"
      ]
     },
     "execution_count": 120,
     "metadata": {},
     "output_type": "execute_result"
    }
   ],
   "source": [
    "type(imagenes[1])"
   ]
  },
  {
   "cell_type": "code",
   "execution_count": 126,
   "id": "57f64824",
   "metadata": {
    "ExecuteTime": {
     "end_time": "2021-04-16T08:57:45.473435Z",
     "start_time": "2021-04-16T08:57:45.470832Z"
    }
   },
   "outputs": [],
   "source": [
    "imag = filenames[1]"
   ]
  },
  {
   "cell_type": "code",
   "execution_count": 127,
   "id": "b7497305",
   "metadata": {
    "ExecuteTime": {
     "end_time": "2021-04-16T08:58:02.877697Z",
     "start_time": "2021-04-16T08:58:02.876397Z"
    },
    "scrolled": true
   },
   "outputs": [],
   "source": [
    "img_gray = cv2.imread(imag, cv2.IMREAD_GRAYSCALE)"
   ]
  },
  {
   "cell_type": "code",
   "execution_count": 133,
   "id": "564b1673",
   "metadata": {
    "ExecuteTime": {
     "end_time": "2021-04-16T08:59:47.955325Z",
     "start_time": "2021-04-16T08:59:47.953516Z"
    }
   },
   "outputs": [
    {
     "data": {
      "text/plain": [
       "NoneType"
      ]
     },
     "execution_count": 133,
     "metadata": {},
     "output_type": "execute_result"
    }
   ],
   "source": [
    "type(img_gray)"
   ]
  },
  {
   "cell_type": "code",
   "execution_count": 121,
   "id": "525bbc46",
   "metadata": {
    "ExecuteTime": {
     "end_time": "2021-04-16T08:55:27.021724Z",
     "start_time": "2021-04-16T08:55:27.012402Z"
    }
   },
   "outputs": [],
   "source": [
    "image = imread(train_path + filenames[1])"
   ]
  },
  {
   "cell_type": "code",
   "execution_count": null,
   "id": "bf658eca",
   "metadata": {},
   "outputs": [],
   "source": [
    "imag"
   ]
  },
  {
   "cell_type": "code",
   "execution_count": 122,
   "id": "f22f6ba1",
   "metadata": {
    "ExecuteTime": {
     "end_time": "2021-04-16T08:55:44.384764Z",
     "start_time": "2021-04-16T08:55:44.381994Z"
    }
   },
   "outputs": [
    {
     "data": {
      "text/plain": [
       "array([[[  0,   9, 243],\n",
       "        [  0,   9, 255],\n",
       "        [  0,   0, 253],\n",
       "        ...,\n",
       "        [  1,   0, 253],\n",
       "        [  0,   0, 252],\n",
       "        [  0,   6, 255]],\n",
       "\n",
       "       [[  0,   7, 255],\n",
       "        [  0,   0, 229],\n",
       "        [ 18,  12, 210],\n",
       "        ...,\n",
       "        [ 11,   3, 176],\n",
       "        [ 13,   9, 207],\n",
       "        [  0,   1, 232]],\n",
       "\n",
       "       [[  0,   0, 254],\n",
       "        [  9,   5, 203],\n",
       "        [ 83,  77, 165],\n",
       "        ...,\n",
       "        [139, 135, 162],\n",
       "        [132, 127, 229],\n",
       "        [  7,   3, 202]],\n",
       "\n",
       "       ...,\n",
       "\n",
       "       [[  6,   0, 253],\n",
       "        [  8,   8, 194],\n",
       "        [152, 171, 229],\n",
       "        ...,\n",
       "        [134, 122, 110],\n",
       "        [125, 115, 184],\n",
       "        [ 12,   4, 188]],\n",
       "\n",
       "       [[  7,   1, 255],\n",
       "        [  0,   2, 211],\n",
       "        [150, 164, 255],\n",
       "        ...,\n",
       "        [130, 119, 188],\n",
       "        [116, 111, 227],\n",
       "        [  9,   6, 197]],\n",
       "\n",
       "       [[  0,   0, 253],\n",
       "        [  0,   6, 242],\n",
       "        [  0,   8, 211],\n",
       "        ...,\n",
       "        [ 11,   5, 189],\n",
       "        [  6,   7, 196],\n",
       "        [  1,   6, 219]]], dtype=uint8)"
      ]
     },
     "execution_count": 122,
     "metadata": {},
     "output_type": "execute_result"
    }
   ],
   "source": [
    "image"
   ]
  },
  {
   "cell_type": "code",
   "execution_count": null,
   "id": "be78647c",
   "metadata": {},
   "outputs": [],
   "source": []
  },
  {
   "cell_type": "code",
   "execution_count": null,
   "id": "2f7b765f",
   "metadata": {},
   "outputs": [],
   "source": []
  },
  {
   "cell_type": "code",
   "execution_count": 90,
   "id": "06359e12",
   "metadata": {
    "ExecuteTime": {
     "end_time": "2021-04-16T08:31:15.098470Z",
     "start_time": "2021-04-16T08:31:15.095995Z"
    }
   },
   "outputs": [],
   "source": [
    "filenames = pd.DataFrame({'archivo':filenames})"
   ]
  },
  {
   "cell_type": "code",
   "execution_count": 91,
   "id": "42ca269f",
   "metadata": {
    "ExecuteTime": {
     "end_time": "2021-04-16T08:31:32.666827Z",
     "start_time": "2021-04-16T08:31:32.655982Z"
    }
   },
   "outputs": [],
   "source": [
    "file = filenames.merge(target_int, left_on='archivo', right_on='archivo')"
   ]
  },
  {
   "cell_type": "code",
   "execution_count": 92,
   "id": "106f6f98",
   "metadata": {
    "ExecuteTime": {
     "end_time": "2021-04-16T08:31:50.239646Z",
     "start_time": "2021-04-16T08:31:50.045266Z"
    },
    "scrolled": true
   },
   "outputs": [],
   "source": [
    "X_train = np.array(imagenes)"
   ]
  },
  {
   "cell_type": "code",
   "execution_count": 23,
   "id": "691fe132",
   "metadata": {
    "ExecuteTime": {
     "end_time": "2021-04-16T07:36:47.875496Z",
     "start_time": "2021-04-16T07:36:47.869084Z"
    }
   },
   "outputs": [
    {
     "data": {
      "text/plain": [
       "(9000, 75, 75, 3)"
      ]
     },
     "execution_count": 23,
     "metadata": {},
     "output_type": "execute_result"
    }
   ],
   "source": [
    "X_train.shape"
   ]
  },
  {
   "cell_type": "code",
   "execution_count": 16,
   "id": "2f298311",
   "metadata": {
    "ExecuteTime": {
     "end_time": "2021-04-16T07:34:57.655422Z",
     "start_time": "2021-04-16T07:34:57.575326Z"
    }
   },
   "outputs": [
    {
     "data": {
      "text/plain": [
       "<matplotlib.image.AxesImage at 0x14a068850>"
      ]
     },
     "execution_count": 16,
     "metadata": {},
     "output_type": "execute_result"
    },
    {
     "data": {
      "image/png": "[encoded data removed]",
      "text/plain": [
       "<Figure size 432x288 with 1 Axes>"
      ]
     },
     "metadata": {
      "needs_background": "light"
     },
     "output_type": "display_data"
    }
   ],
   "source": [
    "plt.imshow(X_train[0])"
   ]
  },
  {
   "cell_type": "code",
   "execution_count": 17,
   "id": "f9428367",
   "metadata": {
    "ExecuteTime": {
     "end_time": "2021-04-16T07:35:12.792944Z",
     "start_time": "2021-04-16T07:35:12.791518Z"
    }
   },
   "outputs": [],
   "source": [
    "y_train = file['target_int']"
   ]
  },
  {
   "cell_type": "code",
   "execution_count": 18,
   "id": "62079c4d",
   "metadata": {
    "ExecuteTime": {
     "end_time": "2021-04-16T07:35:27.954417Z",
     "start_time": "2021-04-16T07:35:27.952640Z"
    }
   },
   "outputs": [],
   "source": [
    "y_train = np.array(y_train).astype('int')"
   ]
  },
  {
   "cell_type": "code",
   "execution_count": 19,
   "id": "988d0014",
   "metadata": {
    "ExecuteTime": {
     "end_time": "2021-04-16T07:35:42.900068Z",
     "start_time": "2021-04-16T07:35:42.898093Z"
    }
   },
   "outputs": [
    {
     "data": {
      "text/plain": [
       "(9000,)"
      ]
     },
     "execution_count": 19,
     "metadata": {},
     "output_type": "execute_result"
    }
   ],
   "source": [
    "y_train.shape"
   ]
  },
  {
   "cell_type": "code",
   "execution_count": 28,
   "id": "d1708168",
   "metadata": {
    "ExecuteTime": {
     "end_time": "2021-04-16T07:38:38.756602Z",
     "start_time": "2021-04-16T07:38:38.754509Z"
    }
   },
   "outputs": [
    {
     "data": {
      "text/plain": [
       "29"
      ]
     },
     "execution_count": 28,
     "metadata": {},
     "output_type": "execute_result"
    }
   ],
   "source": [
    "len(np.unique(y_train))"
   ]
  },
  {
   "cell_type": "code",
   "execution_count": null,
   "id": "304740bc",
   "metadata": {},
   "outputs": [],
   "source": []
  },
  {
   "cell_type": "code",
   "execution_count": null,
   "id": "5753b186",
   "metadata": {
    "ExecuteTime": {
     "end_time": "2021-04-16T00:09:09.610885Z",
     "start_time": "2021-04-16T00:09:09.605466Z"
    }
   },
   "outputs": [],
   "source": [
    "y_prueba = file['target_int'].copy()"
   ]
  },
  {
   "cell_type": "code",
   "execution_count": null,
   "id": "094c0e95",
   "metadata": {
    "ExecuteTime": {
     "end_time": "2021-04-16T00:09:28.755793Z",
     "start_time": "2021-04-16T00:09:28.751296Z"
    }
   },
   "outputs": [],
   "source": [
    "y_prueba = keras.utils.to_categorical(np.asarray(y_prueba.factorize()[0]))"
   ]
  },
  {
   "cell_type": "code",
   "execution_count": null,
   "id": "2ad22e5c",
   "metadata": {
    "ExecuteTime": {
     "end_time": "2021-04-16T00:11:17.151320Z",
     "start_time": "2021-04-16T00:11:17.149302Z"
    },
    "scrolled": false
   },
   "outputs": [],
   "source": [
    "y_prueba[1]"
   ]
  },
  {
   "cell_type": "code",
   "execution_count": null,
   "id": "4f7e8c2d",
   "metadata": {},
   "outputs": [],
   "source": []
  },
  {
   "cell_type": "code",
   "execution_count": null,
   "id": "0d35f598",
   "metadata": {
    "ExecuteTime": {
     "end_time": "2021-04-16T00:15:33.232716Z",
     "start_time": "2021-04-16T00:15:33.221862Z"
    }
   },
   "outputs": [],
   "source": [
    "file2 = filenames.merge(target_df, left_on='archivo', right_on='archivo')"
   ]
  },
  {
   "cell_type": "code",
   "execution_count": null,
   "id": "bd56eb80",
   "metadata": {},
   "outputs": [],
   "source": [
    "y_prueba2 = file['target_int'].copy()"
   ]
  },
  {
   "cell_type": "code",
   "execution_count": null,
   "id": "f80bd568",
   "metadata": {
    "ExecuteTime": {
     "end_time": "2021-04-16T00:17:16.760937Z",
     "start_time": "2021-04-16T00:17:16.752884Z"
    }
   },
   "outputs": [],
   "source": [
    "file2.drop(columns='archivo',inplace=True)"
   ]
  },
  {
   "cell_type": "code",
   "execution_count": null,
   "id": "33ab833b",
   "metadata": {
    "ExecuteTime": {
     "end_time": "2021-04-16T00:17:36.100548Z",
     "start_time": "2021-04-16T00:17:36.097178Z"
    }
   },
   "outputs": [],
   "source": [
    "y_prueba2 = pd.get_dummies(file2)"
   ]
  },
  {
   "cell_type": "code",
   "execution_count": null,
   "id": "ce722319",
   "metadata": {
    "ExecuteTime": {
     "end_time": "2021-04-16T00:17:55.143687Z",
     "start_time": "2021-04-16T00:17:55.141838Z"
    }
   },
   "outputs": [],
   "source": [
    "y_prueba2.shape"
   ]
  },
  {
   "cell_type": "code",
   "execution_count": null,
   "id": "e55ae7ce",
   "metadata": {
    "ExecuteTime": {
     "end_time": "2021-04-16T00:18:44.384769Z",
     "start_time": "2021-04-16T00:18:44.356948Z"
    }
   },
   "outputs": [],
   "source": [
    "y_prueba2"
   ]
  },
  {
   "cell_type": "code",
   "execution_count": null,
   "id": "d10d87fb",
   "metadata": {},
   "outputs": [],
   "source": []
  },
  {
   "cell_type": "code",
   "execution_count": null,
   "id": "87259259",
   "metadata": {},
   "outputs": [],
   "source": []
  },
  {
   "cell_type": "markdown",
   "id": "6fb67738",
   "metadata": {
    "ExecuteTime": {
     "end_time": "2021-04-15T11:54:57.936047Z",
     "start_time": "2021-04-15T11:54:57.933788Z"
    }
   },
   "source": [
    "## 2. Modelo"
   ]
  },
  {
   "cell_type": "code",
   "execution_count": 34,
   "id": "aa002aaf",
   "metadata": {
    "ExecuteTime": {
     "end_time": "2021-04-16T07:46:13.666892Z",
     "start_time": "2021-04-16T07:46:13.582474Z"
    }
   },
   "outputs": [],
   "source": [
    "from tensorflow.keras.models import Sequential\n",
    "from tensorflow.keras.layers import Conv2D, MaxPooling2D, Dropout\n",
    "from tensorflow.keras.layers import Flatten, Dense, Activation, BatchNormalization\n",
    "\n",
    "model = Sequential()\n",
    "\n",
    "model.add(Conv2D(32, (3, 3), activation='relu', input_shape=(75, 75, 3)))\n",
    "model.add(BatchNormalization())\n",
    "model.add(MaxPooling2D(pool_size=(2, 2)))\n",
    "model.add(Dropout(0.25))\n",
    "\n",
    "model.add(Conv2D(64, (3, 3), activation='relu'))\n",
    "model.add(BatchNormalization())\n",
    "model.add(MaxPooling2D(pool_size=(2, 2)))\n",
    "model.add(Dropout(0.25))\n",
    "\n",
    "model.add(Conv2D(128, (3, 3), activation='relu'))\n",
    "model.add(BatchNormalization())\n",
    "model.add(MaxPooling2D(pool_size=(2, 2)))\n",
    "model.add(Dropout(0.25))\n",
    "\n",
    "model.add(Flatten())\n",
    "model.add(Dense(512, activation='relu'))\n",
    "model.add(BatchNormalization())\n",
    "model.add(Dropout(0.5))\n",
    "model.add(Dense(29, activation='softmax'))"
   ]
  },
  {
   "cell_type": "code",
   "execution_count": 35,
   "id": "6a74f473",
   "metadata": {
    "ExecuteTime": {
     "end_time": "2021-04-16T07:46:29.073396Z",
     "start_time": "2021-04-16T07:46:29.065341Z"
    }
   },
   "outputs": [],
   "source": [
    "model.compile(optimizer=\"rmsprop\",\n",
    "              loss='sparse_categorical_crossentropy',\n",
    "              metrics=['acc'])"
   ]
  },
  {
   "cell_type": "code",
   "execution_count": 36,
   "id": "7cc096f9",
   "metadata": {
    "ExecuteTime": {
     "end_time": "2021-04-16T07:48:43.188900Z",
     "start_time": "2021-04-16T07:46:44.439255Z"
    }
   },
   "outputs": [
    {
     "name": "stdout",
     "output_type": "stream",
     "text": [
      "Epoch 1/10\n",
      "113/113 [==============================] - 12s 105ms/step - loss: 3.7017 - acc: 0.1539 - val_loss: nan - val_acc: 0.0306\n",
      "Epoch 2/10\n",
      "113/113 [==============================] - 12s 107ms/step - loss: 2.0889 - acc: 0.4112 - val_loss: nan - val_acc: 0.0306\n",
      "Epoch 3/10\n",
      "113/113 [==============================] - 12s 103ms/step - loss: 1.4726 - acc: 0.5484 - val_loss: 125091548846433687441641259925504.0000 - val_acc: 0.0400\n",
      "Epoch 4/10\n",
      "113/113 [==============================] - 12s 103ms/step - loss: 1.0226 - acc: 0.6768 - val_loss: nan - val_acc: 0.0989\n",
      "Epoch 5/10\n",
      "113/113 [==============================] - 12s 103ms/step - loss: 0.7566 - acc: 0.7706 - val_loss: nan - val_acc: 0.3183\n",
      "Epoch 6/10\n",
      "113/113 [==============================] - 12s 105ms/step - loss: 0.5661 - acc: 0.8240 - val_loss: nan - val_acc: 0.5667\n",
      "Epoch 7/10\n",
      "113/113 [==============================] - 12s 104ms/step - loss: 0.4563 - acc: 0.8570 - val_loss: 20836046854150746771537342234624.0000 - val_acc: 0.7428\n",
      "Epoch 8/10\n",
      "113/113 [==============================] - 12s 106ms/step - loss: 0.3718 - acc: 0.8761 - val_loss: nan - val_acc: 0.8500\n",
      "Epoch 9/10\n",
      "113/113 [==============================] - 12s 104ms/step - loss: 0.3056 - acc: 0.9021 - val_loss: nan - val_acc: 0.7683\n",
      "Epoch 10/10\n",
      "113/113 [==============================] - 12s 105ms/step - loss: 0.2333 - acc: 0.9279 - val_loss: nan - val_acc: 0.6778\n"
     ]
    },
    {
     "data": {
      "text/plain": [
       "<tensorflow.python.keras.callbacks.History at 0x15adcec40>"
      ]
     },
     "execution_count": 36,
     "metadata": {},
     "output_type": "execute_result"
    }
   ],
   "source": [
    "model.fit(X_train, y_train, epochs=10,\n",
    "          batch_size=64, validation_split=.2)"
   ]
  },
  {
   "cell_type": "code",
   "execution_count": null,
   "id": "fef5dc84",
   "metadata": {},
   "outputs": [],
   "source": []
  },
  {
   "cell_type": "code",
   "execution_count": null,
   "id": "0dfe6382",
   "metadata": {},
   "outputs": [],
   "source": []
  },
  {
   "cell_type": "markdown",
   "id": "2f3e4647",
   "metadata": {
    "ExecuteTime": {
     "end_time": "2021-04-15T22:24:56.295503Z",
     "start_time": "2021-04-15T22:24:56.293178Z"
    }
   },
   "source": [
    "## 2.2 Otro modelo"
   ]
  },
  {
   "cell_type": "code",
   "execution_count": null,
   "id": "b17741f0",
   "metadata": {
    "ExecuteTime": {
     "end_time": "2021-04-15T22:51:23.717390Z",
     "start_time": "2021-04-15T22:51:23.694517Z"
    }
   },
   "outputs": [],
   "source": [
    "from sklearn.model_selection import train_test_split\n",
    "\n",
    "train_df, validate_df = train_test_split(target_df,\n",
    "                                         test_size=0.20,\n",
    "                                         random_state=42)"
   ]
  },
  {
   "cell_type": "code",
   "execution_count": null,
   "id": "e72b67c0",
   "metadata": {
    "ExecuteTime": {
     "end_time": "2021-04-15T22:51:35.244736Z",
     "start_time": "2021-04-15T22:51:35.241758Z"
    }
   },
   "outputs": [],
   "source": [
    "# Parámetros ImageDataGenerator\n",
    "train_datagen = ImageDataGenerator(rescale = 1./255.)\n",
    "validation_datagen = ImageDataGenerator(rescale = 1.0/255.)"
   ]
  },
  {
   "cell_type": "code",
   "execution_count": null,
   "id": "edd6cba8",
   "metadata": {
    "ExecuteTime": {
     "end_time": "2021-04-15T22:51:46.583586Z",
     "start_time": "2021-04-15T22:51:46.526122Z"
    }
   },
   "outputs": [],
   "source": [
    "# Flow training images in batches of 20 using train_datagen generator\n",
    "train_generator = train_datagen.flow_from_dataframe(train_df,\n",
    "                                                    train_path,\n",
    "                                                    x_col='archivo',\n",
    "                                                    y_col='target',\n",
    "                                                    batch_size=32,\n",
    "                                                    class_mode='categorical',\n",
    "                                                    target_size=(50, 50),\n",
    "                                                    color_mode='grayscale')\n",
    "\n",
    "# Flow training images in batches of 20 using train_datagen generator\n",
    "validation_generator = validation_datagen.flow_from_dataframe(validate_df,\n",
    "                                                    train_path,\n",
    "                                                    x_col='archivo',\n",
    "                                                    y_col='target',\n",
    "                                                    batch_size=32,\n",
    "                                                    class_mode='categorical',\n",
    "                                                    target_size=(50, 50),\n",
    "                                                    color_mode='grayscale')"
   ]
  },
  {
   "cell_type": "code",
   "execution_count": null,
   "id": "2b2ef4e7",
   "metadata": {
    "ExecuteTime": {
     "end_time": "2021-04-15T22:53:49.725556Z",
     "start_time": "2021-04-15T22:53:49.447699Z"
    }
   },
   "outputs": [],
   "source": [
    "from tensorflow.keras.applications.vgg16 import VGG16\n",
    "\n",
    "base_model = VGG16(input_shape=(50, 50, 3),\n",
    "                   include_top=False,\n",
    "                   weights='imagenet')\n",
    "\n",
    "for layer in base_model.layers:\n",
    "    layer.trainable = False\n",
    "\n",
    "# Podemos acceder a cada layer.    \n",
    "\n",
    "##### FULLY CONNECTED LAYER #####\n",
    "# Flatten the output layer to 1 dimension\n",
    "x = Flatten()(base_model.output)\n",
    "\n",
    "# Add a fully connected layer with 512 hidden units and ReLU activation\n",
    "x = Dense(512, activation='relu')(x)\n",
    "\n",
    "# Add a dropout rate of 0.5\n",
    "x = Dropout(0.5)(x)\n",
    "\n",
    "# Add a final sigmoid layer for classification\n",
    "x = Dense(1, activation='sigmoid')(x)\n",
    "\n",
    "model = tf.keras.models.Model(base_model.input, x)"
   ]
  },
  {
   "cell_type": "code",
   "execution_count": null,
   "id": "aa85ab28",
   "metadata": {
    "ExecuteTime": {
     "end_time": "2021-04-15T22:54:12.886320Z",
     "start_time": "2021-04-15T22:54:12.592060Z"
    }
   },
   "outputs": [],
   "source": [
    "model.fit(train_generator,\n",
    "          epochs=5,\n",
    "          batch_size=20)"
   ]
  },
  {
   "cell_type": "markdown",
   "id": "0cc209df",
   "metadata": {},
   "source": [
    "## 3. Predicción y test"
   ]
  },
  {
   "cell_type": "code",
   "execution_count": 41,
   "id": "ec21d3bc",
   "metadata": {
    "ExecuteTime": {
     "end_time": "2021-04-16T07:56:11.604653Z",
     "start_time": "2021-04-16T07:56:10.812905Z"
    }
   },
   "outputs": [],
   "source": [
    "imagenes_test = []\n",
    "filenames_test = os.listdir(test_path)\n",
    "\n",
    "for img in os.listdir(test_path):\n",
    "    image = imread(test_path + img)\n",
    "    smallimage = cv2.resize(image, (75, 75))\n",
    "    smallimage = smallimage / 255.\n",
    "    imagenes_test.append(smallimage)"
   ]
  },
  {
   "cell_type": "code",
   "execution_count": 42,
   "id": "ace0b8b7",
   "metadata": {
    "ExecuteTime": {
     "end_time": "2021-04-16T07:56:29.086570Z",
     "start_time": "2021-04-16T07:56:29.028882Z"
    },
    "scrolled": true
   },
   "outputs": [],
   "source": [
    "X_test = np.array(imagenes_test)"
   ]
  },
  {
   "cell_type": "code",
   "execution_count": 43,
   "id": "7ed3cbd6",
   "metadata": {
    "ExecuteTime": {
     "end_time": "2021-04-16T07:56:46.267507Z",
     "start_time": "2021-04-16T07:56:46.265723Z"
    }
   },
   "outputs": [
    {
     "data": {
      "text/plain": [
       "(1150, 75, 75, 3)"
      ]
     },
     "execution_count": 43,
     "metadata": {},
     "output_type": "execute_result"
    }
   ],
   "source": [
    "X_test.shape"
   ]
  },
  {
   "cell_type": "code",
   "execution_count": 54,
   "id": "1dd17d2f",
   "metadata": {
    "ExecuteTime": {
     "end_time": "2021-04-16T08:01:27.906780Z",
     "start_time": "2021-04-16T08:01:27.363634Z"
    }
   },
   "outputs": [],
   "source": [
    "predictions = model.predict(X_test)"
   ]
  },
  {
   "cell_type": "code",
   "execution_count": 55,
   "id": "271fb07f",
   "metadata": {
    "ExecuteTime": {
     "end_time": "2021-04-16T08:01:45.093354Z",
     "start_time": "2021-04-16T08:01:45.091586Z"
    }
   },
   "outputs": [
    {
     "data": {
      "text/plain": [
       "(1150, 29)"
      ]
     },
     "execution_count": 55,
     "metadata": {},
     "output_type": "execute_result"
    }
   ],
   "source": [
    "predictions.shape"
   ]
  },
  {
   "cell_type": "markdown",
   "id": "5b0b19a8",
   "metadata": {},
   "source": [
    "## 4. Exportación sample"
   ]
  },
  {
   "cell_type": "code",
   "execution_count": 75,
   "id": "7bd8a495",
   "metadata": {
    "ExecuteTime": {
     "end_time": "2021-04-16T08:19:14.298078Z",
     "start_time": "2021-04-16T08:19:14.289848Z"
    }
   },
   "outputs": [],
   "source": [
    "max_val = []\n",
    "\n",
    "for i in range(len(predictions)):\n",
    "    val = np.argmax(predictions[i])\n",
    "    max_val.append(val)"
   ]
  },
  {
   "cell_type": "code",
   "execution_count": 81,
   "id": "312566a0",
   "metadata": {
    "ExecuteTime": {
     "end_time": "2021-04-16T08:24:22.582364Z",
     "start_time": "2021-04-16T08:24:22.551520Z"
    }
   },
   "outputs": [],
   "source": [
    "true_values = []\n",
    "\n",
    "for i in max_val:\n",
    "    for v in labels_int['target_int']:\n",
    "        if i == v:\n",
    "            true_values.append(labels_int['target'][v])"
   ]
  },
  {
   "cell_type": "code",
   "execution_count": 85,
   "id": "70195d49",
   "metadata": {
    "ExecuteTime": {
     "end_time": "2021-04-16T08:25:54.076710Z",
     "start_time": "2021-04-16T08:25:54.068576Z"
    }
   },
   "outputs": [],
   "source": [
    "df_submission = pd.DataFrame({'archivo': filenames_test,\n",
    "                            'target':true_values})"
   ]
  },
  {
   "cell_type": "code",
   "execution_count": 88,
   "id": "b7481949",
   "metadata": {
    "ExecuteTime": {
     "end_time": "2021-04-16T08:26:54.209715Z",
     "start_time": "2021-04-16T08:26:54.199712Z"
    }
   },
   "outputs": [],
   "source": [
    "df_submission.to_csv('submission_1.csv', index=False)"
   ]
  },
  {
   "cell_type": "code",
   "execution_count": null,
   "id": "6547d63b",
   "metadata": {},
   "outputs": [],
   "source": []
  },
  {
   "cell_type": "code",
   "execution_count": null,
   "id": "c5436d9d",
   "metadata": {},
   "outputs": [],
   "source": []
  }
 ],
 "metadata": {
  "kernelspec": {
   "display_name": "Python 3",
   "language": "python",
   "name": "python3"
  },
  "language_info": {
   "codemirror_mode": {
    "name": "ipython",
    "version": 3
   },
   "file_extension": ".py",
   "mimetype": "text/x-python",
   "name": "python",
   "nbconvert_exporter": "python",
   "pygments_lexer": "ipython3",
   "version": "3.8.8"
  },
  "toc": {
   "base_numbering": 1,
   "nav_menu": {},
   "number_sections": false,
   "sideBar": true,
   "skip_h1_title": false,
   "title_cell": "Table of Contents",
   "title_sidebar": "Contents",
   "toc_cell": false,
   "toc_position": {},
   "toc_section_display": true,
   "toc_window_display": false
  },
  "varInspector": {
   "cols": {
    "lenName": 16,
    "lenType": 16,
    "lenVar": 40
   },
   "kernels_config": {
    "python": {
     "delete_cmd_postfix": "",
     "delete_cmd_prefix": "del ",
     "library": "var_list.py",
     "varRefreshCmd": "print(var_dic_list())"
    },
    "r": {
     "delete_cmd_postfix": ") ",
     "delete_cmd_prefix": "rm(",
     "library": "var_list.r",
     "varRefreshCmd": "cat(var_dic_list()) "
    }
   },
   "types_to_exclude": [
    "module",
    "function",
    "builtin_function_or_method",
    "instance",
    "_Feature"
   ],
   "window_display": false
  }
 },
 "nbformat": 4,
 "nbformat_minor": 5
}
