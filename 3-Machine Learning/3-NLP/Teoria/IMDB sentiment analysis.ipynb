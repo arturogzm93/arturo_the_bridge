{
 "cells": [
  {
   "cell_type": "markdown",
   "metadata": {},
   "source": [
    "# IMDB Sentiment Analysis\n",
    "\n",
    "The data is split evenly with 25k reviews intended for training and 25k for testing your classifier. Moreover, each set has 12.5k positive and 12.5k negative reviews.\n",
    "\n",
    "IMDb lets users rate movies on a scale from 1 to 10. To label these reviews the curator of the data labeled anything with ≤ 4 stars as negative and anything with ≥ 7 stars as positive. Reviews with 5 or 6 stars were left out.\n",
    "\n",
    "**Import the required libraries**"
   ]
  },
  {
   "cell_type": "code",
   "execution_count": 28,
   "metadata": {},
   "outputs": [],
   "source": [
    "import numpy as np\n",
    "import pandas as pd\n",
    "import os\n",
    "import re\n",
    "import warnings\n",
    "warnings.filterwarnings(\"ignore\")"
   ]
  },
  {
   "cell_type": "markdown",
   "metadata": {},
   "source": [
    "**Load Data**"
   ]
  },
  {
   "cell_type": "code",
   "execution_count": 2,
   "metadata": {},
   "outputs": [],
   "source": [
    "reviews_train = []\n",
    "for line in open('data/full_train.txt', 'r', encoding='latin1'):\n",
    "    \n",
    "    reviews_train.append(line.strip())\n",
    "    \n",
    "reviews_test = []\n",
    "for line in open('data/full_test.txt', 'r', encoding='latin1'):\n",
    "    \n",
    "    reviews_test.append(line.strip())"
   ]
  },
  {
   "cell_type": "markdown",
   "metadata": {},
   "source": [
    "**See one of the elements in the list**"
   ]
  },
  {
   "cell_type": "code",
   "execution_count": 4,
   "metadata": {},
   "outputs": [
    {
     "output_type": "stream",
     "name": "stdout",
     "text": [
      "25000\n25000\n"
     ]
    },
    {
     "output_type": "execute_result",
     "data": {
      "text/plain": [
       "['Bromwell High is a cartoon comedy. It ran at the same time as some other programs about school life, such as \"Teachers\". My 35 years in the teaching profession lead me to believe that Bromwell High\\'s satire is much closer to reality than is \"Teachers\". The scramble to survive financially, the insightful students who can see right through their pathetic teachers\\' pomp, the pettiness of the whole situation, all remind me of the schools I knew and their students. When I saw the episode in which a student repeatedly tried to burn down the school, I immediately recalled ......... at .......... High. A classic line: INSPECTOR: I\\'m here to sack one of your teachers. STUDENT: Welcome to Bromwell High. I expect that many adults of my age think that Bromwell High is far fetched. What a pity that it isn\\'t!',\n",
       " 'Homelessness (or Houselessness as George Carlin stated) has been an issue for years but never a plan to help those on the street that were once considered human who did everything from going to school, work, or vote for the matter. Most people think of the homeless as just a lost cause while worrying about things such as racism, the war on Iraq, pressuring kids to succeed, technology, the elections, inflation, or worrying if they\\'ll be next to end up on the streets.<br /><br />But what if you were given a bet to live on the streets for a month without the luxuries you once had from a home, the entertainment sets, a bathroom, pictures on the wall, a computer, and everything you once treasure to see what it\\'s like to be homeless? That is Goddard Bolt\\'s lesson.<br /><br />Mel Brooks (who directs) who stars as Bolt plays a rich man who has everything in the world until deciding to make a bet with a sissy rival (Jeffery Tambor) to see if he can live in the streets for thirty days without the luxuries; if Bolt succeeds, he can do what he wants with a future project of making more buildings. The bet\\'s on where Bolt is thrown on the street with a bracelet on his leg to monitor his every move where he can\\'t step off the sidewalk. He\\'s given the nickname Pepto by a vagrant after it\\'s written on his forehead where Bolt meets other characters including a woman by the name of Molly (Lesley Ann Warren) an ex-dancer who got divorce before losing her home, and her pals Sailor (Howard Morris) and Fumes (Teddy Wilson) who are already used to the streets. They\\'re survivors. Bolt isn\\'t. He\\'s not used to reaching mutual agreements like he once did when being rich where it\\'s fight or flight, kill or be killed.<br /><br />While the love connection between Molly and Bolt wasn\\'t necessary to plot, I found \"Life Stinks\" to be one of Mel Brooks\\' observant films where prior to being a comedy, it shows a tender side compared to his slapstick work such as Blazing Saddles, Young Frankenstein, or Spaceballs for the matter, to show what it\\'s like having something valuable before losing it the next day or on the other hand making a stupid bet like all rich people do when they don\\'t know what to do with their money. Maybe they should give it to the homeless instead of using it like Monopoly money.<br /><br />Or maybe this film will inspire you to help others.']"
      ]
     },
     "metadata": {},
     "execution_count": 4
    }
   ],
   "source": [
    "print(len(reviews_train))\n",
    "print(len(reviews_test))\n",
    "\n",
    "reviews_train[:2]"
   ]
  },
  {
   "cell_type": "markdown",
   "metadata": {},
   "source": [
    "The raw text is pretty messy for these reviews so before we can do any analytics we need to clean things up\n",
    "\n",
    "\n",
    "**Use Regular expressions to remove the non text characters, and the html tags**"
   ]
  },
  {
   "cell_type": "code",
   "execution_count": 5,
   "metadata": {},
   "outputs": [],
   "source": [
    "import re\n",
    "\n",
    "REPLACE_NO_SPACE = re.compile(\"(\\.)|(\\;)|(\\:)|(\\!)|(\\?)|(\\,)|(\\\")|(\\()|(\\))|(\\[)|(\\])|(\\d+)\")\n",
    "REPLACE_WITH_SPACE = re.compile(\"(<br\\s*/><br\\s*/>)|(\\-)|(\\/)\")\n",
    "NO_SPACE = \"\"\n",
    "SPACE = \" \"\n",
    "\n",
    "def preprocess_reviews(reviews):\n",
    "    \n",
    "    reviews = [REPLACE_NO_SPACE.sub(NO_SPACE, line.lower()) for line in reviews]\n",
    "    reviews = [REPLACE_WITH_SPACE.sub(SPACE, line) for line in reviews]\n",
    "    \n",
    "    return reviews\n",
    "\n",
    "reviews_train_clean = preprocess_reviews(reviews_train)\n",
    "reviews_test_clean = preprocess_reviews(reviews_test)"
   ]
  },
  {
   "cell_type": "code",
   "execution_count": 6,
   "metadata": {},
   "outputs": [
    {
     "output_type": "execute_result",
     "data": {
      "text/plain": [
       "\"this isn't the comedic robin williams nor is it the quirky insane robin williams of recent thriller fame this is a hybrid of the classic drama without over dramatization mixed with robin's new love of the thriller but this isn't a thriller per se this is more a mystery suspense vehicle through which williams attempts to locate a sick boy and his keeper also starring sandra oh and rory culkin this suspense drama plays pretty much like a news report until william's character gets close to achieving his goal i must say that i was highly entertained though this movie fails to teach guide inspect or amuse it felt more like i was watching a guy williams as he was actually performing the actions from a third person perspective in other words it felt real and i was able to subscribe to the premise of the story all in all it's worth a watch though it's definitely not friday saturday night fare it rates a   from the fiend \""
      ]
     },
     "metadata": {},
     "execution_count": 6
    }
   ],
   "source": [
    "reviews_train_clean[5]"
   ]
  },
  {
   "cell_type": "markdown",
   "metadata": {},
   "source": [
    "# Vectorization\n",
    "In order for this data to make sense to our machine learning algorithm we’ll need to convert each review to a numeric representation, which we call vectorization.\n",
    "\n",
    "The simplest form of this is to create one very large matrix with one column for every unique word in your corpus (where the corpus is all 50k reviews in our case). Then we transform each review into one row containing 0s and 1s, where 1 means that the word in the corpus corresponding to that column appears in that review. That being said, each row of the matrix will be very sparse (mostly zeros). This process is also known as one hot encoding. Use the *CountVectorizer* method."
   ]
  },
  {
   "cell_type": "code",
   "execution_count": 9,
   "metadata": {},
   "outputs": [],
   "source": [
    "from sklearn.feature_extraction.text import CountVectorizer\n",
    "\n",
    "baseline_vectorizer = CountVectorizer(binary=True)\n",
    "baseline_vectorizer.fit(reviews_train_clean)\n",
    "\n",
    "X_baseline = baseline_vectorizer.transform(reviews_train_clean)\n",
    "X_test_baseline = baseline_vectorizer.transform(reviews_test_clean)"
   ]
  },
  {
   "cell_type": "code",
   "execution_count": 12,
   "metadata": {},
   "outputs": [
    {
     "output_type": "stream",
     "name": "stdout",
     "text": [
      "(25000, 87063)\n"
     ]
    },
    {
     "output_type": "execute_result",
     "data": {
      "text/plain": [
       "<25000x87063 sparse matrix of type '<class 'numpy.int64'>'\n",
       "\twith 3410713 stored elements in Compressed Sparse Row format>"
      ]
     },
     "metadata": {},
     "execution_count": 12
    }
   ],
   "source": [
    "print(X_baseline.shape)\n",
    "baseline_vectorizer.vocabulary_\n",
    "X_baseline"
   ]
  },
  {
   "cell_type": "code",
   "execution_count": 13,
   "metadata": {},
   "outputs": [
    {
     "output_type": "stream",
     "name": "stdout",
     "text": [
      "(25000, 87063)\n"
     ]
    }
   ],
   "source": [
    "vectorizer_c = CountVectorizer()\n",
    "vectorizer_c.fit(reviews_train_clean)\n",
    "\n",
    "X_baseline_c = vectorizer_c.transform(reviews_train_clean)\n",
    "print(X_baseline.shape)"
   ]
  },
  {
   "cell_type": "code",
   "execution_count": 14,
   "metadata": {
    "tags": [
     "outputPrepend"
    ]
   },
   "outputs": [
    {
     "output_type": "stream",
     "name": "stdout",
     "text": [
      "man', 'wolfpack', 'wolfs', 'wolfstein', 'wolfy', 'wolhiem', 'wolitzer', 'wolliaston', 'wollter', 'wolske', 'wolskewho', 'wolsky', 'wolverine', 'wolverineis', 'wolverines', 'wolverinethen', 'wolverinish', 'wolves', 'wolvie', 'womack', 'woman', 'womancampbell', 'womanfor', 'womanhood', 'womani', 'womaniser', 'womanises', 'womanising', 'womanize', 'womanizer', 'womanizing', 'womanjoki', 'womankate', 'womanly', 'womanmost', 'womanness', 'womano', 'womanplayed', 'womans', 'womanthe', 'womanwatch', 'womanwealth', 'womanwho', 'womanâ', 'womb', 'wombat', 'women', 'womenactuallyhe', 'womenalsothe', 'womenbach', 'womenfolk', 'womenrespectively', 'womens', 'womensarah', 'womenthe', 'womenthen', 'womenthey', 'womenthis', 'womenwho', 'womenâ', 'womman', 'won', 'wonand', 'wonder', 'wonderat', 'wonderbooki', 'wondered', 'wonderedcould', 'wonderfalls', 'wonderful', 'wonderfuli', 'wonderfulit', 'wonderfull', 'wonderfully', 'wonderfullyas', 'wonderfullygary', 'wonderfullythat', 'wonderfulthe', 'wonderfulthere', 'wonderhigh', 'wonderi', 'wondering', 'wonderis', 'wonderland', 'wonderley', 'wonderment', 'wonderous', 'wonderously', 'wonders', 'wonderspeaking', 'wondrous', 'wondrously', 'wong', 'wongo', 'wongundergoes', 'wonk', 'wonka', 'wonky', 'wonman', 'wont', 'wonâ', 'woo', 'wood', 'woodard', 'woodardor', 'woodardwhoopi', 'woodbury', 'woodchipper', 'woodchuck', 'woodcourt', 'woodcraft', 'woodcuts', 'wooded', 'wooden', 'woodeness', 'woodenhead', 'woodenly', 'woodenness', 'woodfin', 'woodgrain', 'woodhouse', 'woodhousei', 'woodie', 'woodify', 'woodland', 'woodlanders', 'woodlands', 'woodley', 'woodman', 'woodmobile', 'woodpecker', 'woodrell', 'woodrow', 'woods', 'woodsalice', 'woodsalone', 'woodsball', 'woodsby', 'woodshe', 'woodsilver', 'woodsman', 'woodsmen', 'woodsthe', 'woodstock', 'woodswhen', 'woodsy', 'woodsyou', 'woodthorpe', 'woodward', 'woodwaterflowersrocksetcto', 'woodwithout', 'woodwork', 'woodworking', 'woodworks', 'woodworm', 'woody', 'woodythese', 'wooed', 'woof', 'wooferit', 'woofter', 'woog', 'wooh', 'woohoo', 'wooing', 'wook', 'wookie', 'wookies', 'wool', 'wooley', 'woolf', 'woolgathering', 'woolly', 'woolnough', 'woolrich', 'woolsey', 'woolworths', 'wooly', 'woom', 'wooofff', 'wooohooo', 'woooooo', 'wooooooooohhhh', 'woooooosaaaaaah', 'woooooow', 'woopa', 'woopi', 'woopie', 'woops', 'woorter', 'woos', 'wooshâ', 'wooster', 'woot', 'wooww', 'woozy', 'wopat', 'wopr', 'word', 'wordamateurish', 'wordamazing', 'worded', 'worden', 'wordi', 'wordiness', 'wording', 'wordings', 'wordless', 'wordly', 'wordpathetic', 'wordplay', 'wordright', 'words', 'words_', 'wordsand', 'wordsflat', 'wordsin', 'wordsmith', 'wordsorry', 'wordsperfect', 'wordsthe', 'wordsthis', 'wordthere', 'wordwhat', 'wordy', 'wordâ', 'wore', 'worei', 'woreit', 'worest', 'worf', 'worhol', 'work', 'workable', 'workaday', 'workaholic', 'workaholics', 'workand', 'workanother', 'workbut', 'workcontaining', 'workcount', 'workday', 'workdays', 'worked', 'workedits', 'workedjack', 'worker', 'workers', 'workersthe', 'workforce', 'workforces', 'workgroup', 'workhorse', 'workhouse', 'workhousei', 'workin', 'working', 'workingman', 'workingoh', 'workings', 'workit', 'workjust', 'worklex', 'worklike', 'workload', 'workman', 'workmanlike', 'workmanship', 'workmate', 'workmates', 'workmen', 'workno', 'workout', 'workouts', 'workpart', 'workplace', 'workpretty', 'workprint', 'workravens', 'works', 'worksdelivers', 'worksgloria', 'workshop', 'workshopping', 'workshops', 'worksits', 'workssome', 'worksthat', 'worksthe', 'worktiempo', 'workweeks', 'workwhere', 'workwhich', 'workzombiebeyondgates', 'workâ', 'world', 'worldand', 'worldas', 'worldat', 'worldbut', 'worlde', 'worlderrneighborhood', 'worlders', 'worldfest', 'worldhell', 'worldhow', 'worldi', 'worldjohnsoncheadlea', 'worldlier', 'worldliness', 'worldly', 'worldomg', 'worldor', 'worldpalance', 'worldrevolving', 'worlds', 'worldsand', 'worldshe', 'worldthe', 'worldto', 'worlduntil', 'worldview', 'worldviews', 'worldwide', 'worldy', 'worldyou', 'worldâ', 'worls', 'worm', 'wormed', 'wormhole', 'wormholes', 'worms', 'wormsand', 'wormtong', 'wormwood', 'wormy', 'worn', 'woronov', 'woronow', 'worried', 'worriedly', 'worries', 'worringly', 'worrisome', 'worry', 'worrying', 'worryingly', 'worse', 'worsea', 'worsealthough', 'worseand', 'worseat', 'worsebut', 'worseexcepting', 'worsei', 'worsein', 'worsel', 'worsen', 'worsened', 'worsenothing', 'worsens', 'worseour', 'worser', 'worsesomewhere', 'worsethe', 'worseâ', 'worship', 'worshiped', 'worshiper', 'worshipers', 'worshipful', 'worshiping', 'worshipped', 'worshippers', 'worshipping', 'worships', 'worsle', 'worst', 'worstand', 'worstbecause', 'worsti', 'worstit', 'worstjigsaw', 'worstsince', 'worstwellreally', 'wort', 'worth', 'worthin', 'worthiness', 'worthing', 'worthless', 'worthlessness', 'worths', 'worthwhile', 'worthy', 'worzel', 'woth', 'wotw', 'wouk', 'would', 'woulda', 'wouldhave', 'wouldi', 'wouldn', 'wouldno', 'wouldnt', 'wouldnâ', 'wouldve', 'wouln', 'woulnd', 'wound', 'wounded', 'wounder', 'wounderfull', 'wounding', 'woundings', 'wounds', 'woundsand', 'woundsknife', 'wournow', 'wouters', 'wove', 'woven', 'wow', 'wowed', 'wowi', 'wowif', 'wowing', 'wowjust', 'wowok', 'wows', 'wowser', 'wowsers', 'wowsheer', 'wowspeechless', 'wowthat', 'wowthis', 'wowwell', 'wowwhat', 'wowwhere', 'wowwwwww', 'wowyou', 'wowzers', 'wowzors', 'woywood', 'wozzeck', 'wpix', 'wqasn', 'wr', 'wrack', 'wracked', 'wracking', 'wrackingly', 'wraith', 'wraiths', 'wrangle', 'wrangled', 'wrangler', 'wranglers', 'wrangles', 'wrangling', 'wrap', 'wraparound', 'wrapped', 'wrapper', 'wrapping', 'wraps', 'wrassle', 'wrath', 'wrathful', 'wrathmy', 'wray', 'wrayalso', 'wreak', 'wreaked', 'wreaking', 'wreaks', 'wreath', 'wreathed', 'wreck', 'wreckage', 'wrecked', 'wrecker', 'wrecking', 'wrecks', 'wrede', 'wren', 'wrench', 'wrenched', 'wrenches', 'wrenching', 'wrenchingly', 'wrenchmuller', 'wrest', 'wrested', 'wresting', 'wrestle', 'wrestled', 'wrestlemania', 'wrestlemanias', 'wrestler', 'wrestlers', 'wrestles', 'wrestling', 'wrestlings', 'wretch', 'wretched', 'wretchedly', 'wretchedness', 'wretches', 'wriggling', 'wright', 'wrightly', 'wrightman', 'wrights', 'wring', 'wringer', 'wringing', 'wrings', 'wrinkle', 'wrinkled', 'wrinkler', 'wrinkles', 'wrinklies', 'wrinkling', 'wrinkly', 'wrinklyold', 'wrist', 'wristbands', 'wristed', 'wrists', 'wristwatch', 'writ', 'write', 'writen', 'writer', 'writerbecause', 'writeri', 'writernot', 'writers', 'writersand', 'writersi', 'writerssomeone', 'writersâ', 'writerthe', 'writes', 'writeup', 'writhe', 'writhed', 'writhes', 'writhing', 'writing', 'writingafter', 'writingalso', 'writingbut', 'writinghe', 'writingof', 'writings', 'writingthe', 'writr', 'written', 'writtendirectedfilmededited', 'writtenmaking', 'writtenonto', 'writtenthe', 'writter', 'wrong', 'wrongand', 'wrongdoing', 'wrongdoings', 'wronged', 'wrongfrom', 'wrongful', 'wrongfully', 'wronggggnot', 'wronghe', 'wrongheaded', 'wrongi', 'wrongly', 'wrongno', 'wrongor', 'wrongs', 'wrongsocrap', 'wrongthe', 'wrongthey', 'wrongthis', 'wrongthose', 'wrongvery', 'wrongwell', 'wrongâ', 'wrost', 'wrote', 'wroth', 'wroting', 'wrought', 'wrrrooonnnnggg', 'wrung', 'wry', 'wryly', 'wryness', 'ws', 'wsarnoit', 'wsj', 'wsnipes', 'wso', 'wt', 'wtaf', 'wtc', 'wtf', 'wtfsome', 'wth', 'wtn', 'wtse', 'wu', 'wud', 'wufei', 'wufeii', 'wuhl', 'wuhrer', 'wuhrertakes', 'wui', 'wumaster', 'wunderbar', 'wunderkind', 'wunderkinds', 'wung', 'wuornos', 'wurb', 'wurlitzer', 'wurly', 'wurman', 'wurth', 'wurzburg', 'wusa', 'wushu', 'wuss', 'wusses', 'wussies', 'wussy', 'wust', 'wuthering', 'wuxia', 'wuxie', 'wuzzes', 'wv', 'wvs', 'ww', 'wwe', 'wwewcwuswa', 'wwf', 'wwi', 'wwii', 'wwiiâ', 'wwith', 'wwwaaaaayyyyy', 'wwwafrovideoorg', 'wwwangelfirecom', 'wwwarchambaultca', 'wwwarchiveorg', 'wwwbleed', 'wwwceiorg', 'wwwcherryredcouk', 'wwwcinemablendcom', 'wwwdvdbeavercom', 'wwwdvdtalkcom', 'wwwf', 'wwwfilmcowcom', 'wwwfreedomofmindcom', 'wwwgeocitiescom', 'wwwgitwisterscom', 'wwwgutenbergorg', 'wwwhappierabroadcom', 'wwwhbocom', 'wwwhorrormoviejournalblogspotcom', 'wwwhorroryearbookcom', 'wwwhowdoilooknycorg', 'wwwimdbcom', 'wwwimperialflagsblogspotcom', 'wwwintuitorcom', 'wwwinvocusnet', 'wwwjohntoppingcom', 'wwwjoseiturbicom', 'wwwkennyhotzcom', 'wwwlanuitrwandaisenet', 'wwwlove', 'wwwloveearthcom', 'wwwlovetrapmoviecom', 'wwwmikeandvickicom', 'wwwmjyoungnet', 'wwwmybluraycomau', 'wwwmyspacecom', 'wwwnixflixcom', 'wwwpetitiononlinecom', 'wwwpoffysmoviemaniacom', 'wwwreelorg', 'wwwreplaydvdcouk', 'wwwresidenthazardcom', 'wwwsoftfordiggingcom', 'wwwspatulamadnesscom', 'wwwtccandlercom', 'wwwthehollywoodnewscom', 'wwwtheindependentcom', 'wwwthenewamericancom', 'wwwtvru', 'wwwwhhhyyyyyyy', 'wwwwoooooohhhhhhoooooooo', 'wwwwwwwaaaaaaaaaaaayyyyyyyyyyy', 'wwwyoutubecom', 'wyat', 'wyatt', 'wyeth', 'wyke', 'wyld', 'wyle', 'wyler', 'wylergeorges', 'wylie', 'wyllie', 'wyman', 'wymer', 'wymore', 'wyne', 'wyngarde', 'wynn', 'wynnand', 'wynona', 'wynorski', 'wyoming', 'xanadu', 'xander', 'xavier', 'xbox', 'xd', 'xena', 'xenomorphs', 'xenophobe', 'xenophobia', 'xenophobic', 'xenos', 'xer', 'xerox', 'xeroxing', 'xi', 'xia', 'xian', 'xiao', 'xica', 'xico', 'ximenes', 'xine', 'xiong', 'xiv', 'xizao', 'xizhao', 'xk', 'xlr', 'xmas', 'xmen', 'xo', 'xp', 'xpbut', 'xperiment', 'xplanation', 'xplosiv', 'xs', 'xtase', 'xtian', 'xtianity', 'xtians', 'xtravaganza', 'xtreme', 'xtro', 'xu', 'xunless', 'xv', 'xvi', 'xvichiasergo', 'xvid', 'xvii', 'xx', 'xxe', 'xxl', 'xxth', 'xxx', 'xxxxviii', 'xy', 'xylons', 'xylophone', 'xylophonist', 'xyx', 'xyz', 'xzptdtphwdm', 'xâ', 'ya', 'yaaa', 'yaaaaaaaaaaaaaawwwwwwwwwwwwwwwwwnnnnnnnnnnnnn', 'yaaawwnnn', 'yaaay', 'yaara', 'yaarana', 'yaaranastrangely', 'yaargh', 'yaarrrghhh', 'yaayyyyy', 'yabba', 'yablans', 'yaburi', 'yacca', 'yacht', 'yachting', 'yachts', 'yack', 'yackin', 'yada', 'yadahowever', 'yadav', 'yadavparesh', 'yadda', 'yager', 'yah', 'yahoo', 'yahoocom', 'yahoos', 'yahweh', 'yaitanes', 'yaitate', 'yak', 'yakima', 'yakin', 'yakitate', 'yakking', 'yakkity', 'yakmallah', 'yaks', 'yakusho', 'yakusyo', 'yakuza', 'yakuzas', 'yale', 'yali', 'yall', 'yalom', 'yalu', 'yam', 'yama', 'yamada', 'yamadera', 'yamaguchi', 'yamaha', 'yamamoto', 'yamamura', 'yamasaki', 'yamasato', 'yamashiro', 'yamashita', 'yami', 'yamika', 'yammering', 'yan', 'yancey', 'yancy', 'yang', 'yaniss', 'yank', 'yanked', 'yankee', 'yankees', 'yankies', 'yanking', 'yankland', 'yankovic', 'yankovich', 'yanks', 'yannis', 'yanno', 'yanos', 'yanquis', 'yao', 'yaoi', 'yaowwww', 'yapfest', 'yaphet', 'yapping', 'yappy', 'yaqui', 'yar', 'yara', 'yard', 'yardeveryone', 'yarding', 'yardley', 'yards', 'yardsale', 'yardstick', 'yarn', 'yarns', 'yas', 'yasbeck', 'yaser', 'yash', 'yasha', 'yashere', 'yashiro', 'yashpal', 'yashraj', 'yasince', 'yasmin', 'yasminda', 'yasmine', 'yasnaya', 'yasoumi', 'yasujiro', 'yasumi', 'yasushi', 'yasutake', 'yasuzo', 'yasuzu', 'yat', 'yates', 'yau', 'yauman', 'yawahada', 'yawk', 'yawn', 'yawnaroony', 'yawned', 'yawner', 'yawneroony', 'yawnfest', 'yawning', 'yawns', 'yawws', 'yay', 'yayand', 'yazaki', 'yb', 'yc', 'yds', 'ye', 'yea', 'yeaaah', 'yeager', 'yeah', 'yeaha', 'yeahfocus', 'yeahhey', 'yeahi', 'yeahit', 'yeahrightlike', 'yeahsure', 'yeahthat', 'yeahthe', 'yeahâ', 'year', 'yearalthough', 'yearand', 'yearattack', 'yearbig', 'yearbook', 'yearbut', 'yeardeliberately', 'yeardley', 'yearhe', 'yeari', 'yearight', 'yearit', 'yearlast', 'yearlet', 'yearling', 'yearly', 'yearm', 'yearmust', 'yearn', 'yearned', 'yearning', 'yearnings', 'yearno', 'yearnot', 'yearnowin', 'yearns', 'years', 'yearsand', 'yearsbut', 'yearsdisappears', 'yearsexcellent', 'yearsi', 'yearsincluding', 'yearsit', 'yearsomebody', 'yearsomg', 'yearsout', 'yearssinatra', 'yearssounds', 'yearsthe', 'yearsthere', 'yearsto', 'yearsunderdog', 'yearsure', 'yearswell', 'yearthat', 'yearthe', 'yearthere', 'yearthis', 'yearâ', 'yeast', 'yeasty', 'yeats', 'yeaworth', 'yeccch', 'yecch', 'yecchy', 'yech', 'yee', 'yeeeeaaaaahhhhhhhhh', 'yeeeowch', 'yeesh', 'yeeshhhhhhhhhhhhhhhhh', 'yegg', 'yeh', 'yehuda', 'yehweh', 'yeiks', 'yelchin', 'yelena', 'yell', 'yella', 'yelled', 'yeller', 'yelli', 'yellin', 'yelling', 'yello', 'yellow', 'yellower', 'yellowing', 'yellowish', 'yellows', 'yellowstone', 'yells', 'yelnats', 'yelp', 'yemen', 'yen', 'yentl', 'yeo', 'yeoh', 'yeoman', 'yeon', 'yeop', 'yeow', 'yep', 'yer', 'yes', 'yesbut', 'yesdisco', 'yeseven', 'yesfor', 'yeshua', 'yesi', 'yesilcam', 'yesits', 'yesreally', 'yesser', 'yester', 'yesterday', 'yesterdayi', 'yesterdayon', 'yesterdays', 'yesteryear', 'yesteryears', 'yesthe', 'yesthen', 'yesthey', 'yesthis', 'yeswe', 'yesyou', 'yesâ', 'yet', 'yetand', 'yetdon', 'yethoping', 'yeti', 'yetians', 'yetin', 'yetis', 'yetit', 'yetperhaps', 'yetthe', 'yetthough', 'yettrust', 'yetwasn', 'yetâ', 'yeun', 'yeung', 'yeux', 'yevgeni', 'yevgeniya', 'yew', 'yewbenighted', 'yey', 'yez', 'yi', 'yiannis', 'yicky', 'yiddish', 'yidische', 'yield', 'yielded', 'yielding', 'yields', 'yiiii', 'yikes', 'yilmaz', 'yimou', 'yin', 'ying', 'yip', 'yipe', 'yipee', 'yippee', 'yippeeee', 'yips', 'yitzhack', 'yj', 'yk', 'ylva', 'ymca', 'yna', 'yo', 'yoakam', 'yoakum', 'yobs', 'yochobel', 'yoda', 'yodel', 'yodeller', 'yodelling', 'yoe', 'yog', 'yoga', 'yoghurt', 'yogi', 'yograj', 'yogurt', 'yoing', 'yoji', 'yojimbo', 'yojiro', 'yokai', 'yoke', 'yokel', 'yokels', 'yokhai', 'yokia', 'yoko', 'yokozuna', 'yolanda', 'yolande', 'yolonda', 'yolu', 'yomada', 'yomiuri', 'yon', 'yonder', 'yonekura', 'yonfan', 'yong', 'yonica', 'yoo', 'yoon', 'yootha', 'yor', 'yore', 'yorga', 'yorgos', 'yori', 'yorick', 'york', 'yorke', 'yorker', 'yorkers', 'yorkersand', 'yorkfaye', 'yorki', 'yorkjust', 'yorks', 'yorkshire', 'yosemite', 'yoshi', 'yoshiaki', 'yoshida', 'yoshimura', 'yoshinaga', 'yoshinoya', 'yoshio', 'yoshitsune', 'yoshitsuneis', 'yoshiwara', 'yoshiyuki', 'yosi', 'yosimite', 'yossarian', 'yossi', 'you', 'you_', 'youa', 'youalien', 'youand', 'youbela', 'youbut', 'youbye', 'youcause', 'youcome', 'youe', 'youenjoy', 'youespecially', 'youever', 'youfirst', 'yougary', 'yougoslavia', 'youhe', 'youi', 'youif', 'youin', 'youindia', 'youit', 'youji', 'youjoe', 'youki', 'youknowwhat', 'yould', 'youll', 'yound', 'younes', 'young', 'younga', 'youngaddressing', 'youngberries', 'youngberry', 'youngblood', 'younger', 'youngers', 'youngest', 'youngestâ', 'youngforever', 'youngis', 'youngish', 'youngit', 'younglings', 'youngman', 'youngness', 'youngon', 'youngs', 'youngsimon', 'youngster', 'youngsters', 'youngstersand', 'youngstown', 'youngunknown', 'youno', 'youone', 'your', 'youre', 'yourent', 'yours', 'yourself', 'yourselfisn', 'yourselflistento', 'yourselfthis', 'yourselfwhatever', 'yourselfyoung', 'yourselfâ', 'yourselves', 'yourselvesi', 'yoursnot', 'yoursthen', 'yous', 'yousef', 'youseff', 'youso', 'youssef', 'youssou', 'youth', 'youthbringing', 'youthere', 'youthful', 'youthfully', 'youthfulness', 'youthis', 'youths', 'youthsand', 'youththis', 'youthwhile', 'youtube', 'youtubecom', 'youuuu', 'youv', 'youwhy', 'youwhywhywhywhywhy', 'youwith', 'youyou', 'youâ', 'yowlachie', 'yowling', 'yowsa', 'yowza', 'yoyo', 'yr', 'yrds', 'yrigoyens', 'yrs', 'yt', 'ythere', 'yu', 'yuan', 'yuasa', 'yuba', 'yubari', 'yubb', 'yucca', 'yuck', 'yucky', 'yudai', 'yue', 'yuen', 'yuggoslavia', 'yugi', 'yugo', 'yugonostalgic', 'yugoslav', 'yugoslavia', 'yugoslaviadeath', 'yugoslavian', 'yui', 'yuji', 'yuk', 'yukfest', 'yuki', 'yukio', 'yukking', 'yuko', 'yukon', 'yuks', 'yul', 'yule', 'yuletide', 'yulin', 'yum', 'yuma', 'yumi', 'yumiko', 'yummm', 'yummy', 'yun', 'yung', 'yuoki', 'yup', 'yuppie', 'yuppies', 'yuppy', 'yurek', 'yussef', 'yustory', 'yutte', 'yuunagi', 'yuwen', 'yuy', 'yuzna', 'yuzo', 'yvaine', 'yvan', 'yvelines', 'yves', 'yvette', 'yvon', 'yvone', 'yvonne', 'yvonnemegan', 'ywca', 'yã', 'za', 'zaara', 'zaat', 'zabalza', 'zabar', 'zabihi', 'zabrinskie', 'zabriski', 'zabriskie', 'zac', 'zacarã', 'zacatecas', 'zach', 'zacharias', 'zachary', 'zachhe', 'zack', 'zadora', 'zafoid', 'zaftig', 'zag', 'zagreb', 'zagros', 'zaire', 'zaitochi', 'zaitung', 'zak', 'zakariadzesofiko', 'zaku', 'zaljko', 'zalman', 'zam', 'zamaane', 'zameen', 'zamprogna', 'zan', 'zanatos', 'zandalee', 'zandt', 'zane', 'zanebilly', 'zanelynnemonkeybone', 'zanes', 'zanethe', 'zang', 'zaniacs', 'zaniness', 'zanjeer', 'zann', 'zannetti', 'zanni', 'zannuck', 'zano', 'zant', 'zanta', 'zantara', 'zanuck', 'zany', 'zanzeer', 'zap', 'zapar', 'zapata', 'zapatti', 'zapdos', 'zaphod', 'zaphoid', 'zaping', 'zapp', 'zappa', 'zappati', 'zapped', 'zapper', 'zapping', 'zappruder', 'zapruder', 'zaps', 'zara', 'zarabeth', 'zaragoza', 'zarah', 'zarchi', 'zardine', 'zardkuh', 'zardoz', 'zariwala', 'zaroff', 'zaroffs', 'zarustica', 'zasu', 'zat', 'zatoichi', 'zatã', 'zavaleta', 'zavattini', 'zavet', 'zay', 'zaz', 'zazu', 'zb', 'zd', 'zdenek', 'ze', 'zeal', 'zealand', 'zealander', 'zealanders', 'zealands', 'zealnd', 'zealot', 'zealots', 'zealous', 'zealousness', 'zeb', 'zebbedy', 'zebra', 'zebraman', 'zebras', 'zecchino', 'zechs', 'zed', 'zeder', 'zedora', 'zee', 'zeek', 'zeenat', 'zeferelli', 'zefferelli', 'zeffirelli', 'zeffrelli', 'zefram', 'zegers', 'zeitgeist', 'zeke', 'zelah', 'zeland', 'zelda', 'zelenka', 'zeleznice', 'zelig', 'zelina', 'zelinas', 'zell', 'zellerbach', 'zellweger', 'zelniker', 'zem', 'zeman', 'zeme', 'zemeckis', 'zemen', 'zen', 'zena', 'zenda', 'zenderland', 'zenia', 'zenigata', 'zenith', 'zenobia', 'zenon', 'zentropa', 'zeon', 'zeons', 'zephram', 'zeppelin', 'zeppelins', 'zeppo', 'zerelda', 'zerifferelli', 'zering', 'zerneck', 'zero', 'zeroand', 'zeroes', 'zeroing', 'zeroness', 'zeroni', 'zest', 'zestful', 'zesty', 'zeta', 'zeus', 'zeze', 'zfl', 'zhang', 'zhao', 'zheeee', 'zhen', 'zhestokij', 'zhi', 'zhibek', 'zhigang', 'zhivago', 'zhivago_', 'zhongwen', 'zhou', 'zhu', 'zhuangzhuang', 'zhuis', 'zhukov', 'zhuzh', 'zhv', 'zi', 'ziab', 'ziabar', 'ziba', 'ziegfeld', 'ziegfield', 'ziegler', 'zieglers', 'ziering', 'zifferedi', 'zig', 'zigfield', 'ziggy', 'zigzag', 'zigzaggy', 'zilch', 'zilcho', 'ziller', 'zillion', 'zillionaire', 'zillions', 'ziltch', 'zim', 'zima', 'ziman', 'zimbabwe', 'zimbalist', 'zimmer', 'zimmerframe', 'zimmerman', 'zimmermann', 'zina', 'zine', 'zinemann', 'zing', 'zinger', 'zingers', 'zink', 'zinn', 'zinnemann', 'zinta', 'zion', 'zionism', 'zionist', 'zip', 'ziploc', 'zipped', 'zipper', 'zippers', 'zippier', 'zipping', 'zippo', 'zippy', 'zips', 'zir', 'zira', 'zirconia', 'zis', 'zit', 'zita', 'zither', 'ziti', 'ziv', 'ziva', 'zivagho', 'ziyi', 'zizek', 'zizekian', 'zizola', 'zizte', 'zmed', 'zmeu', 'znaimer', 'zo', 'zobie', 'zod', 'zodiac', 'zodsworth', 'zoe', 'zoetrope', 'zoey', 'zohar', 'zoheb', 'zohra', 'zoimbies', 'zoinks', 'zola', 'zoloft', 'zoltan', 'zom', 'zombi', 'zombie', 'zombied', 'zombiefest', 'zombiefication', 'zombiefied', 'zombielike', 'zombies', 'zombiescodeveronica', 'zombiescould', 'zombieshaolin', 'zombieshow', 'zombiesin', 'zombiesnightmare', 'zombiesâ', 'zombiez', 'zombification', 'zombified', 'zombs', 'zomcom', 'zomcoms', 'zomcon', 'zomedy', 'zomerhitte', 'zomezing', 'zomg', 'zone', 'zoned', 'zones', 'zoneswe', 'zonfeld', 'zonked', 'zoo', 'zooey', 'zoolander', 'zoological', 'zoologist', 'zoology', 'zoom', 'zoomed', 'zooming', 'zooms', 'zoos', 'zoot', 'zorak', 'zoran', 'zorba', 'zords', 'zorich', 'zorie', 'zorrilla', 'zorro', 'zorrohell', 'zorrolastbut', 'zouganelis', 'zouzou', 'zowee', 'zoã', 'zp', 'zsa', 'zschering', 'zsigmond', 'zu', 'zubeidaa', 'zucchini', 'zucco', 'zuccopreparing', 'zucker', 'zuckerman', 'zuckers', 'zucovic', 'zues', 'zuf', 'zugsmith', 'zukhov', 'zukicks', 'zukor', 'zukovic', 'zulu', 'zuluagain', 'zulus', 'zumhofe', 'zungia', 'zuni', 'zuniga', 'zunz', 'zurich', 'zuthe', 'zuwarriors', 'zuzz', 'zvezda', 'zvonimir', 'zvyagvatsev', 'zwartboek', 'zwick', 'zwrite', 'zx', 'zy', 'zyada', 'zyuranger', 'zz', 'zzzz', 'zzzzz', 'zzzzzzzz', 'zzzzzzzzzzzzzzzzzzzzzzzzzzzzzzz', 'zzzzzzzzzzzzzzzzzzzzzzzzzzzzzzzzzzzzzzzzz', 'zzzzzzzzzzzzzzzzzzzzzzzzzzzzzzzzzzzzzzzzzzzz', 'zã', 'â½', 'â½th', 'â¾', 'ã¼ber']\n"
     ]
    }
   ],
   "source": [
    "print(vectorizer_c.get_feature_names())"
   ]
  },
  {
   "cell_type": "markdown",
   "metadata": {},
   "source": [
    "# Train a Baseline Model\n",
    "\n",
    "Train a Logistic Regression model after transforming the data with CountVectorized\n",
    "\n",
    "* They’re easy to interpret\n",
    "* Linear models tend to perform well on sparse datasets like this one\n",
    "* They learn very fast compared to other algorithms.\n",
    "\n",
    "Test models with C values of [0.01, 0.05, 0.25, 0.5, 1] and see wich is the best value for C, and calculate the accuracy"
   ]
  },
  {
   "cell_type": "code",
   "execution_count": 15,
   "metadata": {},
   "outputs": [],
   "source": [
    "from sklearn.linear_model import LogisticRegression\n",
    "from sklearn.metrics import accuracy_score\n",
    "from sklearn.model_selection import train_test_split\n",
    "from sklearn.model_selection import GridSearchCV\n",
    "\n",
    "target = [1 if i < 12500 else 0 for i in range(25000)]\n",
    "\n",
    "def train_model(X_TRAIN, X_TEST):\n",
    "    lr = LogisticRegression()\n",
    "\n",
    "    params = {\n",
    "        'C': [0.01, 0.05, 1.25, 0.5, 1]\n",
    "    }\n",
    "\n",
    "    grid = GridSearchCV(lr, params, cv=5)\n",
    "    grid.fit(X_TRAIN, target)\n",
    "\n",
    "    print('Final accuracy: %s' % accuracy_score(target, grid.best_estimator_.predict(X_TEST)))"
   ]
  },
  {
   "cell_type": "code",
   "execution_count": 29,
   "metadata": {},
   "outputs": [
    {
     "output_type": "stream",
     "name": "stdout",
     "text": [
      "Final accuracy: 0.88188\n"
     ]
    }
   ],
   "source": [
    "train_model(X_baseline, X_test_baseline)"
   ]
  },
  {
   "cell_type": "markdown",
   "metadata": {},
   "source": [
    "# Remove Stop Words\n",
    "\n",
    "Stop words are the very common words like ‘if’, ‘but’, ‘we’, ‘he’, ‘she’, and ‘they’. We can usually remove these words without changing the semantics of a text and doing so often (but not always) improves the performance of a model. Removing these stop words becomes a lot more useful when we start using longer word sequences as model features (see n-grams below).\n",
    "\n",
    "Before we apply the CountVectorized, lets remove the stopwords, included in nltk.corpus\n",
    "\n",
    "Then apply the CountVectorizer, and train the Logistic regression model and obtain the accuracy."
   ]
  },
  {
   "cell_type": "code",
   "execution_count": 19,
   "metadata": {},
   "outputs": [
    {
     "output_type": "stream",
     "name": "stderr",
     "text": [
      "[nltk_data] Downloading package stopwords to\n[nltk_data]     C:\\Users\\artur\\AppData\\Roaming\\nltk_data...\n[nltk_data]   Package stopwords is already up-to-date!\n"
     ]
    },
    {
     "output_type": "execute_result",
     "data": {
      "text/plain": [
       "True"
      ]
     },
     "metadata": {},
     "execution_count": 19
    }
   ],
   "source": [
    "# !pip install nltk\n",
    "import nltk\n",
    "\n",
    "nltk.download('stopwords')"
   ]
  },
  {
   "cell_type": "code",
   "execution_count": 20,
   "metadata": {},
   "outputs": [
    {
     "output_type": "execute_result",
     "data": {
      "text/plain": [
       "['i', 'me', 'my', 'myself', 'we', 'our', 'ours', 'ourselves', 'you', \"you're\"]"
      ]
     },
     "metadata": {},
     "execution_count": 20
    }
   ],
   "source": [
    "from nltk.corpus import stopwords\n",
    "\n",
    "stopwords.words('english')[:10]"
   ]
  },
  {
   "cell_type": "code",
   "execution_count": 22,
   "metadata": {},
   "outputs": [
    {
     "output_type": "execute_result",
     "data": {
      "text/plain": [
       "['de',\n",
       " 'la',\n",
       " 'que',\n",
       " 'el',\n",
       " 'en',\n",
       " 'y',\n",
       " 'a',\n",
       " 'los',\n",
       " 'del',\n",
       " 'se',\n",
       " 'las',\n",
       " 'por',\n",
       " 'un',\n",
       " 'para',\n",
       " 'con',\n",
       " 'no',\n",
       " 'una',\n",
       " 'su',\n",
       " 'al',\n",
       " 'lo',\n",
       " 'como',\n",
       " 'más',\n",
       " 'pero',\n",
       " 'sus',\n",
       " 'le',\n",
       " 'ya',\n",
       " 'o',\n",
       " 'este',\n",
       " 'sí',\n",
       " 'porque']"
      ]
     },
     "metadata": {},
     "execution_count": 22
    }
   ],
   "source": [
    "stopwords.words('spanish')[:30]"
   ]
  },
  {
   "cell_type": "code",
   "execution_count": 23,
   "metadata": {},
   "outputs": [
    {
     "output_type": "stream",
     "name": "stdout",
     "text": [
      "179\n313\n"
     ]
    }
   ],
   "source": [
    "print(len(stopwords.words('english')))\n",
    "print(len(stopwords.words('spanish')))"
   ]
  },
  {
   "cell_type": "code",
   "execution_count": 24,
   "metadata": {},
   "outputs": [],
   "source": [
    "from nltk.corpus import stopwords\n",
    "\n",
    "english_stop_words = stopwords.words('english')\n",
    "def remove_stop_words(corpus):\n",
    "    removed_stop_words = []\n",
    "    for review in corpus:\n",
    "        \n",
    "        # Para cada review elimina las stopwords, y separa todas las palabras por espacio\n",
    "        removed_stop_words.append(\n",
    "            ' '.join([word for word in review.split() \n",
    "                      if word not in english_stop_words])\n",
    "        )\n",
    "    return removed_stop_words\n",
    "\n",
    "no_stop_words_train = remove_stop_words(reviews_train_clean)\n",
    "no_stop_words_test = remove_stop_words(reviews_test_clean)"
   ]
  },
  {
   "cell_type": "code",
   "execution_count": 26,
   "metadata": {},
   "outputs": [
    {
     "output_type": "stream",
     "name": "stdout",
     "text": [
      "Bromwell High is a cartoon comedy. It ran at the same time as some other programs about school life, such as \"Teachers\". My 35 years in the teaching profession lead me to believe that Bromwell High's satire is much closer to reality than is \"Teachers\". The scramble to survive financially, the insightful students who can see right through their pathetic teachers' pomp, the pettiness of the whole situation, all remind me of the schools I knew and their students. When I saw the episode in which a student repeatedly tried to burn down the school, I immediately recalled ......... at .......... High. A classic line: INSPECTOR: I'm here to sack one of your teachers. STUDENT: Welcome to Bromwell High. I expect that many adults of my age think that Bromwell High is far fetched. What a pity that it isn't!\n\nbromwell high is a cartoon comedy it ran at the same time as some other programs about school life such as teachers my  years in the teaching profession lead me to believe that bromwell high's satire is much closer to reality than is teachers the scramble to survive financially the insightful students who can see right through their pathetic teachers' pomp the pettiness of the whole situation all remind me of the schools i knew and their students when i saw the episode in which a student repeatedly tried to burn down the school i immediately recalled  at  high a classic line inspector i'm here to sack one of your teachers student welcome to bromwell high i expect that many adults of my age think that bromwell high is far fetched what a pity that it isn't\n\nbromwell high cartoon comedy ran time programs school life teachers years teaching profession lead believe bromwell high's satire much closer reality teachers scramble survive financially insightful students see right pathetic teachers' pomp pettiness whole situation remind schools knew students saw episode student repeatedly tried burn school immediately recalled high classic line inspector i'm sack one teachers student welcome bromwell high expect many adults age think bromwell high far fetched pity\n"
     ]
    }
   ],
   "source": [
    "print(reviews_train[0])\n",
    "print()\n",
    "print(reviews_train_clean[0])\n",
    "print()\n",
    "print(no_stop_words_train[0])"
   ]
  },
  {
   "cell_type": "code",
   "execution_count": 30,
   "metadata": {},
   "outputs": [
    {
     "output_type": "stream",
     "name": "stdout",
     "text": [
      "Final accuracy: 0.87936\n"
     ]
    }
   ],
   "source": [
    "cv = CountVectorizer(binary=True)\n",
    "cv.fit(no_stop_words_train)\n",
    "\n",
    "X = cv.transform(no_stop_words_train)\n",
    "\n",
    "X_test = cv.transform(no_stop_words_test)\n",
    "\n",
    "train_model(X, X_test)"
   ]
  },
  {
   "cell_type": "code",
   "execution_count": 31,
   "metadata": {},
   "outputs": [
    {
     "output_type": "stream",
     "name": "stdout",
     "text": [
      "(25000, 87063)\n(25000, 87046)\nStop words eliminadas: 17\n"
     ]
    }
   ],
   "source": [
    "print(X_baseline.shape)\n",
    "print(X.shape)\n",
    "print(\"Stop words eliminadas:\", X_baseline.shape[1] - X.shape[1])"
   ]
  },
  {
   "cell_type": "code",
   "execution_count": null,
   "metadata": {},
   "outputs": [],
   "source": [
    "cv = CountVectorizer(binary=True, stop_words=english_stop_words)\n",
    "\n",
    "cv.fit(reviews_train_clean)\n",
    "\n",
    "X = cv.transform(reviews_train_clean)\n",
    "X_test = cv.transform(reviews_test_clean)\n",
    "\n",
    "train_model(X, X_test)"
   ]
  },
  {
   "cell_type": "code",
   "execution_count": null,
   "metadata": {},
   "outputs": [],
   "source": [
    "print(X_baseline.shape)\n",
    "print(X.shape)\n",
    "print(\"Stop words eliminadas:\", X_baseline.shape[1] - X.shape[1])"
   ]
  },
  {
   "cell_type": "markdown",
   "metadata": {},
   "source": [
    "**Note:** In practice, an easier way to remove stop words is to just use the stop_words argument with any of scikit-learn’s ‘Vectorizer’ classes. If you want to use NLTK’s full list of stop words you can do stop_words='english’. In practice I’ve found that using NLTK’s list actually decreases my performance because its too expansive, so I usually supply my own list of words. For example, stop_words=['in','of','at','a','the'] ."
   ]
  },
  {
   "cell_type": "markdown",
   "metadata": {},
   "source": [
    "A common next step in text preprocessing is to normalize the words in your corpus by trying to convert all of the different forms of a given word into one. Two methods that exist for this are Stemming and Lemmatization.\n",
    "\n",
    "# Stemming\n",
    "\n",
    "Stemming is considered to be the more crude/brute-force approach to normalization (although this doesn’t necessarily mean that it will perform worse). There’s several algorithms, but in general they all use basic rules to chop off the ends of words.\n",
    "\n",
    "NLTK has several stemming algorithm implementations. We’ll use the Porter stemmer. Most used:\n",
    "* PorterStemmer\n",
    "* SnowballStemmer\n",
    "\n",
    "Apply a PoterStemmer, vectorize, and train the model again"
   ]
  },
  {
   "cell_type": "code",
   "execution_count": 33,
   "metadata": {},
   "outputs": [
    {
     "output_type": "stream",
     "name": "stdout",
     "text": [
      "caress fli die mule deni die agre own humbl size meet state siez item sensat tradit refer colon plot\n"
     ]
    }
   ],
   "source": [
    "from nltk.stem.porter import PorterStemmer\n",
    "\n",
    "stemmer = PorterStemmer()\n",
    "\n",
    "plurals = ['caresses', 'flies', 'dies', 'mules', 'denied',\n",
    "            'died', 'agreed', 'owned', 'humbled', 'sized',\n",
    "            'meeting', 'stating', 'siezing', 'itemization',\n",
    "            'sensational', 'traditional', 'reference', 'colonizer',\n",
    "            'plotted']\n",
    "\n",
    "singles = [stemmer.stem(i) for i in plurals]\n",
    "\n",
    "print(' '.join(singles))"
   ]
  },
  {
   "cell_type": "code",
   "execution_count": 34,
   "metadata": {},
   "outputs": [
    {
     "output_type": "stream",
     "name": "stdout",
     "text": [
      "caress fli die mule deni die agre own humbl size meet state siez item sensat tradit refer colon plot\n"
     ]
    }
   ],
   "source": [
    "from nltk.stem.snowball import SnowballStemmer\n",
    "\n",
    "stemmer = SnowballStemmer('english')\n",
    "\n",
    "plurals = ['caresses', 'flies', 'dies', 'mules', 'denied',\n",
    "            'died', 'agreed', 'owned', 'humbled', 'sized',\n",
    "            'meeting', 'stating', 'siezing', 'itemization',\n",
    "            'sensational', 'traditional', 'reference', 'colonizer',\n",
    "            'plotted']\n",
    "            \n",
    "singles = [stemmer.stem(plural) for plural in plurals]\n",
    "\n",
    "print(' '.join(singles))"
   ]
  },
  {
   "cell_type": "code",
   "execution_count": 35,
   "metadata": {},
   "outputs": [
    {
     "output_type": "stream",
     "name": "stdout",
     "text": [
      "corr cas play vol vol volv\n"
     ]
    }
   ],
   "source": [
    "from nltk.stem.snowball import SnowballStemmer\n",
    "\n",
    "stemmer = SnowballStemmer('spanish')\n",
    "\n",
    "plurals = ['corriendo', 'casas', 'playa', 'volando', 'volar', 'volveré']\n",
    "singles = [stemmer.stem(plural) for plural in plurals]\n",
    "\n",
    "print(' '.join(singles))"
   ]
  },
  {
   "cell_type": "code",
   "execution_count": 36,
   "metadata": {},
   "outputs": [
    {
     "output_type": "stream",
     "name": "stdout",
     "text": [
      "Final accuracy: 0.87736\n"
     ]
    }
   ],
   "source": [
    "def get_stemmed_text(corpus):\n",
    "    stemmer = PorterStemmer()\n",
    "\n",
    "    output = [' '.join([stemmer.stem(word) for word in review.split()]) for review in corpus]\n",
    "\n",
    "    return output\n",
    "\n",
    "stemmed_reviews_train = get_stemmed_text(reviews_train_clean)\n",
    "stemmed_reviews_test = get_stemmed_text(reviews_test_clean)\n",
    "\n",
    "cv = CountVectorizer(binary=True)\n",
    "cv.fit(stemmed_reviews_train)\n",
    "X_stem = cv.transform(stemmed_reviews_train)\n",
    "X_test = cv.transform(stemmed_reviews_test)\n",
    "\n",
    "train_model(X_stem, X_test)"
   ]
  },
  {
   "cell_type": "code",
   "execution_count": 37,
   "metadata": {},
   "outputs": [
    {
     "output_type": "stream",
     "name": "stdout",
     "text": [
      "(25000, 87063)\n(25000, 66852)\nDiff X normal y X tras stemmer y vectorización: 20211\n"
     ]
    }
   ],
   "source": [
    "print(X_baseline.shape)\n",
    "print(X_stem.shape)\n",
    "print(\"Diff X normal y X tras stemmer y vectorización:\", X_baseline.shape[1] - X_stem.shape[1])"
   ]
  },
  {
   "cell_type": "markdown",
   "metadata": {},
   "source": [
    "# Lemmatization\n",
    "\n",
    "Lemmatization works by identifying the part-of-speech of a given word and then applying more complex rules to transform the word into its true root."
   ]
  },
  {
   "cell_type": "code",
   "execution_count": 39,
   "metadata": {},
   "outputs": [
    {
     "output_type": "stream",
     "name": "stderr",
     "text": [
      "[nltk_data] Downloading package wordnet to\n[nltk_data]     C:\\Users\\artur\\AppData\\Roaming\\nltk_data...\n[nltk_data]   Package wordnet is already up-to-date!\n"
     ]
    },
    {
     "output_type": "execute_result",
     "data": {
      "text/plain": [
       "True"
      ]
     },
     "metadata": {},
     "execution_count": 39
    }
   ],
   "source": [
    "'''\n",
    "Para lematizacion en español: pip install es-lemmatizer\n",
    "'''\n",
    "nltk.download('wordnet')"
   ]
  },
  {
   "cell_type": "code",
   "execution_count": 40,
   "metadata": {},
   "outputs": [
    {
     "output_type": "stream",
     "name": "stdout",
     "text": [
      "caress fly dy mule study died agreed owned humbled sized meeting stating siezing itemization sensational traditional reference colonizer plotted\n"
     ]
    }
   ],
   "source": [
    "from nltk.stem import WordNetLemmatizer\n",
    "\n",
    "lemmatizer = WordNetLemmatizer()\n",
    "\n",
    "plurals = ['caresses', 'flies', 'dies', 'mules', 'studies',\n",
    "            'died', 'agreed', 'owned', 'humbled', 'sized',\n",
    "            'meeting', 'stating', 'siezing', 'itemization',\n",
    "            'sensational', 'traditional', 'reference', 'colonizer',\n",
    "            'plotted']\n",
    "            \n",
    "singles = [lemmatizer.lemmatize(plural) for plural in plurals]\n",
    "\n",
    "print(' '.join(singles))"
   ]
  },
  {
   "cell_type": "code",
   "execution_count": 41,
   "metadata": {},
   "outputs": [
    {
     "output_type": "stream",
     "name": "stdout",
     "text": [
      "Final accuracy: 0.87956\n"
     ]
    }
   ],
   "source": [
    "def get_lemmatized_text(corpus):\n",
    "    \n",
    "    from nltk.stem import WordNetLemmatizer\n",
    "    lemmatizer = WordNetLemmatizer()\n",
    "    return [' '.join([lemmatizer.lemmatize(word) for word in review.split()]) for review in corpus]\n",
    "\n",
    "# Lematizamos las reviews\n",
    "lemmatized_reviews_train = get_lemmatized_text(reviews_train_clean)\n",
    "lemmatized_reviews_test = get_lemmatized_text(reviews_test_clean)\n",
    "\n",
    "# Vectorizamos con conteo tras lematizar\n",
    "cv = CountVectorizer(binary=True)\n",
    "cv.fit(lemmatized_reviews_train)\n",
    "X = cv.transform(lemmatized_reviews_train)\n",
    "X_test = cv.transform(lemmatized_reviews_test)\n",
    "\n",
    "train_model(X, X_test)"
   ]
  },
  {
   "cell_type": "code",
   "execution_count": 42,
   "metadata": {},
   "outputs": [
    {
     "output_type": "stream",
     "name": "stdout",
     "text": [
      "(25000, 87063)\n(25000, 80326)\nDiff X normal y X tras lematizador y vectorización: 6737\n"
     ]
    }
   ],
   "source": [
    "print(X_baseline.shape)\n",
    "print(X.shape)\n",
    "print(\"Diff X normal y X tras lematizador y vectorización:\", X_baseline.shape[1] - X.shape[1])"
   ]
  },
  {
   "cell_type": "markdown",
   "metadata": {},
   "source": [
    "# n-grams\n",
    "\n",
    "We can potentially add more predictive power to our model by adding two or three word sequences (bigrams or trigrams) as well. For example, if a review had the three word sequence “didn’t love movie” we would only consider these words individually with a unigram-only model and probably not capture that this is actually a negative sentiment because the word ‘love’ by itself is going to be highly correlated with a positive review.\n",
    "\n",
    "The scikit-learn library makes this really easy to play around with. Just use the ngram_range argument with any of the ‘Vectorizer’ classes."
   ]
  },
  {
   "cell_type": "code",
   "execution_count": 44,
   "metadata": {},
   "outputs": [
    {
     "output_type": "stream",
     "name": "stdout",
     "text": [
      "('this', 'is')\n('is', 'too')\n('too', 'far')\n###############\n('this', 'is', 'too')\n('is', 'too', 'far')\n[[1 1 1 1 1 1 1 1 1]]\n9\n"
     ]
    }
   ],
   "source": [
    "from nltk import ngrams\n",
    "\n",
    "sentence = 'this is too far'\n",
    "\n",
    "two = ngrams(sentence.split(), 2)\n",
    "three = ngrams(sentence.split(), 3)\n",
    "\n",
    "for grams in two:\n",
    "  print(grams)\n",
    "  \n",
    "print('###############')\n",
    "\n",
    "for grams in three:\n",
    "  print(grams)\n",
    "\n",
    "ngram_vectorizer = CountVectorizer(binary=True, ngram_range=(1, 3))\n",
    "\n",
    "vector = ngram_vectorizer.fit_transform([sentence]).toarray()\n",
    "print(vector)\n",
    "print(len(vector[0]))"
   ]
  },
  {
   "cell_type": "code",
   "execution_count": 45,
   "metadata": {},
   "outputs": [
    {
     "output_type": "stream",
     "name": "stdout",
     "text": [
      "Final accuracy: 0.88896\n"
     ]
    }
   ],
   "source": [
    "ngram_vectorizer = CountVectorizer(binary=True, stop_words=english_stop_words, ngram_range=(1, 2))\n",
    "\n",
    "ngram_vectorizer.fit(reviews_train_clean)\n",
    "\n",
    "X = ngram_vectorizer.transform(reviews_train_clean)\n",
    "X_test = ngram_vectorizer.transform(reviews_test_clean)\n",
    "\n",
    "train_model(X, X_test)"
   ]
  },
  {
   "cell_type": "code",
   "execution_count": 46,
   "metadata": {},
   "outputs": [
    {
     "output_type": "stream",
     "name": "stdout",
     "text": [
      "(25000, 87063)\n(25000, 1865232)\nDiff X normal y X tras lematizador y vectorización: -1778169\n"
     ]
    }
   ],
   "source": [
    "print(X_baseline.shape)\n",
    "print(X.shape)\n",
    "print(\"Diff X normal y X tras lematizador y vectorización:\", X_baseline.shape[1] - X.shape[1])"
   ]
  },
  {
   "cell_type": "markdown",
   "metadata": {},
   "source": [
    "# TF-IDF\n",
    "\n",
    "Another common way to represent each document in a corpus is to use the tf-idf statistic (term frequency-inverse document frequency) for each word, which is a weighting factor that we can use in place of binary or word count representations.\n",
    "\n",
    "There are several ways to do tf-idf transformation but in a nutshell, **tf-idf aims to represent the number of times a given word appears in a document (a movie review in our case) relative to the number of documents in the corpus that the word appears in** — where words that appear in many documents have a value closer to zero and words that appear in less documents have values closer to 1.\n",
    "\n",
    "**Note:** Now that we’ve gone over n-grams, when I refer to ‘words’ I really mean any n-gram (sequence of words) if the model is using an n greater than one."
   ]
  },
  {
   "cell_type": "code",
   "execution_count": 49,
   "metadata": {},
   "outputs": [
    {
     "output_type": "stream",
     "name": "stdout",
     "text": [
      "[1.69314718 1.28768207 1.69314718 1.69314718 1.        ]\n['fat', 'is', 'my', 'name', 'ralph']\n"
     ]
    }
   ],
   "source": [
    "'''\n",
    "1 + log((N + 1) / (df + 1))\n",
    "'''\n",
    "\n",
    "sent1 = 'My name is Ralph'\n",
    "sent2 = 'Ralph is fat'\n",
    "sent3 = 'Ralph'\n",
    "\n",
    "from sklearn.feature_extraction.text import TfidfVectorizer\n",
    "\n",
    "test = TfidfVectorizer()\n",
    "test.fit_transform([sent1, sent2, sent3])\n",
    "print(test.idf_)\n",
    "print(test.get_feature_names())"
   ]
  },
  {
   "cell_type": "code",
   "execution_count": 50,
   "metadata": {},
   "outputs": [
    {
     "output_type": "stream",
     "name": "stdout",
     "text": [
      "Final accuracy: 0.88376\n"
     ]
    }
   ],
   "source": [
    "tfidf_vectorizer = TfidfVectorizer()\n",
    "\n",
    "tfidf_vectorizer.fit(reviews_train_clean)\n",
    "X = tfidf_vectorizer.transform(reviews_train_clean)\n",
    "X_test = tfidf_vectorizer.transform(reviews_test_clean)\n",
    "\n",
    "\n",
    "train_model(X, X_test)"
   ]
  },
  {
   "cell_type": "markdown",
   "metadata": {},
   "source": [
    "# Support Vector Machines (SVM)\n",
    "\n",
    "Recall that linear classifiers tend to work well on very sparse datasets (like the one we have). Another algorithm that can produce great results with a quick training time are Support Vector Machines with a linear kernel.\n",
    "\n",
    "Build a model with an n-gram range from 1 to 2:"
   ]
  },
  {
   "cell_type": "code",
   "execution_count": 52,
   "metadata": {},
   "outputs": [
    {
     "output_type": "stream",
     "name": "stdout",
     "text": [
      "Final accuracy: 0.89768\n"
     ]
    }
   ],
   "source": [
    "from sklearn.feature_extraction.text import CountVectorizer\n",
    "from sklearn.svm import LinearSVC\n",
    "from sklearn.metrics import accuracy_score\n",
    "from sklearn.model_selection import train_test_split\n",
    "\n",
    "# SVM con bigramas\n",
    "ngram_vectorizer = CountVectorizer(binary=True, ngram_range=(1, 2))\n",
    "ngram_vectorizer.fit(reviews_train_clean)\n",
    "X = ngram_vectorizer.transform(reviews_train_clean)\n",
    "X_test = ngram_vectorizer.transform(reviews_test_clean)\n",
    "\n",
    "\n",
    "\n",
    "def train_model_svm(X_TRAIN, X_TEST):\n",
    "    svm = LinearSVC()\n",
    "\n",
    "    params = {\n",
    "        'C': [0.01, 0.05, 1.25, 0.5, 1]\n",
    "    }\n",
    "\n",
    "    grid = GridSearchCV(svm, params, cv=5)\n",
    "    grid.fit(X_TRAIN, target)\n",
    "\n",
    "    print('Final accuracy: %s' % accuracy_score(target, grid.best_estimator_.predict(X_TEST)))\n",
    "    \n",
    "\n",
    "train_model_svm(X, X_test)"
   ]
  },
  {
   "cell_type": "markdown",
   "metadata": {},
   "source": [
    "# Final Model\n",
    "\n",
    "Removing a small set of stop words along with an n-gram range from 1 to 3 and a linear support vector classifier shows the best results."
   ]
  },
  {
   "cell_type": "code",
   "execution_count": 58,
   "metadata": {},
   "outputs": [
    {
     "output_type": "stream",
     "name": "stdout",
     "text": [
      "Final accuracy: 0.90048\n"
     ]
    }
   ],
   "source": [
    "from sklearn.feature_extraction.text import CountVectorizer\n",
    "from sklearn.model_selection import train_test_split\n",
    "from sklearn.metrics import accuracy_score\n",
    "from sklearn.svm import LinearSVC\n",
    "\n",
    "stop_words = ['in', 'of', 'at', 'a', 'the']\n",
    "ngram_vectorizer = CountVectorizer(binary=True, ngram_range=(1, 3), stop_words=stop_words)\n",
    "\n",
    "ngram_vectorizer.fit(reviews_train_clean)\n",
    "X = ngram_vectorizer.transform(reviews_train_clean)\n",
    "X_test = ngram_vectorizer.transform(reviews_test_clean)\n",
    "\n",
    "train_model_svm(X, X_test)"
   ]
  },
  {
   "cell_type": "markdown",
   "metadata": {},
   "source": [
    "# Top Postitive and Negative Features\n",
    "\n",
    "Obtain the most important features of the model."
   ]
  },
  {
   "cell_type": "code",
   "execution_count": 53,
   "metadata": {},
   "outputs": [],
   "source": [
    "cv = CountVectorizer(binary=True)\n",
    "cv.fit(reviews_train_clean)\n",
    "X = cv.transform(reviews_train_clean)\n",
    "log_reg = LogisticRegression(C=0.5)\n",
    "log_reg.fit(X, target)\n",
    "\n",
    "# Montamos un diccionario con palabra -> coeficiente\n",
    "feature_to_coef = {\n",
    "    word: coef for word, coef in zip(\n",
    "        cv.get_feature_names(), log_reg.coef_[0]\n",
    "    )\n",
    "}"
   ]
  },
  {
   "cell_type": "code",
   "execution_count": 56,
   "metadata": {},
   "outputs": [
    {
     "output_type": "stream",
     "name": "stdout",
     "text": [
      "('excellent', 1.379601505780561)\n('refreshing', 1.2806374216124707)\n('perfect', 1.2012612007522496)\n('superb', 1.1357241660871282)\n('appreciated', 1.1339191154140513)\n('wonderfully', 1.1188417932505035)\n('rare', 1.0905178673184064)\n('surprisingly', 1.067388747419645)\n('incredible', 1.0458950454791647)\n('enjoyable', 1.0393834600447407)\n\n###########################################\n\n('worst', -2.0614969453813132)\n('waste', -1.9184173170235908)\n('disappointment', -1.6761904768996008)\n('poorly', -1.6579932684784908)\n('awful', -1.5348355500113027)\n('disappointing', -1.362106053810215)\n('boring', -1.3339611335470245)\n('lacks', -1.3127009529582725)\n('unfunny', -1.2747882420963395)\n('laughable', -1.2741563288429574)\n"
     ]
    }
   ],
   "source": [
    "for best_positive in sorted(feature_to_coef.items(), key=lambda x: x[1], reverse=True)[:10]:\n",
    "    print(best_positive)\n",
    "\n",
    "print()\n",
    "print('###########################################')\n",
    "print()\n",
    "\n",
    "for best_negative in sorted(feature_to_coef.items(), key=lambda x: x[1])[:10]:\n",
    "    print(best_negative)"
   ]
  },
  {
   "cell_type": "code",
   "execution_count": null,
   "metadata": {},
   "outputs": [],
   "source": [
    "from xgboost import XGBClassifier\n",
    "\n",
    "model = XGBClassifier()\n",
    "model.fit(X_train, y_train)\n",
    "\n",
    "print(model)\n",
    "\n",
    "y_pred = model.predict(X_val)\n",
    "\n",
    "accuracy = accuracy_score(y_val, y_pred)\n",
    "print(\"Accuracy: %.2f%%\" % (accuracy * 100.0))\n"
   ]
  }
 ],
 "metadata": {
  "kernelspec": {
   "name": "python385jvsc74a57bd0fc33febecb25bf51ecb9e8745ca02a2d49ab50b5c3e3d57ffb721b0f2206d5d8",
   "display_name": "Python 3.8.5 64-bit (conda)"
  },
  "language_info": {
   "codemirror_mode": {
    "name": "ipython",
    "version": 3
   },
   "file_extension": ".py",
   "mimetype": "text/x-python",
   "name": "python",
   "nbconvert_exporter": "python",
   "pygments_lexer": "ipython3",
   "version": "3.8.5-final"
  }
 },
 "nbformat": 4,
 "nbformat_minor": 4
}