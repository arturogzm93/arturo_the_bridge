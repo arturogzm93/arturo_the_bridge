{
 "cells": [
  {
   "cell_type": "code",
   "execution_count": 1,
   "metadata": {
    "ExecuteTime": {
     "end_time": "2021-04-08T19:47:14.536839Z",
     "start_time": "2021-04-08T19:47:14.530990Z"
    }
   },
   "outputs": [],
   "source": [
    "import pandas as pd \n",
    "import os\n",
    "import numpy as np\n",
    "import pandas as pd\n",
    "from sklearn.feature_extraction.text import TfidfVectorizer\n",
    "from sklearn.linear_model import LogisticRegression\n",
    "from sklearn.pipeline import Pipeline\n",
    "from sklearn.model_selection import train_test_split\n",
    "from sklearn.metrics import accuracy_score, confusion_matrix\n",
    "import seaborn as sns\n",
    "from matplotlib import pyplot as plt\n",
    "import re\n",
    "from nltk.corpus import stopwords\n"
   ]
  },
  {
   "cell_type": "code",
   "execution_count": 2,
   "metadata": {
    "ExecuteTime": {
     "end_time": "2021-04-08T20:27:24.105070Z",
     "start_time": "2021-04-08T20:27:24.035182Z"
    }
   },
   "outputs": [],
   "source": [
    "test = pd.read_csv(\"nlp_test.csv\")\n",
    "train = pd.read_csv(\"nlp_train.csv\")"
   ]
  },
  {
   "cell_type": "code",
   "execution_count": 3,
   "metadata": {
    "ExecuteTime": {
     "end_time": "2021-04-08T20:27:24.308514Z",
     "start_time": "2021-04-08T20:27:24.288717Z"
    }
   },
   "outputs": [
    {
     "name": "stdout",
     "output_type": "stream",
     "text": [
      "<class 'pandas.core.frame.DataFrame'>\n",
      "RangeIndex: 5346 entries, 0 to 5345\n",
      "Data columns (total 5 columns):\n",
      " #   Column    Non-Null Count  Dtype \n",
      "---  ------    --------------  ----- \n",
      " 0   id        5346 non-null   int64 \n",
      " 1   keyword   5311 non-null   object\n",
      " 2   location  3590 non-null   object\n",
      " 3   text      5346 non-null   object\n",
      " 4   target    5346 non-null   int64 \n",
      "dtypes: int64(2), object(3)\n",
      "memory usage: 209.0+ KB\n"
     ]
    }
   ],
   "source": [
    "train.info()"
   ]
  },
  {
   "cell_type": "code",
   "execution_count": 4,
   "metadata": {
    "ExecuteTime": {
     "end_time": "2021-04-08T20:27:24.554842Z",
     "start_time": "2021-04-08T20:27:24.539338Z"
    }
   },
   "outputs": [
    {
     "name": "stdout",
     "output_type": "stream",
     "text": [
      "<class 'pandas.core.frame.DataFrame'>\n",
      "RangeIndex: 2267 entries, 0 to 2266\n",
      "Data columns (total 4 columns):\n",
      " #   Column    Non-Null Count  Dtype \n",
      "---  ------    --------------  ----- \n",
      " 0   id        2267 non-null   int64 \n",
      " 1   keyword   2241 non-null   object\n",
      " 2   location  1490 non-null   object\n",
      " 3   text      2267 non-null   object\n",
      "dtypes: int64(1), object(3)\n",
      "memory usage: 71.0+ KB\n"
     ]
    }
   ],
   "source": [
    "test.info()"
   ]
  },
  {
   "cell_type": "code",
   "execution_count": 5,
   "metadata": {
    "ExecuteTime": {
     "end_time": "2021-04-08T20:27:24.743593Z",
     "start_time": "2021-04-08T20:27:24.723565Z"
    },
    "scrolled": true
   },
   "outputs": [
    {
     "data": {
      "text/html": [
       "<div>\n",
       "<style scoped>\n",
       "    .dataframe tbody tr th:only-of-type {\n",
       "        vertical-align: middle;\n",
       "    }\n",
       "\n",
       "    .dataframe tbody tr th {\n",
       "        vertical-align: top;\n",
       "    }\n",
       "\n",
       "    .dataframe thead th {\n",
       "        text-align: right;\n",
       "    }\n",
       "</style>\n",
       "<table border=\"1\" class=\"dataframe\">\n",
       "  <thead>\n",
       "    <tr style=\"text-align: right;\">\n",
       "      <th></th>\n",
       "      <th>keyword</th>\n",
       "      <th>text</th>\n",
       "      <th>target</th>\n",
       "    </tr>\n",
       "  </thead>\n",
       "  <tbody>\n",
       "    <tr>\n",
       "      <th>0</th>\n",
       "      <td>NaN</td>\n",
       "      <td>Our Deeds are the Reason of this #earthquake M...</td>\n",
       "      <td>1</td>\n",
       "    </tr>\n",
       "    <tr>\n",
       "      <th>1</th>\n",
       "      <td>NaN</td>\n",
       "      <td>Forest fire near La Ronge Sask. Canada</td>\n",
       "      <td>1</td>\n",
       "    </tr>\n",
       "    <tr>\n",
       "      <th>2</th>\n",
       "      <td>NaN</td>\n",
       "      <td>All residents asked to 'shelter in place' are ...</td>\n",
       "      <td>1</td>\n",
       "    </tr>\n",
       "    <tr>\n",
       "      <th>3</th>\n",
       "      <td>NaN</td>\n",
       "      <td>#RockyFire Update =&gt; California Hwy. 20 closed...</td>\n",
       "      <td>1</td>\n",
       "    </tr>\n",
       "    <tr>\n",
       "      <th>4</th>\n",
       "      <td>NaN</td>\n",
       "      <td>I'm on top of the hill and I can see a fire in...</td>\n",
       "      <td>1</td>\n",
       "    </tr>\n",
       "    <tr>\n",
       "      <th>5</th>\n",
       "      <td>NaN</td>\n",
       "      <td>Three people died from the heat wave so far</td>\n",
       "      <td>1</td>\n",
       "    </tr>\n",
       "    <tr>\n",
       "      <th>6</th>\n",
       "      <td>NaN</td>\n",
       "      <td>#Flood in Bago Myanmar #We arrived Bago</td>\n",
       "      <td>1</td>\n",
       "    </tr>\n",
       "    <tr>\n",
       "      <th>7</th>\n",
       "      <td>NaN</td>\n",
       "      <td>Damage to school bus on 80 in multi car crash ...</td>\n",
       "      <td>1</td>\n",
       "    </tr>\n",
       "    <tr>\n",
       "      <th>8</th>\n",
       "      <td>NaN</td>\n",
       "      <td>What's up man?</td>\n",
       "      <td>0</td>\n",
       "    </tr>\n",
       "    <tr>\n",
       "      <th>9</th>\n",
       "      <td>NaN</td>\n",
       "      <td>I love fruits</td>\n",
       "      <td>0</td>\n",
       "    </tr>\n",
       "    <tr>\n",
       "      <th>10</th>\n",
       "      <td>NaN</td>\n",
       "      <td>Summer is lovely</td>\n",
       "      <td>0</td>\n",
       "    </tr>\n",
       "    <tr>\n",
       "      <th>11</th>\n",
       "      <td>NaN</td>\n",
       "      <td>My car is so fast</td>\n",
       "      <td>0</td>\n",
       "    </tr>\n",
       "    <tr>\n",
       "      <th>12</th>\n",
       "      <td>NaN</td>\n",
       "      <td>this is ridiculous....</td>\n",
       "      <td>0</td>\n",
       "    </tr>\n",
       "    <tr>\n",
       "      <th>13</th>\n",
       "      <td>NaN</td>\n",
       "      <td>London is cool ;)</td>\n",
       "      <td>0</td>\n",
       "    </tr>\n",
       "    <tr>\n",
       "      <th>14</th>\n",
       "      <td>NaN</td>\n",
       "      <td>Love skiing</td>\n",
       "      <td>0</td>\n",
       "    </tr>\n",
       "    <tr>\n",
       "      <th>15</th>\n",
       "      <td>NaN</td>\n",
       "      <td>What a wonderful day!</td>\n",
       "      <td>0</td>\n",
       "    </tr>\n",
       "    <tr>\n",
       "      <th>16</th>\n",
       "      <td>NaN</td>\n",
       "      <td>Was in NYC last week!</td>\n",
       "      <td>0</td>\n",
       "    </tr>\n",
       "    <tr>\n",
       "      <th>17</th>\n",
       "      <td>NaN</td>\n",
       "      <td>Love my girlfriend</td>\n",
       "      <td>0</td>\n",
       "    </tr>\n",
       "    <tr>\n",
       "      <th>18</th>\n",
       "      <td>NaN</td>\n",
       "      <td>Do you like pasta?</td>\n",
       "      <td>0</td>\n",
       "    </tr>\n",
       "    <tr>\n",
       "      <th>19</th>\n",
       "      <td>ablaze</td>\n",
       "      <td>We always try to bring the heavy. #metal #RT h...</td>\n",
       "      <td>0</td>\n",
       "    </tr>\n",
       "  </tbody>\n",
       "</table>\n",
       "</div>"
      ],
      "text/plain": [
       "   keyword                                               text  target\n",
       "0      NaN  Our Deeds are the Reason of this #earthquake M...       1\n",
       "1      NaN             Forest fire near La Ronge Sask. Canada       1\n",
       "2      NaN  All residents asked to 'shelter in place' are ...       1\n",
       "3      NaN  #RockyFire Update => California Hwy. 20 closed...       1\n",
       "4      NaN  I'm on top of the hill and I can see a fire in...       1\n",
       "5      NaN        Three people died from the heat wave so far       1\n",
       "6      NaN            #Flood in Bago Myanmar #We arrived Bago       1\n",
       "7      NaN  Damage to school bus on 80 in multi car crash ...       1\n",
       "8      NaN                                     What's up man?       0\n",
       "9      NaN                                      I love fruits       0\n",
       "10     NaN                                   Summer is lovely       0\n",
       "11     NaN                                  My car is so fast       0\n",
       "12     NaN                             this is ridiculous....       0\n",
       "13     NaN                                  London is cool ;)       0\n",
       "14     NaN                                        Love skiing       0\n",
       "15     NaN                              What a wonderful day!       0\n",
       "16     NaN                              Was in NYC last week!       0\n",
       "17     NaN                                 Love my girlfriend       0\n",
       "18     NaN                                 Do you like pasta?       0\n",
       "19  ablaze  We always try to bring the heavy. #metal #RT h...       0"
      ]
     },
     "execution_count": 5,
     "metadata": {},
     "output_type": "execute_result"
    }
   ],
   "source": [
    "train_2 = train.drop([\"id\",\"location\"],axis=1)\n",
    "test_2 = test.drop([\"location\"],axis=1)\n",
    "train_2.head(20)"
   ]
  },
  {
   "cell_type": "code",
   "execution_count": 6,
   "metadata": {
    "ExecuteTime": {
     "end_time": "2021-04-08T20:27:24.965838Z",
     "start_time": "2021-04-08T20:27:24.948036Z"
    }
   },
   "outputs": [
    {
     "data": {
      "text/html": [
       "<div>\n",
       "<style scoped>\n",
       "    .dataframe tbody tr th:only-of-type {\n",
       "        vertical-align: middle;\n",
       "    }\n",
       "\n",
       "    .dataframe tbody tr th {\n",
       "        vertical-align: top;\n",
       "    }\n",
       "\n",
       "    .dataframe thead th {\n",
       "        text-align: right;\n",
       "    }\n",
       "</style>\n",
       "<table border=\"1\" class=\"dataframe\">\n",
       "  <thead>\n",
       "    <tr style=\"text-align: right;\">\n",
       "      <th></th>\n",
       "      <th>id</th>\n",
       "      <th>keyword</th>\n",
       "      <th>text</th>\n",
       "    </tr>\n",
       "  </thead>\n",
       "  <tbody>\n",
       "    <tr>\n",
       "      <th>0</th>\n",
       "      <td>6</td>\n",
       "      <td>NaN</td>\n",
       "      <td>13,000 people receive #wildfires evacuation or...</td>\n",
       "    </tr>\n",
       "    <tr>\n",
       "      <th>1</th>\n",
       "      <td>7</td>\n",
       "      <td>NaN</td>\n",
       "      <td>Just got sent this photo from Ruby #Alaska as ...</td>\n",
       "    </tr>\n",
       "    <tr>\n",
       "      <th>2</th>\n",
       "      <td>10</td>\n",
       "      <td>NaN</td>\n",
       "      <td>#flood #disaster Heavy rain causes flash flood...</td>\n",
       "    </tr>\n",
       "    <tr>\n",
       "      <th>3</th>\n",
       "      <td>14</td>\n",
       "      <td>NaN</td>\n",
       "      <td>There's an emergency evacuation happening now ...</td>\n",
       "    </tr>\n",
       "    <tr>\n",
       "      <th>4</th>\n",
       "      <td>15</td>\n",
       "      <td>NaN</td>\n",
       "      <td>I'm afraid that the tornado is coming to our a...</td>\n",
       "    </tr>\n",
       "    <tr>\n",
       "      <th>5</th>\n",
       "      <td>17</td>\n",
       "      <td>NaN</td>\n",
       "      <td>Haha South Tampa is getting flooded hah- WAIT ...</td>\n",
       "    </tr>\n",
       "    <tr>\n",
       "      <th>6</th>\n",
       "      <td>18</td>\n",
       "      <td>NaN</td>\n",
       "      <td>#raining #flooding #Florida #TampaBay #Tampa 1...</td>\n",
       "    </tr>\n",
       "    <tr>\n",
       "      <th>7</th>\n",
       "      <td>28</td>\n",
       "      <td>NaN</td>\n",
       "      <td>What a goooooooaaaaaal!!!!!!</td>\n",
       "    </tr>\n",
       "    <tr>\n",
       "      <th>8</th>\n",
       "      <td>36</td>\n",
       "      <td>NaN</td>\n",
       "      <td>LOOOOOOL</td>\n",
       "    </tr>\n",
       "    <tr>\n",
       "      <th>9</th>\n",
       "      <td>37</td>\n",
       "      <td>NaN</td>\n",
       "      <td>No way...I can't eat that shit</td>\n",
       "    </tr>\n",
       "    <tr>\n",
       "      <th>10</th>\n",
       "      <td>40</td>\n",
       "      <td>NaN</td>\n",
       "      <td>Cooool :)</td>\n",
       "    </tr>\n",
       "    <tr>\n",
       "      <th>11</th>\n",
       "      <td>44</td>\n",
       "      <td>NaN</td>\n",
       "      <td>The end!</td>\n",
       "    </tr>\n",
       "    <tr>\n",
       "      <th>12</th>\n",
       "      <td>48</td>\n",
       "      <td>ablaze</td>\n",
       "      <td>@bbcmtd Wholesale Markets ablaze http://t.co/l...</td>\n",
       "    </tr>\n",
       "    <tr>\n",
       "      <th>13</th>\n",
       "      <td>52</td>\n",
       "      <td>ablaze</td>\n",
       "      <td>Crying out for more! Set me ablaze</td>\n",
       "    </tr>\n",
       "    <tr>\n",
       "      <th>14</th>\n",
       "      <td>63</td>\n",
       "      <td>ablaze</td>\n",
       "      <td>SOOOO PUMPED FOR ABLAZE ???? @southridgelife</td>\n",
       "    </tr>\n",
       "    <tr>\n",
       "      <th>15</th>\n",
       "      <td>65</td>\n",
       "      <td>ablaze</td>\n",
       "      <td>I gained 3 followers in the last week. You? Kn...</td>\n",
       "    </tr>\n",
       "    <tr>\n",
       "      <th>16</th>\n",
       "      <td>66</td>\n",
       "      <td>ablaze</td>\n",
       "      <td>How the West was burned: Thousands of wildfire...</td>\n",
       "    </tr>\n",
       "    <tr>\n",
       "      <th>17</th>\n",
       "      <td>71</td>\n",
       "      <td>ablaze</td>\n",
       "      <td>First night with retainers in. It's quite weir...</td>\n",
       "    </tr>\n",
       "    <tr>\n",
       "      <th>18</th>\n",
       "      <td>74</td>\n",
       "      <td>ablaze</td>\n",
       "      <td>Man wife get six years jail for setting ablaze...</td>\n",
       "    </tr>\n",
       "    <tr>\n",
       "      <th>19</th>\n",
       "      <td>76</td>\n",
       "      <td>ablaze</td>\n",
       "      <td>SANTA CRUZ ÛÓ Head of the St Elizabeth Police...</td>\n",
       "    </tr>\n",
       "  </tbody>\n",
       "</table>\n",
       "</div>"
      ],
      "text/plain": [
       "    id keyword                                               text\n",
       "0    6     NaN  13,000 people receive #wildfires evacuation or...\n",
       "1    7     NaN  Just got sent this photo from Ruby #Alaska as ...\n",
       "2   10     NaN  #flood #disaster Heavy rain causes flash flood...\n",
       "3   14     NaN  There's an emergency evacuation happening now ...\n",
       "4   15     NaN  I'm afraid that the tornado is coming to our a...\n",
       "5   17     NaN  Haha South Tampa is getting flooded hah- WAIT ...\n",
       "6   18     NaN  #raining #flooding #Florida #TampaBay #Tampa 1...\n",
       "7   28     NaN                       What a goooooooaaaaaal!!!!!!\n",
       "8   36     NaN                                           LOOOOOOL\n",
       "9   37     NaN                     No way...I can't eat that shit\n",
       "10  40     NaN                                          Cooool :)\n",
       "11  44     NaN                                           The end!\n",
       "12  48  ablaze  @bbcmtd Wholesale Markets ablaze http://t.co/l...\n",
       "13  52  ablaze                 Crying out for more! Set me ablaze\n",
       "14  63  ablaze       SOOOO PUMPED FOR ABLAZE ???? @southridgelife\n",
       "15  65  ablaze  I gained 3 followers in the last week. You? Kn...\n",
       "16  66  ablaze  How the West was burned: Thousands of wildfire...\n",
       "17  71  ablaze  First night with retainers in. It's quite weir...\n",
       "18  74  ablaze  Man wife get six years jail for setting ablaze...\n",
       "19  76  ablaze  SANTA CRUZ ÛÓ Head of the St Elizabeth Police..."
      ]
     },
     "execution_count": 6,
     "metadata": {},
     "output_type": "execute_result"
    }
   ],
   "source": [
    "test_2.head(20)"
   ]
  },
  {
   "cell_type": "code",
   "execution_count": 7,
   "metadata": {
    "ExecuteTime": {
     "end_time": "2021-04-08T20:27:25.196303Z",
     "start_time": "2021-04-08T20:27:25.175044Z"
    }
   },
   "outputs": [
    {
     "data": {
      "text/html": [
       "<div>\n",
       "<style scoped>\n",
       "    .dataframe tbody tr th:only-of-type {\n",
       "        vertical-align: middle;\n",
       "    }\n",
       "\n",
       "    .dataframe tbody tr th {\n",
       "        vertical-align: top;\n",
       "    }\n",
       "\n",
       "    .dataframe thead th {\n",
       "        text-align: right;\n",
       "    }\n",
       "</style>\n",
       "<table border=\"1\" class=\"dataframe\">\n",
       "  <thead>\n",
       "    <tr style=\"text-align: right;\">\n",
       "      <th></th>\n",
       "      <th>keyword</th>\n",
       "      <th>text</th>\n",
       "      <th>target</th>\n",
       "    </tr>\n",
       "  </thead>\n",
       "  <tbody>\n",
       "    <tr>\n",
       "      <th>0</th>\n",
       "      <td></td>\n",
       "      <td>Our Deeds are the Reason of this #earthquake M...</td>\n",
       "      <td>1</td>\n",
       "    </tr>\n",
       "    <tr>\n",
       "      <th>1</th>\n",
       "      <td></td>\n",
       "      <td>Forest fire near La Ronge Sask. Canada</td>\n",
       "      <td>1</td>\n",
       "    </tr>\n",
       "    <tr>\n",
       "      <th>2</th>\n",
       "      <td></td>\n",
       "      <td>All residents asked to 'shelter in place' are ...</td>\n",
       "      <td>1</td>\n",
       "    </tr>\n",
       "    <tr>\n",
       "      <th>3</th>\n",
       "      <td></td>\n",
       "      <td>#RockyFire Update =&gt; California Hwy. 20 closed...</td>\n",
       "      <td>1</td>\n",
       "    </tr>\n",
       "    <tr>\n",
       "      <th>4</th>\n",
       "      <td></td>\n",
       "      <td>I'm on top of the hill and I can see a fire in...</td>\n",
       "      <td>1</td>\n",
       "    </tr>\n",
       "    <tr>\n",
       "      <th>5</th>\n",
       "      <td></td>\n",
       "      <td>Three people died from the heat wave so far</td>\n",
       "      <td>1</td>\n",
       "    </tr>\n",
       "    <tr>\n",
       "      <th>6</th>\n",
       "      <td></td>\n",
       "      <td>#Flood in Bago Myanmar #We arrived Bago</td>\n",
       "      <td>1</td>\n",
       "    </tr>\n",
       "    <tr>\n",
       "      <th>7</th>\n",
       "      <td></td>\n",
       "      <td>Damage to school bus on 80 in multi car crash ...</td>\n",
       "      <td>1</td>\n",
       "    </tr>\n",
       "    <tr>\n",
       "      <th>8</th>\n",
       "      <td></td>\n",
       "      <td>What's up man?</td>\n",
       "      <td>0</td>\n",
       "    </tr>\n",
       "    <tr>\n",
       "      <th>9</th>\n",
       "      <td></td>\n",
       "      <td>I love fruits</td>\n",
       "      <td>0</td>\n",
       "    </tr>\n",
       "    <tr>\n",
       "      <th>10</th>\n",
       "      <td></td>\n",
       "      <td>Summer is lovely</td>\n",
       "      <td>0</td>\n",
       "    </tr>\n",
       "    <tr>\n",
       "      <th>11</th>\n",
       "      <td></td>\n",
       "      <td>My car is so fast</td>\n",
       "      <td>0</td>\n",
       "    </tr>\n",
       "    <tr>\n",
       "      <th>12</th>\n",
       "      <td></td>\n",
       "      <td>this is ridiculous....</td>\n",
       "      <td>0</td>\n",
       "    </tr>\n",
       "    <tr>\n",
       "      <th>13</th>\n",
       "      <td></td>\n",
       "      <td>London is cool ;)</td>\n",
       "      <td>0</td>\n",
       "    </tr>\n",
       "    <tr>\n",
       "      <th>14</th>\n",
       "      <td></td>\n",
       "      <td>Love skiing</td>\n",
       "      <td>0</td>\n",
       "    </tr>\n",
       "    <tr>\n",
       "      <th>15</th>\n",
       "      <td></td>\n",
       "      <td>What a wonderful day!</td>\n",
       "      <td>0</td>\n",
       "    </tr>\n",
       "    <tr>\n",
       "      <th>16</th>\n",
       "      <td></td>\n",
       "      <td>Was in NYC last week!</td>\n",
       "      <td>0</td>\n",
       "    </tr>\n",
       "    <tr>\n",
       "      <th>17</th>\n",
       "      <td></td>\n",
       "      <td>Love my girlfriend</td>\n",
       "      <td>0</td>\n",
       "    </tr>\n",
       "    <tr>\n",
       "      <th>18</th>\n",
       "      <td></td>\n",
       "      <td>Do you like pasta?</td>\n",
       "      <td>0</td>\n",
       "    </tr>\n",
       "    <tr>\n",
       "      <th>19</th>\n",
       "      <td>ablaze</td>\n",
       "      <td>We always try to bring the heavy. #metal #RT h...</td>\n",
       "      <td>0</td>\n",
       "    </tr>\n",
       "  </tbody>\n",
       "</table>\n",
       "</div>"
      ],
      "text/plain": [
       "   keyword                                               text  target\n",
       "0           Our Deeds are the Reason of this #earthquake M...       1\n",
       "1                      Forest fire near La Ronge Sask. Canada       1\n",
       "2           All residents asked to 'shelter in place' are ...       1\n",
       "3           #RockyFire Update => California Hwy. 20 closed...       1\n",
       "4           I'm on top of the hill and I can see a fire in...       1\n",
       "5                 Three people died from the heat wave so far       1\n",
       "6                     #Flood in Bago Myanmar #We arrived Bago       1\n",
       "7           Damage to school bus on 80 in multi car crash ...       1\n",
       "8                                              What's up man?       0\n",
       "9                                               I love fruits       0\n",
       "10                                           Summer is lovely       0\n",
       "11                                          My car is so fast       0\n",
       "12                                     this is ridiculous....       0\n",
       "13                                          London is cool ;)       0\n",
       "14                                                Love skiing       0\n",
       "15                                      What a wonderful day!       0\n",
       "16                                      Was in NYC last week!       0\n",
       "17                                         Love my girlfriend       0\n",
       "18                                         Do you like pasta?       0\n",
       "19  ablaze  We always try to bring the heavy. #metal #RT h...       0"
      ]
     },
     "execution_count": 7,
     "metadata": {},
     "output_type": "execute_result"
    }
   ],
   "source": [
    "train_2 = train_2.fillna('')\n",
    "test_2 = test_2.fillna('')\n",
    "train_2.head(20)"
   ]
  },
  {
   "cell_type": "code",
   "execution_count": 8,
   "metadata": {
    "ExecuteTime": {
     "end_time": "2021-04-08T20:27:25.376711Z",
     "start_time": "2021-04-08T20:27:25.356815Z"
    }
   },
   "outputs": [
    {
     "data": {
      "text/html": [
       "<div>\n",
       "<style scoped>\n",
       "    .dataframe tbody tr th:only-of-type {\n",
       "        vertical-align: middle;\n",
       "    }\n",
       "\n",
       "    .dataframe tbody tr th {\n",
       "        vertical-align: top;\n",
       "    }\n",
       "\n",
       "    .dataframe thead th {\n",
       "        text-align: right;\n",
       "    }\n",
       "</style>\n",
       "<table border=\"1\" class=\"dataframe\">\n",
       "  <thead>\n",
       "    <tr style=\"text-align: right;\">\n",
       "      <th></th>\n",
       "      <th>id</th>\n",
       "      <th>keyword</th>\n",
       "      <th>text</th>\n",
       "    </tr>\n",
       "  </thead>\n",
       "  <tbody>\n",
       "    <tr>\n",
       "      <th>0</th>\n",
       "      <td>6</td>\n",
       "      <td></td>\n",
       "      <td>13,000 people receive #wildfires evacuation or...</td>\n",
       "    </tr>\n",
       "    <tr>\n",
       "      <th>1</th>\n",
       "      <td>7</td>\n",
       "      <td></td>\n",
       "      <td>Just got sent this photo from Ruby #Alaska as ...</td>\n",
       "    </tr>\n",
       "    <tr>\n",
       "      <th>2</th>\n",
       "      <td>10</td>\n",
       "      <td></td>\n",
       "      <td>#flood #disaster Heavy rain causes flash flood...</td>\n",
       "    </tr>\n",
       "    <tr>\n",
       "      <th>3</th>\n",
       "      <td>14</td>\n",
       "      <td></td>\n",
       "      <td>There's an emergency evacuation happening now ...</td>\n",
       "    </tr>\n",
       "    <tr>\n",
       "      <th>4</th>\n",
       "      <td>15</td>\n",
       "      <td></td>\n",
       "      <td>I'm afraid that the tornado is coming to our a...</td>\n",
       "    </tr>\n",
       "    <tr>\n",
       "      <th>5</th>\n",
       "      <td>17</td>\n",
       "      <td></td>\n",
       "      <td>Haha South Tampa is getting flooded hah- WAIT ...</td>\n",
       "    </tr>\n",
       "    <tr>\n",
       "      <th>6</th>\n",
       "      <td>18</td>\n",
       "      <td></td>\n",
       "      <td>#raining #flooding #Florida #TampaBay #Tampa 1...</td>\n",
       "    </tr>\n",
       "    <tr>\n",
       "      <th>7</th>\n",
       "      <td>28</td>\n",
       "      <td></td>\n",
       "      <td>What a goooooooaaaaaal!!!!!!</td>\n",
       "    </tr>\n",
       "    <tr>\n",
       "      <th>8</th>\n",
       "      <td>36</td>\n",
       "      <td></td>\n",
       "      <td>LOOOOOOL</td>\n",
       "    </tr>\n",
       "    <tr>\n",
       "      <th>9</th>\n",
       "      <td>37</td>\n",
       "      <td></td>\n",
       "      <td>No way...I can't eat that shit</td>\n",
       "    </tr>\n",
       "    <tr>\n",
       "      <th>10</th>\n",
       "      <td>40</td>\n",
       "      <td></td>\n",
       "      <td>Cooool :)</td>\n",
       "    </tr>\n",
       "    <tr>\n",
       "      <th>11</th>\n",
       "      <td>44</td>\n",
       "      <td></td>\n",
       "      <td>The end!</td>\n",
       "    </tr>\n",
       "    <tr>\n",
       "      <th>12</th>\n",
       "      <td>48</td>\n",
       "      <td>ablaze</td>\n",
       "      <td>@bbcmtd Wholesale Markets ablaze http://t.co/l...</td>\n",
       "    </tr>\n",
       "    <tr>\n",
       "      <th>13</th>\n",
       "      <td>52</td>\n",
       "      <td>ablaze</td>\n",
       "      <td>Crying out for more! Set me ablaze</td>\n",
       "    </tr>\n",
       "    <tr>\n",
       "      <th>14</th>\n",
       "      <td>63</td>\n",
       "      <td>ablaze</td>\n",
       "      <td>SOOOO PUMPED FOR ABLAZE ???? @southridgelife</td>\n",
       "    </tr>\n",
       "    <tr>\n",
       "      <th>15</th>\n",
       "      <td>65</td>\n",
       "      <td>ablaze</td>\n",
       "      <td>I gained 3 followers in the last week. You? Kn...</td>\n",
       "    </tr>\n",
       "    <tr>\n",
       "      <th>16</th>\n",
       "      <td>66</td>\n",
       "      <td>ablaze</td>\n",
       "      <td>How the West was burned: Thousands of wildfire...</td>\n",
       "    </tr>\n",
       "    <tr>\n",
       "      <th>17</th>\n",
       "      <td>71</td>\n",
       "      <td>ablaze</td>\n",
       "      <td>First night with retainers in. It's quite weir...</td>\n",
       "    </tr>\n",
       "    <tr>\n",
       "      <th>18</th>\n",
       "      <td>74</td>\n",
       "      <td>ablaze</td>\n",
       "      <td>Man wife get six years jail for setting ablaze...</td>\n",
       "    </tr>\n",
       "    <tr>\n",
       "      <th>19</th>\n",
       "      <td>76</td>\n",
       "      <td>ablaze</td>\n",
       "      <td>SANTA CRUZ ÛÓ Head of the St Elizabeth Police...</td>\n",
       "    </tr>\n",
       "  </tbody>\n",
       "</table>\n",
       "</div>"
      ],
      "text/plain": [
       "    id keyword                                               text\n",
       "0    6          13,000 people receive #wildfires evacuation or...\n",
       "1    7          Just got sent this photo from Ruby #Alaska as ...\n",
       "2   10          #flood #disaster Heavy rain causes flash flood...\n",
       "3   14          There's an emergency evacuation happening now ...\n",
       "4   15          I'm afraid that the tornado is coming to our a...\n",
       "5   17          Haha South Tampa is getting flooded hah- WAIT ...\n",
       "6   18          #raining #flooding #Florida #TampaBay #Tampa 1...\n",
       "7   28                               What a goooooooaaaaaal!!!!!!\n",
       "8   36                                                   LOOOOOOL\n",
       "9   37                             No way...I can't eat that shit\n",
       "10  40                                                  Cooool :)\n",
       "11  44                                                   The end!\n",
       "12  48  ablaze  @bbcmtd Wholesale Markets ablaze http://t.co/l...\n",
       "13  52  ablaze                 Crying out for more! Set me ablaze\n",
       "14  63  ablaze       SOOOO PUMPED FOR ABLAZE ???? @southridgelife\n",
       "15  65  ablaze  I gained 3 followers in the last week. You? Kn...\n",
       "16  66  ablaze  How the West was burned: Thousands of wildfire...\n",
       "17  71  ablaze  First night with retainers in. It's quite weir...\n",
       "18  74  ablaze  Man wife get six years jail for setting ablaze...\n",
       "19  76  ablaze  SANTA CRUZ ÛÓ Head of the St Elizabeth Police..."
      ]
     },
     "execution_count": 8,
     "metadata": {},
     "output_type": "execute_result"
    }
   ],
   "source": [
    "test_2.head(20)"
   ]
  },
  {
   "cell_type": "code",
   "execution_count": 9,
   "metadata": {
    "ExecuteTime": {
     "end_time": "2021-04-08T20:27:25.592065Z",
     "start_time": "2021-04-08T20:27:25.575787Z"
    }
   },
   "outputs": [
    {
     "name": "stdout",
     "output_type": "stream",
     "text": [
      "<class 'pandas.core.frame.DataFrame'>\n",
      "RangeIndex: 2267 entries, 0 to 2266\n",
      "Data columns (total 3 columns):\n",
      " #   Column   Non-Null Count  Dtype \n",
      "---  ------   --------------  ----- \n",
      " 0   id       2267 non-null   int64 \n",
      " 1   keyword  2267 non-null   object\n",
      " 2   text     2267 non-null   object\n",
      "dtypes: int64(1), object(2)\n",
      "memory usage: 53.3+ KB\n"
     ]
    }
   ],
   "source": [
    "test_2.info()"
   ]
  },
  {
   "cell_type": "code",
   "execution_count": 10,
   "metadata": {
    "ExecuteTime": {
     "end_time": "2021-04-08T20:27:26.530165Z",
     "start_time": "2021-04-08T20:27:26.510726Z"
    }
   },
   "outputs": [
    {
     "name": "stdout",
     "output_type": "stream",
     "text": [
      "<class 'pandas.core.frame.DataFrame'>\n",
      "RangeIndex: 2267 entries, 0 to 2266\n",
      "Data columns (total 3 columns):\n",
      " #   Column   Non-Null Count  Dtype \n",
      "---  ------   --------------  ----- \n",
      " 0   id       2267 non-null   int64 \n",
      " 1   keyword  2267 non-null   object\n",
      " 2   text     2267 non-null   object\n",
      "dtypes: int64(1), object(2)\n",
      "memory usage: 53.3+ KB\n"
     ]
    }
   ],
   "source": [
    "train_2['text']  = train_2['text']+ train_2['keyword']\n",
    "test_2['text']  = test_2['text']+ test_2['keyword']\n",
    "test_2.info()"
   ]
  },
  {
   "cell_type": "code",
   "execution_count": 11,
   "metadata": {
    "ExecuteTime": {
     "end_time": "2021-04-08T20:27:28.663548Z",
     "start_time": "2021-04-08T20:27:27.803082Z"
    }
   },
   "outputs": [
    {
     "name": "stdout",
     "output_type": "stream",
     "text": [
      "<class 'pandas.core.frame.DataFrame'>\n",
      "RangeIndex: 2267 entries, 0 to 2266\n",
      "Data columns (total 3 columns):\n",
      " #   Column   Non-Null Count  Dtype \n",
      "---  ------   --------------  ----- \n",
      " 0   id       2267 non-null   int64 \n",
      " 1   keyword  2267 non-null   object\n",
      " 2   text     2267 non-null   object\n",
      "dtypes: int64(1), object(2)\n",
      "memory usage: 53.3+ KB\n"
     ]
    }
   ],
   "source": [
    "signos = re.compile(\"(\\.)|(\\;)|(\\:)|(\\!)|(\\?)|(\\,)|(\\\")|(\\()|(\\))|(\\[)|(\\])|(\\d+)|(\\=)|(\\>)|(\\<)|(#)|(you)|(me)|(yours)|(your)|(our)|(she)|(he)|(us)|(haha)|(i'm)|(what's)|(rt)|('re)|('v)\")\n",
    "\n",
    "def signs_tweets(tweet):\n",
    "    return signos.sub('', tweet.lower())\n",
    "\n",
    "train_2['text'] = train_2['text'].apply(signs_tweets)\n",
    "test_2['text'] = test_2['text'].apply(signs_tweets)\n",
    "\n",
    "def remove_links(df):\n",
    "    return \" \".join(['{link}' if ('http') in word else word for word in df.split()])\n",
    "\n",
    "train_2['text'] = train_2['text'].apply(remove_links)\n",
    "test_2['text'] = test_2['text'].apply(remove_links)\n",
    "train_2['text'].head(20)\n",
    "test_2.info()"
   ]
  },
  {
   "cell_type": "code",
   "execution_count": 12,
   "metadata": {
    "ExecuteTime": {
     "end_time": "2021-04-08T20:27:29.090183Z",
     "start_time": "2021-04-08T20:27:28.790539Z"
    }
   },
   "outputs": [
    {
     "name": "stdout",
     "output_type": "stream",
     "text": [
      "<class 'pandas.core.frame.DataFrame'>\n",
      "RangeIndex: 2267 entries, 0 to 2266\n",
      "Data columns (total 3 columns):\n",
      " #   Column   Non-Null Count  Dtype \n",
      "---  ------   --------------  ----- \n",
      " 0   id       2267 non-null   int64 \n",
      " 1   keyword  2267 non-null   object\n",
      " 2   text     2267 non-null   object\n",
      "dtypes: int64(1), object(2)\n",
      "memory usage: 53.3+ KB\n"
     ]
    }
   ],
   "source": [
    "spanish_stopwords = stopwords.words(\"english\")\n",
    "\n",
    "def remove_stopwords(train_2):\n",
    "    return \" \".join([word for word in train_2.split() if word not in spanish_stopwords])\n",
    "\n",
    "train_2[\"text\"] = train_2[\"text\"].apply(remove_stopwords)\n",
    "test_2[\"text\"] = test_2[\"text\"].apply(remove_stopwords)\n",
    "train_2.head(20)\n",
    "test_2.info()"
   ]
  },
  {
   "cell_type": "code",
   "execution_count": 13,
   "metadata": {
    "ExecuteTime": {
     "end_time": "2021-04-08T20:27:29.311124Z",
     "start_time": "2021-04-08T20:27:29.295210Z"
    }
   },
   "outputs": [
    {
     "data": {
      "text/html": [
       "<div>\n",
       "<style scoped>\n",
       "    .dataframe tbody tr th:only-of-type {\n",
       "        vertical-align: middle;\n",
       "    }\n",
       "\n",
       "    .dataframe tbody tr th {\n",
       "        vertical-align: top;\n",
       "    }\n",
       "\n",
       "    .dataframe thead th {\n",
       "        text-align: right;\n",
       "    }\n",
       "</style>\n",
       "<table border=\"1\" class=\"dataframe\">\n",
       "  <thead>\n",
       "    <tr style=\"text-align: right;\">\n",
       "      <th></th>\n",
       "      <th>keyword</th>\n",
       "      <th>text</th>\n",
       "      <th>target</th>\n",
       "    </tr>\n",
       "  </thead>\n",
       "  <tbody>\n",
       "    <tr>\n",
       "      <th>0</th>\n",
       "      <td></td>\n",
       "      <td>deeds reason eahquake may allah forgive</td>\n",
       "      <td>1</td>\n",
       "    </tr>\n",
       "    <tr>\n",
       "      <th>1</th>\n",
       "      <td></td>\n",
       "      <td>forest fire near la ronge sask canada</td>\n",
       "      <td>1</td>\n",
       "    </tr>\n",
       "    <tr>\n",
       "      <th>2</th>\n",
       "      <td></td>\n",
       "      <td>residents asked 'lter place' notified officers...</td>\n",
       "      <td>1</td>\n",
       "    </tr>\n",
       "    <tr>\n",
       "      <th>3</th>\n",
       "      <td></td>\n",
       "      <td>rockyfire update california hwy closed directi...</td>\n",
       "      <td>1</td>\n",
       "    </tr>\n",
       "    <tr>\n",
       "      <th>4</th>\n",
       "      <td></td>\n",
       "      <td>top hill see fire woods</td>\n",
       "      <td>1</td>\n",
       "    </tr>\n",
       "    <tr>\n",
       "      <th>5</th>\n",
       "      <td></td>\n",
       "      <td>three people died wave far</td>\n",
       "      <td>1</td>\n",
       "    </tr>\n",
       "    <tr>\n",
       "      <th>6</th>\n",
       "      <td></td>\n",
       "      <td>flood bago myanmar arrived bago</td>\n",
       "      <td>1</td>\n",
       "    </tr>\n",
       "    <tr>\n",
       "      <th>7</th>\n",
       "      <td></td>\n",
       "      <td>damage school b multi car crash breaking</td>\n",
       "      <td>1</td>\n",
       "    </tr>\n",
       "    <tr>\n",
       "      <th>8</th>\n",
       "      <td></td>\n",
       "      <td>man</td>\n",
       "      <td>0</td>\n",
       "    </tr>\n",
       "    <tr>\n",
       "      <th>9</th>\n",
       "      <td></td>\n",
       "      <td>love fruits</td>\n",
       "      <td>0</td>\n",
       "    </tr>\n",
       "    <tr>\n",
       "      <th>10</th>\n",
       "      <td></td>\n",
       "      <td>sumr lovely</td>\n",
       "      <td>0</td>\n",
       "    </tr>\n",
       "    <tr>\n",
       "      <th>11</th>\n",
       "      <td></td>\n",
       "      <td>car fast</td>\n",
       "      <td>0</td>\n",
       "    </tr>\n",
       "    <tr>\n",
       "      <th>12</th>\n",
       "      <td></td>\n",
       "      <td>ridiculo</td>\n",
       "      <td>0</td>\n",
       "    </tr>\n",
       "    <tr>\n",
       "      <th>13</th>\n",
       "      <td></td>\n",
       "      <td>london cool</td>\n",
       "      <td>0</td>\n",
       "    </tr>\n",
       "    <tr>\n",
       "      <th>14</th>\n",
       "      <td></td>\n",
       "      <td>love skiing</td>\n",
       "      <td>0</td>\n",
       "    </tr>\n",
       "    <tr>\n",
       "      <th>15</th>\n",
       "      <td></td>\n",
       "      <td>wonderful day</td>\n",
       "      <td>0</td>\n",
       "    </tr>\n",
       "    <tr>\n",
       "      <th>16</th>\n",
       "      <td></td>\n",
       "      <td>nyc last week</td>\n",
       "      <td>0</td>\n",
       "    </tr>\n",
       "    <tr>\n",
       "      <th>17</th>\n",
       "      <td></td>\n",
       "      <td>love girlfriend</td>\n",
       "      <td>0</td>\n",
       "    </tr>\n",
       "    <tr>\n",
       "      <th>18</th>\n",
       "      <td></td>\n",
       "      <td>like pasta</td>\n",
       "      <td>0</td>\n",
       "    </tr>\n",
       "    <tr>\n",
       "      <th>19</th>\n",
       "      <td>ablaze</td>\n",
       "      <td>always try bring avy tal {link}</td>\n",
       "      <td>0</td>\n",
       "    </tr>\n",
       "    <tr>\n",
       "      <th>20</th>\n",
       "      <td>ablaze</td>\n",
       "      <td>africanbaze breaking newsnigeria flag set abla...</td>\n",
       "      <td>1</td>\n",
       "    </tr>\n",
       "    <tr>\n",
       "      <th>21</th>\n",
       "      <td>ablaze</td>\n",
       "      <td>pl side look sky last night ablaze {link}</td>\n",
       "      <td>0</td>\n",
       "    </tr>\n",
       "    <tr>\n",
       "      <th>22</th>\n",
       "      <td>ablaze</td>\n",
       "      <td>@phdsquares mufc tye built much hype around ne...</td>\n",
       "      <td>0</td>\n",
       "    </tr>\n",
       "  </tbody>\n",
       "</table>\n",
       "</div>"
      ],
      "text/plain": [
       "   keyword                                               text  target\n",
       "0                     deeds reason eahquake may allah forgive       1\n",
       "1                       forest fire near la ronge sask canada       1\n",
       "2           residents asked 'lter place' notified officers...       1\n",
       "3           rockyfire update california hwy closed directi...       1\n",
       "4                                     top hill see fire woods       1\n",
       "5                                  three people died wave far       1\n",
       "6                             flood bago myanmar arrived bago       1\n",
       "7                    damage school b multi car crash breaking       1\n",
       "8                                                         man       0\n",
       "9                                                 love fruits       0\n",
       "10                                                sumr lovely       0\n",
       "11                                                   car fast       0\n",
       "12                                                   ridiculo       0\n",
       "13                                                london cool       0\n",
       "14                                                love skiing       0\n",
       "15                                              wonderful day       0\n",
       "16                                              nyc last week       0\n",
       "17                                            love girlfriend       0\n",
       "18                                                 like pasta       0\n",
       "19  ablaze                    always try bring avy tal {link}       0\n",
       "20  ablaze  africanbaze breaking newsnigeria flag set abla...       1\n",
       "21  ablaze          pl side look sky last night ablaze {link}       0\n",
       "22  ablaze  @phdsquares mufc tye built much hype around ne...       0"
      ]
     },
     "execution_count": 13,
     "metadata": {},
     "output_type": "execute_result"
    }
   ],
   "source": [
    "train_2.head(23)"
   ]
  },
  {
   "cell_type": "code",
   "execution_count": 14,
   "metadata": {
    "ExecuteTime": {
     "end_time": "2021-04-08T20:27:30.019459Z",
     "start_time": "2021-04-08T20:27:29.950413Z"
    }
   },
   "outputs": [],
   "source": [
    "def clean_text(X):\n",
    "    a = X.split()\n",
    "    X_new = [x for x in a if not x.startswith(\"@\")]\n",
    "    X_new = [x for x in a if not x.startswith(\"{link}\")]\n",
    "    frase = ' '.join(X_new)\n",
    "    return frase\n",
    "\n",
    "train_2['text'] = train_2['text'].apply(clean_text)\n",
    "test_2['text'] = test_2['text'].apply(clean_text)"
   ]
  },
  {
   "cell_type": "code",
   "execution_count": 15,
   "metadata": {
    "ExecuteTime": {
     "end_time": "2021-04-08T20:27:31.528976Z",
     "start_time": "2021-04-08T20:27:31.509552Z"
    }
   },
   "outputs": [
    {
     "name": "stdout",
     "output_type": "stream",
     "text": [
      "<class 'pandas.core.frame.DataFrame'>\n",
      "RangeIndex: 2267 entries, 0 to 2266\n",
      "Data columns (total 3 columns):\n",
      " #   Column   Non-Null Count  Dtype \n",
      "---  ------   --------------  ----- \n",
      " 0   id       2267 non-null   int64 \n",
      " 1   keyword  2267 non-null   object\n",
      " 2   text     2267 non-null   object\n",
      "dtypes: int64(1), object(2)\n",
      "memory usage: 53.3+ KB\n"
     ]
    }
   ],
   "source": [
    "train_2.head(30)\n",
    "test_2.info()"
   ]
  },
  {
   "cell_type": "code",
   "execution_count": 16,
   "metadata": {
    "ExecuteTime": {
     "end_time": "2021-04-08T20:27:32.607339Z",
     "start_time": "2021-04-08T20:27:32.596727Z"
    }
   },
   "outputs": [],
   "source": [
    "train_2 = train_2.drop(['keyword'],axis=1)\n",
    "test_2 = test_2.drop(['keyword'],axis=1)"
   ]
  },
  {
   "cell_type": "code",
   "execution_count": 17,
   "metadata": {
    "ExecuteTime": {
     "end_time": "2021-04-08T20:27:35.257629Z",
     "start_time": "2021-04-08T20:27:35.242347Z"
    }
   },
   "outputs": [
    {
     "name": "stdout",
     "output_type": "stream",
     "text": [
      "<class 'pandas.core.frame.DataFrame'>\n",
      "RangeIndex: 2267 entries, 0 to 2266\n",
      "Data columns (total 2 columns):\n",
      " #   Column  Non-Null Count  Dtype \n",
      "---  ------  --------------  ----- \n",
      " 0   id      2267 non-null   int64 \n",
      " 1   text    2267 non-null   object\n",
      "dtypes: int64(1), object(1)\n",
      "memory usage: 35.5+ KB\n"
     ]
    }
   ],
   "source": [
    "test_2.info()"
   ]
  },
  {
   "cell_type": "code",
   "execution_count": 18,
   "metadata": {
    "ExecuteTime": {
     "end_time": "2021-04-08T20:27:37.485404Z",
     "start_time": "2021-04-08T20:27:37.476896Z"
    }
   },
   "outputs": [],
   "source": [
    "from sklearn.feature_extraction.text import CountVectorizer\n",
    "\n",
    "from sklearn.svm import LinearSVC\n",
    "from sklearn.pipeline import Pipeline\n",
    "from sklearn.model_selection import GridSearchCV\n",
    "import xml.etree.ElementTree as ET\n",
    "from sklearn.metrics import make_scorer\n",
    "from sklearn.metrics import roc_curve, auc, roc_auc_score\n",
    "from sklearn.pipeline import Pipeline\n",
    "from sklearn.impute import SimpleImputer\n",
    "from sklearn.preprocessing import StandardScaler\n",
    "from sklearn.linear_model import LogisticRegression\n",
    "from sklearn.ensemble import RandomForestClassifier\n",
    "from sklearn.feature_selection import SelectKBest\n",
    "from sklearn.svm import SVC\n",
    "from sklearn.model_selection import train_test_split\n",
    "from sklearn.model_selection import GridSearchCV\n",
    "from sklearn.ensemble import GradientBoostingClassifier"
   ]
  },
  {
   "cell_type": "code",
   "execution_count": 169,
   "metadata": {
    "ExecuteTime": {
     "end_time": "2021-04-08T20:27:40.085804Z",
     "start_time": "2021-04-08T20:27:40.074806Z"
    }
   },
   "outputs": [],
   "source": [
    "vectorizer = CountVectorizer()\n",
    "scv = SVC()\n",
    "\n",
    "pipeline = Pipeline([('vect', vectorizer), ('svc', SVC())])\n",
    "\n",
    "\n",
    "# Aqui definimos el espacio de parámetros a explorar\n",
    "parameters = {\n",
    "    'vect__max_df': ( 1.0, 0.8),\n",
    "    'vect__min_df': (20,15, 18),\n",
    "    'vect__max_features': (400,500,600),\n",
    "    'vect__ngram_range': ((1,1),(1,2)),  # unigramas or bigramas\n",
    "    'svc__kernel': ('linear', 'rbf', 'sigmoid'),\n",
    "    'svc__C': [0.001, 0.1, 0.5, 1, 5, 10],\n",
    "    'svc__gamma': ('scale', 'auto')\n",
    "}\n",
    "\n",
    "grid_search = GridSearchCV(pipeline,\n",
    "                           parameters,\n",
    "                           cv=10,\n",
    "                           n_jobs=1,\n",
    "                           scoring= 'roc_auc')"
   ]
  },
  {
   "cell_type": "code",
   "execution_count": 170,
   "metadata": {
    "ExecuteTime": {
     "end_time": "2021-04-08T20:33:56.396593Z",
     "start_time": "2021-04-08T20:27:44.190187Z"
    }
   },
   "outputs": [
    {
     "name": "stderr",
     "output_type": "stream",
     "text": [
      "/Users/cmg/opt/anaconda3/lib/python3.8/site-packages/sklearn/model_selection/_search.py:918: UserWarning: One or more of the test scores are non-finite: [       nan        nan        nan        nan        nan        nan\n",
      "        nan        nan        nan        nan        nan        nan\n",
      "        nan        nan        nan        nan        nan        nan\n",
      "        nan        nan        nan        nan        nan        nan\n",
      "        nan        nan        nan        nan        nan        nan\n",
      "        nan        nan        nan        nan        nan        nan\n",
      " 0.71676056 0.71499491 0.71579554 0.71512737 0.71800739 0.71333467\n",
      " 0.71676056 0.71627429 0.71136373 0.71188748 0.71968582 0.71929411\n",
      " 0.71676056 0.71627429 0.71252457 0.71277796 0.71968582 0.71929411\n",
      " 0.71676056 0.71499491 0.71579554 0.71512737 0.71800739 0.71333467\n",
      " 0.71676056 0.71627429 0.71136373 0.71188748 0.71968582 0.71929411\n",
      " 0.71676056 0.71627429 0.71252457 0.71277796 0.71968582 0.71929411\n",
      "        nan        nan        nan        nan        nan        nan\n",
      "        nan        nan        nan        nan        nan        nan\n",
      "        nan        nan        nan        nan        nan        nan\n",
      "        nan        nan        nan        nan        nan        nan\n",
      "        nan        nan        nan        nan        nan        nan\n",
      "        nan        nan        nan        nan        nan        nan\n",
      " 0.71058938 0.71042257 0.70672273 0.70866526 0.71147996 0.70830846\n",
      " 0.71058938 0.71045181 0.70305729 0.70584406 0.71306279 0.71263713\n",
      " 0.71058938 0.71045181 0.703181   0.70505083 0.71306279 0.71263713\n",
      " 0.71058938 0.71042257 0.70672273 0.70866526 0.71147996 0.70830846\n",
      " 0.71058938 0.71045181 0.70305729 0.70584406 0.71306279 0.71263713\n",
      " 0.71058938 0.71045181 0.703181   0.70505083 0.71306279 0.71263713\n",
      "        nan        nan        nan        nan        nan        nan\n",
      "        nan        nan        nan        nan        nan        nan\n",
      "        nan        nan        nan        nan        nan        nan\n",
      "        nan        nan        nan        nan        nan        nan\n",
      "        nan        nan        nan        nan        nan        nan\n",
      "        nan        nan        nan        nan        nan        nan\n",
      " 0.70536298 0.70538061 0.702901   0.70423417 0.70582863 0.70313707\n",
      " 0.70536298 0.70506682 0.69700874 0.69984228 0.70775136 0.70754648\n",
      " 0.70536298 0.70506682 0.69597474 0.69802818 0.70775136 0.70754648\n",
      " 0.70536298 0.70538061 0.702901   0.70423417 0.70582863 0.70313707\n",
      " 0.70536298 0.70506682 0.69700874 0.69984228 0.70775136 0.70754648\n",
      " 0.70536298 0.70506682 0.69597474 0.69802818 0.70775136 0.70754648\n",
      "        nan        nan        nan        nan        nan        nan\n",
      "        nan        nan        nan        nan        nan        nan\n",
      "        nan        nan        nan        nan        nan        nan\n",
      "        nan        nan        nan        nan        nan        nan\n",
      "        nan        nan        nan        nan        nan        nan\n",
      "        nan        nan        nan        nan        nan        nan\n",
      " 0.70254616 0.70262267 0.70089658 0.70229977 0.70398612 0.7007393\n",
      " 0.70254616 0.70244581 0.69292583 0.69422892 0.70516026 0.7030913\n",
      " 0.70254616 0.70244581 0.69197807 0.69298748 0.70516026 0.7030913\n",
      " 0.70254616 0.70262267 0.70089658 0.70229977 0.70398612 0.7007393\n",
      " 0.70254616 0.70244581 0.69292583 0.69422892 0.70516026 0.7030913\n",
      " 0.70254616 0.70244581 0.69197807 0.69298748 0.70516026 0.7030913\n",
      "        nan        nan        nan        nan        nan        nan\n",
      "        nan        nan        nan        nan        nan        nan\n",
      "        nan        nan        nan        nan        nan        nan\n",
      "        nan        nan        nan        nan        nan        nan\n",
      "        nan        nan        nan        nan        nan        nan\n",
      "        nan        nan        nan        nan        nan        nan\n",
      " 0.70130351 0.70195979 0.69970498 0.70095706 0.70260925 0.70007924\n",
      " 0.70130351 0.70168951 0.6907986  0.69163052 0.70294606 0.70007021\n",
      " 0.70130351 0.70168951 0.68860904 0.68933526 0.70294606 0.70007021\n",
      " 0.70130351 0.70195979 0.69970498 0.70095706 0.70260925 0.70007924\n",
      " 0.70130351 0.70168951 0.6907986  0.69163052 0.70294606 0.70007021\n",
      " 0.70130351 0.70168951 0.68860904 0.68933526 0.70294606 0.70007021\n",
      "        nan        nan        nan        nan        nan        nan\n",
      "        nan        nan        nan        nan        nan        nan\n",
      "        nan        nan        nan        nan        nan        nan\n",
      "        nan        nan        nan        nan        nan        nan\n",
      "        nan        nan        nan        nan        nan        nan\n",
      "        nan        nan        nan        nan        nan        nan\n",
      " 0.70072714 0.70152468 0.69898271 0.70096548 0.70178624 0.69949558\n",
      " 0.70072714 0.70117738 0.68965208 0.69005116 0.70211163 0.69888316\n",
      " 0.70072714 0.70117738 0.68619954 0.68665963 0.70211163 0.69888316\n",
      " 0.70072714 0.70152468 0.69898271 0.70096548 0.70178624 0.69949558\n",
      " 0.70072714 0.70117738 0.68965208 0.69005116 0.70211163 0.69888316\n",
      " 0.70072714 0.70117738 0.68619954 0.68665963 0.70211163 0.69888316\n",
      "        nan        nan        nan        nan        nan        nan\n",
      "        nan        nan        nan        nan        nan        nan\n",
      "        nan        nan        nan        nan        nan        nan\n",
      "        nan        nan        nan        nan        nan        nan\n",
      "        nan        nan        nan        nan        nan        nan\n",
      "        nan        nan        nan        nan        nan        nan\n",
      " 0.70032473 0.70130415 0.698489   0.7005292  0.70110185 0.6993486\n",
      " 0.70032473 0.70097895 0.68877328 0.68921369 0.70137284 0.69872631\n",
      " 0.70032473 0.70097895 0.68505961 0.68510026 0.70137284 0.69872631\n",
      " 0.70032473 0.70130415 0.698489   0.7005292  0.70110185 0.6993486\n",
      " 0.70032473 0.70097895 0.68877328 0.68921369 0.70137284 0.69872631\n",
      " 0.70032473 0.70097895 0.68505961 0.68510026 0.70137284 0.69872631\n",
      "        nan        nan        nan        nan        nan        nan\n",
      "        nan        nan        nan        nan        nan        nan\n",
      "        nan        nan        nan        nan        nan        nan\n",
      "        nan        nan        nan        nan        nan        nan\n",
      "        nan        nan        nan        nan        nan        nan\n",
      "        nan        nan        nan        nan        nan        nan\n",
      " 0.70037118 0.70142405 0.69821951 0.70057542 0.70066014 0.69961678\n",
      " 0.70037118 0.70100972 0.68787185 0.68894044 0.70107634 0.69793843\n",
      " 0.70037118 0.70100972 0.68467584 0.68405024 0.70107634 0.69793843\n",
      " 0.70037118 0.70142405 0.69821951 0.70057542 0.70066014 0.69961678\n",
      " 0.70037118 0.70100972 0.68787185 0.68894044 0.70107634 0.69793843\n",
      " 0.70037118 0.70100972 0.68467584 0.68405024 0.70107634 0.69793843\n",
      "        nan        nan        nan        nan        nan        nan\n",
      "        nan        nan        nan        nan        nan        nan\n",
      "        nan        nan        nan        nan        nan        nan\n",
      "        nan        nan        nan        nan        nan        nan\n",
      "        nan        nan        nan        nan        nan        nan\n",
      "        nan        nan        nan        nan        nan        nan\n",
      " 0.70011034 0.70091241 0.69795005 0.70049571 0.70038972 0.69926306\n",
      " 0.70011034 0.70055726 0.68815206 0.6887314  0.70084909 0.69756604\n",
      " 0.70011034 0.70055726 0.68417996 0.68395178 0.70084909 0.69756604\n",
      " 0.70011034 0.70091241 0.69795005 0.70049571 0.70038972 0.69926306\n",
      " 0.70011034 0.70055726 0.68815206 0.6887314  0.70084909 0.69756604\n",
      " 0.70011034 0.70055726 0.68417996 0.68395178 0.70084909 0.69756604\n",
      "        nan        nan        nan        nan        nan        nan\n",
      "        nan        nan        nan        nan        nan        nan\n",
      "        nan        nan        nan        nan        nan        nan\n",
      "        nan        nan        nan        nan        nan        nan\n",
      "        nan        nan        nan        nan        nan        nan\n",
      "        nan        nan        nan        nan        nan        nan\n",
      " 0.69999665 0.70075436 0.69763418 0.70025821 0.7004606  0.69913748\n",
      " 0.69999665 0.70028796 0.68791421 0.68772329 0.70033237 0.69761275\n",
      " 0.69999665 0.70028796 0.6836453  0.68357685 0.70033237 0.69761275\n",
      " 0.69999665 0.70075436 0.69763418 0.70025821 0.7004606  0.69913748\n",
      " 0.69999665 0.70028796 0.68791421 0.68772329 0.70033237 0.69761275\n",
      " 0.69999665 0.70028796 0.6836453  0.68357685 0.70033237 0.69761275]\n",
      "  warnings.warn(\n"
     ]
    },
    {
     "data": {
      "text/plain": [
       "GridSearchCV(cv=5,\n",
       "             estimator=Pipeline(steps=[('vect', CountVectorizer()),\n",
       "                                       ('reglog', LogisticRegression())]),\n",
       "             n_jobs=-1,\n",
       "             param_grid={'reglog__C': array([1.00000000e+00, 2.78255940e+00, 7.74263683e+00, 2.15443469e+01,\n",
       "       5.99484250e+01, 1.66810054e+02, 4.64158883e+02, 1.29154967e+03,\n",
       "       3.59381366e+03, 1.00000000e+04]),\n",
       "                         'reglog__penalty': ['l1', 'l2'],\n",
       "                         'vect__max_df': (1.0, 0.8),\n",
       "                         'vect__max_features': (400, 500, 600),\n",
       "                         'vect__min_df': (20, 15, 18),\n",
       "                         'vect__ngram_range': ((1, 1), (1, 2))},\n",
       "             scoring='roc_auc')"
      ]
     },
     "execution_count": 170,
     "metadata": {},
     "output_type": "execute_result"
    }
   ],
   "source": [
    "grid_search.fit(train_2['text'], train_2['target'])"
   ]
  },
  {
   "cell_type": "code",
   "execution_count": 171,
   "metadata": {
    "ExecuteTime": {
     "end_time": "2021-04-08T20:33:56.562461Z",
     "start_time": "2021-04-08T20:33:56.546745Z"
    }
   },
   "outputs": [
    {
     "data": {
      "text/plain": [
       "Pipeline(steps=[('vect', CountVectorizer(max_features=500, min_df=18)),\n",
       "                ('reglog', LogisticRegression())])"
      ]
     },
     "execution_count": 171,
     "metadata": {},
     "output_type": "execute_result"
    }
   ],
   "source": [
    "grid_search.best_estimator_"
   ]
  },
  {
   "cell_type": "code",
   "execution_count": 56,
   "metadata": {
    "ExecuteTime": {
     "end_time": "2021-04-08T18:25:35.955013Z",
     "start_time": "2021-04-08T18:25:35.884198Z"
    }
   },
   "outputs": [
    {
     "ename": "NameError",
     "evalue": "name 'grids' is not defined",
     "output_type": "error",
     "traceback": [
      "\u001b[0;31m---------------------------------------------------------------------------\u001b[0m",
      "\u001b[0;31mNameError\u001b[0m                                 Traceback (most recent call last)",
      "\u001b[0;32m<ipython-input-56-3f7298980831>\u001b[0m in \u001b[0;36m<module>\u001b[0;34m\u001b[0m\n\u001b[0;32m----> 1\u001b[0;31m \u001b[0mbest_grids\u001b[0m \u001b[0;34m=\u001b[0m \u001b[0;34m[\u001b[0m\u001b[0;34m(\u001b[0m\u001b[0mi\u001b[0m\u001b[0;34m,\u001b[0m \u001b[0mj\u001b[0m\u001b[0;34m.\u001b[0m\u001b[0mbest_score_\u001b[0m\u001b[0;34m)\u001b[0m \u001b[0;32mfor\u001b[0m \u001b[0mi\u001b[0m\u001b[0;34m,\u001b[0m \u001b[0mj\u001b[0m \u001b[0;32min\u001b[0m \u001b[0mgrids\u001b[0m\u001b[0;34m.\u001b[0m\u001b[0mitems\u001b[0m\u001b[0;34m(\u001b[0m\u001b[0;34m)\u001b[0m\u001b[0;34m]\u001b[0m\u001b[0;34m\u001b[0m\u001b[0;34m\u001b[0m\u001b[0m\n\u001b[0m\u001b[1;32m      2\u001b[0m best_grids = pd.DataFrame(best_grids,\n\u001b[1;32m      3\u001b[0m                           columns=['Grid',\n\u001b[1;32m      4\u001b[0m                                    'Best score']).sort_values(by='Best score',\n\u001b[1;32m      5\u001b[0m                                                               ascending=False)\n",
      "\u001b[0;31mNameError\u001b[0m: name 'grids' is not defined"
     ]
    }
   ],
   "source": [
    "best_grids = [(i, j.best_score_) for i, j in grids.items()]\n",
    "best_grids = pd.DataFrame(best_grids,\n",
    "                          columns=['Grid',\n",
    "                                   'Best score']).sort_values(by='Best score',\n",
    "                                                              ascending=False)"
   ]
  },
  {
   "cell_type": "code",
   "execution_count": 172,
   "metadata": {
    "ExecuteTime": {
     "end_time": "2021-04-08T20:34:15.528392Z",
     "start_time": "2021-04-08T20:34:15.511033Z"
    }
   },
   "outputs": [
    {
     "data": {
      "text/plain": [
       "0.7196858193133558"
      ]
     },
     "execution_count": 172,
     "metadata": {},
     "output_type": "execute_result"
    }
   ],
   "source": [
    "grid_search.best_score_"
   ]
  },
  {
   "cell_type": "code",
   "execution_count": 173,
   "metadata": {
    "ExecuteTime": {
     "end_time": "2021-04-08T20:34:36.153756Z",
     "start_time": "2021-04-08T20:34:36.110359Z"
    }
   },
   "outputs": [],
   "source": [
    "predictions_proba = grid_search.predict_proba(test_2['text'])"
   ]
  },
  {
   "cell_type": "code",
   "execution_count": 174,
   "metadata": {
    "ExecuteTime": {
     "end_time": "2021-04-08T20:34:36.855616Z",
     "start_time": "2021-04-08T20:34:36.846214Z"
    }
   },
   "outputs": [
    {
     "data": {
      "text/plain": [
       "id      2267\n",
       "text    2267\n",
       "dtype: int64"
      ]
     },
     "execution_count": 174,
     "metadata": {},
     "output_type": "execute_result"
    }
   ],
   "source": [
    "test_2.count()"
   ]
  },
  {
   "cell_type": "code",
   "execution_count": 175,
   "metadata": {
    "ExecuteTime": {
     "end_time": "2021-04-08T20:34:38.957415Z",
     "start_time": "2021-04-08T20:34:38.935329Z"
    }
   },
   "outputs": [],
   "source": [
    "submission = test_2[['id']]\n",
    "submission['target']= predictions_proba[:,1]\n",
    "\n",
    "submission.to_csv('sumission.csv', index =False)"
   ]
  },
  {
   "cell_type": "code",
   "execution_count": null,
   "metadata": {},
   "outputs": [],
   "source": []
  },
  {
   "cell_type": "code",
   "execution_count": null,
   "metadata": {},
   "outputs": [],
   "source": []
  }
 ],
 "metadata": {
  "hide_input": false,
  "kernelspec": {
   "display_name": "Python 3",
   "language": "python",
   "name": "python3"
  },
  "language_info": {
   "codemirror_mode": {
    "name": "ipython",
    "version": 3
   },
   "file_extension": ".py",
   "mimetype": "text/x-python",
   "name": "python",
   "nbconvert_exporter": "python",
   "pygments_lexer": "ipython3",
   "version": "3.8.5"
  },
  "toc": {
   "base_numbering": 1,
   "nav_menu": {},
   "number_sections": false,
   "sideBar": true,
   "skip_h1_title": false,
   "title_cell": "Table of Contents",
   "title_sidebar": "Contents",
   "toc_cell": false,
   "toc_position": {},
   "toc_section_display": true,
   "toc_window_display": false
  },
  "varInspector": {
   "cols": {
    "lenName": 16,
    "lenType": 16,
    "lenVar": 40
   },
   "kernels_config": {
    "python": {
     "delete_cmd_postfix": "",
     "delete_cmd_prefix": "del ",
     "library": "var_list.py",
     "varRefreshCmd": "print(var_dic_list())"
    },
    "r": {
     "delete_cmd_postfix": ") ",
     "delete_cmd_prefix": "rm(",
     "library": "var_list.r",
     "varRefreshCmd": "cat(var_dic_list()) "
    }
   },
   "types_to_exclude": [
    "module",
    "function",
    "builtin_function_or_method",
    "instance",
    "_Feature"
   ],
   "window_display": false
  }
 },
 "nbformat": 4,
 "nbformat_minor": 4
}
