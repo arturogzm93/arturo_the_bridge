{
 "cells": [
  {
   "cell_type": "markdown",
   "metadata": {},
   "source": [
    "Vamos a ver como hacer un web scraping con selenium"
   ]
  },
  {
   "cell_type": "markdown",
   "metadata": {},
   "source": [
    "Lo primero que tenemos que hacer es activar el manejador para eso tenemos que tener instalado el chromedriver"
   ]
  },
  {
   "cell_type": "code",
   "execution_count": 48,
   "metadata": {
    "ExecuteTime": {
     "end_time": "2021-02-26T12:16:59.303652Z",
     "start_time": "2021-02-26T12:16:59.300657Z"
    }
   },
   "outputs": [],
   "source": [
    "import pandas as pd\n",
    "from selenium import webdriver\n"
   ]
  },
  {
   "cell_type": "code",
   "execution_count": 2,
   "metadata": {
    "ExecuteTime": {
     "end_time": "2021-02-26T12:17:06.046221Z",
     "start_time": "2021-02-26T12:17:02.644470Z"
    }
   },
   "outputs": [
    {
     "output_type": "error",
     "ename": "NameError",
     "evalue": "name 'html' is not defined",
     "traceback": [
      "\u001b[1;31m---------------------------------------------------------------------------\u001b[0m",
      "\u001b[1;31mNameError\u001b[0m                                 Traceback (most recent call last)",
      "\u001b[1;32m<ipython-input-2-1fded77c2df9>\u001b[0m in \u001b[0;36m<module>\u001b[1;34m\u001b[0m\n\u001b[1;32m----> 1\u001b[1;33m \u001b[0mhtml\u001b[0m\u001b[1;33m/\u001b[0m\u001b[0mbody\u001b[0m\u001b[1;33m/\u001b[0m\u001b[0mdiv\u001b[0m\u001b[1;33m[\u001b[0m\u001b[1;36m5\u001b[0m\u001b[1;33m]\u001b[0m\u001b[1;33m/\u001b[0m\u001b[0mtable\u001b[0m\u001b[1;33m/\u001b[0m\u001b[0mtbody\u001b[0m\u001b[1;33m/\u001b[0m\u001b[0mtr\u001b[0m\u001b[1;33m/\u001b[0m\u001b[0mtd\u001b[0m\u001b[1;33m[\u001b[0m\u001b[1;36m2\u001b[0m\u001b[1;33m]\u001b[0m\u001b[1;33m/\u001b[0m\u001b[0mdiv\u001b[0m\u001b[1;33m[\u001b[0m\u001b[1;36m1\u001b[0m\u001b[1;33m]\u001b[0m\u001b[1;33m/\u001b[0m\u001b[0mdiv\u001b[0m\u001b[1;33m[\u001b[0m\u001b[1;36m4\u001b[0m\u001b[1;33m]\u001b[0m\u001b[1;33m/\u001b[0m\u001b[0mdiv\u001b[0m\u001b[1;33m[\u001b[0m\u001b[1;36m2\u001b[0m\u001b[1;33m]\u001b[0m\u001b[1;33m/\u001b[0m\u001b[0mdiv\u001b[0m\u001b[1;33m[\u001b[0m\u001b[1;36m1\u001b[0m\u001b[1;33m]\u001b[0m\u001b[1;33m/\u001b[0m\u001b[0mdiv\u001b[0m\u001b[1;33m[\u001b[0m\u001b[1;36m2\u001b[0m\u001b[1;33m]\u001b[0m\u001b[1;33m/\u001b[0m\u001b[0mdiv\u001b[0m\u001b[1;33m[\u001b[0m\u001b[1;36m3\u001b[0m\u001b[1;33m]\u001b[0m\u001b[1;33m(\u001b[0m\u001b[1;33m)\u001b[0m\u001b[1;33m\u001b[0m\u001b[1;33m\u001b[0m\u001b[0m\n\u001b[0m",
      "\u001b[1;31mNameError\u001b[0m: name 'html' is not defined"
     ]
    }
   ],
   "source": [
    "/html/body/div[5]/table/tbody/tr/td[2]/div[1]/div[4]/div[2]/div[1]/div[2]/div[3]"
   ]
  },
  {
   "cell_type": "code",
   "execution_count": 3,
   "metadata": {
    "ExecuteTime": {
     "end_time": "2021-02-26T10:22:46.333679Z",
     "start_time": "2021-02-26T10:22:45.178780Z"
    }
   },
   "outputs": [],
   "source": [
    "chrome_driver_path = r'C:\\\\Users\\\\artur\\\\Desktop\\\\repo_arturo\\\\Chrome driver web scrapping\\\\chromedriver.exe'\n",
    "\n",
    "options = webdriver.ChromeOptions()\n",
    "#options.add_argument('headless')\n",
    "\n",
    "driver = webdriver.Chrome(executable_path=chrome_driver_path, options=options)"
   ]
  },
  {
   "cell_type": "markdown",
   "metadata": {},
   "source": [
    "El objeto driver es con el que trabajaremos a partir de ahora aqui le indicaremos que pagina queremos scrapear"
   ]
  },
  {
   "cell_type": "code",
   "execution_count": 4,
   "metadata": {},
   "outputs": [],
   "source": [
    "url = 'https://www.filmaffinity.com/es/main.html'\n",
    "driver.get(url)"
   ]
  },
  {
   "cell_type": "markdown",
   "metadata": {},
   "source": [
    "Nos hemos encontrado con un pop-up que nos queremos saltar.\n",
    "- Buscamos el botón\n",
    "- Hacemos click en el botón\n",
    "\n",
    "selenium nos permite buscar elementos por etiqueteas de html: https://selenium-python.readthedocs.io/locating-elements.html\n",
    "\n",
    "CUIDADO! Los metodos de busqueda de elementos estan \"duplicados\". Tenemos *find_element_by_tag_name* y *find_elements_by_tag_name* el primero nos devolverá el primer elemento que encuentre (aunque haya más), el segundo nos devolverá una lista con todos los elementos que encuentre (aunque solo sea uno)"
   ]
  },
  {
   "cell_type": "code",
   "execution_count": 5,
   "metadata": {
    "ExecuteTime": {
     "end_time": "2021-02-26T10:22:48.546287Z",
     "start_time": "2021-02-26T10:22:48.489040Z"
    }
   },
   "outputs": [],
   "source": [
    "element_by_tag = driver.find_elements_by_tag_name('button')\n",
    "element_by_class_name = driver.find_elements_by_class_name('css-flk0bs')\n",
    "element_by_xpath = driver.find_element_by_xpath('/html/body/div[1]/div/div/div/div[2]/div/button[2]')"
   ]
  },
  {
   "cell_type": "markdown",
   "metadata": {},
   "source": [
    "Una vez tenemos los elementos podemos hacer varias cosas con ellos"
   ]
  },
  {
   "cell_type": "markdown",
   "metadata": {},
   "source": [
    "Podemos extraer todos los atributos que tenga"
   ]
  },
  {
   "cell_type": "code",
   "execution_count": 6,
   "metadata": {
    "ExecuteTime": {
     "end_time": "2021-02-26T10:22:51.542538Z",
     "start_time": "2021-02-26T10:22:51.508077Z"
    }
   },
   "outputs": [
    {
     "output_type": "execute_result",
     "data": {
      "text/plain": [
       "['__class__',\n",
       " '__delattr__',\n",
       " '__dict__',\n",
       " '__dir__',\n",
       " '__doc__',\n",
       " '__eq__',\n",
       " '__format__',\n",
       " '__ge__',\n",
       " '__getattribute__',\n",
       " '__gt__',\n",
       " '__hash__',\n",
       " '__init__',\n",
       " '__init_subclass__',\n",
       " '__le__',\n",
       " '__lt__',\n",
       " '__module__',\n",
       " '__ne__',\n",
       " '__new__',\n",
       " '__reduce__',\n",
       " '__reduce_ex__',\n",
       " '__repr__',\n",
       " '__setattr__',\n",
       " '__sizeof__',\n",
       " '__str__',\n",
       " '__subclasshook__',\n",
       " '__weakref__',\n",
       " '_execute',\n",
       " '_id',\n",
       " '_parent',\n",
       " '_upload',\n",
       " '_w3c',\n",
       " 'clear',\n",
       " 'click',\n",
       " 'find_element',\n",
       " 'find_element_by_class_name',\n",
       " 'find_element_by_css_selector',\n",
       " 'find_element_by_id',\n",
       " 'find_element_by_link_text',\n",
       " 'find_element_by_name',\n",
       " 'find_element_by_partial_link_text',\n",
       " 'find_element_by_tag_name',\n",
       " 'find_element_by_xpath',\n",
       " 'find_elements',\n",
       " 'find_elements_by_class_name',\n",
       " 'find_elements_by_css_selector',\n",
       " 'find_elements_by_id',\n",
       " 'find_elements_by_link_text',\n",
       " 'find_elements_by_name',\n",
       " 'find_elements_by_partial_link_text',\n",
       " 'find_elements_by_tag_name',\n",
       " 'find_elements_by_xpath',\n",
       " 'get_attribute',\n",
       " 'get_property',\n",
       " 'id',\n",
       " 'is_displayed',\n",
       " 'is_enabled',\n",
       " 'is_selected',\n",
       " 'location',\n",
       " 'location_once_scrolled_into_view',\n",
       " 'parent',\n",
       " 'rect',\n",
       " 'screenshot',\n",
       " 'screenshot_as_base64',\n",
       " 'screenshot_as_png',\n",
       " 'send_keys',\n",
       " 'size',\n",
       " 'submit',\n",
       " 'tag_name',\n",
       " 'text',\n",
       " 'value_of_css_property']"
      ]
     },
     "metadata": {},
     "execution_count": 6
    }
   ],
   "source": [
    "dir(element_by_xpath)"
   ]
  },
  {
   "cell_type": "code",
   "execution_count": 7,
   "metadata": {},
   "outputs": [
    {
     "output_type": "execute_result",
     "data": {
      "text/plain": [
       "'large'"
      ]
     },
     "metadata": {},
     "execution_count": 7
    }
   ],
   "source": [
    "element_by_xpath.get_attribute('size')"
   ]
  },
  {
   "cell_type": "markdown",
   "metadata": {},
   "source": [
    "Podemos evaluar que tipo de elemento es (tag)"
   ]
  },
  {
   "cell_type": "code",
   "execution_count": 8,
   "metadata": {
    "ExecuteTime": {
     "end_time": "2021-02-26T10:22:53.325430Z",
     "start_time": "2021-02-26T10:22:53.306520Z"
    }
   },
   "outputs": [
    {
     "output_type": "execute_result",
     "data": {
      "text/plain": [
       "'button'"
      ]
     },
     "metadata": {},
     "execution_count": 8
    }
   ],
   "source": [
    "element_by_xpath.tag_name"
   ]
  },
  {
   "cell_type": "markdown",
   "metadata": {},
   "source": [
    "Podemos sacar el valor que tiene (el texto)"
   ]
  },
  {
   "cell_type": "code",
   "execution_count": 9,
   "metadata": {
    "ExecuteTime": {
     "end_time": "2021-02-26T10:22:54.583190Z",
     "start_time": "2021-02-26T10:22:54.553596Z"
    }
   },
   "outputs": [
    {
     "output_type": "execute_result",
     "data": {
      "text/plain": [
       "'ACEPTO'"
      ]
     },
     "metadata": {},
     "execution_count": 9
    }
   ],
   "source": [
    "element_by_xpath.text"
   ]
  },
  {
   "cell_type": "markdown",
   "metadata": {},
   "source": [
    "Incluso podemos guardar una imagen del elemento"
   ]
  },
  {
   "cell_type": "code",
   "execution_count": 10,
   "metadata": {
    "ExecuteTime": {
     "end_time": "2021-02-26T10:24:41.830050Z",
     "start_time": "2021-02-26T10:24:41.510086Z"
    }
   },
   "outputs": [
    {
     "output_type": "execute_result",
     "data": {
      "text/plain": [
       "True"
      ]
     },
     "metadata": {},
     "execution_count": 10
    }
   ],
   "source": [
    "element_by_xpath.screenshot('acepto.png')"
   ]
  },
  {
   "cell_type": "markdown",
   "metadata": {
    "ExecuteTime": {
     "end_time": "2021-02-25T09:56:21.322475Z",
     "start_time": "2021-02-25T09:56:21.318715Z"
    }
   },
   "source": [
    "Evaluemos que elementos hemos encontrado por el tag"
   ]
  },
  {
   "cell_type": "code",
   "execution_count": 11,
   "metadata": {
    "ExecuteTime": {
     "end_time": "2021-02-25T10:40:47.561469Z",
     "start_time": "2021-02-25T10:40:46.812684Z"
    }
   },
   "outputs": [
    {
     "output_type": "stream",
     "name": "stdout",
     "text": [
      "Elemento:  0\n",
      "Este elemento tiene este texto:  socios\n",
      "Este elemento tiene este tag:  button\n",
      "Elemento:  1\n",
      "Este elemento tiene este texto:  MÁS OPCIONES\n",
      "Este elemento tiene este tag:  button\n",
      "Elemento:  2\n",
      "Este elemento tiene este texto:  ACEPTO\n",
      "Este elemento tiene este tag:  button\n"
     ]
    }
   ],
   "source": [
    "for index, element in enumerate(element_by_tag):\n",
    "    print('Elemento: ', index)\n",
    "    print('Este elemento tiene este texto: ', element.text)\n",
    "    print('Este elemento tiene este tag: ', element.tag_name)\n",
    "\n",
    "    element.screenshot(element.text + '.png') "
   ]
  },
  {
   "cell_type": "markdown",
   "metadata": {},
   "source": [
    "Nos quedamos con el boton que nos interesa"
   ]
  },
  {
   "cell_type": "code",
   "execution_count": 12,
   "metadata": {
    "ExecuteTime": {
     "end_time": "2021-02-26T10:24:47.302978Z",
     "start_time": "2021-02-26T10:24:47.291261Z"
    }
   },
   "outputs": [],
   "source": [
    "boton_aceptar = element_by_tag[2]"
   ]
  },
  {
   "cell_type": "markdown",
   "metadata": {},
   "source": [
    "Si el elemento es interactivo podremos hacer más cosas además de las anteriores. Como hacer click"
   ]
  },
  {
   "cell_type": "code",
   "execution_count": 13,
   "metadata": {
    "ExecuteTime": {
     "end_time": "2021-02-26T10:24:48.611716Z",
     "start_time": "2021-02-26T10:24:48.390430Z"
    }
   },
   "outputs": [],
   "source": [
    "boton_aceptar.click()"
   ]
  },
  {
   "cell_type": "markdown",
   "metadata": {},
   "source": [
    "Buscamos una pelicula"
   ]
  },
  {
   "cell_type": "code",
   "execution_count": 14,
   "metadata": {},
   "outputs": [],
   "source": [
    "from selenium.webdriver.common.keys import Keys"
   ]
  },
  {
   "cell_type": "code",
   "execution_count": 15,
   "metadata": {
    "ExecuteTime": {
     "end_time": "2021-02-26T10:28:14.592155Z",
     "start_time": "2021-02-26T10:28:13.509998Z"
    }
   },
   "outputs": [],
   "source": [
    "buscador = driver.find_element_by_xpath('/html/body/div[2]/div[1]/div/div[2]/form/input[1]')\n",
    "buscador.send_keys('El gran lebowski')\n",
    "buscador.send_keys(Keys.ENTER)"
   ]
  },
  {
   "cell_type": "code",
   "execution_count": 16,
   "metadata": {},
   "outputs": [],
   "source": [
    "driver.back()"
   ]
  },
  {
   "cell_type": "markdown",
   "metadata": {
    "ExecuteTime": {
     "end_time": "2021-02-25T10:09:19.308961Z",
     "start_time": "2021-02-25T10:09:19.299983Z"
    }
   },
   "source": [
    "Vamos a buscar todas las peliculas que se estrenan el proximos viernes"
   ]
  },
  {
   "cell_type": "markdown",
   "metadata": {},
   "source": [
    "1. Nos cogemos los containers que hay en la zona central"
   ]
  },
  {
   "cell_type": "code",
   "execution_count": 17,
   "metadata": {
    "ExecuteTime": {
     "end_time": "2021-02-25T10:40:53.961145Z",
     "start_time": "2021-02-25T10:40:53.793388Z"
    }
   },
   "outputs": [
    {
     "output_type": "execute_result",
     "data": {
      "text/plain": [
       "<selenium.webdriver.remote.webelement.WebElement (session=\"573749b959a81ed6c29cd8fcafd7d747\", element=\"484926fa-419c-4a40-9d84-d538d72dfd1c\")>"
      ]
     },
     "metadata": {},
     "execution_count": 17
    }
   ],
   "source": [
    "menu_lateral = driver.find_element_by_id('lsmenu')\n",
    "menu_lateral"
   ]
  },
  {
   "cell_type": "code",
   "execution_count": 18,
   "metadata": {},
   "outputs": [],
   "source": [
    "mis_as = menu_lateral.find_elements_by_tag_name('a')\n",
    "for una_a in mis_as:\n",
    "    if una_a.text == 'Próximos estrenos':\n",
    "        una_a.click()\n",
    "        break"
   ]
  },
  {
   "cell_type": "markdown",
   "metadata": {},
   "source": [
    "2. Vemos con cual nos tenemos que quedar"
   ]
  },
  {
   "cell_type": "code",
   "execution_count": 20,
   "metadata": {
    "ExecuteTime": {
     "end_time": "2021-02-25T10:40:55.130681Z",
     "start_time": "2021-02-25T10:40:54.930234Z"
    }
   },
   "outputs": [],
   "source": [
    "semanas = driver.find_elements_by_id('main-wrapper-rdcat')"
   ]
  },
  {
   "cell_type": "code",
   "execution_count": 26,
   "metadata": {},
   "outputs": [],
   "source": [
    "for semana in semanas:\n",
    "    #print(semana.find_element_by_tag_name('div').text)\n",
    "    fecha = semana.find_element_by_tag_name('div').get_attribute('id') # OTRA FORMA DE OBTENER LAS SEMANAS\n",
    "    if fecha == '2021-03-05':\n",
    "        break"
   ]
  },
  {
   "cell_type": "markdown",
   "metadata": {},
   "source": [
    "3. Dentro del container tenemos que ir al boton de \"ver más\""
   ]
  },
  {
   "cell_type": "code",
   "execution_count": 37,
   "metadata": {
    "ExecuteTime": {
     "end_time": "2021-02-25T10:40:57.145029Z",
     "start_time": "2021-02-25T10:40:57.127072Z"
    }
   },
   "outputs": [
    {
     "output_type": "execute_result",
     "data": {
      "text/plain": [
       "['https://www.filmaffinity.com/es/film145565.html',\n",
       " 'https://www.filmaffinity.com/es/film264807.html',\n",
       " 'https://www.filmaffinity.com/es/film918998.html',\n",
       " 'https://www.filmaffinity.com/es/film874262.html',\n",
       " 'https://www.filmaffinity.com/es/film563001.html',\n",
       " 'https://www.filmaffinity.com/es/film182307.html']"
      ]
     },
     "metadata": {},
     "execution_count": 37
    }
   ],
   "source": [
    "caratulas = semana.find_elements_by_class_name('mc-poster')\n",
    "lista_links = []\n",
    "for peli in caratulas:\n",
    "    lista_links.append(peli.find_element_by_tag_name('a').get_attribute('href'))\n",
    "\n",
    "lista_links\n",
    "    "
   ]
  },
  {
   "cell_type": "markdown",
   "metadata": {},
   "source": [
    "4. Una vez en el div del boton tenemos que llegar a la *a* "
   ]
  },
  {
   "cell_type": "code",
   "execution_count": 39,
   "metadata": {
    "ExecuteTime": {
     "end_time": "2021-02-25T10:40:58.353853Z",
     "start_time": "2021-02-25T10:40:58.340849Z"
    }
   },
   "outputs": [],
   "source": [
    "driver.get(lista_links[2])"
   ]
  },
  {
   "cell_type": "markdown",
   "metadata": {},
   "source": [
    "5. Ahora podríamos hacer click como hemos hecho antes con el boton de aceptar las cooks"
   ]
  },
  {
   "cell_type": "code",
   "execution_count": 40,
   "metadata": {},
   "outputs": [],
   "source": [
    "titulo = driver.find_element_by_xpath('/html/body/div[4]/table/tbody/tr/td[2]/div[1]/div[4]/h1/span').text\n",
    "nota = driver.find_element_by_xpath('/html/body/div[4]/table/tbody/tr/td[2]/div[1]/div[4]/div/div[2]/div[2]/div[1]/div[2]/div[1]').text\n",
    "votos = driver.find_element_by_xpath('/html/body/div[4]/table/tbody/tr/td[2]/div[1]/div[4]/div/div[2]/div[2]/div[1]/div[2]/div[2]/span').text\n",
    "ficha = driver.find_element_by_xpath('/html/body/div[4]/table/tbody/tr/td[2]/div[1]/div[4]/div/div[3]/dl[1]')"
   ]
  },
  {
   "cell_type": "code",
   "execution_count": 42,
   "metadata": {},
   "outputs": [
    {
     "output_type": "stream",
     "name": "stdout",
     "text": [
      "Y llovieron pájaros\n5,8\n109\n<selenium.webdriver.remote.webelement.WebElement (session=\"573749b959a81ed6c29cd8fcafd7d747\", element=\"bdea601d-12a1-41d9-877c-b592736717ab\")>\n"
     ]
    }
   ],
   "source": [
    "print(titulo)\n",
    "print(nota)\n",
    "print(votos)\n",
    "print(ficha)"
   ]
  },
  {
   "cell_type": "markdown",
   "metadata": {},
   "source": [
    "Accedemos al container de la semana que queremos ver, exactamente igual que hemos hecho antes"
   ]
  },
  {
   "cell_type": "code",
   "execution_count": 44,
   "metadata": {
    "ExecuteTime": {
     "end_time": "2021-02-25T10:43:53.772471Z",
     "start_time": "2021-02-25T10:43:53.757510Z"
    }
   },
   "outputs": [
    {
     "output_type": "execute_result",
     "data": {
      "text/plain": [
       "['Il pleuvait des oiseaux aka',\n",
       " '',\n",
       " '2019',\n",
       " '124 min.',\n",
       " ' Canadá',\n",
       " 'Louise Archambault',\n",
       " 'Louise Archambault (Novela: Jocelyne Saucier)',\n",
       " 'David Ratté, Andréa Bélanger',\n",
       " 'Mathieu Laverdière',\n",
       " 'Kenneth Welsh, Andrée Lachapelle, Gilbert Sicotte, Rémy Girard, Ève Landry, Éric Robidoux, Louise Portal',\n",
       " 'Films Outsiders',\n",
       " 'Drama | Vejez/Madurez',\n",
       " 'Esta es la historia de tres ancianos que han elegido retirarse del mundo y vivir en los bosques de Canadá. Al tiempo que un gran incendio amenaza la región, alguien llega hasta su escondite: una joven fotógrafa que busca a un tal Boychuck. Y no es la única. Poco después, una mujer de más de 80 años aparece como una brisa ligera que alborotará sus vidas. Mientras intentan comprender la historia de Boychuck a través de sus pinturas, algo extraordinario surgirá entre todos ellos. (FILMAFFINITY)']"
      ]
     },
     "metadata": {},
     "execution_count": 44
    }
   ],
   "source": [
    "ficha_names = []\n",
    "ficha_values = []\n",
    "\n",
    "for name in ficha.find_elements_by_tag_name('dt'):\n",
    "    ficha_names.append(name.text)\n",
    "\n",
    "for value in ficha.find_elements_by_tag_name('dd'):\n",
    "    ficha_values.append(value.text)\n",
    "\n",
    "ficha_values"
   ]
  },
  {
   "cell_type": "code",
   "execution_count": 49,
   "metadata": {
    "ExecuteTime": {
     "end_time": "2021-02-25T11:04:59.734561Z",
     "start_time": "2021-02-25T11:04:59.617626Z"
    }
   },
   "outputs": [
    {
     "output_type": "execute_result",
     "data": {
      "text/plain": [
       "                Titulo Nota Votos              Título original     Año  \\\n",
       "0  Y llovieron pájaros  5,8   109  Il pleuvait des oiseaux aka    2019   \n",
       "\n",
       "   Duración     País           Dirección  \\\n",
       "0  124 min.   Canadá  Louise Archambault   \n",
       "\n",
       "                                           Guion  \\\n",
       "0  Louise Archambault (Novela: Jocelyne Saucier)   \n",
       "\n",
       "                         Música          Fotografía  \\\n",
       "0  David Ratté, Andréa Bélanger  Mathieu Laverdière   \n",
       "\n",
       "                                             Reparto       Productora  \\\n",
       "0  Kenneth Welsh, Andrée Lachapelle, Gilbert Sico...  Films Outsiders   \n",
       "\n",
       "                  Género                                           Sinopsis  \n",
       "0  Drama | Vejez/Madurez  Esta es la historia de tres ancianos que han e...  "
      ],
      "text/html": "<div>\n<style scoped>\n    .dataframe tbody tr th:only-of-type {\n        vertical-align: middle;\n    }\n\n    .dataframe tbody tr th {\n        vertical-align: top;\n    }\n\n    .dataframe thead th {\n        text-align: right;\n    }\n</style>\n<table border=\"1\" class=\"dataframe\">\n  <thead>\n    <tr style=\"text-align: right;\">\n      <th></th>\n      <th>Titulo</th>\n      <th>Nota</th>\n      <th>Votos</th>\n      <th>Título original</th>\n      <th></th>\n      <th>Año</th>\n      <th>Duración</th>\n      <th>País</th>\n      <th>Dirección</th>\n      <th>Guion</th>\n      <th>Música</th>\n      <th>Fotografía</th>\n      <th>Reparto</th>\n      <th>Productora</th>\n      <th>Género</th>\n      <th>Sinopsis</th>\n    </tr>\n  </thead>\n  <tbody>\n    <tr>\n      <th>0</th>\n      <td>Y llovieron pájaros</td>\n      <td>5,8</td>\n      <td>109</td>\n      <td>Il pleuvait des oiseaux aka</td>\n      <td></td>\n      <td>2019</td>\n      <td>124 min.</td>\n      <td>Canadá</td>\n      <td>Louise Archambault</td>\n      <td>Louise Archambault (Novela: Jocelyne Saucier)</td>\n      <td>David Ratté, Andréa Bélanger</td>\n      <td>Mathieu Laverdière</td>\n      <td>Kenneth Welsh, Andrée Lachapelle, Gilbert Sico...</td>\n      <td>Films Outsiders</td>\n      <td>Drama | Vejez/Madurez</td>\n      <td>Esta es la historia de tres ancianos que han e...</td>\n    </tr>\n  </tbody>\n</table>\n</div>"
     },
     "metadata": {},
     "execution_count": 49
    }
   ],
   "source": [
    "columnas = ['Titulo', 'Nota', 'Votos']\n",
    "columnas.extend(ficha_names)\n",
    "columnas\n",
    "\n",
    "values = [titulo, nota, votos]\n",
    "values.extend(ficha_values)\n",
    "values\n",
    "\n",
    "pd.DataFrame([values], columns=columnas)"
   ]
  },
  {
   "cell_type": "markdown",
   "metadata": {
    "ExecuteTime": {
     "end_time": "2021-02-25T11:04:08.219853Z",
     "start_time": "2021-02-25T11:04:08.215863Z"
    }
   },
   "source": [
    "Buscamos las peliculas"
   ]
  },
  {
   "cell_type": "code",
   "execution_count": 139,
   "metadata": {
    "ExecuteTime": {
     "end_time": "2021-02-25T11:10:28.294864Z",
     "start_time": "2021-02-25T11:10:28.174126Z"
    }
   },
   "outputs": [
    {
     "data": {
      "text/plain": [
       "['https://www.filmaffinity.com/es/film783812.html',\n",
       " 'https://www.filmaffinity.com/es/film766252.html',\n",
       " 'https://www.filmaffinity.com/es/film228161.html',\n",
       " 'https://www.filmaffinity.com/es/film244293.html',\n",
       " 'https://www.filmaffinity.com/es/film350880.html',\n",
       " 'https://www.filmaffinity.com/es/film674272.html',\n",
       " 'https://www.filmaffinity.com/es/film687348.html',\n",
       " 'https://www.filmaffinity.com/es/film838012.html',\n",
       " 'https://www.filmaffinity.com/es/film561634.html']"
      ]
     },
     "execution_count": 139,
     "metadata": {},
     "output_type": "execute_result"
    }
   ],
   "source": []
  },
  {
   "cell_type": "markdown",
   "metadata": {},
   "source": [
    "Vamos a crear una función que nos haga todo esto"
   ]
  },
  {
   "cell_type": "markdown",
   "metadata": {},
   "source": [
    "## Modo Dios moviendonos entre ventanas"
   ]
  },
  {
   "cell_type": "markdown",
   "metadata": {},
   "source": [
    "Vamos a ver como nos podemos mover entre ventanas del navegador\n",
    "\n",
    "Abrir nueva ventana:"
   ]
  },
  {
   "cell_type": "code",
   "execution_count": 54,
   "metadata": {},
   "outputs": [],
   "source": [
    "driver.execute_script('window.open(\"\");')"
   ]
  },
  {
   "cell_type": "markdown",
   "metadata": {},
   "source": [
    "Movernos a otra ventana"
   ]
  },
  {
   "cell_type": "code",
   "execution_count": 60,
   "metadata": {},
   "outputs": [],
   "source": [
    "driver.switch_to.window(driver.window_handles[1])"
   ]
  },
  {
   "cell_type": "markdown",
   "metadata": {},
   "source": [
    "Cerrar ventana"
   ]
  },
  {
   "cell_type": "code",
   "execution_count": 59,
   "metadata": {
    "ExecuteTime": {
     "end_time": "2021-02-25T12:04:17.177986Z",
     "start_time": "2021-02-25T12:04:17.160442Z"
    },
    "collapsed": true
   },
   "outputs": [],
   "source": [
    "driver.close()"
   ]
  },
  {
   "cell_type": "markdown",
   "metadata": {},
   "source": [
    "Una vez cerramos la ventana tenemos que indicarle a que ventana tiene que ir"
   ]
  },
  {
   "cell_type": "code",
   "execution_count": 73,
   "metadata": {
    "ExecuteTime": {
     "end_time": "2021-02-25T12:05:01.711952Z",
     "start_time": "2021-02-25T12:05:01.583709Z"
    }
   },
   "outputs": [],
   "source": [
    "driver.switch_to.window(driver.window_handles[-1])"
   ]
  },
  {
   "cell_type": "markdown",
   "metadata": {},
   "source": [
    "Sabiendo como podemos movernos por entre las ventanas y sabiendo como extraer de cada pagina toda la información que necesitamos vamos a crear nuestro dataframe"
   ]
  },
  {
   "cell_type": "code",
   "execution_count": 62,
   "metadata": {
    "ExecuteTime": {
     "end_time": "2021-02-25T12:00:27.038323Z",
     "start_time": "2021-02-25T11:59:37.219902Z"
    }
   },
   "outputs": [],
   "source": [
    "\n",
    "for link in lista_links:\n",
    "    driver.execute_script('window.open(\"\");')\n",
    "    driver.switch_to.window(driver.window_handles[-1])\n",
    "    driver.get(link)"
   ]
  },
  {
   "cell_type": "code",
   "execution_count": 72,
   "metadata": {},
   "outputs": [],
   "source": [
    "# FUNCIONES PARA CREAR EL DATAFRAME CON TODAS LAS PELICULAS\n",
    "\n",
    "def sacar_info(driver):\n",
    "\n",
    "    titulo = driver.find_element_by_xpath('/html/body/div[4]/table/tbody/tr/td[2]/div[1]/div[4]/h1/span').text\n",
    "\n",
    "    try:\n",
    "        nota = driver.find_element_by_xpath('/html/body/div[4]/table/tbody/tr/td[2]/div[1]/div[4]/div/div[2]/div[2]/div[1]/div[2]/div[1]').text\n",
    "        votos = driver.find_element_by_xpath('/html/body/div[4]/table/tbody/tr/td[2]/div[1]/div[4]/div/div[2]/div[2]/div[1]/div[2]/div[2]/span').text\n",
    "    \n",
    "    except:\n",
    "\n",
    "        nota = None\n",
    "        votos = None\n",
    "        \n",
    "    ficha = driver.find_element_by_xpath('/html/body/div[4]/table/tbody/tr/td[2]/div[1]/div[4]/div/div[3]/dl[1]')\n",
    "\n",
    "    return titulo, nota, votos, ficha\n",
    "\n",
    "def ficha_tecnica(ficha):\n",
    "\n",
    "    ficha_names = []\n",
    "    ficha_values = []\n",
    "\n",
    "    for name in ficha.find_elements_by_tag_name('dt'):\n",
    "        ficha_names.append(name.text)\n",
    "\n",
    "    for value in ficha.find_elements_by_tag_name('dd'):\n",
    "        ficha_values.append(value.text)\n",
    "\n",
    "    return ficha_names, ficha_values\n",
    "\n",
    "def contruir_df(ficha_names, ficha_values, titulo, nota, votos):\n",
    "\n",
    "    columnas = ['Titulo', 'Nota', 'Votos']\n",
    "    columnas.extend(ficha_names)\n",
    "    \n",
    "\n",
    "    values = [titulo, nota, votos]\n",
    "    values.extend(ficha_values)\n",
    "    \n",
    "    return pd.DataFrame([values], columns=columnas)\n",
    "\n",
    "def nueva_pelicula(driver):\n",
    "\n",
    "    titulo, nota, votos, ficha = sacar_info(driver)\n",
    "    ficha_names, ficha_values = ficha_tecnica(ficha)\n",
    "    mi_peli = contruir_df(ficha_names, ficha_values, titulo, nota, votos)\n",
    "\n",
    "    return mi_peli"
   ]
  },
  {
   "cell_type": "code",
   "execution_count": 74,
   "metadata": {},
   "outputs": [
    {
     "output_type": "execute_result",
     "data": {
      "text/plain": [
       "                          Titulo  Nota Votos              Título original  \\\n",
       "0        Raya y el último dragón  None  None     Raya and the Last Dragon   \n",
       "0  The Owners (Los propietarios)   4,9   436                   The Owners   \n",
       "0            Y llovieron pájaros   5,8   109  Il pleuvait des oiseaux aka   \n",
       "0                       Birdsong   5,6    21                     Birdsong   \n",
       "0                          Woman   7,4    21                        Woman   \n",
       "0                        La Mami   6,4   298                      La Mami   \n",
       "\n",
       "    Año  Duración             País  \\\n",
       "0  2021  114 min.   Estados Unidos   \n",
       "0  2020   92 min.      Reino Unido   \n",
       "0  2019  124 min.           Canadá   \n",
       "0  2019   90 min.          Bélgica   \n",
       "0  2019  105 min.          Francia   \n",
       "0  2019   80 min.           México   \n",
       "\n",
       "                                           Dirección  \\\n",
       "0  Don Hall, Carlos López Estrada, Paul Briggs, J...   \n",
       "0                                        Julius Berg   \n",
       "0                                 Louise Archambault   \n",
       "0                                  Hendrik Willemyns   \n",
       "0             Yann Arthus-Bertrand, Anastasia Mikova   \n",
       "0                               Laura Herrero Garvín   \n",
       "\n",
       "                                               Guion  \\\n",
       "0  Qui Nguyen, Adele Lim (Historia: Paul Briggs, ...   \n",
       "0  Julius Berg, Matthieu Gompel, Geoff Cox (Cómic...   \n",
       "0      Louise Archambault (Novela: Jocelyne Saucier)   \n",
       "0                                  Hendrik Willemyns   \n",
       "0             Anastasia Mikova, Yann Arthus-Bertrand   \n",
       "0                                                NaN   \n",
       "\n",
       "                              Música            Fotografía  \\\n",
       "0                James Newton Howard             Animación   \n",
       "0    Jean Paul Frazer, Vincent Welch          David Ungaro   \n",
       "0       David Ratté, Andréa Bélanger    Mathieu Laverdière   \n",
       "0  Timothy Bruzon, Hendrik Willemyns         Michael Dwyer   \n",
       "0                                NaN                   NaN   \n",
       "0                                NaN  Laura Herrero Garvín   \n",
       "\n",
       "                                             Reparto  \\\n",
       "0                                          Animación   \n",
       "0  Maisie Williams, Rita Tushingham, Sylvester Mc...   \n",
       "0  Kenneth Welsh, Andrée Lachapelle, Gilbert Sico...   \n",
       "0  Kazuhiko Kanayama, Natsuko Kobayashi, Akaji Ma...   \n",
       "0                                         Documental   \n",
       "0                                         Documental   \n",
       "\n",
       "                                          Productora  \\\n",
       "0  Walt Disney Animation Studios (Distribuidora: ...   \n",
       "0  Co-production Reino Unido-Canadá; Blue Light, ...   \n",
       "0                                    Films Outsiders   \n",
       "0         Co-production Bélgica-Japón; Menuetto Film   \n",
       "0                                    Hope Production   \n",
       "0  Co-production México-España; Cacerola Films, G...   \n",
       "\n",
       "                                              Género                   Grupos  \\\n",
       "0        Animación. Fantástico. Aventuras | Dragones  Clásicos de Walt Disney   \n",
       "0   Terror. Thriller | Años 90. Thriller psicológico                      NaN   \n",
       "0                              Drama | Vejez/Madurez                      NaN   \n",
       "0                         Drama. Fantástico | Música                      NaN   \n",
       "0                             Documental | Feminismo                      NaN   \n",
       "0  Documental | Feminismo. Basado en hechos reale...                      NaN   \n",
       "\n",
       "                                            Sinopsis       \n",
       "0  En el fantástico mundo de Kumandra, humanos y ...  NaN  \n",
       "0  Inglaterra rural, principios de los noventa: l...  NaN  \n",
       "0  Esta es la historia de tres ancianos que han e...       \n",
       "0  Tokio. Asuka, una joven de la limpieza que tra...  NaN  \n",
       "0  Documental que nos lleva por todos los rincone...  NaN  \n",
       "0  En el cabaret Barba Azul, en Ciudad de México,...  NaN  "
      ],
      "text/html": "<div>\n<style scoped>\n    .dataframe tbody tr th:only-of-type {\n        vertical-align: middle;\n    }\n\n    .dataframe tbody tr th {\n        vertical-align: top;\n    }\n\n    .dataframe thead th {\n        text-align: right;\n    }\n</style>\n<table border=\"1\" class=\"dataframe\">\n  <thead>\n    <tr style=\"text-align: right;\">\n      <th></th>\n      <th>Titulo</th>\n      <th>Nota</th>\n      <th>Votos</th>\n      <th>Título original</th>\n      <th>Año</th>\n      <th>Duración</th>\n      <th>País</th>\n      <th>Dirección</th>\n      <th>Guion</th>\n      <th>Música</th>\n      <th>Fotografía</th>\n      <th>Reparto</th>\n      <th>Productora</th>\n      <th>Género</th>\n      <th>Grupos</th>\n      <th>Sinopsis</th>\n      <th></th>\n    </tr>\n  </thead>\n  <tbody>\n    <tr>\n      <th>0</th>\n      <td>Raya y el último dragón</td>\n      <td>None</td>\n      <td>None</td>\n      <td>Raya and the Last Dragon</td>\n      <td>2021</td>\n      <td>114 min.</td>\n      <td>Estados Unidos</td>\n      <td>Don Hall, Carlos López Estrada, Paul Briggs, J...</td>\n      <td>Qui Nguyen, Adele Lim (Historia: Paul Briggs, ...</td>\n      <td>James Newton Howard</td>\n      <td>Animación</td>\n      <td>Animación</td>\n      <td>Walt Disney Animation Studios (Distribuidora: ...</td>\n      <td>Animación. Fantástico. Aventuras | Dragones</td>\n      <td>Clásicos de Walt Disney</td>\n      <td>En el fantástico mundo de Kumandra, humanos y ...</td>\n      <td>NaN</td>\n    </tr>\n    <tr>\n      <th>0</th>\n      <td>The Owners (Los propietarios)</td>\n      <td>4,9</td>\n      <td>436</td>\n      <td>The Owners</td>\n      <td>2020</td>\n      <td>92 min.</td>\n      <td>Reino Unido</td>\n      <td>Julius Berg</td>\n      <td>Julius Berg, Matthieu Gompel, Geoff Cox (Cómic...</td>\n      <td>Jean Paul Frazer, Vincent Welch</td>\n      <td>David Ungaro</td>\n      <td>Maisie Williams, Rita Tushingham, Sylvester Mc...</td>\n      <td>Co-production Reino Unido-Canadá; Blue Light, ...</td>\n      <td>Terror. Thriller | Años 90. Thriller psicológico</td>\n      <td>NaN</td>\n      <td>Inglaterra rural, principios de los noventa: l...</td>\n      <td>NaN</td>\n    </tr>\n    <tr>\n      <th>0</th>\n      <td>Y llovieron pájaros</td>\n      <td>5,8</td>\n      <td>109</td>\n      <td>Il pleuvait des oiseaux aka</td>\n      <td>2019</td>\n      <td>124 min.</td>\n      <td>Canadá</td>\n      <td>Louise Archambault</td>\n      <td>Louise Archambault (Novela: Jocelyne Saucier)</td>\n      <td>David Ratté, Andréa Bélanger</td>\n      <td>Mathieu Laverdière</td>\n      <td>Kenneth Welsh, Andrée Lachapelle, Gilbert Sico...</td>\n      <td>Films Outsiders</td>\n      <td>Drama | Vejez/Madurez</td>\n      <td>NaN</td>\n      <td>Esta es la historia de tres ancianos que han e...</td>\n      <td></td>\n    </tr>\n    <tr>\n      <th>0</th>\n      <td>Birdsong</td>\n      <td>5,6</td>\n      <td>21</td>\n      <td>Birdsong</td>\n      <td>2019</td>\n      <td>90 min.</td>\n      <td>Bélgica</td>\n      <td>Hendrik Willemyns</td>\n      <td>Hendrik Willemyns</td>\n      <td>Timothy Bruzon, Hendrik Willemyns</td>\n      <td>Michael Dwyer</td>\n      <td>Kazuhiko Kanayama, Natsuko Kobayashi, Akaji Ma...</td>\n      <td>Co-production Bélgica-Japón; Menuetto Film</td>\n      <td>Drama. Fantástico | Música</td>\n      <td>NaN</td>\n      <td>Tokio. Asuka, una joven de la limpieza que tra...</td>\n      <td>NaN</td>\n    </tr>\n    <tr>\n      <th>0</th>\n      <td>Woman</td>\n      <td>7,4</td>\n      <td>21</td>\n      <td>Woman</td>\n      <td>2019</td>\n      <td>105 min.</td>\n      <td>Francia</td>\n      <td>Yann Arthus-Bertrand, Anastasia Mikova</td>\n      <td>Anastasia Mikova, Yann Arthus-Bertrand</td>\n      <td>NaN</td>\n      <td>NaN</td>\n      <td>Documental</td>\n      <td>Hope Production</td>\n      <td>Documental | Feminismo</td>\n      <td>NaN</td>\n      <td>Documental que nos lleva por todos los rincone...</td>\n      <td>NaN</td>\n    </tr>\n    <tr>\n      <th>0</th>\n      <td>La Mami</td>\n      <td>6,4</td>\n      <td>298</td>\n      <td>La Mami</td>\n      <td>2019</td>\n      <td>80 min.</td>\n      <td>México</td>\n      <td>Laura Herrero Garvín</td>\n      <td>NaN</td>\n      <td>NaN</td>\n      <td>Laura Herrero Garvín</td>\n      <td>Documental</td>\n      <td>Co-production México-España; Cacerola Films, G...</td>\n      <td>Documental | Feminismo. Basado en hechos reale...</td>\n      <td>NaN</td>\n      <td>En el cabaret Barba Azul, en Ciudad de México,...</td>\n      <td>NaN</td>\n    </tr>\n  </tbody>\n</table>\n</div>"
     },
     "metadata": {},
     "execution_count": 74
    }
   ],
   "source": [
    "peliculas = pd.DataFrame()\n",
    "\n",
    "for link in lista_links:\n",
    "    driver.execute_script('window.open(\"\");')\n",
    "    driver.switch_to.window(driver.window_handles[-1])\n",
    "    driver.get(link)\n",
    "\n",
    "    nueva_peli = nueva_pelicula(driver)\n",
    "    peliculas = peliculas.append(nueva_peli)\n",
    "\n",
    "peliculas"
   ]
  }
 ],
 "metadata": {
  "kernelspec": {
   "display_name": "Python 3",
   "language": "python",
   "name": "python3"
  },
  "language_info": {
   "codemirror_mode": {
    "name": "ipython",
    "version": 3
   },
   "file_extension": ".py",
   "mimetype": "text/x-python",
   "name": "python",
   "nbconvert_exporter": "python",
   "pygments_lexer": "ipython3",
   "version": "3.8.5-final"
  },
  "nbTranslate": {
   "displayLangs": [
    "*"
   ],
   "hotkey": "alt-t",
   "langInMainMenu": true,
   "sourceLang": "en",
   "targetLang": "fr",
   "useGoogleTranslate": true
  },
  "varInspector": {
   "cols": {
    "lenName": 16,
    "lenType": 16,
    "lenVar": 40
   },
   "kernels_config": {
    "python": {
     "delete_cmd_postfix": "",
     "delete_cmd_prefix": "del ",
     "library": "var_list.py",
     "varRefreshCmd": "print(var_dic_list())"
    },
    "r": {
     "delete_cmd_postfix": ") ",
     "delete_cmd_prefix": "rm(",
     "library": "var_list.r",
     "varRefreshCmd": "cat(var_dic_list()) "
    }
   },
   "types_to_exclude": [
    "module",
    "function",
    "builtin_function_or_method",
    "instance",
    "_Feature"
   ],
   "window_display": false
  }
 },
 "nbformat": 4,
 "nbformat_minor": 2
}