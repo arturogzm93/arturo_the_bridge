{
 "cells": [
  {
   "cell_type": "markdown",
   "metadata": {},
   "source": [
    "Vamos a ver como hacer un web scraping con selenium"
   ]
  },
  {
   "cell_type": "markdown",
   "metadata": {},
   "source": [
    "Lo primero que tenemos que hacer es activar el manejador para eso tenemos que tener instalado el chromedriver"
   ]
  },
  {
   "cell_type": "code",
   "execution_count": 2,
   "metadata": {
    "ExecuteTime": {
     "end_time": "2021-02-26T12:16:59.303652Z",
     "start_time": "2021-02-26T12:16:59.300657Z"
    }
   },
   "outputs": [],
   "source": [
    "import pandas as pd\n",
    "from selenium import webdriver"
   ]
  },
  {
   "cell_type": "code",
   "execution_count": 3,
   "metadata": {
    "ExecuteTime": {
     "end_time": "2021-02-26T12:17:06.046221Z",
     "start_time": "2021-02-26T12:17:02.644470Z"
    }
   },
   "outputs": [],
   "source": [
    "driverPath = \"chromedriver.exe\" # ruta del ejecutable, lo he descargado de https://chromedriver.chromium.org/downloads\n",
    "\n",
    "options = webdriver.ChromeOptions()\n",
    "\n",
    "# options.add_argument('headless') # con esto no se vería el navegador\n",
    "\n",
    "driver = webdriver.Chrome(executable_path = driverPath)"
   ]
  },
  {
   "cell_type": "markdown",
   "metadata": {},
   "source": [
    "El objeto driver es con el que trabajaremos a partir de ahora aqui le indicaremos que pagina queremos scrapear"
   ]
  },
  {
   "cell_type": "code",
   "execution_count": 4,
   "metadata": {
    "ExecuteTime": {
     "end_time": "2021-02-26T10:22:46.333679Z",
     "start_time": "2021-02-26T10:22:45.178780Z"
    }
   },
   "outputs": [],
   "source": [
    "driver.get('https://www.filmaffinity.com/es/main.html')"
   ]
  },
  {
   "cell_type": "markdown",
   "metadata": {},
   "source": [
    "Nos hemos encontrado con un pop-up que nos queremos saltar.\n",
    "- Buscamos el botón\n",
    "- Hacemos click en el botón\n",
    "\n",
    "selenium nos permite buscar elementos por etiqueteas de html: https://selenium-python.readthedocs.io/locating-elements.html\n",
    "\n",
    "CUIDADO! Los metodos de busqueda de elementos estan \"duplicados\". Tenemos **find_element_by_tag_name** y **find_elements_by_tag_name** el ***primero*** nos devolverá el primer elemento que encuentre (aunque haya más), el ***segundo*** nos devolverá una lista con todos los elementos que encuentre (aunque solo sea uno)"
   ]
  },
  {
   "cell_type": "code",
   "execution_count": 5,
   "metadata": {
    "ExecuteTime": {
     "end_time": "2021-02-26T10:22:48.546287Z",
     "start_time": "2021-02-26T10:22:48.489040Z"
    }
   },
   "outputs": [],
   "source": [
    "isButton = False\n",
    "\n",
    "try: \n",
    "    \n",
    "    button = driver.find_element_by_xpath(\"/html/body/div[1]/div/div/div/div[2]/div/button[2]\")\n",
    "    button2 = driver.find_element_by_class_name(\"css-flk0bs\")\n",
    "    button3 = driver.find_elements_by_tag_name(\"button\")\n",
    "    isButton = True\n",
    "    \n",
    "except:\n",
    "    \n",
    "    print(\"Error\")"
   ]
  },
  {
   "cell_type": "markdown",
   "metadata": {},
   "source": [
    "Una vez tenemos los elementos podemos hacer varias cosas con ellos"
   ]
  },
  {
   "cell_type": "markdown",
   "metadata": {},
   "source": [
    "Podemos extraer todos los atributos que tenga"
   ]
  },
  {
   "cell_type": "code",
   "execution_count": 41,
   "metadata": {
    "ExecuteTime": {
     "end_time": "2021-02-26T10:22:51.542538Z",
     "start_time": "2021-02-26T10:22:51.508077Z"
    }
   },
   "outputs": [
    {
     "data": {
      "text/plain": [
       "['__class__',\n",
       " '__delattr__',\n",
       " '__dict__',\n",
       " '__dir__',\n",
       " '__doc__',\n",
       " '__eq__',\n",
       " '__format__',\n",
       " '__ge__',\n",
       " '__getattribute__',\n",
       " '__gt__',\n",
       " '__hash__',\n",
       " '__init__',\n",
       " '__init_subclass__',\n",
       " '__le__',\n",
       " '__lt__',\n",
       " '__module__',\n",
       " '__ne__',\n",
       " '__new__',\n",
       " '__reduce__',\n",
       " '__reduce_ex__',\n",
       " '__repr__',\n",
       " '__setattr__',\n",
       " '__sizeof__',\n",
       " '__str__',\n",
       " '__subclasshook__',\n",
       " '__weakref__',\n",
       " '_execute',\n",
       " '_id',\n",
       " '_parent',\n",
       " '_upload',\n",
       " '_w3c',\n",
       " 'clear',\n",
       " 'click',\n",
       " 'find_element',\n",
       " 'find_element_by_class_name',\n",
       " 'find_element_by_css_selector',\n",
       " 'find_element_by_id',\n",
       " 'find_element_by_link_text',\n",
       " 'find_element_by_name',\n",
       " 'find_element_by_partial_link_text',\n",
       " 'find_element_by_tag_name',\n",
       " 'find_element_by_xpath',\n",
       " 'find_elements',\n",
       " 'find_elements_by_class_name',\n",
       " 'find_elements_by_css_selector',\n",
       " 'find_elements_by_id',\n",
       " 'find_elements_by_link_text',\n",
       " 'find_elements_by_name',\n",
       " 'find_elements_by_partial_link_text',\n",
       " 'find_elements_by_tag_name',\n",
       " 'find_elements_by_xpath',\n",
       " 'get_attribute',\n",
       " 'get_property',\n",
       " 'id',\n",
       " 'is_displayed',\n",
       " 'is_enabled',\n",
       " 'is_selected',\n",
       " 'location',\n",
       " 'location_once_scrolled_into_view',\n",
       " 'parent',\n",
       " 'rect',\n",
       " 'screenshot',\n",
       " 'screenshot_as_base64',\n",
       " 'screenshot_as_png',\n",
       " 'send_keys',\n",
       " 'size',\n",
       " 'submit',\n",
       " 'tag_name',\n",
       " 'text',\n",
       " 'value_of_css_property']"
      ]
     },
     "execution_count": 41,
     "metadata": {},
     "output_type": "execute_result"
    }
   ],
   "source": [
    "dir(button)"
   ]
  },
  {
   "cell_type": "markdown",
   "metadata": {},
   "source": [
    "Podemos evaluar que tipo de elemento es (tag)"
   ]
  },
  {
   "cell_type": "code",
   "execution_count": 6,
   "metadata": {
    "ExecuteTime": {
     "end_time": "2021-02-26T10:22:53.325430Z",
     "start_time": "2021-02-26T10:22:53.306520Z"
    }
   },
   "outputs": [
    {
     "name": "stdout",
     "output_type": "stream",
     "text": [
      "button\n"
     ]
    }
   ],
   "source": [
    "if isButton:\n",
    "    \n",
    "    print(button3[0].tag_name)\n",
    "    \n",
    "else:\n",
    "    \n",
    "    print('No button')\n",
    "#     button.click()"
   ]
  },
  {
   "cell_type": "markdown",
   "metadata": {},
   "source": [
    "Podemos sacar el valor que tiene (el texto)"
   ]
  },
  {
   "cell_type": "code",
   "execution_count": 43,
   "metadata": {
    "ExecuteTime": {
     "end_time": "2021-02-26T10:22:54.583190Z",
     "start_time": "2021-02-26T10:22:54.553596Z"
    }
   },
   "outputs": [
    {
     "data": {
      "text/plain": [
       "'ACEPTO'"
      ]
     },
     "execution_count": 43,
     "metadata": {},
     "output_type": "execute_result"
    }
   ],
   "source": [
    "button.text"
   ]
  },
  {
   "cell_type": "markdown",
   "metadata": {},
   "source": [
    "Incluso podemos guardar una imagen del elemento"
   ]
  },
  {
   "cell_type": "code",
   "execution_count": 48,
   "metadata": {
    "ExecuteTime": {
     "end_time": "2021-02-26T10:24:41.830050Z",
     "start_time": "2021-02-26T10:24:41.510086Z"
    }
   },
   "outputs": [
    {
     "data": {
      "text/plain": [
       "True"
      ]
     },
     "execution_count": 48,
     "metadata": {},
     "output_type": "execute_result"
    }
   ],
   "source": [
    "button.screenshot('img.png')"
   ]
  },
  {
   "cell_type": "markdown",
   "metadata": {
    "ExecuteTime": {
     "end_time": "2021-02-25T09:56:21.322475Z",
     "start_time": "2021-02-25T09:56:21.318715Z"
    }
   },
   "source": [
    "Evaluemos que elementos hemos encontrado por el tag"
   ]
  },
  {
   "cell_type": "code",
   "execution_count": 7,
   "metadata": {
    "ExecuteTime": {
     "end_time": "2021-02-25T10:40:47.561469Z",
     "start_time": "2021-02-25T10:40:46.812684Z"
    }
   },
   "outputs": [
    {
     "name": "stdout",
     "output_type": "stream",
     "text": [
      "Elemento: 0\n",
      "Este elemento tiene este texto: socios\n",
      "Este elemento tiene este tag:  button\n",
      "Elemento: 1\n",
      "Este elemento tiene este texto: MÁS OPCIONES\n",
      "Este elemento tiene este tag:  button\n",
      "Elemento: 2\n",
      "Este elemento tiene este texto: ACEPTO\n",
      "Este elemento tiene este tag:  button\n"
     ]
    }
   ],
   "source": [
    "for i, element in enumerate(button3):\n",
    "    \n",
    "    print ('Elemento:', i)\n",
    "    print('Este elemento tiene este texto:', element.text)\n",
    "    print('Este elemento tiene este tag:', element.tag_name)\n",
    "    element.screenshot('img' + str(i) + '.png')"
   ]
  },
  {
   "cell_type": "markdown",
   "metadata": {},
   "source": [
    "Nos quedamos con el boton que nos interesa"
   ]
  },
  {
   "cell_type": "code",
   "execution_count": 8,
   "metadata": {
    "ExecuteTime": {
     "end_time": "2021-02-26T10:24:47.302978Z",
     "start_time": "2021-02-26T10:24:47.291261Z"
    }
   },
   "outputs": [],
   "source": [
    "for element in button3:\n",
    "    \n",
    "    if element.text == 'ACEPTO':\n",
    "        \n",
    "        button = element"
   ]
  },
  {
   "cell_type": "markdown",
   "metadata": {},
   "source": [
    "Si el elemento es interactivo podremos hacer más cosas además de las anteriores. Como hacer click"
   ]
  },
  {
   "cell_type": "code",
   "execution_count": 9,
   "metadata": {
    "ExecuteTime": {
     "end_time": "2021-02-26T10:24:48.611716Z",
     "start_time": "2021-02-26T10:24:48.390430Z"
    }
   },
   "outputs": [],
   "source": [
    "button.click()"
   ]
  },
  {
   "cell_type": "markdown",
   "metadata": {},
   "source": [
    "Buscamos una pelicula"
   ]
  },
  {
   "cell_type": "code",
   "execution_count": 78,
   "metadata": {
    "ExecuteTime": {
     "end_time": "2021-02-26T10:28:14.592155Z",
     "start_time": "2021-02-26T10:28:13.509998Z"
    }
   },
   "outputs": [],
   "source": [
    "from selenium.webdriver.common.keys import Keys\n",
    "\n",
    "search = driver.find_element_by_id('top-search-input')\n",
    "search.send_keys(\"Gran Lebowski\")\n",
    "search.send_keys(Keys.ENTER)\n",
    "# btSearch = driver.find_element_by_id('button-search')\n",
    "# btSearch.click()\n",
    "driver.back()"
   ]
  },
  {
   "cell_type": "markdown",
   "metadata": {
    "ExecuteTime": {
     "end_time": "2021-02-25T10:09:19.308961Z",
     "start_time": "2021-02-25T10:09:19.299983Z"
    }
   },
   "source": [
    "Vamos a buscar todas las peliculas que se estrenan el proximos viernes"
   ]
  },
  {
   "cell_type": "markdown",
   "metadata": {},
   "source": [
    "1. Nos cogemos los containers que hay en la zona central"
   ]
  },
  {
   "cell_type": "code",
   "execution_count": 133,
   "metadata": {
    "ExecuteTime": {
     "end_time": "2021-02-25T10:40:53.961145Z",
     "start_time": "2021-02-25T10:40:53.793388Z"
    }
   },
   "outputs": [
    {
     "name": "stdout",
     "output_type": "stream",
     "text": [
      "Películas en cartelera\n",
      "Cines España\n",
      "Próximos estrenos\n"
     ]
    }
   ],
   "source": [
    "menu = driver.find_element_by_id('lsmenu')\n",
    "\n",
    "containers = menu.find_elements_by_tag_name('div')\n",
    "lista = containers[2].find_element_by_tag_name('ul')\n",
    "enlaces = lista.find_elements_by_tag_name('li')\n",
    "\n",
    "for enlace in enlaces:\n",
    "    \n",
    "    link = enlace.find_element_by_tag_name('a')\n",
    "    print(link.text)\n",
    "    \n",
    "    if link.text == 'Próximos estrenos':\n",
    "        \n",
    "        link.click()\n",
    "        \n",
    "        break"
   ]
  },
  {
   "cell_type": "markdown",
   "metadata": {},
   "source": [
    "2. Vemos con cual nos tenemos que quedar"
   ]
  },
  {
   "cell_type": "code",
   "execution_count": 159,
   "metadata": {
    "ExecuteTime": {
     "end_time": "2021-02-25T10:40:55.130681Z",
     "start_time": "2021-02-25T10:40:54.930234Z"
    }
   },
   "outputs": [
    {
     "name": "stdout",
     "output_type": "stream",
     "text": [
      "2021-03-05\n",
      "139\n",
      "19\n",
      "15\n",
      "2\n",
      "0\n",
      "0\n",
      "9\n",
      "2\n",
      "1\n",
      "0\n",
      "5\n",
      "0\n",
      "0\n",
      "1\n",
      "0\n",
      "0\n",
      "0\n",
      "0\n",
      "2\n",
      "1\n",
      "0\n",
      "22\n",
      "18\n",
      "2\n",
      "0\n",
      "0\n",
      "12\n",
      "4\n",
      "3\n",
      "0\n",
      "1\n",
      "0\n",
      "6\n",
      "0\n",
      "0\n",
      "1\n",
      "0\n",
      "1\n",
      "0\n",
      "0\n",
      "0\n",
      "2\n",
      "1\n",
      "0\n",
      "22\n",
      "18\n",
      "2\n",
      "0\n",
      "0\n",
      "12\n",
      "4\n",
      "3\n",
      "0\n",
      "1\n",
      "0\n",
      "6\n",
      "0\n",
      "0\n",
      "1\n",
      "0\n",
      "1\n",
      "0\n",
      "0\n",
      "0\n",
      "2\n",
      "1\n",
      "0\n",
      "22\n",
      "18\n",
      "2\n",
      "0\n",
      "0\n",
      "12\n",
      "4\n",
      "3\n",
      "0\n",
      "1\n",
      "0\n",
      "6\n",
      "0\n",
      "0\n",
      "1\n",
      "0\n",
      "1\n",
      "0\n",
      "0\n",
      "0\n",
      "2\n",
      "1\n",
      "0\n",
      "21\n",
      "17\n",
      "2\n",
      "0\n",
      "0\n",
      "11\n",
      "4\n",
      "3\n",
      "0\n",
      "1\n",
      "0\n",
      "5\n",
      "0\n",
      "0\n",
      "1\n",
      "0\n",
      "0\n",
      "0\n",
      "0\n",
      "2\n",
      "1\n",
      "0\n",
      "5\n",
      "4\n",
      "3\n",
      "1\n",
      "0\n",
      "0\n",
      "21\n",
      "17\n",
      "2\n",
      "0\n",
      "0\n",
      "11\n",
      "4\n",
      "3\n",
      "0\n",
      "1\n",
      "0\n",
      "5\n",
      "0\n",
      "0\n",
      "1\n",
      "0\n",
      "0\n",
      "0\n",
      "0\n",
      "2\n",
      "1\n",
      "0\n"
     ]
    }
   ],
   "source": [
    "fechas = driver.find_elements_by_id('main-wrapper-rdcat')\n",
    "\n",
    "len(fechas)\n",
    "\n",
    "semana = fechas[0].find_elements_by_tag_name('div')[0].get_attribute('id')\n",
    "\n",
    "print(semana)\n",
    "\n",
    "peliculas = fechas[0].find_elements_by_tag_name('div')[1:]\n",
    "\n",
    "print(len(peliculas))\n",
    "\n",
    "for pelicula in peliculas:\n",
    "    \n",
    "    p = pelicula.find_elements_by_tag_name('div')\n",
    "    \n",
    "    print(len(p))"
   ]
  },
  {
   "cell_type": "markdown",
   "metadata": {},
   "source": [
    "3. Dentro del container tenemos que ir al boton de \"ver más\""
   ]
  },
  {
   "cell_type": "code",
   "execution_count": 122,
   "metadata": {
    "ExecuteTime": {
     "end_time": "2021-02-25T10:40:57.145029Z",
     "start_time": "2021-02-25T10:40:57.127072Z"
    }
   },
   "outputs": [],
   "source": []
  },
  {
   "cell_type": "markdown",
   "metadata": {},
   "source": [
    "4. Una vez en el div del boton tenemos que llegar a la *a* "
   ]
  },
  {
   "cell_type": "code",
   "execution_count": 123,
   "metadata": {
    "ExecuteTime": {
     "end_time": "2021-02-25T10:40:58.353853Z",
     "start_time": "2021-02-25T10:40:58.340849Z"
    }
   },
   "outputs": [],
   "source": []
  },
  {
   "cell_type": "markdown",
   "metadata": {},
   "source": [
    "5. Ahora podríamos hacer click como hemos hecho antes con el boton de aceptar las cooks"
   ]
  },
  {
   "cell_type": "code",
   "execution_count": 125,
   "metadata": {
    "ExecuteTime": {
     "end_time": "2021-02-25T10:41:04.327014Z",
     "start_time": "2021-02-25T10:41:03.145618Z"
    }
   },
   "outputs": [],
   "source": []
  },
  {
   "cell_type": "markdown",
   "metadata": {},
   "source": [
    "Accedemos al container de la semana que queremos ver, exactamente igual que hemos hecho antes"
   ]
  },
  {
   "cell_type": "code",
   "execution_count": 128,
   "metadata": {
    "ExecuteTime": {
     "end_time": "2021-02-25T10:43:53.772471Z",
     "start_time": "2021-02-25T10:43:53.757510Z"
    }
   },
   "outputs": [
    {
     "data": {
      "text/plain": [
       "[<selenium.webdriver.remote.webelement.WebElement (session=\"90d45fd2fbdadc7ded39f6fb93ea11a5\", element=\"9e65f37c-3792-4d09-b36e-90afa4c47c0a\")>,\n",
       " <selenium.webdriver.remote.webelement.WebElement (session=\"90d45fd2fbdadc7ded39f6fb93ea11a5\", element=\"e7882fe3-9ab1-4082-a062-3465bdaf45bc\")>,\n",
       " <selenium.webdriver.remote.webelement.WebElement (session=\"90d45fd2fbdadc7ded39f6fb93ea11a5\", element=\"eea44eee-ee17-4264-a410-a8f3a9687223\")>,\n",
       " <selenium.webdriver.remote.webelement.WebElement (session=\"90d45fd2fbdadc7ded39f6fb93ea11a5\", element=\"6851efb6-a327-4378-8177-6b1770a97e8a\")>,\n",
       " <selenium.webdriver.remote.webelement.WebElement (session=\"90d45fd2fbdadc7ded39f6fb93ea11a5\", element=\"69b523aa-6032-4750-9460-547b2e25c1f9\")>,\n",
       " <selenium.webdriver.remote.webelement.WebElement (session=\"90d45fd2fbdadc7ded39f6fb93ea11a5\", element=\"fa69b3bd-e150-48b5-825f-8ecf7b7e1348\")>]"
      ]
     },
     "execution_count": 128,
     "metadata": {},
     "output_type": "execute_result"
    }
   ],
   "source": []
  },
  {
   "cell_type": "code",
   "execution_count": 134,
   "metadata": {
    "ExecuteTime": {
     "end_time": "2021-02-25T11:04:59.734561Z",
     "start_time": "2021-02-25T11:04:59.617626Z"
    }
   },
   "outputs": [
    {
     "name": "stdout",
     "output_type": "stream",
     "text": [
      "0\n",
      "26 de febrero de 2021\n",
      "1\n",
      "5 de marzo de 2021\n",
      "2\n",
      "12 de marzo de 2021\n",
      "3\n",
      "19 de marzo de 2021\n",
      "4\n",
      "26 de marzo de 2021\n",
      "5\n",
      "31 de marzo de 2021\n"
     ]
    }
   ],
   "source": []
  },
  {
   "cell_type": "markdown",
   "metadata": {
    "ExecuteTime": {
     "end_time": "2021-02-25T11:04:08.219853Z",
     "start_time": "2021-02-25T11:04:08.215863Z"
    }
   },
   "source": [
    "Buscamos las peliculas"
   ]
  },
  {
   "cell_type": "code",
   "execution_count": 31,
   "metadata": {
    "ExecuteTime": {
     "end_time": "2021-02-25T11:10:28.294864Z",
     "start_time": "2021-02-25T11:10:28.174126Z"
    }
   },
   "outputs": [],
   "source": [
    "links = [\n",
    "'https://www.filmaffinity.com/es/film783812.html',\n",
    " 'https://www.filmaffinity.com/es/film766252.html',\n",
    " 'https://www.filmaffinity.com/es/film228161.html',\n",
    " 'https://www.filmaffinity.com/es/film244293.html',\n",
    " 'https://www.filmaffinity.com/es/film350880.html',\n",
    " 'https://www.filmaffinity.com/es/film674272.html',\n",
    " 'https://www.filmaffinity.com/es/film687348.html',\n",
    " 'https://www.filmaffinity.com/es/film838012.html',\n",
    " 'https://www.filmaffinity.com/es/film561634.html']"
   ]
  },
  {
   "cell_type": "markdown",
   "metadata": {},
   "source": [
    "Una vez tenemos todas las urls vamos a ver que hacemos con cada una de ellas"
   ]
  },
  {
   "cell_type": "code",
   "execution_count": 64,
   "metadata": {
    "ExecuteTime": {
     "end_time": "2021-02-25T11:15:40.003059Z",
     "start_time": "2021-02-25T11:15:39.091047Z"
    }
   },
   "outputs": [],
   "source": [
    "\n",
    "def scrapMovie():\n",
    "    \n",
    "    titulo = driver.find_element_by_xpath('/html/body/div[4]/table/tbody/tr/td[2]/div[1]/div[4]/h1').text\n",
    "    \n",
    "    try:\n",
    "        \n",
    "        puntuacion = driver.find_element_by_id('movie-rat-avg').text\n",
    "        \n",
    "    except:\n",
    "        \n",
    "        puntuacion = None\n",
    "        \n",
    "    ficha = driver.find_element_by_xpath('/html/body/div[4]/table/tbody/tr/td[2]/div[1]/div[4]/div/div[3]/dl[1]')\n",
    "\n",
    "    dts = ficha.find_elements_by_tag_name('dt')\n",
    "\n",
    "    columnas= ['Titulo', 'Puntuacion']\n",
    "    columnas.extend(list(map(lambda x: x.text,dts)))\n",
    "    dds = ficha.find_elements_by_tag_name('dd')\n",
    "    valores = [titulo,puntuacion]\n",
    "    valores.extend(list(map(lambda x: x.text, dds)))\n",
    "    \n",
    "    return pd.DataFrame([valores],columns = columnas)\n"
   ]
  },
  {
   "cell_type": "markdown",
   "metadata": {
    "ExecuteTime": {
     "end_time": "2021-02-25T11:21:51.020248Z",
     "start_time": "2021-02-25T11:21:50.381138Z"
    }
   },
   "source": [
    "Vamos a ver el proceso que deberiamos hacer con cada una de las películas:"
   ]
  },
  {
   "cell_type": "markdown",
   "metadata": {},
   "source": [
    "1. Sacamos toda la información que nos interesa"
   ]
  },
  {
   "cell_type": "code",
   "execution_count": 62,
   "metadata": {
    "ExecuteTime": {
     "end_time": "2021-02-25T11:36:58.487622Z",
     "start_time": "2021-02-25T11:36:58.420292Z"
    }
   },
   "outputs": [
    {
     "name": "stdout",
     "output_type": "stream",
     "text": [
      "['Titulo', 'Puntuacion']\n"
     ]
    },
    {
     "data": {
      "text/html": [
       "<div>\n",
       "<style scoped>\n",
       "    .dataframe tbody tr th:only-of-type {\n",
       "        vertical-align: middle;\n",
       "    }\n",
       "\n",
       "    .dataframe tbody tr th {\n",
       "        vertical-align: top;\n",
       "    }\n",
       "\n",
       "    .dataframe thead th {\n",
       "        text-align: right;\n",
       "    }\n",
       "</style>\n",
       "<table border=\"1\" class=\"dataframe\">\n",
       "  <thead>\n",
       "    <tr style=\"text-align: right;\">\n",
       "      <th></th>\n",
       "      <th>Titulo</th>\n",
       "      <th>Puntuacion</th>\n",
       "      <th>Título original</th>\n",
       "      <th>Año</th>\n",
       "      <th>Duración</th>\n",
       "      <th>País</th>\n",
       "      <th>Dirección</th>\n",
       "      <th>Guion</th>\n",
       "      <th>Música</th>\n",
       "      <th>Fotografía</th>\n",
       "      <th>Reparto</th>\n",
       "      <th>Productora</th>\n",
       "      <th>Género</th>\n",
       "      <th>Grupos</th>\n",
       "      <th>Sinopsis</th>\n",
       "    </tr>\n",
       "  </thead>\n",
       "  <tbody>\n",
       "    <tr>\n",
       "      <th>0</th>\n",
       "      <td>El caracol y la ballena</td>\n",
       "      <td>6,5</td>\n",
       "      <td>The Snail and the Whale</td>\n",
       "      <td>2019</td>\n",
       "      <td>26 min.</td>\n",
       "      <td>Reino Unido</td>\n",
       "      <td>Max Lang, Daniel Snaddon</td>\n",
       "      <td>Max Lang, Suzanne Lang (Libro: Julia Donaldson...</td>\n",
       "      <td>René Aubry</td>\n",
       "      <td>Animación</td>\n",
       "      <td>Animación</td>\n",
       "      <td>Magic Light Pictures, ZDF</td>\n",
       "      <td>Animación. Aventuras | Mediometraje. Animales</td>\n",
       "      <td>Adaptaciones de Julia Donaldson</td>\n",
       "      <td>Un caracol anhela ver el mundo y se sube a la ...</td>\n",
       "    </tr>\n",
       "  </tbody>\n",
       "</table>\n",
       "</div>"
      ],
      "text/plain": [
       "                    Titulo Puntuacion          Título original   Año Duración  \\\n",
       "0  El caracol y la ballena        6,5  The Snail and the Whale  2019  26 min.   \n",
       "\n",
       "           País                 Dirección  \\\n",
       "0   Reino Unido  Max Lang, Daniel Snaddon   \n",
       "\n",
       "                                               Guion      Música Fotografía  \\\n",
       "0  Max Lang, Suzanne Lang (Libro: Julia Donaldson...  René Aubry  Animación   \n",
       "\n",
       "     Reparto                 Productora  \\\n",
       "0  Animación  Magic Light Pictures, ZDF   \n",
       "\n",
       "                                          Género  \\\n",
       "0  Animación. Aventuras | Mediometraje. Animales   \n",
       "\n",
       "                            Grupos  \\\n",
       "0  Adaptaciones de Julia Donaldson   \n",
       "\n",
       "                                            Sinopsis  \n",
       "0  Un caracol anhela ver el mundo y se sube a la ...  "
      ]
     },
     "execution_count": 62,
     "metadata": {},
     "output_type": "execute_result"
    }
   ],
   "source": [
    "scrapMovie()"
   ]
  },
  {
   "cell_type": "markdown",
   "metadata": {},
   "source": [
    "2. Creamos una lista a partir de la ficha técnica"
   ]
  },
  {
   "cell_type": "code",
   "execution_count": 159,
   "metadata": {
    "ExecuteTime": {
     "end_time": "2021-02-25T11:34:54.218938Z",
     "start_time": "2021-02-25T11:34:53.923558Z"
    }
   },
   "outputs": [],
   "source": [
    "\n",
    "    "
   ]
  },
  {
   "cell_type": "markdown",
   "metadata": {},
   "source": [
    "3. Creamos un dataframe con la info"
   ]
  },
  {
   "cell_type": "code",
   "execution_count": 167,
   "metadata": {
    "ExecuteTime": {
     "end_time": "2021-02-25T11:38:19.916044Z",
     "start_time": "2021-02-25T11:38:19.899094Z"
    }
   },
   "outputs": [
    {
     "data": {
      "text/html": [
       "<div>\n",
       "<style scoped>\n",
       "    .dataframe tbody tr th:only-of-type {\n",
       "        vertical-align: middle;\n",
       "    }\n",
       "\n",
       "    .dataframe tbody tr th {\n",
       "        vertical-align: top;\n",
       "    }\n",
       "\n",
       "    .dataframe thead th {\n",
       "        text-align: right;\n",
       "    }\n",
       "</style>\n",
       "<table border=\"1\" class=\"dataframe\">\n",
       "  <thead>\n",
       "    <tr style=\"text-align: right;\">\n",
       "      <th></th>\n",
       "      <th>titulo</th>\n",
       "      <th>nota</th>\n",
       "      <th>votos</th>\n",
       "      <th>Título original</th>\n",
       "      <th>Año</th>\n",
       "      <th>Duración</th>\n",
       "      <th>País</th>\n",
       "      <th>Dirección</th>\n",
       "      <th>Guion</th>\n",
       "      <th>Música</th>\n",
       "      <th>Fotografía</th>\n",
       "      <th>Reparto</th>\n",
       "      <th>Productora</th>\n",
       "      <th>Género</th>\n",
       "      <th>Sinopsis</th>\n",
       "    </tr>\n",
       "  </thead>\n",
       "  <tbody>\n",
       "    <tr>\n",
       "      <th>0</th>\n",
       "      <td>Pequeños detalles</td>\n",
       "      <td>5,4</td>\n",
       "      <td>615</td>\n",
       "      <td>The Little Things</td>\n",
       "      <td>2021</td>\n",
       "      <td>127 min.</td>\n",
       "      <td>Estados Unidos</td>\n",
       "      <td>John Lee Hancock</td>\n",
       "      <td>John Lee Hancock</td>\n",
       "      <td>Thomas Newman</td>\n",
       "      <td>John Schwartzman</td>\n",
       "      <td>Denzel Washington, Rami Malek, Jared Leto, Sof...</td>\n",
       "      <td>Warner Bros. (Distribuidora: Warner Bros.)</td>\n",
       "      <td>Thriller | Policíaco</td>\n",
       "      <td>Un sheriff (Washington) y un detective de homi...</td>\n",
       "    </tr>\n",
       "  </tbody>\n",
       "</table>\n",
       "</div>"
      ],
      "text/plain": [
       "              titulo nota votos    Título original   Año  Duración  \\\n",
       "0  Pequeños detalles  5,4   615  The Little Things  2021  127 min.   \n",
       "\n",
       "              País         Dirección             Guion         Música  \\\n",
       "0   Estados Unidos  John Lee Hancock  John Lee Hancock  Thomas Newman   \n",
       "\n",
       "         Fotografía                                            Reparto  \\\n",
       "0  John Schwartzman  Denzel Washington, Rami Malek, Jared Leto, Sof...   \n",
       "\n",
       "                                   Productora                Género  \\\n",
       "0  Warner Bros. (Distribuidora: Warner Bros.)  Thriller | Policíaco   \n",
       "\n",
       "                                            Sinopsis  \n",
       "0  Un sheriff (Washington) y un detective de homi...  "
      ]
     },
     "execution_count": 167,
     "metadata": {},
     "output_type": "execute_result"
    }
   ],
   "source": []
  },
  {
   "cell_type": "markdown",
   "metadata": {},
   "source": [
    "Vamos a crear una función que nos haga todo esto"
   ]
  },
  {
   "cell_type": "code",
   "execution_count": 187,
   "metadata": {
    "ExecuteTime": {
     "end_time": "2021-02-25T11:58:39.349919Z",
     "start_time": "2021-02-25T11:58:39.052802Z"
    }
   },
   "outputs": [
    {
     "data": {
      "text/html": [
       "<div>\n",
       "<style scoped>\n",
       "    .dataframe tbody tr th:only-of-type {\n",
       "        vertical-align: middle;\n",
       "    }\n",
       "\n",
       "    .dataframe tbody tr th {\n",
       "        vertical-align: top;\n",
       "    }\n",
       "\n",
       "    .dataframe thead th {\n",
       "        text-align: right;\n",
       "    }\n",
       "</style>\n",
       "<table border=\"1\" class=\"dataframe\">\n",
       "  <thead>\n",
       "    <tr style=\"text-align: right;\">\n",
       "      <th></th>\n",
       "      <th>titulo</th>\n",
       "      <th>nota</th>\n",
       "      <th>votos</th>\n",
       "      <th>Título original</th>\n",
       "      <th>Año</th>\n",
       "      <th>Duración</th>\n",
       "      <th>País</th>\n",
       "      <th>Dirección</th>\n",
       "      <th>Guion</th>\n",
       "      <th>Música</th>\n",
       "      <th>Reparto</th>\n",
       "      <th>Productora</th>\n",
       "      <th>Género</th>\n",
       "      <th>Sinopsis</th>\n",
       "    </tr>\n",
       "  </thead>\n",
       "  <tbody>\n",
       "    <tr>\n",
       "      <th>0</th>\n",
       "      <td>¿Dónde está Mikel?</td>\n",
       "      <td>None</td>\n",
       "      <td>None</td>\n",
       "      <td>Non Dago Mikel?</td>\n",
       "      <td>2020</td>\n",
       "      <td>80 min.</td>\n",
       "      <td>España</td>\n",
       "      <td>Miguel Angel Llamas, Amaia Merino</td>\n",
       "      <td>Miguel Angel Llamas, Amaia Merino</td>\n",
       "      <td>Gorka Pastor</td>\n",
       "      <td>Documental</td>\n",
       "      <td>IZAR Films</td>\n",
       "      <td>Documental</td>\n",
       "      <td>Noviembre de 1985. Mikel Zabalza, un joven con...</td>\n",
       "    </tr>\n",
       "  </tbody>\n",
       "</table>\n",
       "</div>"
      ],
      "text/plain": [
       "               titulo  nota votos  Título original   Año Duración     País  \\\n",
       "0  ¿Dónde está Mikel?  None  None  Non Dago Mikel?  2020  80 min.   España   \n",
       "\n",
       "                           Dirección                              Guion  \\\n",
       "0  Miguel Angel Llamas, Amaia Merino  Miguel Angel Llamas, Amaia Merino   \n",
       "\n",
       "         Música     Reparto  Productora      Género  \\\n",
       "0  Gorka Pastor  Documental  IZAR Films  Documental   \n",
       "\n",
       "                                            Sinopsis  \n",
       "0  Noviembre de 1985. Mikel Zabalza, un joven con...  "
      ]
     },
     "execution_count": 187,
     "metadata": {},
     "output_type": "execute_result"
    }
   ],
   "source": []
  },
  {
   "cell_type": "markdown",
   "metadata": {},
   "source": [
    "## Modo Dios moviendonos entre ventanas"
   ]
  },
  {
   "cell_type": "markdown",
   "metadata": {},
   "source": [
    "Vamos a ver como nos podemos mover entre ventanas del navegador\n",
    "\n",
    "Abrir nueva ventana:"
   ]
  },
  {
   "cell_type": "code",
   "execution_count": 26,
   "metadata": {},
   "outputs": [],
   "source": [
    "driver.execute_script('window.open(\"\");')"
   ]
  },
  {
   "cell_type": "markdown",
   "metadata": {},
   "source": [
    "Movernos a otra ventana"
   ]
  },
  {
   "cell_type": "code",
   "execution_count": 45,
   "metadata": {},
   "outputs": [],
   "source": [
    "driver.switch_to.window(driver.window_handles[0])"
   ]
  },
  {
   "cell_type": "markdown",
   "metadata": {},
   "source": [
    "Cerrar ventana"
   ]
  },
  {
   "cell_type": "code",
   "execution_count": 28,
   "metadata": {
    "ExecuteTime": {
     "end_time": "2021-02-25T12:04:17.177986Z",
     "start_time": "2021-02-25T12:04:17.160442Z"
    }
   },
   "outputs": [],
   "source": [
    "driver.close()\n",
    "driver.switch_to.window(driver.window_handles[-1])"
   ]
  },
  {
   "cell_type": "markdown",
   "metadata": {},
   "source": [
    "Una vez cerramos la ventana tenemos que indicarle a que ventana tiene que ir"
   ]
  },
  {
   "cell_type": "code",
   "execution_count": 40,
   "metadata": {
    "ExecuteTime": {
     "end_time": "2021-02-25T12:05:01.711952Z",
     "start_time": "2021-02-25T12:05:01.583709Z"
    }
   },
   "outputs": [],
   "source": [
    "def abrirLink(link):\n",
    "    \n",
    "    i= len(driver.window_handles)\n",
    "    driver.execute_script('window.open(\"''\");')\n",
    "    driver.switch_to.window(driver.window_handles[i])\n",
    "    driver.get(link)"
   ]
  },
  {
   "cell_type": "markdown",
   "metadata": {},
   "source": [
    "Sabiendo como podemos movernos por entre las ventanas y sabiendo como extraer de cada pagina toda la información que necesitamos vamos a crear nuestro dataframe"
   ]
  },
  {
   "cell_type": "code",
   "execution_count": 70,
   "metadata": {
    "ExecuteTime": {
     "end_time": "2021-02-25T12:00:27.038323Z",
     "start_time": "2021-02-25T11:59:37.219902Z"
    }
   },
   "outputs": [
    {
     "data": {
      "text/html": [
       "<div>\n",
       "<style scoped>\n",
       "    .dataframe tbody tr th:only-of-type {\n",
       "        vertical-align: middle;\n",
       "    }\n",
       "\n",
       "    .dataframe tbody tr th {\n",
       "        vertical-align: top;\n",
       "    }\n",
       "\n",
       "    .dataframe thead th {\n",
       "        text-align: right;\n",
       "    }\n",
       "</style>\n",
       "<table border=\"1\" class=\"dataframe\">\n",
       "  <thead>\n",
       "    <tr style=\"text-align: right;\">\n",
       "      <th></th>\n",
       "      <th>Titulo</th>\n",
       "      <th>Puntuacion</th>\n",
       "      <th>Título original</th>\n",
       "      <th>Año</th>\n",
       "      <th>Duración</th>\n",
       "      <th>País</th>\n",
       "      <th>Dirección</th>\n",
       "      <th>Guion</th>\n",
       "      <th>Música</th>\n",
       "      <th>Fotografía</th>\n",
       "      <th>Reparto</th>\n",
       "      <th>Productora</th>\n",
       "      <th>Género</th>\n",
       "      <th>Sinopsis</th>\n",
       "      <th></th>\n",
       "      <th>Grupos</th>\n",
       "    </tr>\n",
       "  </thead>\n",
       "  <tbody>\n",
       "    <tr>\n",
       "      <th>0</th>\n",
       "      <td>Pequeños detalles</td>\n",
       "      <td>5,6</td>\n",
       "      <td>The Little Things</td>\n",
       "      <td>2021</td>\n",
       "      <td>127 min.</td>\n",
       "      <td>Estados Unidos</td>\n",
       "      <td>John Lee Hancock</td>\n",
       "      <td>John Lee Hancock</td>\n",
       "      <td>Thomas Newman</td>\n",
       "      <td>John Schwartzman</td>\n",
       "      <td>Denzel Washington, Rami Malek, Jared Leto, Chr...</td>\n",
       "      <td>Warner Bros. (Distribuidora: Warner Bros.)</td>\n",
       "      <td>Thriller | Policíaco</td>\n",
       "      <td>Un sheriff (Washington) y un detective de homi...</td>\n",
       "      <td>NaN</td>\n",
       "      <td>NaN</td>\n",
       "    </tr>\n",
       "    <tr>\n",
       "      <th>0</th>\n",
       "      <td>Dating Amber</td>\n",
       "      <td>6,5</td>\n",
       "      <td>Dating Amber aka</td>\n",
       "      <td>2020</td>\n",
       "      <td>92 min.</td>\n",
       "      <td>Irlanda</td>\n",
       "      <td>David Freyne</td>\n",
       "      <td>David Freyne</td>\n",
       "      <td>NaN</td>\n",
       "      <td>Ruairi O'Brien</td>\n",
       "      <td>Fionn O'Shea, Lola Petticrew, Sharon Horgan, B...</td>\n",
       "      <td>Atomic 80, Tilted Pictures (Distribuidora: Ama...</td>\n",
       "      <td>Drama. Comedia | Amistad. Homosexualidad. Años 80</td>\n",
       "      <td>En la Irlanda de los años 80, los mejores amig...</td>\n",
       "      <td></td>\n",
       "      <td>NaN</td>\n",
       "    </tr>\n",
       "    <tr>\n",
       "      <th>0</th>\n",
       "      <td>El diablo entre las piernas</td>\n",
       "      <td>6,4</td>\n",
       "      <td>El diablo entre las piernas</td>\n",
       "      <td>2019</td>\n",
       "      <td>147 min.</td>\n",
       "      <td>México</td>\n",
       "      <td>Arturo Ripstein</td>\n",
       "      <td>Paz Alicia Garciadiego</td>\n",
       "      <td>David Mansfield</td>\n",
       "      <td>Alejandro Cantú (B&amp;W)</td>\n",
       "      <td>Silvia Pasquel, Alejandro Suárez, Greta Cervan...</td>\n",
       "      <td>Alebrije Cine y Video, Oberon Films</td>\n",
       "      <td>Drama | Vejez/Madurez. Celos</td>\n",
       "      <td>Todos los días Beatriz es víctima de insultos,...</td>\n",
       "      <td>NaN</td>\n",
       "      <td>NaN</td>\n",
       "    </tr>\n",
       "    <tr>\n",
       "      <th>0</th>\n",
       "      <td>Libreros de Nueva York</td>\n",
       "      <td>6,4</td>\n",
       "      <td>The Booksellers</td>\n",
       "      <td>2019</td>\n",
       "      <td>99 min.</td>\n",
       "      <td>Estados Unidos</td>\n",
       "      <td>D.W. Young</td>\n",
       "      <td>NaN</td>\n",
       "      <td>David Ullmann</td>\n",
       "      <td>Peter Bolte</td>\n",
       "      <td>Documental, (intervenciones de: Fran Lebowitz,...</td>\n",
       "      <td>Blackletter Films</td>\n",
       "      <td>Documental | Literatura</td>\n",
       "      <td>Un vistazo a los pormenores del extraño mundo ...</td>\n",
       "      <td>NaN</td>\n",
       "      <td>NaN</td>\n",
       "    </tr>\n",
       "    <tr>\n",
       "      <th>0</th>\n",
       "      <td>Millennium Actress</td>\n",
       "      <td>7,4</td>\n",
       "      <td>Sennen Joyû aka</td>\n",
       "      <td>2001</td>\n",
       "      <td>87 min.</td>\n",
       "      <td>Japón</td>\n",
       "      <td>Satoshi Kon</td>\n",
       "      <td>Satoshi Kon, Sadayuki Murai</td>\n",
       "      <td>Susumu Hirasawa</td>\n",
       "      <td>Animación, Hisao Shirai</td>\n",
       "      <td>Animación</td>\n",
       "      <td>Bandai Visual, Chiyoko Commitee, Madhouse, Wor...</td>\n",
       "      <td>Animación. Fantástico. Romance. Drama | Melodr...</td>\n",
       "      <td>Hace treinta años, Chiyoko Fujiwara fue la est...</td>\n",
       "      <td></td>\n",
       "      <td>NaN</td>\n",
       "    </tr>\n",
       "  </tbody>\n",
       "</table>\n",
       "</div>"
      ],
      "text/plain": [
       "                        Titulo Puntuacion              Título original   Año  \\\n",
       "0            Pequeños detalles        5,6            The Little Things  2021   \n",
       "0                 Dating Amber        6,5             Dating Amber aka  2020   \n",
       "0  El diablo entre las piernas        6,4  El diablo entre las piernas  2019   \n",
       "0       Libreros de Nueva York        6,4              The Booksellers  2019   \n",
       "0           Millennium Actress        7,4              Sennen Joyû aka  2001   \n",
       "\n",
       "   Duración             País         Dirección                        Guion  \\\n",
       "0  127 min.   Estados Unidos  John Lee Hancock             John Lee Hancock   \n",
       "0   92 min.          Irlanda      David Freyne                 David Freyne   \n",
       "0  147 min.           México   Arturo Ripstein       Paz Alicia Garciadiego   \n",
       "0   99 min.   Estados Unidos        D.W. Young                          NaN   \n",
       "0   87 min.            Japón       Satoshi Kon  Satoshi Kon, Sadayuki Murai   \n",
       "\n",
       "            Música               Fotografía  \\\n",
       "0    Thomas Newman         John Schwartzman   \n",
       "0              NaN           Ruairi O'Brien   \n",
       "0  David Mansfield    Alejandro Cantú (B&W)   \n",
       "0    David Ullmann              Peter Bolte   \n",
       "0  Susumu Hirasawa  Animación, Hisao Shirai   \n",
       "\n",
       "                                             Reparto  \\\n",
       "0  Denzel Washington, Rami Malek, Jared Leto, Chr...   \n",
       "0  Fionn O'Shea, Lola Petticrew, Sharon Horgan, B...   \n",
       "0  Silvia Pasquel, Alejandro Suárez, Greta Cervan...   \n",
       "0  Documental, (intervenciones de: Fran Lebowitz,...   \n",
       "0                                          Animación   \n",
       "\n",
       "                                          Productora  \\\n",
       "0         Warner Bros. (Distribuidora: Warner Bros.)   \n",
       "0  Atomic 80, Tilted Pictures (Distribuidora: Ama...   \n",
       "0                Alebrije Cine y Video, Oberon Films   \n",
       "0                                  Blackletter Films   \n",
       "0  Bandai Visual, Chiyoko Commitee, Madhouse, Wor...   \n",
       "\n",
       "                                              Género  \\\n",
       "0                               Thriller | Policíaco   \n",
       "0  Drama. Comedia | Amistad. Homosexualidad. Años 80   \n",
       "0                       Drama | Vejez/Madurez. Celos   \n",
       "0                            Documental | Literatura   \n",
       "0  Animación. Fantástico. Romance. Drama | Melodr...   \n",
       "\n",
       "                                            Sinopsis      Grupos  \n",
       "0  Un sheriff (Washington) y un detective de homi...  NaN    NaN  \n",
       "0  En la Irlanda de los años 80, los mejores amig...         NaN  \n",
       "0  Todos los días Beatriz es víctima de insultos,...  NaN    NaN  \n",
       "0  Un vistazo a los pormenores del extraño mundo ...  NaN    NaN  \n",
       "0  Hace treinta años, Chiyoko Fujiwara fue la est...         NaN  "
      ]
     },
     "execution_count": 70,
     "metadata": {},
     "output_type": "execute_result"
    }
   ],
   "source": [
    "def openChrome():\n",
    "    \n",
    "    driverPath = \"chromedriver.exe\"#ruta del ejecutable, lo he descargado de https://chromedriver.chromium.org/downloads\n",
    "\n",
    "    options = webdriver.ChromeOptions()\n",
    "\n",
    "    options.add_argument('headless')# con esto no se vería el navegador\n",
    "\n",
    "    return webdriver.Chrome(executable_path = driverPath)\n",
    "\n",
    "def goFilmAffinity(driver):\n",
    "    \n",
    "    driver.get('https://www.filmaffinity.com/es/main.html')\n",
    "    button = driver.find_element_by_xpath(\"/html/body/div[1]/div/div/div/div[2]/div/button[2]\")\n",
    "    button.click()\n",
    "    \n",
    "def scrapMovie(driver):\n",
    "    \n",
    "    titulo = driver.find_element_by_xpath('/html/body/div[4]/table/tbody/tr/td[2]/div[1]/div[4]/h1').text\n",
    "    \n",
    "    try:\n",
    "        \n",
    "        puntuacion = driver.find_element_by_id('movie-rat-avg').text\n",
    "        \n",
    "    except:\n",
    "        \n",
    "        puntuacion = None\n",
    "        \n",
    "    ficha = driver.find_element_by_xpath('/html/body/div[4]/table/tbody/tr/td[2]/div[1]/div[4]/div/div[3]/dl[1]')\n",
    "\n",
    "    dts = ficha.find_elements_by_tag_name('dt')\n",
    "\n",
    "    columnas= ['Titulo', 'Puntuacion']\n",
    "    columnas.extend(list(map(lambda x: x.text,dts)))\n",
    "    dds = ficha.find_elements_by_tag_name('dd')\n",
    "    valores = [titulo,puntuacion]\n",
    "    valores.extend(list(map(lambda x: x.text, dds)))\n",
    "    \n",
    "    return pd.DataFrame([valores],columns = columnas)\n",
    "\n",
    "def abrirLink(driver, link):\n",
    "    \n",
    "    i= len(driver.window_handles)\n",
    "    driver.execute_script('window.open(\"''\");')\n",
    "    driver.switch_to.window(driver.window_handles[i])\n",
    "    driver.get(link)\n",
    "\n",
    "driver = openChrome ()\n",
    "goFilmAffinity(driver)\n",
    "df = pd.DataFrame()\n",
    "\n",
    "for link in links:\n",
    "    \n",
    "    abrirLink(driver, link)\n",
    "    df = df.append(scrapMovie(driver))\n",
    "    \n",
    "driver.close()\n",
    "\n",
    "df.head()"
   ]
  },
  {
   "cell_type": "code",
   "execution_count": 36,
   "metadata": {
    "ExecuteTime": {
     "end_time": "2021-02-25T12:00:36.221987Z",
     "start_time": "2021-02-25T12:00:36.207006Z"
    }
   },
   "outputs": [
    {
     "data": {
      "text/plain": [
       "10"
      ]
     },
     "execution_count": 36,
     "metadata": {},
     "output_type": "execute_result"
    }
   ],
   "source": [
    "len(driver.window_handles)"
   ]
  }
 ],
 "metadata": {
  "kernelspec": {
   "display_name": "Python 3",
   "language": "python",
   "name": "python3"
  },
  "language_info": {
   "codemirror_mode": {
    "name": "ipython",
    "version": 3
   },
   "file_extension": ".py",
   "mimetype": "text/x-python",
   "name": "python",
   "nbconvert_exporter": "python",
   "pygments_lexer": "ipython3",
   "version": "3.8.5"
  },
  "nbTranslate": {
   "displayLangs": [
    "*"
   ],
   "hotkey": "alt-t",
   "langInMainMenu": true,
   "sourceLang": "en",
   "targetLang": "fr",
   "useGoogleTranslate": true
  },
  "varInspector": {
   "cols": {
    "lenName": 16,
    "lenType": 16,
    "lenVar": 40
   },
   "kernels_config": {
    "python": {
     "delete_cmd_postfix": "",
     "delete_cmd_prefix": "del ",
     "library": "var_list.py",
     "varRefreshCmd": "print(var_dic_list())"
    },
    "r": {
     "delete_cmd_postfix": ") ",
     "delete_cmd_prefix": "rm(",
     "library": "var_list.r",
     "varRefreshCmd": "cat(var_dic_list()) "
    }
   },
   "types_to_exclude": [
    "module",
    "function",
    "builtin_function_or_method",
    "instance",
    "_Feature"
   ],
   "window_display": false
  }
 },
 "nbformat": 4,
 "nbformat_minor": 4
}
