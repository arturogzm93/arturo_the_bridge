{
 "cells": [
  {
   "cell_type": "markdown",
   "metadata": {},
   "source": [
    "# Entrega Ramp Up\n"
   ]
  },
  {
   "cell_type": "markdown",
   "metadata": {},
   "source": [
    "## Ejercicio 1\n",
    "#### Crear un programa que calcule la cuota de una hipoteca\n",
    "\n",
    "Las cuotas hipotecarias se calculan utilizando la fórmula del interés frances. El objetivo del ejercicio es crear un programa que solicite al usuario los datos de su hipoteca (cantidad, intereses, y plazo en años) y le devuelva la cuota mensual a pagar\n",
    "\n",
    "La formula del interés frances es la siguiente:\n",
    "\\begin{align*}\n",
    "C=V \\frac{(1+i)^n i}{(1+i)^n -1}\n",
    "\\end{align*}\n",
    "\n",
    "\n",
    "    C = Cuota a pagar\n",
    "    V = Cantidad del préstamo hipotecario\n",
    "    i = tipo de interés del período (tipo de interes de la hipoteca por mes)\n",
    "    n = número de cuotas (en meses)\n",
    "\n",
    "V = 300.000\n",
    "\n",
    "i = 2 %\n",
    "\n",
    "n = 20*12\n",
    "\n",
    "output: 1517"
   ]
  },
  {
   "cell_type": "code",
   "execution_count": 7,
   "metadata": {},
   "outputs": [
    {
     "name": "stdout",
     "output_type": "stream",
     "text": [
      "1517\n"
     ]
    }
   ],
   "source": [
    "V = 300000\n",
    "i = 2/100/12\n",
    "n = 20 * 12\n",
    "\n",
    "C = V*(((1 + i)**n * i)/((1 + i)**n - 1)) # Formula para calcular la cuota\n",
    "\n",
    "print(int(C))"
   ]
  },
  {
   "cell_type": "markdown",
   "metadata": {},
   "source": [
    "## Ejercicio 2\n",
    "#### Crear un programa que calcule el plan de amortización\n",
    "\n",
    "El objetivo del ejercicio es crear un programa que solicite al usuario los datos de su hipoteca (cantidad, intereses, y plazo en años) y le devuelva el plan de amortización.\n",
    "\n",
    "En cada cuota se pagan intereses por el capital restante, y se devuelve capital hasta la cuota mensual. El capital restante ha de ser actualizado restandole el capital devuelto.\n",
    "\n",
    "Salida ejemplo:\n",
    "\n",
    "mes  cuota  intereses  principal  pendiente   \n",
    "\n",
    "0  758.89   450.00   308.89   179691.11 \n",
    "\n",
    "**NOTA**: Tienes que partir de tipo de interes por periodo calculado en el apartado anterior, y del total de la hipoteca. Para cada mes calcular:\n",
    "\n",
    "1. cuota (apartado anterior)\n",
    "2. intereses a pagar del mes (lo que quede por pagar * interes por periodo del apartado anterior)\n",
    "3. principal (cuota - interes)\n",
    "4. pendiente (lo que quede por pagar - principal)"
   ]
  },
  {
   "cell_type": "code",
   "execution_count": 8,
   "metadata": {
    "collapsed": true,
    "jupyter": {
     "outputs_hidden": true
    }
   },
   "outputs": [
    {
     "name": "stdout",
     "output_type": "stream",
     "text": [
      "Mes\tCuota\tInteres\tPpal\tPendiente\n",
      "1\t1517.65\t500.0\t1017.65\t298982.35\n",
      "2\t1517.65\t498.3\t1019.35\t297963.0\n",
      "3\t1517.65\t496.61\t1021.04\t296941.96\n",
      "4\t1517.65\t494.9\t1022.75\t295919.21\n",
      "5\t1517.65\t493.2\t1024.45\t294894.76\n",
      "6\t1517.65\t491.49\t1026.16\t293868.6\n",
      "7\t1517.65\t489.78\t1027.87\t292840.73\n",
      "8\t1517.65\t488.07\t1029.58\t291811.15\n",
      "9\t1517.65\t486.35\t1031.3\t290779.85\n",
      "10\t1517.65\t484.63\t1033.02\t289746.84\n",
      "11\t1517.65\t482.91\t1034.74\t288712.1\n",
      "12\t1517.65\t481.19\t1036.46\t287675.63\n",
      "13\t1517.65\t479.46\t1038.19\t286637.44\n",
      "14\t1517.65\t477.73\t1039.92\t285597.52\n",
      "15\t1517.65\t476.0\t1041.65\t284555.87\n",
      "16\t1517.65\t474.26\t1043.39\t283512.48\n",
      "17\t1517.65\t472.52\t1045.13\t282467.35\n",
      "18\t1517.65\t470.78\t1046.87\t281420.48\n",
      "19\t1517.65\t469.03\t1048.62\t280371.86\n",
      "20\t1517.65\t467.29\t1050.36\t279321.5\n",
      "21\t1517.65\t465.54\t1052.11\t278269.38\n",
      "22\t1517.65\t463.78\t1053.87\t277215.52\n",
      "23\t1517.65\t462.03\t1055.62\t276159.89\n",
      "24\t1517.65\t460.27\t1057.38\t275102.51\n",
      "25\t1517.65\t458.5\t1059.15\t274043.36\n",
      "26\t1517.65\t456.74\t1060.91\t272982.45\n",
      "27\t1517.65\t454.97\t1062.68\t271919.77\n",
      "28\t1517.65\t453.2\t1064.45\t270855.32\n",
      "29\t1517.65\t451.43\t1066.22\t269789.1\n",
      "30\t1517.65\t449.65\t1068.0\t268721.1\n",
      "31\t1517.65\t447.87\t1069.78\t267651.32\n",
      "32\t1517.65\t446.09\t1071.56\t266579.75\n",
      "33\t1517.65\t444.3\t1073.35\t265506.4\n",
      "34\t1517.65\t442.51\t1075.14\t264431.26\n",
      "35\t1517.65\t440.72\t1076.93\t263354.33\n",
      "36\t1517.65\t438.92\t1078.73\t262275.6\n",
      "37\t1517.65\t437.13\t1080.52\t261195.08\n",
      "38\t1517.65\t435.33\t1082.32\t260112.75\n",
      "39\t1517.65\t433.52\t1084.13\t259028.63\n",
      "40\t1517.65\t431.71\t1085.94\t257942.69\n",
      "41\t1517.65\t429.9\t1087.75\t256854.94\n",
      "42\t1517.65\t428.09\t1089.56\t255765.39\n",
      "43\t1517.65\t426.28\t1091.37\t254674.01\n",
      "44\t1517.65\t424.46\t1093.19\t253580.82\n",
      "45\t1517.65\t422.63\t1095.02\t252485.8\n",
      "46\t1517.65\t420.81\t1096.84\t251388.96\n",
      "47\t1517.65\t418.98\t1098.67\t250290.29\n",
      "48\t1517.65\t417.15\t1100.5\t249189.79\n",
      "49\t1517.65\t415.32\t1102.33\t248087.46\n",
      "50\t1517.65\t413.48\t1104.17\t246983.29\n",
      "51\t1517.65\t411.64\t1106.01\t245877.28\n",
      "52\t1517.65\t409.8\t1107.85\t244769.42\n",
      "53\t1517.65\t407.95\t1109.7\t243659.72\n",
      "54\t1517.65\t406.1\t1111.55\t242548.17\n",
      "55\t1517.65\t404.25\t1113.4\t241434.77\n",
      "56\t1517.65\t402.39\t1115.26\t240319.51\n",
      "57\t1517.65\t400.53\t1117.12\t239202.39\n",
      "58\t1517.65\t398.67\t1118.98\t238083.41\n",
      "59\t1517.65\t396.81\t1120.84\t236962.57\n",
      "60\t1517.65\t394.94\t1122.71\t235839.86\n",
      "61\t1517.65\t393.07\t1124.58\t234715.27\n",
      "62\t1517.65\t391.19\t1126.46\t233588.82\n",
      "63\t1517.65\t389.31\t1128.34\t232460.48\n",
      "64\t1517.65\t387.43\t1130.22\t231330.27\n",
      "65\t1517.65\t385.55\t1132.1\t230198.17\n",
      "66\t1517.65\t383.66\t1133.99\t229064.18\n",
      "67\t1517.65\t381.77\t1135.88\t227928.3\n",
      "68\t1517.65\t379.88\t1137.77\t226790.53\n",
      "69\t1517.65\t377.98\t1139.67\t225650.87\n",
      "70\t1517.65\t376.08\t1141.57\t224509.3\n",
      "71\t1517.65\t374.18\t1143.47\t223365.83\n",
      "72\t1517.65\t372.28\t1145.37\t222220.46\n",
      "73\t1517.65\t370.37\t1147.28\t221073.18\n",
      "74\t1517.65\t368.46\t1149.19\t219923.98\n",
      "75\t1517.65\t366.54\t1151.11\t218772.87\n",
      "76\t1517.65\t364.62\t1153.03\t217619.85\n",
      "77\t1517.65\t362.7\t1154.95\t216464.89\n",
      "78\t1517.65\t360.77\t1156.88\t215308.02\n",
      "79\t1517.65\t358.85\t1158.8\t214149.22\n",
      "80\t1517.65\t356.92\t1160.73\t212988.48\n",
      "81\t1517.65\t354.98\t1162.67\t211825.81\n",
      "82\t1517.65\t353.04\t1164.61\t210661.21\n",
      "83\t1517.65\t351.1\t1166.55\t209494.66\n",
      "84\t1517.65\t349.16\t1168.49\t208326.17\n",
      "85\t1517.65\t347.21\t1170.44\t207155.73\n",
      "86\t1517.65\t345.26\t1172.39\t205983.34\n",
      "87\t1517.65\t343.31\t1174.34\t204808.99\n",
      "88\t1517.65\t341.35\t1176.3\t203632.69\n",
      "89\t1517.65\t339.39\t1178.26\t202454.43\n",
      "90\t1517.65\t337.42\t1180.23\t201274.2\n",
      "91\t1517.65\t335.46\t1182.19\t200092.01\n",
      "92\t1517.65\t333.49\t1184.16\t198907.84\n",
      "93\t1517.65\t331.51\t1186.14\t197721.71\n",
      "94\t1517.65\t329.54\t1188.11\t196533.59\n",
      "95\t1517.65\t327.56\t1190.09\t195343.5\n",
      "96\t1517.65\t325.57\t1192.08\t194151.42\n",
      "97\t1517.65\t323.59\t1194.06\t192957.36\n",
      "98\t1517.65\t321.6\t1196.05\t191761.3\n",
      "99\t1517.65\t319.6\t1198.05\t190563.26\n",
      "100\t1517.65\t317.61\t1200.04\t189363.21\n",
      "101\t1517.65\t315.61\t1202.04\t188161.17\n",
      "102\t1517.65\t313.6\t1204.05\t186957.12\n",
      "103\t1517.65\t311.6\t1206.05\t185751.06\n",
      "104\t1517.65\t309.59\t1208.06\t184543.0\n",
      "105\t1517.65\t307.57\t1210.08\t183332.92\n",
      "106\t1517.65\t305.55\t1212.1\t182120.83\n",
      "107\t1517.65\t303.53\t1214.12\t180906.71\n",
      "108\t1517.65\t301.51\t1216.14\t179690.57\n",
      "109\t1517.65\t299.48\t1218.17\t178472.41\n",
      "110\t1517.65\t297.45\t1220.2\t177252.21\n",
      "111\t1517.65\t295.42\t1222.23\t176029.98\n",
      "112\t1517.65\t293.38\t1224.27\t174805.71\n",
      "113\t1517.65\t291.34\t1226.31\t173579.41\n",
      "114\t1517.65\t289.3\t1228.35\t172351.05\n",
      "115\t1517.65\t287.25\t1230.4\t171120.66\n",
      "116\t1517.65\t285.2\t1232.45\t169888.21\n",
      "117\t1517.65\t283.15\t1234.5\t168653.7\n",
      "118\t1517.65\t281.09\t1236.56\t167417.14\n",
      "119\t1517.65\t279.03\t1238.62\t166178.52\n",
      "120\t1517.65\t276.96\t1240.69\t164937.84\n",
      "121\t1517.65\t274.9\t1242.75\t163695.08\n",
      "122\t1517.65\t272.83\t1244.82\t162450.26\n",
      "123\t1517.65\t270.75\t1246.9\t161203.36\n",
      "124\t1517.65\t268.67\t1248.98\t159954.38\n",
      "125\t1517.65\t266.59\t1251.06\t158703.32\n",
      "126\t1517.65\t264.51\t1253.14\t157450.18\n",
      "127\t1517.65\t262.42\t1255.23\t156194.94\n",
      "128\t1517.65\t260.32\t1257.33\t154937.62\n",
      "129\t1517.65\t258.23\t1259.42\t153678.2\n",
      "130\t1517.65\t256.13\t1261.52\t152416.68\n",
      "131\t1517.65\t254.03\t1263.62\t151153.06\n",
      "132\t1517.65\t251.92\t1265.73\t149887.33\n",
      "133\t1517.65\t249.81\t1267.84\t148619.49\n",
      "134\t1517.65\t247.7\t1269.95\t147349.54\n",
      "135\t1517.65\t245.58\t1272.07\t146077.47\n",
      "136\t1517.65\t243.46\t1274.19\t144803.28\n",
      "137\t1517.65\t241.34\t1276.31\t143526.97\n",
      "138\t1517.65\t239.21\t1278.44\t142248.54\n",
      "139\t1517.65\t237.08\t1280.57\t140967.97\n",
      "140\t1517.65\t234.95\t1282.7\t139685.26\n",
      "141\t1517.65\t232.81\t1284.84\t138400.42\n",
      "142\t1517.65\t230.67\t1286.98\t137113.44\n",
      "143\t1517.65\t228.52\t1289.13\t135824.31\n",
      "144\t1517.65\t226.37\t1291.28\t134533.04\n",
      "145\t1517.65\t224.22\t1293.43\t133239.61\n",
      "146\t1517.65\t222.07\t1295.58\t131944.02\n",
      "147\t1517.65\t219.91\t1297.74\t130646.28\n",
      "148\t1517.65\t217.74\t1299.91\t129346.37\n",
      "149\t1517.65\t215.58\t1302.07\t128044.3\n",
      "150\t1517.65\t213.41\t1304.24\t126740.06\n",
      "151\t1517.65\t211.23\t1306.42\t125433.64\n",
      "152\t1517.65\t209.06\t1308.59\t124125.05\n",
      "153\t1517.65\t206.88\t1310.77\t122814.27\n",
      "154\t1517.65\t204.69\t1312.96\t121501.31\n",
      "155\t1517.65\t202.5\t1315.15\t120186.16\n",
      "156\t1517.65\t200.31\t1317.34\t118868.83\n",
      "157\t1517.65\t198.11\t1319.54\t117549.29\n",
      "158\t1517.65\t195.92\t1321.73\t116227.56\n",
      "159\t1517.65\t193.71\t1323.94\t114903.62\n",
      "160\t1517.65\t191.51\t1326.14\t113577.47\n",
      "161\t1517.65\t189.3\t1328.35\t112249.12\n",
      "162\t1517.65\t187.08\t1330.57\t110918.55\n",
      "163\t1517.65\t184.86\t1332.79\t109585.77\n",
      "164\t1517.65\t182.64\t1335.01\t108250.76\n",
      "165\t1517.65\t180.42\t1337.23\t106913.53\n",
      "166\t1517.65\t178.19\t1339.46\t105574.07\n",
      "167\t1517.65\t175.96\t1341.69\t104232.37\n",
      "168\t1517.65\t173.72\t1343.93\t102888.44\n",
      "169\t1517.65\t171.48\t1346.17\t101542.27\n",
      "170\t1517.65\t169.24\t1348.41\t100193.86\n",
      "171\t1517.65\t166.99\t1350.66\t98843.2\n",
      "172\t1517.65\t164.74\t1352.91\t97490.29\n",
      "173\t1517.65\t162.48\t1355.17\t96135.12\n",
      "174\t1517.65\t160.23\t1357.42\t94777.7\n",
      "175\t1517.65\t157.96\t1359.69\t93418.01\n",
      "176\t1517.65\t155.7\t1361.95\t92056.06\n",
      "177\t1517.65\t153.43\t1364.22\t90691.83\n",
      "178\t1517.65\t151.15\t1366.5\t89325.34\n",
      "179\t1517.65\t148.88\t1368.77\t87956.56\n",
      "180\t1517.65\t146.59\t1371.06\t86585.51\n",
      "181\t1517.65\t144.31\t1373.34\t85212.17\n",
      "182\t1517.65\t142.02\t1375.63\t83836.54\n",
      "183\t1517.65\t139.73\t1377.92\t82458.61\n",
      "184\t1517.65\t137.43\t1380.22\t81078.4\n",
      "185\t1517.65\t135.13\t1382.52\t79695.88\n",
      "186\t1517.65\t132.83\t1384.82\t78311.05\n",
      "187\t1517.65\t130.52\t1387.13\t76923.92\n",
      "188\t1517.65\t128.21\t1389.44\t75534.48\n",
      "189\t1517.65\t125.89\t1391.76\t74142.72\n",
      "190\t1517.65\t123.57\t1394.08\t72748.64\n",
      "191\t1517.65\t121.25\t1396.4\t71352.24\n",
      "192\t1517.65\t118.92\t1398.73\t69953.51\n",
      "193\t1517.65\t116.59\t1401.06\t68552.45\n",
      "194\t1517.65\t114.25\t1403.4\t67149.05\n",
      "195\t1517.65\t111.92\t1405.73\t65743.32\n",
      "196\t1517.65\t109.57\t1408.08\t64335.24\n",
      "197\t1517.65\t107.23\t1410.42\t62924.81\n",
      "198\t1517.65\t104.87\t1412.78\t61512.04\n",
      "199\t1517.65\t102.52\t1415.13\t60096.91\n",
      "200\t1517.65\t100.16\t1417.49\t58679.42\n",
      "201\t1517.65\t97.8\t1419.85\t57259.57\n",
      "202\t1517.65\t95.43\t1422.22\t55837.35\n",
      "203\t1517.65\t93.06\t1424.59\t54412.76\n",
      "204\t1517.65\t90.69\t1426.96\t52985.8\n",
      "205\t1517.65\t88.31\t1429.34\t51556.46\n",
      "206\t1517.65\t85.93\t1431.72\t50124.74\n",
      "207\t1517.65\t83.54\t1434.11\t48690.63\n",
      "208\t1517.65\t81.15\t1436.5\t47254.13\n",
      "209\t1517.65\t78.76\t1438.89\t45815.24\n",
      "210\t1517.65\t76.36\t1441.29\t44373.95\n",
      "211\t1517.65\t73.96\t1443.69\t42930.25\n",
      "212\t1517.65\t71.55\t1446.1\t41484.15\n",
      "213\t1517.65\t69.14\t1448.51\t40035.64\n",
      "214\t1517.65\t66.73\t1450.92\t38584.72\n",
      "215\t1517.65\t64.31\t1453.34\t37131.38\n",
      "216\t1517.65\t61.89\t1455.76\t35675.61\n",
      "217\t1517.65\t59.46\t1458.19\t34217.42\n",
      "218\t1517.65\t57.03\t1460.62\t32756.8\n",
      "219\t1517.65\t54.59\t1463.06\t31293.75\n",
      "220\t1517.65\t52.16\t1465.49\t29828.25\n",
      "221\t1517.65\t49.71\t1467.94\t28360.32\n",
      "222\t1517.65\t47.27\t1470.38\t26889.93\n",
      "223\t1517.65\t44.82\t1472.83\t25417.1\n",
      "224\t1517.65\t42.36\t1475.29\t23941.81\n",
      "225\t1517.65\t39.9\t1477.75\t22464.07\n",
      "226\t1517.65\t37.44\t1480.21\t20983.86\n",
      "227\t1517.65\t34.97\t1482.68\t19501.18\n",
      "228\t1517.65\t32.5\t1485.15\t18016.03\n",
      "229\t1517.65\t30.03\t1487.62\t16528.41\n",
      "230\t1517.65\t27.55\t1490.1\t15038.3\n",
      "231\t1517.65\t25.06\t1492.59\t13545.72\n",
      "232\t1517.65\t22.58\t1495.07\t12050.64\n",
      "233\t1517.65\t20.08\t1497.57\t10553.08\n",
      "234\t1517.65\t17.59\t1500.06\t9053.02\n",
      "235\t1517.65\t15.09\t1502.56\t7550.46\n",
      "236\t1517.65\t12.58\t1505.07\t6045.39\n",
      "237\t1517.65\t10.08\t1507.57\t4537.82\n",
      "238\t1517.65\t7.56\t1510.09\t3027.73\n",
      "239\t1517.65\t5.05\t1512.6\t1515.12\n",
      "240\t1517.65\t2.53\t1515.12\t0.0\n"
     ]
    }
   ],
   "source": [
    "# Se establecen las variables\n",
    "\n",
    "V = 300000\n",
    "i = 2/(100*12)\n",
    "n = 20*12\n",
    "C = V*(((1 + i)**n * i)/((1 + i)**n - 1))\n",
    "\n",
    "mes = 0\n",
    "pagado = 0\n",
    "\n",
    "print('Mes', 'Cuota', 'Interes', 'Ppal', 'Pendiente', sep = '\\t') # Se printea la cabecera de la tabla\n",
    "\n",
    "while mes < n:\n",
    "    \n",
    "    C = V*(((1 + i)**n * i)/((1 + i)**n - 1))\n",
    "    interes_mes = (V - pagado) * i\n",
    "    principal = C - interes_mes\n",
    "    pagado = pagado + principal\n",
    "    pendiente = V - pagado\n",
    "    mes = mes + 1\n",
    "    \n",
    "    print(mes, round(C, 2), round(interes_mes, 2), round(principal, 2), round(pendiente, 2), sep = '\\t')  "
   ]
  },
  {
   "cell_type": "markdown",
   "metadata": {},
   "source": [
    "## Ejercicio 3\n",
    "#### Crear un programa que resuelva una ecuacción de segundo grado\n",
    "\n",
    "El objetivo del programa es resolver la ecuacción de sgundo grado \n",
    "\n",
    "\\begin{align*}\n",
    "ax^2+bx+c = 0\n",
    "\\end{align*}\n",
    "\n",
    "Pasando como parámetros los coeficientes de la ecuacción. La resolución de la ecuacción es la siguiente:\n",
    "\n",
    "\\begin{align*}\n",
    "x=\\frac{-b \\pm \\sqrt{b^2-4ac}}{2a}\n",
    "\\end{align*}\n",
    "\n",
    "Para realizar este programa tienes que utilizar el metodo sqrt() para calcular la raiz cuadrada. Para ello tienes que importar el módulo math. Así que tu programa debería empezar con ```ìmport math```\n"
   ]
  },
  {
   "cell_type": "code",
   "execution_count": 9,
   "metadata": {},
   "outputs": [
    {
     "name": "stdin",
     "output_type": "stream",
     "text": [
      "Valor de a: 6\n",
      "Valor de b: -5\n",
      "Valor de c: 1\n"
     ]
    },
    {
     "name": "stdout",
     "output_type": "stream",
     "text": [
      "La solucion de la ecuacion es: 0.5 y 0.3333333333333333\n"
     ]
    }
   ],
   "source": [
    "import math\n",
    "\n",
    "a = int(input('Valor de a:'))\n",
    "b = int(input('Valor de b:'))\n",
    "c = int(input('Valor de c:'))\n",
    "\n",
    "\n",
    "if ((b**2) - (4*a*c)) < 0: # Mediante esta condicoin, evitamos que la raiz cuadrada contenga numeros negativos\n",
    "    \n",
    "    print ('Error en la raiz cuadrada')\n",
    "\n",
    "else: \n",
    "    \n",
    "    x1 = (-b + math.sqrt(b**2 - (4*a*c))) / (2*a)\n",
    "    x2 = (-b - math.sqrt(b**2 - (4*a*c))) / (2*a)\n",
    "    \n",
    "    print('La solucion de la ecuacion es:', x1, 'y', x2)"
   ]
  },
  {
   "cell_type": "markdown",
   "metadata": {},
   "source": [
    "## Ejercicio 4\n",
    "#### Crear un programa que calcule el average\n",
    "\n",
    "El programa pedirá al usuario que introduzca numeros. En primer lugar le pedirá que indique cuantos números se quieren introducir, y enseñara un prompt para incluirlos, y calculará el average.\n",
    "\n"
   ]
  },
  {
   "cell_type": "code",
   "execution_count": null,
   "metadata": {},
   "outputs": [],
   "source": [
    "suma = 0\n",
    "promedio = 0\n",
    "\n",
    "n_numeros = int(input('Cuantos numeros quieres introducir?:'))\n",
    "\n",
    "for i in range(n_numeros): # Establecemos el rango dependiendo de la cantidad de numeros que inserte el usuario\n",
    "    \n",
    "    num_usuario = int(input('Introducir numero:')) # Recoge los numeros del usuario\n",
    "    \n",
    "    suma = suma + num_usuario # Se establece una variable donde se suman los numero que introduce el usuario\n",
    "    \n",
    "promedio = suma / n_numeros # Calcula el promedio\n",
    "\n",
    "print('El promedio es de:', promedio)"
   ]
  },
  {
   "cell_type": "markdown",
   "metadata": {},
   "source": [
    "## Ejercicio 5\n",
    "#### Crear un programa que calcule el average II\n",
    "\n",
    "El programa pedirá que se diga cuantos números se quieren introducir, y enseñara un prompt para incluirl número a número en una lista, y calcule después el average.\n"
   ]
  },
  {
   "cell_type": "code",
   "execution_count": null,
   "metadata": {},
   "outputs": [],
   "source": [
    "list_1 = [] # Lista donde se recogen los numeros del usuario\n",
    "\n",
    "n_numeros = int(input('Cuantos numeros quieres introducir?:'))\n",
    "\n",
    "for i in range(n_numeros): # Establecemos el rango dependiendo de la cantidad de numeros que inserte el usuario\n",
    "    \n",
    "    num_usuario = float(input('Introducir numero:')) # Recoge los numeros del usuario\n",
    "    \n",
    "    list_1.extend([num_usuario]) # Se van añadiendo los numeros que introduzca el usuario a list_1\n",
    "\n",
    "promedio = sum(list_1) / n_numeros # Suma los numeros de la lista y calcula el promedio\n",
    "\n",
    "print(list_1)\n",
    "print(promedio)"
   ]
  },
  {
   "cell_type": "markdown",
   "metadata": {},
   "source": [
    "## Ejercicio 6\n",
    "#### Write a Python program to convert a list of characters into a string.\n",
    "\n",
    "Sample list : ['a','b','c','d']\n",
    "\n",
    "Expected output : abcd"
   ]
  },
  {
   "cell_type": "code",
   "execution_count": null,
   "metadata": {},
   "outputs": [],
   "source": [
    "sample_list = ['a', 'b', 'c', 'd']\n",
    "\n",
    "sample_list_str = ''.join(sample_list) # Al poner '' estamos creando el separador\n",
    "\n",
    "print(sample_list_str)"
   ]
  },
  {
   "cell_type": "markdown",
   "metadata": {},
   "source": [
    "## Ejercicio 7\n",
    "#### First and last 5\n",
    "Write a Python program to generate and print a list of first and last 5 elements where the values are square of numbers between 1 and 30 (both included). "
   ]
  },
  {
   "cell_type": "code",
   "execution_count": null,
   "metadata": {},
   "outputs": [],
   "source": [
    "select_list = []\n",
    "\n",
    "for i in range(1,31): # Se establece el rango que queremos usar\n",
    "    \n",
    "    if i < 6 or i > 25: # Se establecen las condiciones para que recoja los primeros y ultimos 5 elementos\n",
    "        \n",
    "        select_list.append(i) # Si se cumple la condicion, se añade el numero a la lista\n",
    "    \n",
    "    else:\n",
    "        continue # Si no se cumple la condicion, continua el bucle\n",
    "\n",
    "print(select_list)\n",
    "\n",
    "select_list_cuadrado = [i**2 for i in select_list] # Se eleva cada elemento de la lista al cuadrado\n",
    "\n",
    "print(select_list_cuadrado)"
   ]
  },
  {
   "cell_type": "markdown",
   "metadata": {},
   "source": [
    "## Ejercicio 8\n",
    "#### Interactuando con listas\n",
    "\n",
    "From given list gadgets = [“Mobile”, “Laptop”, 100, “Camera”, 310.28, “Speakers”, 27.00,\n",
    "“Television”, 1000, “Laptop Case”, “Camera Lens”]\n",
    "\n",
    "a)create separate lists of strings and numbers.  \n",
    "\n",
    "b)Sort the strings list in ascending order  \n",
    "\n",
    "c)Sort the strings list in descending order  \n",
    "\n",
    "d)Sort the number list from lowest to highest  \n",
    "\n",
    "e)Sort the number list from highest to lowest"
   ]
  },
  {
   "cell_type": "code",
   "execution_count": null,
   "metadata": {},
   "outputs": [],
   "source": [
    "gadgets = ['Mobile', 'Laptop', 100, 'Camera', 310.28, 'Speakers', 27.00, 'Television', 1000, 'Laptop Case', 'Camera Lens']\n",
    "\n",
    "# a\n",
    "  # Se crean las 2 nuevas listas\n",
    "str_list = []\n",
    "num_list = []\n",
    "\n",
    "for i in gadgets:\n",
    "    \n",
    "    if type(i) == str: # Se establece la condicion para que reconozca los elementos str\n",
    "\n",
    "        str_list.append(i) # Se añaden los elementos str de gadgets en la variable str_list\n",
    "        \n",
    "    else:\n",
    "        \n",
    "        num_list.append(i) # Los elementos que no sean str se añaden a la variable num_list\n",
    "\n",
    "print(str_list)\n",
    "print(num_list)\n",
    "\n",
    "# b\n",
    "\n",
    "str_list.sort()\n",
    "print(str_list)\n",
    "\n",
    "# c\n",
    "\n",
    "str_list.sort(reverse = True)\n",
    "print(str_list)\n",
    "\n",
    "# d\n",
    "\n",
    "num_list.sort()\n",
    "print(num_list)\n",
    "\n",
    "# e\n",
    "\n",
    "num_list.sort(reverse = True)\n",
    "print(num_list)"
   ]
  },
  {
   "cell_type": "markdown",
   "metadata": {},
   "source": [
    "## Ejercicio 9\n",
    "#### Get first, second best scores from the list.\n",
    "\n",
    "List may contain duplicates.\n",
    "\n",
    "Ex: [86,86,85,85,85,83,23,45,84,1,2,0] => should get 86, 85"
   ]
  },
  {
   "cell_type": "code",
   "execution_count": null,
   "metadata": {},
   "outputs": [],
   "source": [
    "scores = [86,86,85,85,85,83,23,45,84,1,2,0] \n",
    "\n",
    "scores_set = set(scores) # Se convierte la lista en un set para eliminar los duplicados\n",
    "print(scores_set)\n",
    "\n",
    "max_1 = max(scores_set) # Se extrae el numero mas alto en una nueva variable\n",
    "scores_set.remove(max_1) # Se borra el numero mas alto\n",
    "max_2 = max(scores_set) # Se extrae el nuevo numero mas alto en otra variable\n",
    "print(max_1, max_2)"
   ]
  },
  {
   "cell_type": "markdown",
   "metadata": {},
   "source": [
    "## Ejercicio 10\n",
    "#### Write a program that detects if a string is a palindrome\n",
    "Ask the user for a string and print out whether this string is a palindrome or not. (A palindrome is a string that reads the same forwards and backwards.)"
   ]
  },
  {
   "cell_type": "code",
   "execution_count": null,
   "metadata": {},
   "outputs": [],
   "source": [
    "palabra = input('Introducir una palabra:')\n",
    "\n",
    "# Condicion para que la palabra introducida se lea igual empezando por el principio y por el final\n",
    "\n",
    "if palabra == palabra[:: -1]: # Mediante [:: -1] hacemos que invierta la palabra\n",
    "    \n",
    "    print('Tu palabra es palindroma')\n",
    "\n",
    "else:\n",
    "    \n",
    "    print('Tu palabra no es palindroma')"
   ]
  },
  {
   "cell_type": "markdown",
   "metadata": {},
   "source": [
    "## (Bonus) Ejercicio 11\n",
    "#### Desarrolla el juego del ahorcado\n",
    "El juego del ahorcado consiste en adivinar una palabra, probando letra a letra. El jugaor tiene permitidos 6 fallos, al 7mo fallo pierde. \n",
    "\n",
    "* Habrá que imprimir por pantalla una cantidad de guiones igual al numero de letras e ir sustituyéndolos con los aciertos.\n",
    "* Necesitarás usar un bucle while con un input para modelar las jugadas del ahoracado. En cada ejecución del while comprueba las vidas del jugador, y los aciertos."
   ]
  },
  {
   "cell_type": "code",
   "execution_count": 23,
   "metadata": {
    "collapsed": true,
    "jupyter": {
     "outputs_hidden": true
    }
   },
   "outputs": [
    {
     "name": "stdout",
     "output_type": "stream",
     "text": [
      "Bienvenido al juego del Ahorcado de Python\n",
      "Deberas ir diciendo una letra en cada turno, \n",
      "si aciertas, se verá la cantidad de veces que esta repetida,\n",
      "pero si fallas se te restará una vida\n",
      "Dispones de 6 vidas\n",
      "¡COMENCEMOS!\n",
      "Esta es la palabra que deberás adivinar\n",
      "['_', '_', '_', '_']\n"
     ]
    },
    {
     "name": "stdin",
     "output_type": "stream",
     "text": [
      "Introducir una letra:  h\n"
     ]
    },
    {
     "data": {
      "text/plain": [
       "\"try:\\n        \\n    while vidas > 0 and ganar == False:\\n        \\n        if letra in palabra:\\n            \\n            print('La ', letra, ' esta en la palabra oculta.')\\n            print(vidas)\\n            print(letra)\\n            \\n        else:\\n            \\n            print('La ', letra, ' no esta en la palabra oculta, has perdido una vida.')\\n            vidas -= 1\\n            print(vidas)\\n            print(letra)\\n\\nexcept:\\n    \\n    print('Error')\""
      ]
     },
     "execution_count": 23,
     "metadata": {},
     "output_type": "execute_result"
    }
   ],
   "source": [
    "print('Bienvenido al juego del Ahorcado de Python')\n",
    "print('Deberas ir diciendo una letra en cada turno, \\nsi aciertas, se verá la cantidad de veces que esta repetida,\\npero si fallas se te restará una vida')\n",
    "print('Dispones de 6 vidas')\n",
    "print('¡COMENCEMOS!')\n",
    "\n",
    "vidas = 6\n",
    "palabra_oculta = 'hola'\n",
    "barra = list(palabra_oculta)\n",
    "ganar = False\n",
    "\n",
    "for i in range(len(palabra_oculta)):\n",
    "    \n",
    "    barra[i] = '_'\n",
    "\n",
    "print('Esta es la palabra que deberás adivinar')\n",
    "print(barra)\n",
    "letra = input('Introducir una letra: ')\n",
    "\n",
    "try:\n",
    "        \n",
    "    while vidas > 0 and ganar == False:\n",
    "        \n",
    "        if '_' in barra:\n",
    "            \n",
    "            print(barra)\n",
    "            \n",
    "            if letra in palabra_oculta:\n",
    "            \n",
    "            print('La ', letra, ' esta en la palabra oculta.')\n",
    "            print(vidas)\n",
    "            print(letra)\n",
    "            \n",
    "            else:\n",
    "            \n",
    "            print('La ', letra, ' no esta en la palabra oculta, has perdido una vida.')\n",
    "            vidas -= 1\n",
    "            print(vidas)\n",
    "            print(letra)\n",
    "            \n",
    "        else:\n",
    "            \n",
    "            ganar = True\n",
    "\n",
    "except:\n",
    "    \n",
    "    print('Error')"
   ]
  },
  {
   "cell_type": "code",
   "execution_count": 2,
   "metadata": {},
   "outputs": [
    {
     "name": "stdin",
     "output_type": "stream",
     "text": [
      "Introduce la palabra que quieres que adivinen: hola\n"
     ]
    },
    {
     "name": "stdout",
     "output_type": "stream",
     "text": [
      "['_', '_', '_', '_']\n"
     ]
    },
    {
     "name": "stdin",
     "output_type": "stream",
     "text": [
      "Añade una letra o\n"
     ]
    },
    {
     "name": "stdout",
     "output_type": "stream",
     "text": [
      "['_', 'o', '_', '_']\n"
     ]
    },
    {
     "name": "stdin",
     "output_type": "stream",
     "text": [
      "Añade una letra s\n"
     ]
    },
    {
     "name": "stdout",
     "output_type": "stream",
     "text": [
      "['_', 'o', '_', '_']\n",
      "Te quedan 5 vidas\n",
      "['_', 'o', '_', '_']\n"
     ]
    },
    {
     "name": "stdin",
     "output_type": "stream",
     "text": [
      "Añade una letra x\n"
     ]
    },
    {
     "name": "stdout",
     "output_type": "stream",
     "text": [
      "['_', 'o', '_', '_']\n",
      "Te quedan 4 vidas\n",
      "['_', 'o', '_', '_']\n"
     ]
    },
    {
     "name": "stdin",
     "output_type": "stream",
     "text": [
      "Añade una letra z\n"
     ]
    },
    {
     "name": "stdout",
     "output_type": "stream",
     "text": [
      "['_', 'o', '_', '_']\n",
      "Te quedan 3 vidas\n",
      "['_', 'o', '_', '_']\n"
     ]
    },
    {
     "name": "stdin",
     "output_type": "stream",
     "text": [
      "Añade una letra c\n"
     ]
    },
    {
     "name": "stdout",
     "output_type": "stream",
     "text": [
      "['_', 'o', '_', '_']\n",
      "Te quedan 2 vidas\n",
      "['_', 'o', '_', '_']\n"
     ]
    },
    {
     "name": "stdin",
     "output_type": "stream",
     "text": [
      "Añade una letra v\n"
     ]
    },
    {
     "name": "stdout",
     "output_type": "stream",
     "text": [
      "['_', 'o', '_', '_']\n",
      "Te quedan 1 vidas\n",
      "['_', 'o', '_', '_']\n"
     ]
    },
    {
     "name": "stdin",
     "output_type": "stream",
     "text": [
      "Añade una letra a\n"
     ]
    },
    {
     "name": "stdout",
     "output_type": "stream",
     "text": [
      "['_', 'o', '_', 'a']\n"
     ]
    },
    {
     "name": "stdin",
     "output_type": "stream",
     "text": [
      "Añade una letra h\n"
     ]
    },
    {
     "name": "stdout",
     "output_type": "stream",
     "text": [
      "['h', 'o', '_', 'a']\n"
     ]
    },
    {
     "name": "stdin",
     "output_type": "stream",
     "text": [
      "Añade una letra f\n"
     ]
    },
    {
     "name": "stdout",
     "output_type": "stream",
     "text": [
      "['h', 'o', '_', 'a']\n",
      "Te quedan 0 vidas\n",
      "Has perdido! la palabra era: hola\n"
     ]
    }
   ],
   "source": [
    "'''\n",
    "AHORCADO CRIS\n",
    "'''\n",
    "\n",
    "palabra_adivinar = input('Introduce la palabra que quieres que adivinen:')\n",
    "vidas = 6\n",
    "ganar = False\n",
    "rayita = list(palabra_adivinar)\n",
    "tamaño =len(palabra_adivinar)\n",
    "\n",
    "for i in range(0,tamaño):\n",
    "    \n",
    "    rayita[i] = ‘_’\n",
    "\n",
    "while vidas > 0 and ganar == False:\n",
    "    \n",
    "    if '_' in rayita:\n",
    "        print(rayita)\n",
    "        letra = input ('Añade una letra')\n",
    "        if letra in palabra_adivinar:\n",
    "            for indice, let in enumerate(palabra_adivinar):\n",
    "                if let == letra:\n",
    "                    rayita[indice]=letra\n",
    "        else:\n",
    "            vidas -=1\n",
    "            print(rayita)\n",
    "            print('Te quedan',vidas,'vidas')\n",
    "    else:\n",
    "        ganar = True\n",
    "if ganar:\n",
    "    print('Has ganado! la palabra es:', palabra_adivinar)\n",
    "if not ganar:\n",
    "    print('Has perdido! la palabra era:', palabra_adivinar)"
   ]
  },
  {
   "cell_type": "code",
   "execution_count": null,
   "metadata": {},
   "outputs": [],
   "source": []
  }
 ],
 "metadata": {
  "kernelspec": {
   "display_name": "Python 3",
   "language": "python",
   "name": "python3"
  },
  "language_info": {
   "codemirror_mode": {
    "name": "ipython",
    "version": 3
   },
   "file_extension": ".py",
   "mimetype": "text/x-python",
   "name": "python",
   "nbconvert_exporter": "python",
   "pygments_lexer": "ipython3",
   "version": "3.8.5"
  }
 },
 "nbformat": 4,
 "nbformat_minor": 4
}
