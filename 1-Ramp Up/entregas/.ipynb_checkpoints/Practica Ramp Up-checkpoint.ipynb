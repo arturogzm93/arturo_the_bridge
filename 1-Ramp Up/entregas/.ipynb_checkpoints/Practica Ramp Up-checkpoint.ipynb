{
 "cells": [
  {
   "cell_type": "markdown",
   "metadata": {},
   "source": [
    "# Entrega Ramp Up\n"
   ]
  },
  {
   "cell_type": "markdown",
   "metadata": {},
   "source": [
    "## Ejercicio 1\n",
    "#### Crear un programa que calcule la cuota de una hipoteca\n",
    "\n",
    "Las cuotas hipotecarias se calculan utilizando la fórmula del interés frances. El objetivo del ejercicio es crear un programa que solicite al usuario los datos de su hipoteca (cantidad, intereses, y plazo en años) y le devuelva la cuota mensual a pagar\n",
    "\n",
    "La formula del interés frances es la siguiente:\n",
    "\\begin{align*}\n",
    "C=V \\frac{(1+i)^n i}{(1+i)^n -1}\n",
    "\\end{align*}\n",
    "\n",
    "\n",
    "    C = Cuota a pagar\n",
    "    V = Cantidad del préstamo hipotecario\n",
    "    i = tipo de interés del período (tipo de interes de la hipoteca por mes)\n",
    "    n = número de cuotas (en meses)\n",
    "\n",
    "V = 300.000\n",
    "\n",
    "i = 2 %\n",
    "\n",
    "n = 20*12\n",
    "\n",
    "output: 1517"
   ]
  },
  {
   "cell_type": "code",
   "execution_count": 3,
   "metadata": {},
   "outputs": [
    {
     "name": "stdout",
     "output_type": "stream",
     "text": [
      "6052.224441256251\n"
     ]
    }
   ],
   "source": [
    "V = 300000\n",
    "i = 2/100\n",
    "n = 20*12\n",
    "\n",
    "C = V*(((1 + i)**n * i)/((1 + i)**n - 1))\n",
    "\n",
    "print(C)"
   ]
  },
  {
   "cell_type": "markdown",
   "metadata": {},
   "source": [
    "## Ejercicio 2\n",
    "#### Crear un programa que calcule el plan de amortización\n",
    "\n",
    "El objetivo del ejercicio es crear un programa que solicite al usuario los datos de su hipoteca (cantidad, intereses, y plazo en años) y le devuelva el plan de amortización.\n",
    "\n",
    "En cada cuota se pagan intereses por el capital restante, y se devuelve capital hasta la cuota mensual. El capital restante ha de ser actualizado restandole el capital devuelto.\n",
    "\n",
    "Salida ejemplo:\n",
    "\n",
    "mes  cuota  intereses  principal  pendiente   \n",
    "\n",
    "0  758.89   450.00   308.89   179691.11 \n",
    "\n",
    "**NOTA**: Tienes que partir de tipo de interes por periodo calculado en el apartado anterior, y del total de la hipoteca. Para cada mes calcular:\n",
    "\n",
    "1. cuota (apartado anterior)\n",
    "2. intereses a pagar del mes (lo que quede por pagar * interes por periodo del apartado anterior)\n",
    "3. principal (cuota - interes)\n",
    "4. pendiente (lo que quede por pagar - principal)"
   ]
  },
  {
   "cell_type": "code",
   "execution_count": null,
   "metadata": {},
   "outputs": [],
   "source": []
  },
  {
   "cell_type": "markdown",
   "metadata": {},
   "source": [
    "## Ejercicio 3\n",
    "#### Crear un programa que resuelva una ecuacción de segundo grado\n",
    "\n",
    "El objetivo del programa es resolver la ecuacción de sgundo grado \n",
    "\n",
    "\\begin{align*}\n",
    "ax^2+bx+c = 0\n",
    "\\end{align*}\n",
    "\n",
    "Pasando como parámetros los coeficientes de la ecuacción. La resolución de la ecuacción es la siguiente:\n",
    "\n",
    "\\begin{align*}\n",
    "x=\\frac{-b \\pm \\sqrt{b^2-4ac}}{2a}\n",
    "\\end{align*}\n",
    "\n",
    "Para realizar este programa tienes que utilizar el metodo sqrt() para calcular la raiz cuadrada. Para ello tienes que importar el módulo math. Así que tu programa debería empezar con ```ìmport math```\n"
   ]
  },
  {
   "cell_type": "code",
   "execution_count": 34,
   "metadata": {},
   "outputs": [
    {
     "name": "stdin",
     "output_type": "stream",
     "text": [
      "Valor de a: 6\n",
      "Valor de b: -5\n",
      "Valor de c: 1\n"
     ]
    },
    {
     "name": "stdout",
     "output_type": "stream",
     "text": [
      "La solucion de la ecuacion es: 0.5 y 0.3333333333333333\n"
     ]
    }
   ],
   "source": [
    "import math\n",
    "\n",
    "a = int(input('Valor de a:'))\n",
    "b = int(input('Valor de b:'))\n",
    "c = int(input('Valor de c:'))\n",
    "x1= 0\n",
    "x2 = 0\n",
    "\n",
    "if ((b**2) - (4*a*c)) < 0: # Mediante esta condicoin, evitamos que la raiz cuadrada contenga numeros negativos\n",
    "    \n",
    "    print ('La solucion contiene numeros complejos')\n",
    "\n",
    "else: \n",
    "    \n",
    "    x1 = (-b + math.sqrt(b**2 - (4*a*c))) / (2*a)\n",
    "    x2 = (-b - math.sqrt(b**2 - (4*a*c))) / (2*a)\n",
    "    print('La solucion de la ecuacion es:', x1, 'y', x2)\n",
    "   "
   ]
  },
  {
   "cell_type": "markdown",
   "metadata": {},
   "source": [
    "## Ejercicio 4\n",
    "#### Crear un programa que calcule el average\n",
    "\n",
    "El programa pedirá al usuario que introduzca numeros. En primer lugar le pedirá que indique cuantos números se quieren introducir, y enseñara un prompt para incluirlos, y calculará el average.\n",
    "\n"
   ]
  },
  {
   "cell_type": "code",
   "execution_count": 1,
   "metadata": {},
   "outputs": [
    {
     "name": "stdin",
     "output_type": "stream",
     "text": [
      "Cuantos numeros quieres introducir?: 4\n",
      "Introducir numero: 40\n",
      "Introducir numero: 30\n",
      "Introducir numero: 20\n",
      "Introducir numero: 10\n"
     ]
    },
    {
     "name": "stdout",
     "output_type": "stream",
     "text": [
      "El promedio es de: 25.0\n"
     ]
    }
   ],
   "source": [
    "suma = 0\n",
    "promedio = 0\n",
    "\n",
    "n_numeros = int(input('Cuantos numeros quieres introducir?:'))\n",
    "\n",
    "for i in range(n_numeros): # Establecemos el rango dependiendo de la cantidad de numeros que inserte el usuario\n",
    "    \n",
    "    num_usuario = int(input('Introducir numero:')) # Recoge los numeros del usuario\n",
    "    \n",
    "    suma = suma + num_usuario # Se establece una variable donde se suman los numero que introduce el usuario\n",
    "    \n",
    "promedio = suma/n_numeros # Calcula el promedio\n",
    "\n",
    "print('El promedio es de:', promedio)"
   ]
  },
  {
   "cell_type": "markdown",
   "metadata": {},
   "source": [
    "## Ejercicio 5\n",
    "#### Crear un programa que calcule el average II\n",
    "\n",
    "El programa pedirá que se diga cuantos números se quieren introducir, y enseñara un prompt para incluirl número a número en una lista, y calcule después el average.\n"
   ]
  },
  {
   "cell_type": "code",
   "execution_count": 29,
   "metadata": {},
   "outputs": [
    {
     "name": "stdin",
     "output_type": "stream",
     "text": [
      "Cuantos numeros quieres introducir?: 4\n",
      "Introducir numero: 4\n",
      "Introducir numero: 3\n",
      "Introducir numero: 2\n",
      "Introducir numero: 1\n"
     ]
    },
    {
     "name": "stdout",
     "output_type": "stream",
     "text": [
      "[4, 3, 2, 1]\n",
      "2.5\n"
     ]
    }
   ],
   "source": [
    "list_1 = [] # Lista donde se recogen los numeros del usuario\n",
    "\n",
    "n_numeros = int(input('Cuantos numeros quieres introducir?:'))\n",
    "\n",
    "for i in range(n_numeros): # Establecemos el rango dependiendo de la cantidad de numeros que inserte el usuario\n",
    "    \n",
    "    num_usuario = int(input('Introducir numero:')) # Recoge los numeros del usuario\n",
    "    \n",
    "    list_1.extend([num_usuario]) # Se van añadiendo los numeros que introduzca el usuario a list_1\n",
    "\n",
    "promedio = sum(list_1)/n_numeros # Suma los numeros de la lista y calcula el promedio\n",
    "\n",
    "print(list_1)\n",
    "print(promedio)"
   ]
  },
  {
   "cell_type": "markdown",
   "metadata": {},
   "source": [
    "## Ejercicio 6\n",
    "#### Write a Python program to convert a list of characters into a string.\n",
    "\n",
    "Sample list : ['a','b','c','d']\n",
    "\n",
    "Expected output : abcd"
   ]
  },
  {
   "cell_type": "code",
   "execution_count": 31,
   "metadata": {},
   "outputs": [
    {
     "name": "stdout",
     "output_type": "stream",
     "text": [
      "abcd\n"
     ]
    }
   ],
   "source": [
    "sample_list = ['a', 'b', 'c', 'd']\n",
    "\n",
    "sample_list_str = ''.join(sample_list) # Al poner '' estamos creando el separador\n",
    "\n",
    "print(sample_list_str)"
   ]
  },
  {
   "cell_type": "markdown",
   "metadata": {},
   "source": [
    "## Ejercicio 7\n",
    "#### First and last 5\n",
    "Write a Python program to generate and print a list of first and last 5 elements where the values are square of numbers between 1 and 30 (both included). "
   ]
  },
  {
   "cell_type": "code",
   "execution_count": 55,
   "metadata": {},
   "outputs": [
    {
     "name": "stdout",
     "output_type": "stream",
     "text": [
      "[1, 2, 3, 4, 5, 26, 27, 28, 29, 30]\n"
     ]
    }
   ],
   "source": [
    "select_list = []\n",
    "\n",
    "for i in range(1,31): # Se establece el rango que queremos usar\n",
    "    \n",
    "    if i < 6 or i > 25: # Se establecen las condiciones para que recoja los primeros y ultimos 5 elementos\n",
    "        \n",
    "        select_list.append(i) # Si se cumple la condicion, se añade el numero a la lista\n",
    "    \n",
    "    else:\n",
    "        continue # Si no se cumple la condicion, continua el bucle\n",
    "\n",
    "print(select_list)"
   ]
  },
  {
   "cell_type": "markdown",
   "metadata": {},
   "source": [
    "## Ejercicio 8\n",
    "#### Interactuando con listas\n",
    "\n",
    "From given list gadgets = [“Mobile”, “Laptop”, 100, “Camera”, 310.28, “Speakers”, 27.00,\n",
    "“Television”, 1000, “Laptop Case”, “Camera Lens”]\n",
    "\n",
    "a)create separate lists of strings and numbers.  \n",
    "\n",
    "b)Sort the strings list in ascending order  \n",
    "\n",
    "c)Sort the strings list in descending order  \n",
    "\n",
    "d)Sort the number list from lowest to highest  \n",
    "\n",
    "e)Sort the number list from highest to lowest"
   ]
  },
  {
   "cell_type": "code",
   "execution_count": 13,
   "metadata": {},
   "outputs": [
    {
     "name": "stdout",
     "output_type": "stream",
     "text": [
      "['Mobile', 'Laptop', 'Camera', 'Speakers', 'Television', 'Laptop Case', 'Camera Lens']\n",
      "[100, 310.28, 27.0, 1000]\n",
      "['Television', 'Speakers', 'Mobile', 'Laptop Case', 'Laptop', 'Camera Lens', 'Camera']\n",
      "[1000, 310.28, 100, 27.0]\n"
     ]
    }
   ],
   "source": [
    "gadgets = ['Mobile', 'Laptop', 100, 'Camera', 310.28, 'Speakers', 27.00, 'Television', 1000, 'Laptop Case', 'Camera Lens']\n",
    "# a\n",
    "\n",
    "str_list = []\n",
    "num_list = []\n",
    "\n",
    "for i in gadgets:\n",
    "    \n",
    "    if type(i) == str:\n",
    "\n",
    "        str_list.append(i)\n",
    "        \n",
    "    else:\n",
    "        \n",
    "        num_list.append(i)\n",
    "\n",
    "print(str_list)\n",
    "print(num_list)\n",
    "\n",
    "# b\n",
    "\n",
    "str_list.sort(reverse = True)\n",
    "print(str_list)\n",
    "\n",
    "num_list.sort(reverse = True)\n",
    "print(num_list)\n",
    "\n",
    "# c\n",
    "\n",
    "\n",
    "\n",
    "# d\n",
    "\n",
    "\n",
    "\n",
    "# e\n",
    "\n"
   ]
  },
  {
   "cell_type": "markdown",
   "metadata": {},
   "source": [
    "## Ejercicio 9\n",
    "#### Get first, second best scores from the list.\n",
    "\n",
    "List may contain duplicates.\n",
    "\n",
    "Ex: [86,86,85,85,85,83,23,45,84,1,2,0] => should get 86, 85"
   ]
  },
  {
   "cell_type": "code",
   "execution_count": 16,
   "metadata": {},
   "outputs": [
    {
     "name": "stdout",
     "output_type": "stream",
     "text": [
      "[0, 1, 2, 23, 45, 83, 84, 85, 85, 85, 86, 86]\n",
      "{0, 1, 2, 45, 83, 84, 85, 86, 23}\n",
      "La mejor puntuacion es: 86\n",
      "La segunda mejor puntuacion es: 85\n"
     ]
    }
   ],
   "source": [
    "scores = [86,86,85,85,85,83,23,45,84,1,2,0] \n",
    "\n",
    "scores.sort()\n",
    "print(scores)\n",
    "\n",
    "print(\"La mejor puntuacion es:\", scores[-1])\n",
    "print(\"La segunda mejor puntuacion es:\", scores[-3])"
   ]
  },
  {
   "cell_type": "markdown",
   "metadata": {},
   "source": [
    "## Ejercicio 10\n",
    "#### Write a program that detects if a string is a palindrome\n",
    "Ask the user for a string and print out whether this string is a palindrome or not. (A palindrome is a string that reads the same forwards and backwards.)"
   ]
  },
  {
   "cell_type": "code",
   "execution_count": 27,
   "metadata": {},
   "outputs": [
    {
     "name": "stdin",
     "output_type": "stream",
     "text": [
      "Introducir una palabra: asa\n"
     ]
    },
    {
     "name": "stdout",
     "output_type": "stream",
     "text": [
      "Tu palabra es palindroma\n"
     ]
    }
   ],
   "source": [
    "palabra = input('Introducir una palabra:')\n",
    "\n",
    "# Condicion para que la palabra introducida se lea igual empezando por el principio y por el final\n",
    "\n",
    "if str(palabra) == str(palabra)[:: -1]: # Mediante [:: -1] hacemos que invierta la palabra\n",
    "    \n",
    "    print('Tu palabra es palindroma')\n",
    "\n",
    "else:\n",
    "    \n",
    "    print('Tu palabra no es palindroma')"
   ]
  },
  {
   "cell_type": "markdown",
   "metadata": {},
   "source": [
    "## (Bonus) Ejercicio 11\n",
    "#### Desarrolla el juego del ahorcado\n",
    "El juego del ahorcado consiste en adivinar una palabra, probando letra a letra. El jugaor tiene permitidos 6 fallos, al 7mo fallo pierde. \n",
    "\n",
    "* Habrá que imprimir por pantalla una cantidad de guiones igual al numero de letras e ir sustituyéndolos con los aciertos.\n",
    "* Necesitarás usar un bucle while con un input para modelar las jugadas del ahoracado. En cada ejecución del while comprueba las vidas del jugador, y los aciertos."
   ]
  },
  {
   "cell_type": "code",
   "execution_count": null,
   "metadata": {},
   "outputs": [],
   "source": []
  }
 ],
 "metadata": {
  "kernelspec": {
   "display_name": "Python 3",
   "language": "python",
   "name": "python3"
  },
  "language_info": {
   "codemirror_mode": {
    "name": "ipython",
    "version": 3
   },
   "file_extension": ".py",
   "mimetype": "text/x-python",
   "name": "python",
   "nbconvert_exporter": "python",
   "pygments_lexer": "ipython3",
   "version": "3.8.5"
  }
 },
 "nbformat": 4,
 "nbformat_minor": 4
}
