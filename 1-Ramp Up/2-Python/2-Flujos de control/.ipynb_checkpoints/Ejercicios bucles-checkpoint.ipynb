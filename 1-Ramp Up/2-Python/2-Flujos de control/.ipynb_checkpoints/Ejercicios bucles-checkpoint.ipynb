{
 "cells": [
  {
   "cell_type": "markdown",
   "metadata": {},
   "source": [
    "![imagen](./img/ejercicios.png)"
   ]
  },
  {
   "cell_type": "markdown",
   "metadata": {},
   "source": [
    "## Ejercicio 1\n",
    "1. Elimina todos los VW de la siguiente lista. Crea una lista nueva para ello.\n",
    "2. Hazlo de otra manera. Crea una lista nueva vacía, y ve añadiendo todos los que no sean VW\n",
    "3. En vez de `for`, usa un bucle `while`\n",
    "> ejer_1 = [\"VW\", \"Audi\", \"Renault\", \"VW\", \"BMW\"]"
   ]
  },
  {
   "cell_type": "code",
   "execution_count": 14,
   "metadata": {},
   "outputs": [
    {
     "name": "stdout",
     "output_type": "stream",
     "text": [
      "['Audi', 'Renault', 'BMW']\n",
      "['Audi', 'Renault', 'BMW']\n",
      "['Audi', 'Renault', 'BMW']\n"
     ]
    }
   ],
   "source": [
    "ejer_1 = [\"VW\", \"Audi\", \"Renault\", \"VW\", \"BMW\"]\n",
    "# 1\n",
    "\n",
    "for i in ejer_1:\n",
    "    if i == 'VW':\n",
    "        ejer_1.remove(i)\n",
    "print(ejer_1)\n",
    "\n",
    "# 2\n",
    "\n",
    "ejer_2 = []\n",
    "for i in ejer_1:\n",
    "    if i != 'VW':\n",
    "        ejer_2.append(i)\n",
    "print(ejer_2)\n",
    "\n",
    "# 3\n",
    "\n",
    "while ejer_1 == 'VW':\n",
    "    continue\n",
    "print(ejer_1)"
   ]
  },
  {
   "cell_type": "markdown",
   "metadata": {},
   "source": [
    "## Ejercicio 2\n",
    "Imprime por pantalla la siguiente secuencia: 10, 9, 8.... -8, -9, -10"
   ]
  },
  {
   "cell_type": "code",
   "execution_count": 1,
   "metadata": {},
   "outputs": [
    {
     "name": "stdout",
     "output_type": "stream",
     "text": [
      "10\n",
      "9\n",
      "8\n",
      "7\n",
      "6\n",
      "5\n",
      "4\n",
      "3\n",
      "2\n",
      "1\n",
      "0\n",
      "-1\n",
      "-2\n",
      "-3\n",
      "-4\n",
      "-5\n",
      "-6\n",
      "-7\n",
      "-8\n",
      "-9\n",
      "-10\n"
     ]
    }
   ],
   "source": [
    "for i in range (10, -11, -1):\n",
    "    print(i)"
   ]
  },
  {
   "cell_type": "markdown",
   "metadata": {},
   "source": [
    "## Ejercicio 3\n",
    "1. Escribe un programa que vaya pidiendo numeros al usuario. Cuando el usuario introduzca el 0, el programa tiene que imprimir por pantalla el sumatorio de todos los numeros positivos introducidos\n",
    "2. Además de la suma, queremos que imprima también una lista con todos los números."
   ]
  },
  {
   "cell_type": "code",
   "execution_count": 16,
   "metadata": {},
   "outputs": [
    {
     "name": "stdin",
     "output_type": "stream",
     "text": [
      "Introducir numero: 1\n",
      "Introducir numero: 2\n",
      "Introducir numero: 3\n",
      "Introducir numero: 4\n",
      "Introducir numero: 0\n"
     ]
    },
    {
     "name": "stdout",
     "output_type": "stream",
     "text": [
      "La suma de los numeros introducidos es: 10\n",
      "[1, 2, 3, 4]\n"
     ]
    }
   ],
   "source": [
    "num_usuario = int(input('Introducir numero:'))\n",
    "lista_num = []\n",
    "suma = 0\n",
    "\n",
    "while num_usuario != 0:\n",
    "    \n",
    "    suma = suma + num_usuario\n",
    "    lista_num.append(num_usuario)\n",
    "    num_usuario = int(input('Introducir numero:'))\n",
    "\n",
    "print('La suma de los numeros introducidos es:', suma)    \n",
    "print(lista_num)"
   ]
  },
  {
   "cell_type": "markdown",
   "metadata": {},
   "source": [
    "## Ejercicio 4\n",
    "Escribir un programa que vaya pidiendo la cantidad de compras que hace un cliente en una página web. El programa tiene que pedir cantidades hasta que se ingresa un 0. Igualmente cuando una de las cantiaddes introducida es negativa, hay que imprimir por pantalla un mensaje:\n",
    "\n",
    "\"Numero negativo, por favor, introduzca un numero positivo\""
   ]
  },
  {
   "cell_type": "code",
   "execution_count": 17,
   "metadata": {},
   "outputs": [
    {
     "name": "stdin",
     "output_type": "stream",
     "text": [
      "Introducir cantidad comprada: 1\n",
      "Introducir cantidad comprada: 2\n",
      "Introducir cantidad comprada: -1\n"
     ]
    },
    {
     "name": "stdout",
     "output_type": "stream",
     "text": [
      "Numero negativo, por favor, introduzca un numero positivo\n"
     ]
    },
    {
     "name": "stdin",
     "output_type": "stream",
     "text": [
      "Introducir cantidad comprada: 0\n"
     ]
    }
   ],
   "source": [
    "compras = int(input('Introducir cantidad comprada:'))\n",
    "\n",
    "while compras != 0:\n",
    "    \n",
    "    if compras == 0:\n",
    "        \n",
    "        break\n",
    "        \n",
    "    elif compras < 0:\n",
    "        \n",
    "        print('Numero negativo, por favor, introduzca un numero positivo')\n",
    "        \n",
    "    compras = int(input('Introducir cantidad comprada:'))"
   ]
  },
  {
   "cell_type": "markdown",
   "metadata": {},
   "source": [
    "## Ejercicio 5\n",
    "Imprime por pantalla la palabra \"Python\", pero empezando con la última letra."
   ]
  },
  {
   "cell_type": "code",
   "execution_count": 18,
   "metadata": {},
   "outputs": [
    {
     "name": "stdout",
     "output_type": "stream",
     "text": [
      "nohtyP\n"
     ]
    }
   ],
   "source": [
    "txt = 'Python'[::-1]\n",
    "\n",
    "print(txt)"
   ]
  },
  {
   "cell_type": "markdown",
   "metadata": {},
   "source": [
    "## Ejercicio 6\n",
    "Escribe un programa que calcule la cantidad de veces que está la letra \"m\" o \"M\" en la frase:\n",
    "> \"En un lugar de La Mancha, de cuyo nombre no quiero acordarme\""
   ]
  },
  {
   "cell_type": "code",
   "execution_count": 12,
   "metadata": {},
   "outputs": [
    {
     "name": "stdout",
     "output_type": "stream",
     "text": [
      "3\n"
     ]
    }
   ],
   "source": [
    "frase = \"En un lugar de La Mancha, de cuyo nombre no quiero acordarme\"\n",
    "n = 0\n",
    "\n",
    "for letra in frase:\n",
    "    \n",
    "    if letra == 'm' or letra == 'M':\n",
    "        \n",
    "        n = n +1\n",
    "\n",
    "print(n)"
   ]
  },
  {
   "cell_type": "markdown",
   "metadata": {},
   "source": [
    "## Ejercicio 7\n",
    "Crea un programa que simule la siguiente pirámide. Para ello, el programa tiene que pedirle al usuario un caracter cualquiera. El número de filas es fijo, 5.\n",
    "\n",
    "W W W W W \n",
    "\n",
    "W W W W \n",
    "\n",
    "W W W \n",
    "\n",
    "W W \n",
    "\n",
    "W \n",
    "\n",
    "\n"
   ]
  },
  {
   "cell_type": "code",
   "execution_count": 13,
   "metadata": {},
   "outputs": [
    {
     "name": "stdout",
     "output_type": "stream",
     "text": [
      "W\n"
     ]
    }
   ],
   "source": []
  },
  {
   "cell_type": "markdown",
   "metadata": {},
   "source": [
    " ## Ejercicio 8\n",
    " Crea un programa que en función de un input numérico que inserte el usuario, imprima por pantalla la pirámide de ejemplo. Si el input es 6, tendrá 6 pisos, pero si introduce 10, la pirámide tendrá 10 pisos.\n",
    " \n",
    " 1 2 3 4 5 6\n",
    " \n",
    " 1 2 3 4 5\n",
    " \n",
    " 1 2 3 4\n",
    " \n",
    " 1 2 3\n",
    " \n",
    " 1 2\n",
    " \n",
    " 1"
   ]
  },
  {
   "cell_type": "code",
   "execution_count": null,
   "metadata": {},
   "outputs": [],
   "source": []
  },
  {
   "cell_type": "markdown",
   "metadata": {},
   "source": [
    "## Ejercicio 9\n",
    "Replica el siguiente patrón"
   ]
  },
  {
   "cell_type": "raw",
   "metadata": {},
   "source": []
  },
  {
   "cell_type": "markdown",
   "metadata": {},
   "source": [
    "## Ejercicio 10\n",
    "Imprime toda la secuencia de numeros del 1 al 10, excepto el 3, 4 y 9. Impleméntalo de dos maneras diferentes"
   ]
  },
  {
   "cell_type": "code",
   "execution_count": null,
   "metadata": {},
   "outputs": [
    {
     "name": "stdout",
     "output_type": "stream",
     "text": [
      "1\n",
      "2\n",
      "5\n",
      "6\n",
      "7\n",
      "8\n",
      "10\n"
     ]
    }
   ],
   "source": [
    "# Forma 1\n",
    "\n",
    "for i in range(1,11):\n",
    "    \n",
    "    if i == 3 or i == 4 or i == 9:\n",
    "        \n",
    "        continue\n",
    "    \n",
    "    print(i)\n",
    "    \n",
    "# Forma 2\n",
    "\n",
    "secuencia = [1,2,3,4,5,6,7,8,9,10]\n",
    "\n",
    "while secuencia != 3 or secuencia != 4 or secuencia != 9:\n",
    "    \n",
    "    if secuencia == 10:\n",
    "        break"
   ]
  },
  {
   "cell_type": "markdown",
   "metadata": {},
   "source": [
    "## Ejercicio 11\n",
    "Suponiendo que siempre se cumple que las dos listas del ejercicio son iguales de tamaño, implementa un programa que calcule el ratio ingreso/gasto de cada elemento, y lo guarde en una nueva lista. Si hubiese algún problema con los datos, hay que almacenar un mensaje de error en la lista del resultado. Usa `try/except`\n",
    "> ingresos = [100, 200, 500, 100, 600]\n",
    ">\n",
    "> gastos = [50, 20, 70, 0, 25]"
   ]
  },
  {
   "cell_type": "code",
   "execution_count": 1,
   "metadata": {},
   "outputs": [
    {
     "name": "stdout",
     "output_type": "stream",
     "text": [
      "<class 'ZeroDivisionError'>\n",
      "[2.0, 10.0, 7.142857142857143, 9999, 24.0]\n"
     ]
    }
   ],
   "source": [
    "ingresos = [100, 200, 500, 100, 600]\n",
    "\n",
    "gastos = [50, 20, 70, 0, 25]\n",
    "\n",
    "ing_gasto = []\n",
    "\n",
    "for i in range(len(ingresos)):\n",
    "    \n",
    "    try:\n",
    "        \n",
    "        ing_gasto.append(ingresos[i]/gastos[i])\n",
    "    \n",
    "    except ZeroDivisionError:\n",
    "        \n",
    "        print(ZeroDivisionError)\n",
    "        ing_gasto.append(9999)\n",
    "        \n",
    "print(ing_gasto)"
   ]
  },
  {
   "cell_type": "markdown",
   "metadata": {},
   "source": [
    "## Ejercicio 12\n",
    "Muy parecido al anterior, aunque ahora tendremos que excepcionar más tipos de errores con estos nuevos datos. En este caso, almacena un mensaje diferente en la lista resultado, para cada error.\n",
    "\n",
    "> ingresos = [100, \"HHH\", 500, 100, 600, 900, 150]\n",
    ">\n",
    "> gastos = [50, 20, 70, 0, 25]"
   ]
  },
  {
   "cell_type": "code",
   "execution_count": null,
   "metadata": {},
   "outputs": [],
   "source": []
  }
 ],
 "metadata": {
  "kernelspec": {
   "display_name": "Python 3",
   "language": "python",
   "name": "python3"
  },
  "language_info": {
   "codemirror_mode": {
    "name": "ipython",
    "version": 3
   },
   "file_extension": ".py",
   "mimetype": "text/x-python",
   "name": "python",
   "nbconvert_exporter": "python",
   "pygments_lexer": "ipython3",
   "version": "3.8.5"
  }
 },
 "nbformat": 4,
 "nbformat_minor": 4
}
