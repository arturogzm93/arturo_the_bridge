{
 "cells": [
  {
   "cell_type": "markdown",
   "metadata": {},
   "source": [
    "# Test DS-FT Nov 2020\n",
    "\n"
   ]
  },
  {
   "cell_type": "markdown",
   "metadata": {},
   "source": [
    "## Primera parte:\n",
    "\n",
    "https://docs.google.com/forms/d/e/1FAIpQLScmg-0jTnXb1LSMnWWmc9JwtvZjZmIIfBIK5qnk-l1JI5JfvA/viewform?usp=sf_link\n",
    "\n",
    "El examen tendrá una duración de 3h. Se recomienda dedicar al test 40 minutos aprox."
   ]
  },
  {
   "cell_type": "markdown",
   "metadata": {},
   "source": [
    "-----------------"
   ]
  },
  {
   "cell_type": "markdown",
   "metadata": {},
   "source": [
    "## Segunda parte, ejercicios prácticos:\n",
    "Crea todas las celdas que necesites"
   ]
  },
  {
   "cell_type": "markdown",
   "metadata": {},
   "source": [
    "## Ejercicios prácticos"
   ]
  },
  {
   "cell_type": "markdown",
   "metadata": {},
   "source": [
    "#### Ejercicio 1.\n",
    "En este ejercicio se va a crear una lista con los siguientes elementos. Primero, crearemos las variables que luego añadiremos a la lista. Las variables son las siguientes:\n",
    "\n",
    "1. Crea una variable llamada `num_dni` de tipo Integer que represente el primer número de tu DNI. \n",
    "2. Crea una variable llamada `let_dni` de tipo String y que represente la letra de vuestro DNI.\n",
    "3. Crea una variable llamada `tip_ord` de tipo Boolean True si usas Windows y False si usas Mac.\n",
    "4. Crea una variable llamada `nada` de tipo None cuyo valor sea None.\n",
    "5. Crea una variable llamada `lista_deseo` de tipo List que contenga los cuatro objetos que te llevarías a una isla desierta. Cada elemento ha de ser de tipo String y el tamaño de la lista ha de ser 4.\n",
    "6. Crea una variable llamada `tupla_ropa` de tipo Tuple con la marca de la prenda superior, inferior y calzado que llevas puesto.\n",
    "7. Crea una variable llamada `dict_info` con dos keys y dos values. Una key es 'nombre', teniendo como value vuestro nombre. Otra key es 'edad', teniendo como value vuestra edad.\n",
    "8. Crea una variable llamada `flo_hor` con la hora actual separada por punto en vez de dos puntos. Ejemplo: si son las 10:06, el valor de la variable sería 10.06.\n",
    "\n",
    "Añade todos estos elementos en una lista llamada `lista_examen` en el orden de aparición."
   ]
  },
  {
   "cell_type": "code",
   "execution_count": 2,
   "metadata": {},
   "outputs": [
    {
     "name": "stdout",
     "output_type": "stream",
     "text": [
      "[70263648, 'M', True, None, ['mechero', 'sarten', 'almohada', 'mochila'], ('adidas', 'mango', 'nike'), {'nombre': 'Arturo', 'edad': 27}, 9.5]\n"
     ]
    }
   ],
   "source": [
    " # tu respuesta aquí\n",
    "num_dni = 70263648\n",
    "let_dni = 'M'\n",
    "tip_ord = True\n",
    "nada = None\n",
    "lista_deseo = ['mechero', 'sarten', 'almohada', 'mochila']\n",
    "tupla_ropa = ('adidas', 'mango', 'nike')\n",
    "dict_info = {'nombre': 'Arturo','edad': 27}\n",
    "flo_hor = 9.50\n",
    "\n",
    "lista_examen = [num_dni, let_dni, tip_ord, nada, lista_deseo, tupla_ropa, dict_info, flo_hor]\n",
    "print(lista_examen)"
   ]
  },
  {
   "cell_type": "markdown",
   "metadata": {},
   "source": [
    "#### Ejercicio 2. \n",
    "\n",
    "Para resolver este ejercicio necesitarás la lista del ejercicio anterior (`lista_examen`). Se recomeinda leer cada punto hasta el final antes de resolver el ejercicio.\n",
    "\n",
    "Se repite para que quede aún más claro: **SOLO USAR LA VARIABLE** `lista_examen`. Usar las demás variables se calificará como error.  \n",
    "\n",
    "1. Mostrar por pantalla, sin uso de funciones ni bucles: \n",
    "    - El segundo elemento de `lista_deseo` desde `lista_examen`.\n",
    "    - El calzado que llevas puesto.\n",
    "    - Vuestro nombre.\n",
    "    - La hora almacenada concatenada con vuestra edad y el número de vuestro de DNI. No debe haber espacios entre la concatenación.\n",
    "    - Si tenéis más de 20 años, el primer número de vuestro DNI es mayor a 7 y usas Mac, mostrar la posición 5 de `lista_examen`.\n",
    "    "
   ]
  },
  {
   "cell_type": "code",
   "execution_count": null,
   "metadata": {},
   "outputs": [],
   "source": []
  },
  {
   "cell_type": "code",
   "execution_count": 166,
   "metadata": {},
   "outputs": [
    {
     "name": "stdout",
     "output_type": "stream",
     "text": [
      "sarten\n",
      "nike\n",
      "Arturo\n",
      "9.52770263648\n"
     ]
    }
   ],
   "source": [
    "# tu respuesta aquí\n",
    "lista_examen = [num_dni, let_dni, tip_ord, nada, lista_deseo, tupla_ropa, dict_info, flo_hor]\n",
    "\n",
    "# El segundo elemento de lista_deseo desde lista_examen.\n",
    "print(lista_examen[4][1])\n",
    "\n",
    "# El calzado que llevas puesto.\n",
    "print(lista_examen[5][-1])\n",
    "\n",
    "# Vuestro nombre.\n",
    "print(lista_examen[6]['nombre'])\n",
    "\n",
    "# La hora almacenada concatenada con vuestra edad y el número de vuestro de DNI. No debe haber espacios entre la concatenación.\n",
    "print(''.join(str(lista_examen[-1]) + str(lista_examen[6]['edad']) + str(lista_examen[0])))\n",
    "\n",
    "# Si tenéis más de 20 años, el primer número de vuestro DNI es mayor a 7 y usas Mac, mostrar la posición 5 de lista_examen.\n",
    "if lista_examen[6]['edad'] > 20 and lista_examen[2] == False and lista_examen[0] and list(str(lista_examen[0]))[0] > 7 :\n",
    "    \n",
    "    print(lista_examen[5])"
   ]
  },
  {
   "cell_type": "markdown",
   "metadata": {},
   "source": [
    "2. Mostrar por pantalla, con uso de un bucle `for`:\n",
    "    - Todos los elementos de `lista_examen`.\n",
    "    - Todos los elementos de `lista_deseo` desde `lista_examen`.\n",
    "    - Todos los elementos que ocupen una posición menor a 4 en `lista_examen`.\n"
   ]
  },
  {
   "cell_type": "code",
   "execution_count": 3,
   "metadata": {},
   "outputs": [
    {
     "name": "stdout",
     "output_type": "stream",
     "text": [
      "70263648\n",
      "M\n",
      "True\n",
      "None\n",
      "['mechero', 'sarten', 'almohada', 'mochila']\n",
      "('adidas', 'mango', 'nike')\n",
      "{'nombre': 'Arturo', 'edad': 27}\n",
      "9.5\n",
      "['mechero', 'sarten', 'almohada', 'mochila']\n",
      "70263648\n",
      "M\n",
      "True\n",
      "None\n",
      "['mechero', 'sarten', 'almohada', 'mochila']\n"
     ]
    }
   ],
   "source": [
    "# tu respuesta aquí\n",
    "lista_examen = [num_dni, let_dni, tip_ord, nada, lista_deseo, tupla_ropa, dict_info, flo_hor]\n",
    "\n",
    "# Todos los elementos de lista_examen.\n",
    "for i in lista_examen:\n",
    "    \n",
    "    print(i)\n",
    "    \n",
    "# Todos los elementos de lista_deseo desde lista_examen.\n",
    "for i in lista_examen:\n",
    "    \n",
    "    if i == lista_deseo:\n",
    "        \n",
    "        print(i)\n",
    "\n",
    "# Todos los elementos que ocupen una posición menor a 4 en lista_examen.\n",
    "for i in range(len(lista_examen)):\n",
    "    \n",
    "    if i < 5:\n",
    "        \n",
    "        print(lista_examen[i])"
   ]
  },
  {
   "cell_type": "markdown",
   "metadata": {},
   "source": [
    "3. Mostrar por pantalla, con uso de un bucle while: \n",
    "    - Todos los elementos de `tupla_ropa` seguido de la cadena `\"-->\"` y la `posición` (int) que ocupa en la tupla accediendo desde `lista_examen`. Se aconseja utilizar *`enumerate`*.\n",
    "    - Cada key de `dict_info` seguido de la cadena \":\" seguido de su value desde `lista_examen`."
   ]
  },
  {
   "cell_type": "code",
   "execution_count": 24,
   "metadata": {},
   "outputs": [
    {
     "name": "stdout",
     "output_type": "stream",
     "text": [
      "{'nombre': 'Arturo', 'edad': 27}\n",
      "nombre:Arturo\n",
      "edad:27\n"
     ]
    }
   ],
   "source": [
    "# tu respuesta aquí\n",
    "lista_examen = [num_dni, let_dni, tip_ord, nada, lista_deseo, tupla_ropa, dict_info, flo_hor]\n",
    "\n",
    "# Todos los elementos de tupla_ropa seguido de la cadena \"-->\" y la posición (int) que ocupa en la tupla accediendo desde lista_examen.\n",
    "# Se aconseja utilizar enumerate.\n",
    "\n",
    "\n",
    "# Cada key de dict_info seguido de la cadena \":\" seguido de su value desde lista_examen.\n",
    "cont = 0\n",
    "my_var = lista_examen[-2]\n",
    "print(my_var)\n",
    "\n",
    "while len(my_var) > cont:\n",
    "    \n",
    "    key = list(my_var)[cont]\n",
    "    print(key + ':' + str(my_var[key]))\n",
    "    cont += 1"
   ]
  },
  {
   "cell_type": "markdown",
   "metadata": {},
   "source": [
    "#### Ejercicio 3. \n",
    "\n",
    "Crea una clase \"Humano\" que se inicializa con 3 atributos: \"edad\", \"altura\" y \"nombre\". Además, debe contar con dos métodos: \n",
    "\n",
    "- `cumplir_edad`: al llamar a este método se debe sumar 1 a la edad actual del humano. \n",
    "- `registro_nombre` que recibe parametro \"nuevo_nombre\": al llamar a este método con un parámetro de entrada, este método debe cambiar el nombre del humano por el \"nuevo_nombre\"\n",
    "\n",
    "Crea un humano llamado \"Wolfram\" que tiene 23 años de edad y mide 173 centímetros. A \"Wolfram\" nunca le gustó su nombre. Por eso, usa la función correspondiente para cambiarle su nombre por \"Benacio\". Además, hoy es su cumpleaños por lo que usa la función para aumentar su edad. \n",
    "\n",
    "Muestra por pantalla el nombre del humano antes y después de cambiarse de nombre. Muestra también la edad de Benacio antes y después de cumplir años."
   ]
  },
  {
   "cell_type": "code",
   "execution_count": 106,
   "metadata": {},
   "outputs": [
    {
     "name": "stdout",
     "output_type": "stream",
     "text": [
      "Wolfram\n",
      "Benacio\n",
      "23\n",
      "24\n"
     ]
    }
   ],
   "source": [
    "# tu respuesta aquí\n",
    "class Humano:\n",
    "    \n",
    "    def __init__(self, edad, altura, nombre):\n",
    "        \n",
    "        self.edad = edad\n",
    "        self.altura = altura\n",
    "        self.nombre = nombre\n",
    "        \n",
    "    def cumplir_edad(self):\n",
    "                \n",
    "        self.edad += 1\n",
    "    \n",
    "    def registro_nombre(self, nuevo_nombre):\n",
    "        \n",
    "        self.nombre = nuevo_nombre\n",
    "        \n",
    "persona = Humano(edad = 23,\n",
    "                altura = 173,\n",
    "                nombre = 'Wolfram')\n",
    "\n",
    "# Cambio de nombre\n",
    "print(persona.nombre)\n",
    "persona.registro_nombre('Benacio')\n",
    "print(persona.nombre)\n",
    "\n",
    "# Cumpleaños\n",
    "print(persona.edad)\n",
    "persona.cumplir_edad()\n",
    "print(persona.edad)"
   ]
  },
  {
   "cell_type": "markdown",
   "metadata": {},
   "source": [
    "#### Ejercicio 4. \n",
    "\n",
    "Escribe una función `reverse_number` que reciba dos parámetros. Los parámetros son `cadena` y `n`. `cadena` será un string y `n` un entero. La función debe retornar un string que sea el string `cadena` al revés y que tenga concatenado el número `n` por cada caracter de `cadena`.  \n",
    "\n",
    "*No se permite usar la función built-in `reverse` ni pasar el string `cadena` a otro tipo de variable (como list)* \n",
    "\n",
    "Ejemplos de llamada a la función y lo que devuelve la función:\n",
    "\n",
    "--------\n",
    "\n",
    ">> print(reverse_number(cadena=\"aloh\", n=3))\n",
    "\n",
    ">>> h3o3l3a3\n",
    "\n",
    "--------\n",
    "\n",
    ">> print(reverse_number(cadena=\"otipep\", n=85))\n",
    "\n",
    ">>> p85e85p85i85t85o85\n",
    "\n",
    "\n",
    "\n"
   ]
  },
  {
   "cell_type": "code",
   "execution_count": 111,
   "metadata": {},
   "outputs": [],
   "source": [
    "def reverse_number(cadena, n):\n",
    "    \n",
    "    cadena = cadena.lower()[::-1]\n",
    "    n = str(n)\n",
    "           \n",
    "    return n.join(cadena)"
   ]
  },
  {
   "cell_type": "code",
   "execution_count": 113,
   "metadata": {},
   "outputs": [
    {
     "name": "stdout",
     "output_type": "stream",
     "text": [
      "h98o98l98a\n"
     ]
    }
   ],
   "source": [
    "print(reverse_number(cadena = 'aloh', n = 98))"
   ]
  }
 ],
 "metadata": {
  "kernelspec": {
   "display_name": "Python 3",
   "language": "python",
   "name": "python3"
  },
  "language_info": {
   "codemirror_mode": {
    "name": "ipython",
    "version": 3
   },
   "file_extension": ".py",
   "mimetype": "text/x-python",
   "name": "python",
   "nbconvert_exporter": "python",
   "pygments_lexer": "ipython3",
   "version": "3.8.5"
  }
 },
 "nbformat": 4,
 "nbformat_minor": 4
}
