{
 "cells": [
  {
   "cell_type": "markdown",
   "metadata": {},
   "source": [
    "# Atacar una API desde Python\n",
    "Para la app2.py desarrollada durante la clase."
   ]
  },
  {
   "cell_type": "code",
   "execution_count": 4,
   "metadata": {},
   "outputs": [],
   "source": [
    "import requests\n",
    "\n",
    "root_path = 'http://127.0.0.1:5000'\n",
    "\n",
    "def send_request(path, content=None):\n",
    "    url = root_path + path\n",
    "    response = requests.get(url, json = content)\n",
    "\n",
    "    print('Status code:', response.status_code)\n",
    "    print('Headers:', response.headers)\n",
    "    print('Body:', response.text)\n",
    "    print('Content json:', response.json())"
   ]
  },
  {
   "cell_type": "markdown",
   "metadata": {},
   "source": [
    "### 1. Todos los libros"
   ]
  },
  {
   "cell_type": "code",
   "execution_count": 5,
   "metadata": {},
   "outputs": [
    {
     "output_type": "stream",
     "name": "stdout",
     "text": [
      "Status code: 200\nHeaders: {'Content-Type': 'application/json', 'Content-Length': '635', 'Server': 'Werkzeug/1.0.1 Python/3.8.5', 'Date': 'Wed, 28 Apr 2021 08:16:21 GMT'}\nBody: [\n  {\n    \"author\": \"Vernor Vinge\", \n    \"first_sentence\": \"The coldsleep itself was dreamless.\", \n    \"id\": 0, \n    \"published\": \"1992\", \n    \"title\": \"A Fire Upon the Deep\"\n  }, \n  {\n    \"author\": \"Ursula K. Le Guin\", \n    \"first_sentence\": \"With a clamor of bells that set the swallows soaring, the Festival of Summer came to the city Omelas, bright-towered by the sea.\", \n    \"id\": 1, \n    \"published\": \"1973\", \n    \"title\": \"The Ones Who Walk Away From Omelas\"\n  }, \n  {\n    \"author\": \"Samuel R. Delany\", \n    \"first_sentence\": \"to wound the autumnal city.\", \n    \"id\": 2, \n    \"published\": \"1975\", \n    \"title\": \"Dhalgren\"\n  }\n]\n\nContent json: [{'author': 'Vernor Vinge', 'first_sentence': 'The coldsleep itself was dreamless.', 'id': 0, 'published': '1992', 'title': 'A Fire Upon the Deep'}, {'author': 'Ursula K. Le Guin', 'first_sentence': 'With a clamor of bells that set the swallows soaring, the Festival of Summer came to the city Omelas, bright-towered by the sea.', 'id': 1, 'published': '1973', 'title': 'The Ones Who Walk Away From Omelas'}, {'author': 'Samuel R. Delany', 'first_sentence': 'to wound the autumnal city.', 'id': 2, 'published': '1975', 'title': 'Dhalgren'}]\n"
     ]
    }
   ],
   "source": [
    "send_request('/api/v1/resources/books/all')"
   ]
  },
  {
   "cell_type": "markdown",
   "metadata": {},
   "source": [
    "### 2. Id como params"
   ]
  },
  {
   "cell_type": "code",
   "execution_count": 6,
   "metadata": {},
   "outputs": [
    {
     "output_type": "stream",
     "name": "stdout",
     "text": [
      "Status code: 200\nHeaders: {'Content-Type': 'application/json', 'Content-Length': '165', 'Server': 'Werkzeug/1.0.1 Python/3.8.5', 'Date': 'Wed, 28 Apr 2021 08:21:17 GMT'}\nBody: [\n  {\n    \"author\": \"Samuel R. Delany\", \n    \"first_sentence\": \"to wound the autumnal city.\", \n    \"id\": 2, \n    \"published\": \"1975\", \n    \"title\": \"Dhalgren\"\n  }\n]\n\nContent json: [{'author': 'Samuel R. Delany', 'first_sentence': 'to wound the autumnal city.', 'id': 2, 'published': '1975', 'title': 'Dhalgren'}]\n"
     ]
    }
   ],
   "source": [
    "send_request('/api/v1/resources/book?id=2')"
   ]
  },
  {
   "cell_type": "markdown",
   "metadata": {},
   "source": [
    "### 3. Title en la URL"
   ]
  },
  {
   "cell_type": "code",
   "execution_count": 7,
   "metadata": {},
   "outputs": [
    {
     "output_type": "stream",
     "name": "stdout",
     "text": [
      "Status code: 200\nHeaders: {'Content-Type': 'application/json', 'Content-Length': '163', 'Server': 'Werkzeug/1.0.1 Python/3.8.5', 'Date': 'Wed, 28 Apr 2021 08:22:23 GMT'}\nBody: {\n  \"author\": \"Vernor Vinge\", \n  \"first_sentence\": \"The coldsleep itself was dreamless.\", \n  \"id\": 0, \n  \"published\": \"1992\", \n  \"title\": \"A Fire Upon the Deep\"\n}\n\nContent json: {'author': 'Vernor Vinge', 'first_sentence': 'The coldsleep itself was dreamless.', 'id': 0, 'published': '1992', 'title': 'A Fire Upon the Deep'}\n"
     ]
    }
   ],
   "source": [
    "send_request('/api/v1/resources/book/A Fire Upon the Deep')"
   ]
  },
  {
   "cell_type": "markdown",
   "metadata": {},
   "source": [
    "### 4. Id en el body"
   ]
  },
  {
   "cell_type": "code",
   "execution_count": 10,
   "metadata": {
    "tags": []
   },
   "outputs": [
    {
     "output_type": "stream",
     "name": "stdout",
     "text": [
      "Status code: 200\nHeaders: {'Content-Type': 'application/json', 'Content-Length': '275', 'Server': 'Werkzeug/1.0.1 Python/3.8.5', 'Date': 'Wed, 28 Apr 2021 08:25:12 GMT'}\nBody: {\n  \"author\": \"Ursula K. Le Guin\", \n  \"first_sentence\": \"With a clamor of bells that set the swallows soaring, the Festival of Summer came to the city Omelas, bright-towered by the sea.\", \n  \"id\": 1, \n  \"published\": \"1973\", \n  \"title\": \"The Ones Who Walk Away From Omelas\"\n}\n\nContent json: {'author': 'Ursula K. Le Guin', 'first_sentence': 'With a clamor of bells that set the swallows soaring, the Festival of Summer came to the city Omelas, bright-towered by the sea.', 'id': 1, 'published': '1973', 'title': 'The Ones Who Walk Away From Omelas'}\n"
     ]
    }
   ],
   "source": [
    "send_request('/api/v2/resources/book', {'id': 1})"
   ]
  }
 ],
 "metadata": {
  "kernelspec": {
   "name": "python385jvsc74a57bd0fc33febecb25bf51ecb9e8745ca02a2d49ab50b5c3e3d57ffb721b0f2206d5d8",
   "display_name": "Python 3.8.5 64-bit ('base': conda)"
  },
  "language_info": {
   "codemirror_mode": {
    "name": "ipython",
    "version": 3
   },
   "file_extension": ".py",
   "mimetype": "text/x-python",
   "name": "python",
   "nbconvert_exporter": "python",
   "pygments_lexer": "ipython3",
   "version": "3.8.5"
  }
 },
 "nbformat": 4,
 "nbformat_minor": 4
}