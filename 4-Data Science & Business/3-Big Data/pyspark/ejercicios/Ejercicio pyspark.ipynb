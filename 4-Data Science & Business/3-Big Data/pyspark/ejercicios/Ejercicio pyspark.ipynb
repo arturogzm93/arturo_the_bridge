{
 "cells": [
  {
   "cell_type": "markdown",
   "metadata": {},
   "source": [
    "# Ejercicio pyspark\n",
    "Para este ejercicio vas a trabajar con una base de datos de canciones. Hay que realizar analítica sobre los datos que tenemos y para ello, es necesario responder a las siguientes preguntas.\n",
    "1. Imprime por pantalla las columnas y el esquema\n",
    "2. ¿De cuántas canciones se compone la base de datos?\n",
    "3. ¿Cuántas bandas diferentes hay? ¿Y géneros?\n",
    "4. Número de canciones de los Beattles\n",
    "5. ¿Cuál es la duración media de las canciones?\n",
    "6. Duración media de las canciones por año\n",
    "7. ¿Qué canciones son las de duración mínima y máxima?\n",
    "8. Grupo con la canción más larga\n",
    "9. Teniendo en cuenta los scores de todas las canciones. ¿Cuáles son los géneros con mayor score?\n",
    "10. ¿En qué años se han publicado menos canciones? ¿Y más?\n",
    "11. Lista todas las canciones publicadas en 2010\n",
    "12. ¿Qué album obtuvo un mayor score en 2011?\n",
    "13. Canciones de genero rock por año desde 1965\n",
    "\n",
    "Para ello tendrás que usar la librería `pyspark`. **Las columnas del dataset tienen los siguientes nombres: BandName, Country, Genre, SongName, AlbumName, Duration, ScoreGenre, Year**"
   ]
  },
  {
   "cell_type": "code",
   "execution_count": 2,
   "metadata": {},
   "outputs": [],
   "source": [
    "from pyspark.sql import SparkSession\n",
    "\n",
    "spark = SparkSession.builder.appName('exercise').getOrCreate()\n",
    "sc = spark.sparkContext"
   ]
  },
  {
   "cell_type": "markdown",
   "metadata": {},
   "source": [
    "### 1. Imprime por pantalla las columnas y el esquema"
   ]
  },
  {
   "cell_type": "code",
   "execution_count": 10,
   "metadata": {},
   "outputs": [],
   "source": [
    "from pyspark.sql.types import StructField, StringType, IntegerType, StructType\n",
    "\n",
    "data_schema = [StructField('BandName', StringType(), True),\n",
    "              StructField('Country', StringType(), True),\n",
    "              StructField('Genre', StringType(), True),\n",
    "              StructField('SongName', StringType(), True),\n",
    "              StructField('AlbumName', StringType(), True),\n",
    "              StructField('Duration', IntegerType(), True),\n",
    "              StructField('ScoreGenre', IntegerType(), True),\n",
    "              StructField('Year', IntegerType(), True)]\n",
    "\n",
    "final_struc = StructType(fields = data_schema)"
   ]
  },
  {
   "cell_type": "code",
   "execution_count": 11,
   "metadata": {},
   "outputs": [
    {
     "name": "stdout",
     "output_type": "stream",
     "text": [
      "root\n",
      " |-- BandName: string (nullable = true)\n",
      " |-- Country: string (nullable = true)\n",
      " |-- Genre: string (nullable = true)\n",
      " |-- SongName: string (nullable = true)\n",
      " |-- AlbumName: string (nullable = true)\n",
      " |-- Duration: integer (nullable = true)\n",
      " |-- ScoreGenre: integer (nullable = true)\n",
      " |-- Year: integer (nullable = true)\n",
      "\n"
     ]
    }
   ],
   "source": [
    "df = spark.read.csv('/user/input/recordings.csv', schema = final_struc)\n",
    "df.printSchema()"
   ]
  },
  {
   "cell_type": "markdown",
   "metadata": {},
   "source": [
    "### 2. ¿De cuántas canciones se compone la base de datos?"
   ]
  },
  {
   "cell_type": "code",
   "execution_count": 14,
   "metadata": {},
   "outputs": [
    {
     "data": {
      "text/plain": [
       "12060"
      ]
     },
     "execution_count": 14,
     "metadata": {},
     "output_type": "execute_result"
    }
   ],
   "source": [
    "df.select('SongName').count()"
   ]
  },
  {
   "cell_type": "markdown",
   "metadata": {},
   "source": [
    "### 3. ¿Cuántas bandas diferentes hay? ¿Y géneros?"
   ]
  },
  {
   "cell_type": "code",
   "execution_count": 23,
   "metadata": {},
   "outputs": [
    {
     "name": "stdout",
     "output_type": "stream",
     "text": [
      "+------------------------+\n",
      "|count(DISTINCT BandName)|\n",
      "+------------------------+\n",
      "|                     189|\n",
      "+------------------------+\n",
      "\n",
      "+---------------------+\n",
      "|count(DISTINCT Genre)|\n",
      "+---------------------+\n",
      "|                   59|\n",
      "+---------------------+\n",
      "\n"
     ]
    }
   ],
   "source": [
    "from pyspark.sql.functions import countDistinct\n",
    "\n",
    "df.select(countDistinct('BandName')).show()\n",
    "df.select(countDistinct('Genre')).show()"
   ]
  },
  {
   "cell_type": "markdown",
   "metadata": {},
   "source": [
    "### 4. Número de canciones de los Beattles"
   ]
  },
  {
   "cell_type": "code",
   "execution_count": 34,
   "metadata": {},
   "outputs": [
    {
     "data": {
      "text/plain": [
       "0"
      ]
     },
     "execution_count": 34,
     "metadata": {},
     "output_type": "execute_result"
    }
   ],
   "source": [
    "df.filter(df['BandName'] == 'Beattles').count()"
   ]
  },
  {
   "cell_type": "markdown",
   "metadata": {},
   "source": [
    "### 5. ¿Cuál es la duración media de las canciones?"
   ]
  },
  {
   "cell_type": "code",
   "execution_count": 40,
   "metadata": {},
   "outputs": [
    {
     "name": "stdout",
     "output_type": "stream",
     "text": [
      "+------------------+\n",
      "|     avg(Duration)|\n",
      "+------------------+\n",
      "|254095.46380296873|\n",
      "+------------------+\n",
      "\n"
     ]
    }
   ],
   "source": [
    "df.select('Duration').agg({'Duration': 'mean'}).show()"
   ]
  },
  {
   "cell_type": "markdown",
   "metadata": {},
   "source": [
    "### 6. Duración media de las canciones por año"
   ]
  },
  {
   "cell_type": "code",
   "execution_count": 53,
   "metadata": {},
   "outputs": [
    {
     "name": "stdout",
     "output_type": "stream",
     "text": [
      "+----+------------------+\n",
      "|Year|     avg(Duration)|\n",
      "+----+------------------+\n",
      "|null|              null|\n",
      "|1958|          135932.0|\n",
      "|1961|139716.14285714287|\n",
      "|1962|142949.91666666666|\n",
      "|1963|127032.34782608696|\n",
      "|1964|140105.26315789475|\n",
      "|1965|        135396.625|\n",
      "|1966|153755.78260869565|\n",
      "|1967|175546.57894736843|\n",
      "|1968| 250561.1052631579|\n",
      "|1969|225333.33333333334|\n",
      "|1970|         347821.12|\n",
      "|1971| 568719.7777777778|\n",
      "|1972| 270422.6666666667|\n",
      "|1973|         416969.75|\n",
      "|1974|201419.82222222222|\n",
      "|1975| 272476.3214285714|\n",
      "|1976|          429333.0|\n",
      "|1977|295491.53846153844|\n",
      "|1978| 294139.6818181818|\n",
      "+----+------------------+\n",
      "only showing top 20 rows\n",
      "\n"
     ]
    }
   ],
   "source": [
    "df.groupBy('Year').mean('Duration').orderBy('Year').show()"
   ]
  },
  {
   "cell_type": "markdown",
   "metadata": {},
   "source": [
    "### 7. ¿Qué canciones son las de duración mínima y máxima?"
   ]
  },
  {
   "cell_type": "code",
   "execution_count": 88,
   "metadata": {},
   "outputs": [
    {
     "name": "stdout",
     "output_type": "stream",
     "text": [
      "+--------------------+--------+-------------+\n",
      "|            SongName|Duration|max(Duration)|\n",
      "+--------------------+--------+-------------+\n",
      "|             The Con| 5878000|      5878000|\n",
      "|    Systematic Chaos| 5449000|      5449000|\n",
      "|Paradise Is There...| 4792000|      4792000|\n",
      "|        Kill ’em All| 4208986|      4208986|\n",
      "|              Circle| 3651000|      3651000|\n",
      "|              Circle| 3631000|      3631000|\n",
      "|The Wanderings of...| 3250750|      3250750|\n",
      "|              Sparks| 2924000|      2924000|\n",
      "|            Stand Up| 2750000|      2750000|\n",
      "|        Silent Alarm| 2708000|      2708000|\n",
      "|              Sparks| 2706000|      2706000|\n",
      "|    Thick as a Brick| 2616466|      2616466|\n",
      "|              Sparks| 2530000|      2530000|\n",
      "|     We Are the Void| 2514000|      2514000|\n",
      "|        All Mod Cons| 2164000|      2164000|\n",
      "|       Yanqui U.X.O.| 1885746|      1885746|\n",
      "|  Ride the Lightning| 1873986|      1873986|\n",
      "|A Matter of Life ...| 1815000|      1815000|\n",
      "| Brain Salad Surgery| 1779373|      1779373|\n",
      "|Larks’ Tongues in...| 1771306|      1771306|\n",
      "+--------------------+--------+-------------+\n",
      "only showing top 20 rows\n",
      "\n"
     ]
    }
   ],
   "source": [
    "df.groupBy('SongName', 'Duration').max('Duration').orderBy(df['Duration'].desc()).show()"
   ]
  },
  {
   "cell_type": "markdown",
   "metadata": {},
   "source": [
    "### 8. Grupo con la canción más larga"
   ]
  },
  {
   "cell_type": "code",
   "execution_count": null,
   "metadata": {},
   "outputs": [],
   "source": []
  },
  {
   "cell_type": "markdown",
   "metadata": {},
   "source": [
    "### 9. Teniendo en cuenta los scores de todas las canciones. ¿Cuáles son los géneros con mayor score?"
   ]
  },
  {
   "cell_type": "code",
   "execution_count": null,
   "metadata": {},
   "outputs": [],
   "source": []
  },
  {
   "cell_type": "markdown",
   "metadata": {},
   "source": [
    "### 10. ¿En qué años se han publicado menos canciones? ¿Y más?"
   ]
  },
  {
   "cell_type": "code",
   "execution_count": null,
   "metadata": {},
   "outputs": [],
   "source": []
  },
  {
   "cell_type": "markdown",
   "metadata": {},
   "source": [
    "### 11. Lista todas las canciones publicadas en 2010"
   ]
  },
  {
   "cell_type": "code",
   "execution_count": null,
   "metadata": {},
   "outputs": [],
   "source": []
  },
  {
   "cell_type": "markdown",
   "metadata": {},
   "source": [
    "### 12. ¿Qué album obtuvo un mayor score en 2011?"
   ]
  },
  {
   "cell_type": "code",
   "execution_count": null,
   "metadata": {},
   "outputs": [],
   "source": []
  },
  {
   "cell_type": "markdown",
   "metadata": {},
   "source": [
    "### 13. Canciones de genero rock por año desde 1965"
   ]
  },
  {
   "cell_type": "code",
   "execution_count": null,
   "metadata": {},
   "outputs": [],
   "source": []
  }
 ],
 "metadata": {
  "kernelspec": {
   "display_name": "Python 3",
   "language": "python",
   "name": "python3"
  },
  "language_info": {
   "codemirror_mode": {
    "name": "ipython",
    "version": 3
   },
   "file_extension": ".py",
   "mimetype": "text/x-python",
   "name": "python",
   "nbconvert_exporter": "python",
   "pygments_lexer": "ipython3",
   "version": "3.8.8"
  }
 },
 "nbformat": 4,
 "nbformat_minor": 4
}
